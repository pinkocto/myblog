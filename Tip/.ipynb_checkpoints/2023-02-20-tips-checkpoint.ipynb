{
 "cells": [
  {
   "cell_type": "raw",
   "id": "3cea4c01-29a5-4bb6-b668-aeea234288f4",
   "metadata": {},
   "source": [
    "---\n",
    "title: 'download files from Github'\n",
    "author: 'jiyun Lim'\n",
    "date: '02/21/2023'\n",
    "categories:\n",
    "  - Github\n",
    "  - python\n",
    "  - Tip\n",
    "---"
   ]
  },
  {
   "cell_type": "markdown",
   "id": "2fa8bfa9-7b72-4dd3-a46f-a5380cd7cb90",
   "metadata": {},
   "source": [
    "### `-` Github에 주피터노트북 파일 다운로드 받는 법"
   ]
  },
  {
   "cell_type": "code",
   "execution_count": 2,
   "id": "f356450b-7001-4d32-91b3-096c37eff07e",
   "metadata": {},
   "outputs": [
    {
     "name": "stdout",
     "output_type": "stream",
     "text": [
      "--2023-02-20 22:35:38--  https://raw.githubusercontent.com/miruetoto/yechan3/main/posts/3_Researches/STGCN/2022-12-29-STGCN-tutorial.ipynb\n",
      "Resolving raw.githubusercontent.com (raw.githubusercontent.com)... 185.199.110.133, 185.199.108.133, 185.199.111.133, ...\n",
      "Connecting to raw.githubusercontent.com (raw.githubusercontent.com)|185.199.110.133|:443... connected.\n",
      "HTTP request sent, awaiting response... 200 OK\n",
      "Length: 1184264 (1.1M) [text/plain]\n",
      "Saving to: ‘2022-12-29-STGCN-tutorial.ipynb’\n",
      "\n",
      "2022-12-29-STGCN-tu 100%[===================>]   1.13M  --.-KB/s    in 0.03s   \n",
      "\n",
      "2023-02-20 22:35:39 (42.5 MB/s) - ‘2022-12-29-STGCN-tutorial.ipynb’ saved [1184264/1184264]\n",
      "\n"
     ]
    }
   ],
   "source": [
    "!wget https://raw.githubusercontent.com/miruetoto/yechan3/main/posts/3_Researches/STGCN/2022-12-29-STGCN-tutorial.ipynb"
   ]
  },
  {
   "cell_type": "markdown",
   "id": "bef29d59-2ed6-487d-b662-bea5df24552c",
   "metadata": {},
   "source": [
    "좌측 사이드바를  확인해보면 원하는 주피터 파일 (`2022-12-29-STGCN-tutorial.ipynb`) 이 잘 다운받아진 것을 확인해볼 수 있다."
   ]
  }
 ],
 "metadata": {
  "kernelspec": {
   "display_name": "Python 3 (ipykernel)",
   "language": "python",
   "name": "python3"
  },
  "language_info": {
   "codemirror_mode": {
    "name": "ipython",
    "version": 3
   },
   "file_extension": ".py",
   "mimetype": "text/x-python",
   "name": "python",
   "nbconvert_exporter": "python",
   "pygments_lexer": "ipython3",
   "version": "3.9.12"
  }
 },
 "nbformat": 4,
 "nbformat_minor": 5
}
