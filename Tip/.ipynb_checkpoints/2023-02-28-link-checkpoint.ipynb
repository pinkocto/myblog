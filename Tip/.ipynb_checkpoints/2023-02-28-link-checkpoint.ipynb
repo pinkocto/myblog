{
 "cells": [
  {
   "cell_type": "raw",
   "id": "50fd2e98-c3dd-46e3-bbbb-ce1682bdf31a",
   "metadata": {},
   "source": [
    "---\n",
    "title: \"some links\"\n",
    "author: \"jiyun Lim\"\n",
    "date: \"02/28/2023\"\n",
    "---"
   ]
  },
  {
   "cell_type": "markdown",
   "id": "26198d90-043d-4dba-bea4-80a17aa2ac53",
   "metadata": {},
   "source": [
    "- [Aligning equations with amsmath](https://www.overleaf.com/learn/latex/Aligning_equations_with_amsmath)"
   ]
  }
 ],
 "metadata": {
  "kernelspec": {
   "display_name": "Python 3",
   "language": "python",
   "name": "python3"
  },
  "language_info": {
   "codemirror_mode": {
    "name": "ipython",
    "version": 3
   },
   "file_extension": ".py",
   "mimetype": "text/x-python",
   "name": "python",
   "nbconvert_exporter": "python",
   "pygments_lexer": "ipython3",
   "version": "3.8.16"
  }
 },
 "nbformat": 4,
 "nbformat_minor": 5
}
