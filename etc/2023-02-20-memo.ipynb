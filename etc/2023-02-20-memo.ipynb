{
 "cells": [
  {
   "cell_type": "raw",
   "id": "02defeed-aae4-4e05-b999-164ee45cff45",
   "metadata": {},
   "source": [
    "---\n",
    "title: \"메모장\"\n",
    "author: \"jiyun Lim\"\n",
    "date: \"02/20/2023\"\n",
    "categories:\n",
    "  - memo\n",
    "---"
   ]
  },
  {
   "cell_type": "markdown",
   "id": "34bead74-6879-4063-8f1d-85863de7d498",
   "metadata": {},
   "source": [
    "# ST-GCN\n",
    "\n",
    "- temporal signal vs. static signals\n",
    "- static graph vs. dynamic graph\n",
    "- edge index? edge feature matrix (node feature matrix는 알겠는데ㅠㅠ엣지 매트릭스는 뭐야)\n",
    "\n",
    "- GNN, Recurrent GNN, GCN, ST-GCN 순서가 어떻게 되는지 헷갈린다..\n",
    "- GRU \n",
    "- spectral gcn\n",
    "\n",
    "\n",
    "\n",
    "- [GNN 정리 블로그](https://tootouch.github.io/research/spectral_gcn/#graph-convolution%EC%97%90%EC%84%9C-gcn%EC%9C%BC%EB%A1%9C%EC%9D%98-%EA%B3%BC%EC%A0%95)\n",
    "\n",
    "- [ML with Graphs 강의영상](http://web.stanford.edu/class/cs224w/)"
   ]
  },
  {
   "cell_type": "markdown",
   "id": "f9bb3ded-97ee-4d8d-b1ca-b9e2dea3a917",
   "metadata": {},
   "source": [
    "# RNN"
   ]
  },
  {
   "cell_type": "markdown",
   "id": "97281937-bdf7-41e2-b2b0-62b915140ec7",
   "metadata": {},
   "source": [
    "- [RNN의 motivation](https://pinkocto.github.io/myblog/posts/RNN/2023-02-28-rnn3.html#%EC%88%9C%ED%99%98%EC%8B%A0%EA%B2%BD%EB%A7%9D%EC%9D%98-%EC%95%84%EC%9D%B4%EB%94%94%EC%96%B4)"
   ]
  },
  {
   "cell_type": "markdown",
   "id": "627593de-e0bb-47dd-b9fc-e0e89492376f",
   "metadata": {},
   "source": [
    "```python\n",
    "class XXXX(torch.nn.Module):\n",
    "    def __init__(self):\n",
    "        super().__init__()\n",
    "        ## 우리가 사용할 레이어를 정의 \n",
    "        self.xxx1 = torch.nn.Linear(in_features=1,out_features=1,bias=True)\n",
    "        self.xxx2 = torch.nn.Tanh()\n",
    "        self.xxx3 = torch.nn.Linear(in_features=1,out_features=1,bias=True)\n",
    "        ## 레이어 정의 끝\n",
    "    def forward(self,x):\n",
    "        ## yhat을 어떻게 구할것인지 정의 \n",
    "        u = self.xxx1(x)\n",
    "        v = self.xxx2(u)\n",
    "        yhat = self.xxx3(v)\n",
    "        ## 정의 끝\n",
    "        return yhat\n",
    "```"
   ]
  },
  {
   "cell_type": "markdown",
   "id": "9543183f-c9b2-46a1-b855-825e03887e2a",
   "metadata": {},
   "source": [
    "#  LSTM\n",
    "\n",
    "-  [pytorch 공식문서](https://pytorch.org/docs/stable/generated/torch.nn.LSTM.html)"
   ]
  },
  {
   "cell_type": "markdown",
   "id": "a2707801-67c8-404a-908f-a391b1b5334b",
   "metadata": {},
   "source": [
    "$$\\begin{align*}i_t & = \\sigma(W_{ii}x_t + b_{ii} + W_{hi}h_{t-1}+b_{hi}) \\\\\n",
    "f_t & = \\sigma(W_{if}x_t + b_{if} +W_{hf}h_{t-1}+b_{hf}) \\\\\n",
    "g_t & = \\text{tanh} (W_{ig}x_t + b_{ig} + W_{hg}h_{t-1}+b_{hg} \\\\\n",
    "o_t & = \\sigma(W_{io}x_t + b_{io}+W_{ho}h_{t-1} +b_{ho}) \\\\\n",
    "c_t & = f_t\\odot c_{t-1} + i_t \\odot g_t \\\\\n",
    "h_t &= o_t \\odot \\text{tanh}(c_t)\n",
    "\\end{align*}$$"
   ]
  },
  {
   "cell_type": "markdown",
   "id": "706e2c53-4f13-4abc-b57c-8d9c931ab5b7",
   "metadata": {},
   "source": [
    "- $h_t$: hidden state at $t$\n",
    "- $c_t$: cell state at time $t$\n",
    "- $x_t$: the input at time $t$\n",
    "- $h_{t-1}$: the hidden state of the layer at time $t-1$\n",
    "- $i_t, f_t, g_t, o_t$: input,forget,cell,and output gates, respectively\n",
    "- $\\sigma$: the sigmoid function\n",
    "- $\\odot$: the Hadamard product"
   ]
  },
  {
   "cell_type": "markdown",
   "id": "350f7090-9425-455e-a51b-92dca9021789",
   "metadata": {},
   "source": [
    "## (LSTM 참고자료들)"
   ]
  },
  {
   "cell_type": "markdown",
   "id": "b0039ac4-6ccc-4a28-9f5b-1ccd413de8ea",
   "metadata": {},
   "source": [
    "- https://colah.github.io/posts/2015-08-Understanding-LSTMs/\n",
    "- https://pytorch.org/docs/stable/generated/torch.nn.LSTM.html\n",
    "- https://arxiv.org/abs/1402.1128"
   ]
  }
 ],
 "metadata": {
  "kernelspec": {
   "display_name": "Python 3",
   "language": "python",
   "name": "python3"
  },
  "language_info": {
   "codemirror_mode": {
    "name": "ipython",
    "version": 3
   },
   "file_extension": ".py",
   "mimetype": "text/x-python",
   "name": "python",
   "nbconvert_exporter": "python",
   "pygments_lexer": "ipython3",
   "version": "3.8.16"
  }
 },
 "nbformat": 4,
 "nbformat_minor": 5
}
