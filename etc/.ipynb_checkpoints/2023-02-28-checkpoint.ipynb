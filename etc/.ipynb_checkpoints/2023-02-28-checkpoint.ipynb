{
 "cells": [
  {
   "cell_type": "raw",
   "id": "a3c9ea29-649e-4f6e-8ff3-83fe76831547",
   "metadata": {},
   "source": [
    "---\n",
    "title: \"클래스 암기\"\n",
    "author: \"jiyun Lim\"\n",
    "date: \"02/28/2023\"\n",
    "categories:\n",
    "    - class\n",
    "---"
   ]
  },
  {
   "cell_type": "markdown",
   "id": "b795b406-cf66-4cf6-a093-c554d2c8f122",
   "metadata": {},
   "source": [
    "# 클래스\n",
    "\n",
    "> 클래스 헷갈리는 개념모음"
   ]
  },
  {
   "cell_type": "markdown",
   "id": "8ee1a343-f8f3-4fe3-af18-c45929caee2f",
   "metadata": {},
   "source": [
    "- [파이썬 iterable object](https://pinkocto.github.io/Quarto-Blog/posts/Python/2023-02-23-class8.html)\n",
    "```\n",
    "파이썬의 모든 것은 오브젝트이다. \n",
    "함수도 오브젝트이고\n",
    "리스트도 오브젝트이다..\n",
    "```"
   ]
  },
  {
   "cell_type": "markdown",
   "id": "59825378-5777-4766-abfd-3257b0e29c3c",
   "metadata": {},
   "source": [
    "## 01. iterator vs. iterabl object"
   ]
  },
  {
   "cell_type": "markdown",
   "id": "d74addbd-ce58-4f89-a4c1-1483e4d57ccc",
   "metadata": {},
   "source": [
    "### `-` 예제1"
   ]
  },
  {
   "cell_type": "code",
   "execution_count": 1,
   "id": "1c86a40d-9fbf-4453-85a5-138398f81659",
   "metadata": {},
   "outputs": [
    {
     "name": "stdout",
     "output_type": "stream",
     "text": [
      "1\n",
      "2\n",
      "3\n"
     ]
    }
   ],
   "source": [
    "_lst= [1,2,3]\n",
    "for i in _lst:\n",
    "    print(i)"
   ]
  },
  {
   "cell_type": "code",
   "execution_count": 2,
   "id": "5c67d950-bab4-4c5e-950f-676fe4336465",
   "metadata": {},
   "outputs": [],
   "source": [
    "_iterator = _lst.__iter__() # __iter__()라는 함수를 쓰면 iterator가 만들어진다."
   ]
  },
  {
   "cell_type": "markdown",
   "id": "5e29290e-6a08-48b9-b63b-6a5c26a58657",
   "metadata": {},
   "source": [
    "- iterator에는 `__next__` 라는 기능이 있다.\n",
    "- iterable object에는 `__next__`라는 기능이 없다.\n",
    "- 이것이 iterator(=jenerator)와 iterable object와의 차이"
   ]
  },
  {
   "cell_type": "markdown",
   "id": "dbd545ef-11d9-45cb-abed-464953bcab3b",
   "metadata": {},
   "source": [
    "**iterable object는 결국 iterator로 만들 수 있는 오브젝트라는 것**"
   ]
  },
  {
   "cell_type": "code",
   "execution_count": 3,
   "id": "c825867e-eaeb-442d-aef3-0e7e937a63d2",
   "metadata": {},
   "outputs": [
    {
     "data": {
      "text/plain": [
       "1"
      ]
     },
     "execution_count": 3,
     "metadata": {},
     "output_type": "execute_result"
    }
   ],
   "source": [
    "_iterator.__next__()"
   ]
  },
  {
   "cell_type": "code",
   "execution_count": 4,
   "id": "32e3c534-12e8-4755-a840-0e6a31e4df64",
   "metadata": {},
   "outputs": [
    {
     "data": {
      "text/plain": [
       "2"
      ]
     },
     "execution_count": 4,
     "metadata": {},
     "output_type": "execute_result"
    }
   ],
   "source": [
    "_iterator.__next__()"
   ]
  },
  {
   "cell_type": "code",
   "execution_count": 5,
   "id": "c88046d9-7805-4bc6-b807-59b6d9481893",
   "metadata": {},
   "outputs": [
    {
     "data": {
      "text/plain": [
       "3"
      ]
     },
     "execution_count": 5,
     "metadata": {},
     "output_type": "execute_result"
    }
   ],
   "source": [
    "_iterator.__next__()"
   ]
  },
  {
   "cell_type": "code",
   "execution_count": 9,
   "id": "6fe8bdff-ad94-44b5-871e-e464349d9cd3",
   "metadata": {},
   "outputs": [
    {
     "ename": "StopIteration",
     "evalue": "",
     "output_type": "error",
     "traceback": [
      "\u001b[0;31m---------------------------------------------------------------------------\u001b[0m",
      "\u001b[0;31mStopIteration\u001b[0m                             Traceback (most recent call last)",
      "Cell \u001b[0;32mIn[9], line 1\u001b[0m\n\u001b[0;32m----> 1\u001b[0m \u001b[43m_iterator\u001b[49m\u001b[38;5;241;43m.\u001b[39;49m\u001b[38;5;21;43m__next__\u001b[39;49m\u001b[43m(\u001b[49m\u001b[43m)\u001b[49m \u001b[38;5;66;03m# 에러 나는게 당연!\u001b[39;00m\n",
      "\u001b[0;31mStopIteration\u001b[0m: "
     ]
    }
   ],
   "source": [
    "_iterator.__next__() # 에러 나는게 당연! 다음에 꺼낼게 없으니까..."
   ]
  },
  {
   "cell_type": "code",
   "execution_count": 7,
   "id": "265e251f-d6be-48e8-a68a-ccfef2122f6b",
   "metadata": {},
   "outputs": [
    {
     "data": {
      "text/plain": [
       "{'__iter__'}"
      ]
     },
     "execution_count": 7,
     "metadata": {},
     "output_type": "execute_result"
    }
   ],
   "source": [
    "set(dir(_lst)) & {'__next__', '__iter__'} # 얘는 iterable object"
   ]
  },
  {
   "cell_type": "code",
   "execution_count": 8,
   "id": "bba27e99-5f2e-4466-af27-ea98adfdc3a3",
   "metadata": {},
   "outputs": [
    {
     "data": {
      "text/plain": [
       "{'__iter__', '__next__'}"
      ]
     },
     "execution_count": 8,
     "metadata": {},
     "output_type": "execute_result"
    }
   ],
   "source": [
    "set(dir(_iterator)) & {'__next__', '__iter__'} # 얘는 iterator (=generator)"
   ]
  },
  {
   "cell_type": "markdown",
   "id": "56cbcba1-c1fc-4dfe-88ed-32b6e9c232d3",
   "metadata": {},
   "source": [
    "다시 정리\n",
    "\n",
    "- `dir()`로 확인했을 때 `__iter__` 만 있으면 iterable object\n",
    "    - iterable object에는 `__iter__` 라는 숨겨진 기능이 있음.   \n",
    "- `__iter__`와 `__next__` 둘 다 있으면  iterator!!"
   ]
  },
  {
   "cell_type": "markdown",
   "id": "efd64c9a-24e0-4652-805c-237adfcdd30e",
   "metadata": {},
   "source": [
    "### `-` 예제2 : `net.parameters()`의 의미"
   ]
  },
  {
   "cell_type": "code",
   "execution_count": 12,
   "id": "8e695c6e-279e-4ad9-9d26-d5c962c6e375",
   "metadata": {},
   "outputs": [],
   "source": [
    "import torch"
   ]
  },
  {
   "cell_type": "code",
   "execution_count": 13,
   "id": "07151e43-bc3d-423b-b21f-a7f2044b66d2",
   "metadata": {},
   "outputs": [
    {
     "data": {
      "text/plain": [
       "Parameter containing:\n",
       "tensor([[-0.9288]], requires_grad=True)"
      ]
     },
     "execution_count": 13,
     "metadata": {},
     "output_type": "execute_result"
    }
   ],
   "source": [
    "net = torch.nn.Linear(in_features = 1, out_features=1)\n",
    "net.weight"
   ]
  },
  {
   "cell_type": "code",
   "execution_count": 14,
   "id": "82b64d9e-38b9-4d29-8ee0-0e2e988e2dad",
   "metadata": {},
   "outputs": [
    {
     "data": {
      "text/plain": [
       "Parameter containing:\n",
       "tensor([0.1182], requires_grad=True)"
      ]
     },
     "execution_count": 14,
     "metadata": {},
     "output_type": "execute_result"
    }
   ],
   "source": [
    "net.bias"
   ]
  },
  {
   "cell_type": "code",
   "execution_count": 15,
   "id": "837608e9-6500-4203-8c6a-7700fc92c590",
   "metadata": {},
   "outputs": [
    {
     "name": "stdout",
     "output_type": "stream",
     "text": [
      "Parameter containing:\n",
      "tensor([[-0.9288]], requires_grad=True)\n",
      "Parameter containing:\n",
      "tensor([0.1182], requires_grad=True)\n"
     ]
    }
   ],
   "source": [
    "for param in net.parameters():\n",
    "    print(param)"
   ]
  },
  {
   "cell_type": "markdown",
   "id": "c1389bd5-31e6-4380-bdf7-45cdc9f1f1f2",
   "metadata": {},
   "source": [
    "`net.parameters()`는 net오브젝트에서 학습할 파라메터를 모두 모아 리스트 같은 iterable object로 만드는 함수라 이해할 수 있다."
   ]
  },
  {
   "cell_type": "markdown",
   "id": "1685584e-076c-4621-8953-4932189f35db",
   "metadata": {},
   "source": [
    "## 02. 클래스에 대한 이해가 부족한 학생들을 위한 암기방법"
   ]
  },
  {
   "cell_type": "markdown",
   "id": "ef5e9db5-ed31-49f3-b943-f3be491a5483",
   "metadata": {},
   "source": [
    "**step1**: 아래의 코드를 복사하여 틀을 만든다. (무조건 고정임, XXXX자리는 원하는 이름을 넣는다.)"
   ]
  },
  {
   "cell_type": "markdown",
   "id": "0cee0a0a-5806-42b0-8f4f-b1282dc65e8c",
   "metadata": {},
   "source": [
    "```python\n",
    "class XXXX(torch.nn.Module):\n",
    "    def __init__(self):\n",
    "        super().__init__()\n",
    "        ## 우리가 사용할 레이어를 정의\n",
    "        \n",
    "        ## 레이어 정의 끝\n",
    "    def forward(self, x):\n",
    "        ## yhat을 어떻게 구할것인지 정의\n",
    "        \n",
    "        ## 정의 끝\n",
    "        return yhat\n",
    "```"
   ]
  },
  {
   "cell_type": "markdown",
   "id": "e9e4ed38-970d-4bf2-888c-f7f9eff2b306",
   "metadata": {},
   "source": [
    "- net(x)에 사용하는 x임, yhat은 net.forward(x)의 리턴값임.\n",
    "- 사실, x,yhat은 다른 변수로 써도 무방하나 (예를들어 input/output 이라든지) 설명의 편의상 x와 yhat을 고정한다."
   ]
  },
  {
   "cell_type": "markdown",
   "id": "2182497a-c582-4c05-8b72-9cfbdcd961f3",
   "metadata": {},
   "source": [
    "**stpe2**: `def __init__(self)`에 사용할 레이어를 정의하고 이름을 붙인다. 이름은 항상 `self.xxx`와 같은 식으로 정의한다."
   ]
  },
  {
   "cell_type": "markdown",
   "id": "eea7ab24-e9ce-4075-af8d-ce673543f321",
   "metadata": {},
   "source": [
    "```python\n",
    "class XXXX(torch.nn.Module):\n",
    "    def __init__(self):\n",
    "        super().__init__()\n",
    "        ## 우리가 사용할 레이어를 정의 \n",
    "        self.xxx1 = torch.nn.Linear(in_features=1,out_features=1,bias=True)\n",
    "        self.xxx2 = torch.nn.Tanh()\n",
    "        self.xxx3 = torch.nn.Linear(in_features=1,out_features=1,bias=True)\n",
    "        ## 레이어 정의 끝\n",
    "    def forward(self,x):\n",
    "        ## yhat을 어떻게 구할것인지 정의 \n",
    "        \n",
    "        ## 정의 끝\n",
    "        return yhat\n",
    "```"
   ]
  },
  {
   "cell_type": "markdown",
   "id": "07447f9b-c2e3-4a7b-b200-201207e64df7",
   "metadata": {},
   "source": [
    "**step3**: `def forward:`에 \"x->yhat\"으로 가는 과정을묘사한 코드를 작성하고 yhat을 리턴하도록 한다."
   ]
  },
  {
   "cell_type": "markdown",
   "id": "c5103392-acb3-48cc-b086-dfd5ce237813",
   "metadata": {},
   "source": [
    "```python\n",
    "class XXXX(torch.nn.Module):\n",
    "    def __init__(self):\n",
    "        super().__init__()\n",
    "        ## 우리가 사용할 레이어를 정의 \n",
    "        self.xxx1 = torch.nn.Linear(in_features=1,out_features=1,bias=True)\n",
    "        self.xxx2 = torch.nn.Tanh()\n",
    "        self.xxx3 = torch.nn.Linear(in_features=1,out_features=1,bias=True)\n",
    "        ## 레이어 정의 끝\n",
    "    def forward(self,x):\n",
    "        ## yhat을 어떻게 구할것인지 정의 \n",
    "        u = self.xxx1(x)\n",
    "        v = self.xxx2(u)\n",
    "        yhat = self.xxx3(v)\n",
    "        ## 정의 끝\n",
    "        return yhat\n",
    "```"
   ]
  }
 ],
 "metadata": {
  "kernelspec": {
   "display_name": "Python 3",
   "language": "python",
   "name": "python3"
  },
  "language_info": {
   "codemirror_mode": {
    "name": "ipython",
    "version": 3
   },
   "file_extension": ".py",
   "mimetype": "text/x-python",
   "name": "python",
   "nbconvert_exporter": "python",
   "pygments_lexer": "ipython3",
   "version": "3.8.16"
  }
 },
 "nbformat": 4,
 "nbformat_minor": 5
}
