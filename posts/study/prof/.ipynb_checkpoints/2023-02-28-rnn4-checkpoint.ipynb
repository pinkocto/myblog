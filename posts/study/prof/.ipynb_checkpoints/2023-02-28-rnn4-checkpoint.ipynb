{
 "cells": [
  {
   "cell_type": "raw",
   "id": "3575751f-d415-4347-87c4-2060775c8237",
   "metadata": {},
   "source": [
    "---\n",
    "title: \" 순환신경망 (4)\"\n",
    "author: \"jiyun Lim\"\n",
    "date: \"02/28/2023\"\n",
    "categories:\n",
    "    - DL2022\n",
    "    - RNN\n",
    "---"
   ]
  },
  {
   "cell_type": "markdown",
   "id": "6a7bbe57-793c-4134-8d44-5184e12a7686",
   "metadata": {},
   "source": [
    "# 순환신경망 공부4"
   ]
  },
  {
   "cell_type": "markdown",
   "id": "b888bc8b-55e7-43b1-8714-91916865035d",
   "metadata": {},
   "source": [
    "> RNN (2)-AbAcAd예제(3)"
   ]
  },
  {
   "cell_type": "markdown",
   "id": "f0a5aed9-fd71-4b1c-a388-a15e132706a5",
   "metadata": {},
   "source": [
    "# import"
   ]
  },
  {
   "cell_type": "code",
   "execution_count": 2,
   "id": "6a1bdabd-2437-4a62-8752-3faaf8b5a10c",
   "metadata": {},
   "outputs": [],
   "source": [
    "import torch\n",
    "import numpy as np\n",
    "import matplotlib.pyplot as plt"
   ]
  },
  {
   "cell_type": "markdown",
   "id": "7732c2d8-6371-40b2-a807-7f26fc715d1a",
   "metadata": {},
   "source": [
    "# Define some functions"
   ]
  },
  {
   "cell_type": "code",
   "execution_count": 3,
   "id": "b95ed38f-cd85-4839-8018-74a0b15f2aaf",
   "metadata": {},
   "outputs": [],
   "source": [
    "def f(txt,mapping):\n",
    "    return [mapping[key] for key in txt] \n",
    "soft = torch.nn.Softmax(dim=1)"
   ]
  },
  {
   "cell_type": "markdown",
   "id": "806c404e-ca4f-4c6c-b715-b5c1f57767cd",
   "metadata": {},
   "source": [
    "# Exam4: AbAcAd (3)"
   ]
  },
  {
   "cell_type": "markdown",
   "id": "7eea09e1-c721-4567-afa1-b52e37af594d",
   "metadata": {},
   "source": [
    "## data"
   ]
  },
  {
   "cell_type": "markdown",
   "id": "1eef7774-81d5-4d78-98b4-6ab36e64717f",
   "metadata": {},
   "source": [
    "`-` 기존의 정리방식"
   ]
  },
  {
   "cell_type": "code",
   "execution_count": 4,
   "id": "77f533e1-3eb1-4ebb-8f7d-d8f50ef5bf93",
   "metadata": {},
   "outputs": [
    {
     "data": {
      "text/plain": [
       "['A', 'b', 'A', 'c', 'A', 'd', 'A', 'b', 'A', 'c']"
      ]
     },
     "execution_count": 4,
     "metadata": {},
     "output_type": "execute_result"
    }
   ],
   "source": [
    "txt = list('AbAcAd')*100\n",
    "txt[:10]"
   ]
  },
  {
   "cell_type": "code",
   "execution_count": 5,
   "id": "2171de3a-a006-4d24-b869-2769ff54bc5d",
   "metadata": {},
   "outputs": [],
   "source": [
    "txt_x = txt[:-1]\n",
    "txt_y = txt[1:]"
   ]
  },
  {
   "cell_type": "code",
   "execution_count": 6,
   "id": "a6e9c562-8c83-4bf9-b8b0-cf616fd5413a",
   "metadata": {},
   "outputs": [
    {
     "data": {
      "text/plain": [
       "(['A', 'b', 'A', 'c', 'A'], ['b', 'A', 'c', 'A', 'd'])"
      ]
     },
     "execution_count": 6,
     "metadata": {},
     "output_type": "execute_result"
    }
   ],
   "source": [
    "txt_x[:5], txt_y[:5]"
   ]
  },
  {
   "cell_type": "code",
   "execution_count": 7,
   "id": "40367628-ea2a-4da4-bb44-1a0d5e0f5cba",
   "metadata": {},
   "outputs": [],
   "source": [
    "x = torch.nn.functional.one_hot(torch.tensor(f(txt_x,{'A':0,'b':1,'c':2,'d':3}))).float()\n",
    "y = torch.nn.functional.one_hot(torch.tensor(f(txt_y,{'A':0,'b':1,'c':2,'d':3}))).float()"
   ]
  },
  {
   "cell_type": "code",
   "execution_count": 8,
   "id": "61ef1ba8-8618-45b6-906a-62c367dda80d",
   "metadata": {},
   "outputs": [
    {
     "data": {
      "text/plain": [
       "(tensor([[1., 0., 0., 0.],\n",
       "         [0., 1., 0., 0.],\n",
       "         [1., 0., 0., 0.],\n",
       "         ...,\n",
       "         [1., 0., 0., 0.],\n",
       "         [0., 0., 1., 0.],\n",
       "         [1., 0., 0., 0.]]),\n",
       " tensor([[0., 1., 0., 0.],\n",
       "         [1., 0., 0., 0.],\n",
       "         [0., 0., 1., 0.],\n",
       "         ...,\n",
       "         [0., 0., 1., 0.],\n",
       "         [1., 0., 0., 0.],\n",
       "         [0., 0., 0., 1.]]))"
      ]
     },
     "execution_count": 8,
     "metadata": {},
     "output_type": "execute_result"
    }
   ],
   "source": [
    "x,y"
   ]
  },
  {
   "cell_type": "markdown",
   "id": "58c697f1-cb4d-41e5-8b42-a863fcee20da",
   "metadata": {},
   "source": [
    "# 순환신경망 구현2 (with RNNCell, hidden node2)"
   ]
  },
  {
   "cell_type": "markdown",
   "id": "a83b0fde-774c-40e2-af9e-6103e647d5e6",
   "metadata": {},
   "source": [
    "ref: https://pytorch.org/docs/stable/generated/torch.nn.RNNCell.html"
   ]
  },
  {
   "cell_type": "markdown",
   "id": "d96a21aa-a4dc-45ab-adf6-b07683b2ec82",
   "metadata": {},
   "source": [
    "`(1)` 숙성네트워크"
   ]
  },
  {
   "cell_type": "code",
   "execution_count": 9,
   "id": "e720b2c7-4c76-4e73-9c5b-2d705287f247",
   "metadata": {},
   "outputs": [],
   "source": [
    "torch.manual_seed(43052)\n",
    "rnncell = torch.nn.RNNCell(4,2) # x: (n,4) -> h:(n,2)"
   ]
  },
  {
   "cell_type": "markdown",
   "id": "3538675a-c0ce-4978-a8bd-dec0853de129",
   "metadata": {},
   "source": [
    "`(2)` 조리네트워크"
   ]
  },
  {
   "cell_type": "code",
   "execution_count": 10,
   "id": "7f30dd53-c60c-4ae0-a490-0d24f59f3958",
   "metadata": {},
   "outputs": [],
   "source": [
    "torch.manual_seed(43052)\n",
    "cook = torch.nn.Linear(2,4)"
   ]
  },
  {
   "cell_type": "markdown",
   "id": "42ab9c34-e623-448a-be9a-5048c0a4d35e",
   "metadata": {},
   "source": [
    "`(3)` 손실함수와 옵티마이저"
   ]
  },
  {
   "cell_type": "code",
   "execution_count": 12,
   "id": "f9e91abd-3032-407b-bbd9-e1cc8bee4e05",
   "metadata": {},
   "outputs": [],
   "source": [
    "loss_fn = torch.nn.CrossEntropyLoss()\n",
    "optimizr = torch.optim.Adam(list(rnncell.parameters())+list(cook.parameters()))"
   ]
  },
  {
   "cell_type": "markdown",
   "id": "a0887562-28d5-41fa-a635-1422526a6b9e",
   "metadata": {},
   "source": [
    "`(4)` 학습"
   ]
  },
  {
   "cell_type": "code",
   "execution_count": 13,
   "id": "6acd7a66-f0e7-4e1b-bb94-19cf63530bbc",
   "metadata": {},
   "outputs": [
    {
     "data": {
      "text/plain": [
       "599"
      ]
     },
     "execution_count": 13,
     "metadata": {},
     "output_type": "execute_result"
    }
   ],
   "source": [
    "len(x)"
   ]
  },
  {
   "cell_type": "markdown",
   "id": "46f6d496-8c32-4fa2-bc4a-25924299e037",
   "metadata": {},
   "source": [
    "***오래걸림주의($\\star$)***"
   ]
  },
  {
   "cell_type": "code",
   "execution_count": 14,
   "id": "3b9e171d-ccf2-43be-a0b3-40f7637753f9",
   "metadata": {},
   "outputs": [],
   "source": [
    "T = len(x)\n",
    "for epoc in range(5000):\n",
    "    ## 1~2\n",
    "    loss = 0\n",
    "    ht = torch.zeros(1,2) # ht가 없으니까 맹물로 초기화.\n",
    "    for t in range(T):\n",
    "        xt,yt = x[[t]],y[[t]]\n",
    "        ht = rnncell(xt,ht)\n",
    "        ot = cook(ht) # ht를 조리해서 output으로\n",
    "        loss = loss + loss_fn(ot,yt)\n",
    "    ## 3\n",
    "    loss.backward()\n",
    "    ## 4\n",
    "    optimizr.step()\n",
    "    optimizr.zero_grad()"
   ]
  },
  {
   "cell_type": "markdown",
   "id": "b5232822-5483-44b2-b5c4-afe7dc363d5f",
   "metadata": {},
   "source": [
    "`(5)` 시각화"
   ]
  },
  {
   "cell_type": "markdown",
   "id": "51600139-15dd-434f-a068-a0a85f9bc1cb",
   "metadata": {},
   "source": [
    "x -> h -> o-> yhat"
   ]
  },
  {
   "cell_type": "code",
   "execution_count": null,
   "id": "37bc382b-7f1d-409b-9ea7-f9e0b0a0f399",
   "metadata": {},
   "outputs": [],
   "source": [
    "hidden = torch.zeros(T,2)\n",
    "_water = torch.zeros(1,2)\n",
    "# t=0\n",
    "hidden[[0]] = rnncell(x[[0]],_water)\n",
    "# t=1~T\n",
    "for t in range(1,T):\n",
    "    hidden[[t]] = rnncell(x[[t]], hidden[[t-1]])"
   ]
  },
  {
   "cell_type": "code",
   "execution_count": 17,
   "id": "9312f6b7-8b39-4967-8f9a-ebef2942def6",
   "metadata": {},
   "outputs": [
    {
     "data": {
      "text/plain": [
       "<matplotlib.image.AxesImage at 0x7f6834113be0>"
      ]
     },
     "execution_count": 17,
     "metadata": {},
     "output_type": "execute_result"
    },
    {
     "data": {
      "image/png": "[encoded data removed]",
      "text/plain": [
       "<Figure size 288x1080 with 1 Axes>"
      ]
     },
     "metadata": {
      "needs_background": "light"
     },
     "output_type": "display_data"
    }
   ],
   "source": [
    "# softmax를 취해주면 yhat이된다.\n",
    "yhat = soft(cook(hidden))[:15]\n",
    "plt.matshow(yhat[:15].data, cmap='bwr')"
   ]
  },
  {
   "cell_type": "code",
   "execution_count": 21,
   "id": "96160c85-2756-4555-93d2-2c8dd88a9ba8",
   "metadata": {},
   "outputs": [
    {
     "data": {
      "text/plain": [
       "<matplotlib.image.AxesImage at 0x7f682c157a90>"
      ]
     },
     "execution_count": 21,
     "metadata": {},
     "output_type": "execute_result"
    },
    {
     "data": {
      "image/png": "[encoded data removed]",
      "text/plain": [
       "<Figure size 288x1080 with 1 Axes>"
      ]
     },
     "metadata": {
      "needs_background": "light"
     },
     "output_type": "display_data"
    }
   ],
   "source": [
    "plt.matshow(yhat[-15:].data,cmap='bwr')"
   ]
  },
  {
   "cell_type": "code",
   "execution_count": 26,
   "id": "88b9b1a1-a672-4eb8-a22e-de0daa5f4eb2",
   "metadata": {},
   "outputs": [
    {
     "data": {
      "text/plain": [
       "tensor([[0., 1., 0., 0.],\n",
       "        [1., 0., 0., 0.],\n",
       "        [0., 0., 1., 0.],\n",
       "        [1., 0., 0., 0.],\n",
       "        [0., 0., 0., 1.],\n",
       "        [1., 0., 0., 0.],\n",
       "        [0., 1., 0., 0.],\n",
       "        [1., 0., 0., 0.],\n",
       "        [0., 0., 1., 0.],\n",
       "        [1., 0., 0., 0.],\n",
       "        [0., 0., 0., 1.],\n",
       "        [1., 0., 0., 0.],\n",
       "        [0., 1., 0., 0.],\n",
       "        [1., 0., 0., 0.],\n",
       "        [0., 0., 1., 0.]])"
      ]
     },
     "execution_count": 26,
     "metadata": {},
     "output_type": "execute_result"
    }
   ],
   "source": [
    "y[:15]"
   ]
  },
  {
   "cell_type": "code",
   "execution_count": 25,
   "id": "a8be07b1-f508-4afe-a4f0-9a7b80cdac5b",
   "metadata": {},
   "outputs": [
    {
     "data": {
      "text/plain": [
       "tensor([[0., 0., 1., 0.],\n",
       "        [1., 0., 0., 0.],\n",
       "        [0., 0., 0., 1.],\n",
       "        [1., 0., 0., 0.],\n",
       "        [0., 1., 0., 0.],\n",
       "        [1., 0., 0., 0.],\n",
       "        [0., 0., 1., 0.],\n",
       "        [1., 0., 0., 0.],\n",
       "        [0., 0., 0., 1.],\n",
       "        [1., 0., 0., 0.],\n",
       "        [0., 1., 0., 0.],\n",
       "        [1., 0., 0., 0.],\n",
       "        [0., 0., 1., 0.],\n",
       "        [1., 0., 0., 0.],\n",
       "        [0., 0., 0., 1.]])"
      ]
     },
     "execution_count": 25,
     "metadata": {},
     "output_type": "execute_result"
    }
   ],
   "source": [
    "y[-15:]"
   ]
  },
  {
   "cell_type": "markdown",
   "id": "fe16b9f6-a718-41c4-98ec-050af2975f4c",
   "metadata": {},
   "source": [
    "- 특이한 점이 앞부분은 잘 안맞지만 뒷부분은 잘 맞춘다. 뒤로갈수록 간장이 숙성되며 맛있는 간장이 나오는 원리!\n",
    "- ***맛있는 간장계란밥(=적절한 yhat)***"
   ]
  },
  {
   "cell_type": "markdown",
   "id": "68e396e6-74c4-4cd2-a456-5cac007e2efa",
   "metadata": {},
   "source": [
    "https://www.youtube.com/watch?v=-b4-TQxIpWc&list=PLQqh36zP38-zRWSBjuvzsjPe6JxnHO4AX&index=2"
   ]
  },
  {
   "cell_type": "markdown",
   "id": "63ee7ffd-aeb3-41cd-b570-4d3a5e71decb",
   "metadata": {},
   "source": [
    "# 순환신경망 구현3 (with RNN, hidden node2) -- 성공"
   ]
  },
  {
   "cell_type": "markdown",
   "id": "df7ae3db-80cd-46fe-87e6-b088bcc921cc",
   "metadata": {},
   "source": [
    "(예비학습)"
   ]
  },
  {
   "cell_type": "markdown",
   "id": "51b15f3f-79ce-4c6e-9699-be944a8912ad",
   "metadata": {},
   "source": [
    "`-` 네트워크학습이후 yhat을 구하려면 번거로웠음."
   ]
  },
  {
   "cell_type": "markdown",
   "id": "7e00dacc-a7ab-40aa-bb4a-7c94f9148f93",
   "metadata": {},
   "source": [
    "```python\n",
    "hidden = torch.zeros(T,2)\n",
    "_water = torch.zeros(1,2)\n",
    "# t=0\n",
    "hidden[[0]] = rnncell(x[[0]],_water)\n",
    "# t=1~T\n",
    "for t in range(1,T):\n",
    "    hidden[[t]] = rnncell(x[[t]], hidden[[t-1]])\n",
    "```"
   ]
  },
  {
   "cell_type": "code",
   "execution_count": 27,
   "id": "70205bf5-9a63-447d-86bb-a1ba417c6fd3",
   "metadata": {},
   "outputs": [],
   "source": [
    "rnn = torch.nn.RNN(4,2)  # x: (n,4) h:(n,2) // 콩물의 dim , 간장(hidden layer)의 dim"
   ]
  },
  {
   "cell_type": "code",
   "execution_count": 29,
   "id": "cdb6952f-2685-45c7-828c-81b15aebc438",
   "metadata": {},
   "outputs": [
    {
     "data": {
      "text/plain": [
       "tensor([[-0.0151,  0.4139],\n",
       "        [ 0.5857,  0.3394]])"
      ]
     },
     "execution_count": 29,
     "metadata": {},
     "output_type": "execute_result"
    }
   ],
   "source": [
    "rnn.weight_hh_l0.data"
   ]
  },
  {
   "cell_type": "code",
   "execution_count": 30,
   "id": "d1561dc9-04c9-490a-901f-ccf08adf360e",
   "metadata": {},
   "outputs": [
    {
     "data": {
      "text/plain": [
       "tensor([[-0.5970,  0.0514],\n",
       "        [ 4.0391,  0.8067]])"
      ]
     },
     "execution_count": 30,
     "metadata": {},
     "output_type": "execute_result"
    }
   ],
   "source": [
    "rnncell.weight_hh.data"
   ]
  },
  {
   "cell_type": "code",
   "execution_count": 31,
   "id": "8212f05f-57bb-48be-a6a9-a63ab4c20c73",
   "metadata": {},
   "outputs": [],
   "source": [
    "rnn.weight_hh_l0.data = rnncell.weight_hh.data \n",
    "rnn.weight_ih_l0.data = rnncell.weight_ih.data\n",
    "rnn.bias_hh_l0.data = rnncell.bias_hh.data\n",
    "rnn.bias_ih_l0.data = rnncell.bias_ih.data"
   ]
  },
  {
   "cell_type": "markdown",
   "id": "4175e448-0d62-407c-90b2-9b8e01afd5a9",
   "metadata": {},
   "source": [
    "`-` rnn(x,_water)의 결과는 (1번째 튜플) 599년치 간장 (2번째 튜플) 599번째 간장이다."
   ]
  },
  {
   "cell_type": "code",
   "execution_count": 35,
   "id": "6c386907-9659-4bf3-b613-785aee049c2e",
   "metadata": {},
   "outputs": [
    {
     "data": {
      "text/plain": [
       "(tensor([[-0.9912, -0.9117],\n",
       "         [ 0.0698, -1.0000],\n",
       "         [-0.9927, -0.9682],\n",
       "         ...,\n",
       "         [-0.9935, -0.9315],\n",
       "         [ 0.5777, -1.0000],\n",
       "         [-0.9960, -0.0109]], grad_fn=<IndexPutBackward0>),\n",
       " (tensor([[-0.9912, -0.9117],\n",
       "          [ 0.0698, -1.0000],\n",
       "          [-0.9927, -0.9682],\n",
       "          ...,\n",
       "          [-0.9935, -0.9315],\n",
       "          [ 0.5777, -1.0000],\n",
       "          [-0.9960, -0.0109]], grad_fn=<SqueezeBackward1>),\n",
       "  tensor([[-0.9960, -0.0109]], grad_fn=<SqueezeBackward1>)))"
      ]
     },
     "execution_count": 35,
     "metadata": {},
     "output_type": "execute_result"
    }
   ],
   "source": [
    "hidden, rnn(x,_water)"
   ]
  },
  {
   "cell_type": "code",
   "execution_count": 36,
   "id": "56b62cf8-ba1d-44a4-a0a4-4bec759ef542",
   "metadata": {},
   "outputs": [
    {
     "data": {
      "text/plain": [
       "tensor([[1.9725e-02, 1.5469e-03, 8.2766e-01, 1.5106e-01],\n",
       "        [9.1875e-01, 1.6513e-04, 6.7702e-02, 1.3384e-02],\n",
       "        [2.0031e-02, 1.0659e-03, 8.5248e-01, 1.2642e-01],\n",
       "        ...,\n",
       "        [1.9640e-02, 1.3568e-03, 8.3705e-01, 1.4196e-01],\n",
       "        [9.9564e-01, 1.3114e-05, 3.5069e-03, 8.4108e-04],\n",
       "        [3.5473e-03, 1.5670e-01, 1.4102e-01, 6.9873e-01]],\n",
       "       grad_fn=<SoftmaxBackward0>)"
      ]
     },
     "execution_count": 36,
     "metadata": {},
     "output_type": "execute_result"
    }
   ],
   "source": [
    "soft(cook(rnn(x,_water)[0]))"
   ]
  },
  {
   "cell_type": "markdown",
   "id": "01a8585a-26ec-4329-a061-399d0b54ff62",
   "metadata": {},
   "source": [
    "***(예비학습결론) torch.nn.RNN(4,2)는 torch.nn.RNNCell(4,2)의 batch버전이다. (for문이 포함된 버전이다.)***"
   ]
  },
  {
   "cell_type": "markdown",
   "id": "b268a7ff-66c2-4f8e-bbf2-80a6294ecb5e",
   "metadata": {},
   "source": [
    "---"
   ]
  },
  {
   "cell_type": "markdown",
   "id": "2b30aa84-3804-4735-b4e7-144083499cb6",
   "metadata": {},
   "source": [
    "torch.nn.RNN(4,2)를 이용하여 구현하자."
   ]
  },
  {
   "cell_type": "markdown",
   "id": "1878cc58-1f46-4a96-985c-d736442099f4",
   "metadata": {},
   "source": [
    "`(1)` 숙성네트워크"
   ]
  },
  {
   "cell_type": "markdown",
   "id": "cdbd548b-dfeb-4c1f-8552-94afcdf925cb",
   "metadata": {},
   "source": [
    "선언"
   ]
  },
  {
   "cell_type": "code",
   "execution_count": 37,
   "id": "db5acf39-e7fb-4229-a5b0-9b6dd668796c",
   "metadata": {},
   "outputs": [],
   "source": [
    "rnn = torch.nn.RNN(4,2)"
   ]
  },
  {
   "cell_type": "code",
   "execution_count": 39,
   "id": "8d920510-118f-4319-abb1-37432d3cab74",
   "metadata": {},
   "outputs": [
    {
     "data": {
      "text/plain": [
       "RNN(4, 2)"
      ]
     },
     "execution_count": 39,
     "metadata": {},
     "output_type": "execute_result"
    }
   ],
   "source": [
    "rnn"
   ]
  },
  {
   "cell_type": "markdown",
   "id": "6e72c38a-0fca-4b08-ad34-bc7ed92da788",
   "metadata": {},
   "source": [
    "가중치초기화"
   ]
  },
  {
   "cell_type": "code",
   "execution_count": 40,
   "id": "dd2622d5-9c1c-4474-88c2-f67456fcd669",
   "metadata": {},
   "outputs": [],
   "source": [
    "torch.manual_seed(43052)\n",
    "_rnncell = torch.nn.RNNCell(4,2)"
   ]
  },
  {
   "cell_type": "code",
   "execution_count": 42,
   "id": "1ed8f4ab-56b7-49a4-8cdb-e47a895b17bc",
   "metadata": {},
   "outputs": [],
   "source": [
    "rnn.weight_hh_l0.data = _rnncell.weight_hh.data \n",
    "rnn.weight_ih_l0.data = _rnncell.weight_ih.data\n",
    "rnn.bias_hh_l0.data = _rnncell.bias_hh.data\n",
    "rnn.bias_ih_l0.data = _rnncell.bias_ih.data"
   ]
  },
  {
   "cell_type": "markdown",
   "id": "878c05b8-1a1a-476f-a9b3-f45fa3cf550c",
   "metadata": {},
   "source": [
    "`2` 조리네트워크"
   ]
  },
  {
   "cell_type": "code",
   "execution_count": 43,
   "id": "6ca38528-7620-4591-8052-639551f6c12c",
   "metadata": {},
   "outputs": [],
   "source": [
    "torch.manual_seed(43052)\n",
    "cook = torch.nn.Linear(2,4)"
   ]
  },
  {
   "cell_type": "markdown",
   "id": "44c22345-6e72-4d26-b481-15f85299eeee",
   "metadata": {},
   "source": [
    "`3` 손실함수와 옵티마이저"
   ]
  },
  {
   "cell_type": "code",
   "execution_count": 45,
   "id": "ae0f5c5e-058b-4abc-825e-f3074a6ef0ed",
   "metadata": {},
   "outputs": [],
   "source": [
    "loss_fn = torch.nn.CrossEntropyLoss()\n",
    "optimizr = torch.optim.Adam(list(rnn.parameters())+list(cook.parameters()))"
   ]
  },
  {
   "cell_type": "markdown",
   "id": "7c72e941-0990-4430-82aa-b448506996ac",
   "metadata": {},
   "source": [
    "`4` 학습"
   ]
  },
  {
   "cell_type": "code",
   "execution_count": 48,
   "id": "48da70b0-aa25-4bd0-98b6-98eff7884b63",
   "metadata": {},
   "outputs": [],
   "source": [
    "_water = torch.zeros(1,2)\n",
    "for epoc in range(5000):\n",
    "    ## 1\n",
    "    hidden, hT = rnn(x,_water) # hT는 여기 쓸것은 아님.(마지막 간장을 의미)\n",
    "    output = cook(hidden) # hidden만 써서 cook\n",
    "    ## 2\n",
    "    loss = loss_fn(output,y)\n",
    "    ## 3\n",
    "    loss.backward()\n",
    "    ## 4\n",
    "    optimizr.step()\n",
    "    optimizr.zero_grad()"
   ]
  },
  {
   "cell_type": "markdown",
   "id": "55154397-1ee0-4331-9ef4-2ee9a531ba43",
   "metadata": {},
   "source": [
    "`5` 시각화1: yhat"
   ]
  },
  {
   "cell_type": "code",
   "execution_count": 49,
   "id": "d12f6a5a-e3ca-4745-b93d-a5bf50a17e08",
   "metadata": {},
   "outputs": [],
   "source": [
    "yhat = soft(output)"
   ]
  },
  {
   "cell_type": "code",
   "execution_count": 50,
   "id": "07f353e0-f8e2-463c-8182-afc6d5fbcb72",
   "metadata": {},
   "outputs": [
    {
     "data": {
      "text/plain": [
       "<matplotlib.image.AxesImage at 0x7f6824537c40>"
      ]
     },
     "execution_count": 50,
     "metadata": {},
     "output_type": "execute_result"
    },
    {
     "data": {
      "image/png": "[encoded data removed]",
      "text/plain": [
       "<Figure size 288x1080 with 1 Axes>"
      ]
     },
     "metadata": {
      "needs_background": "light"
     },
     "output_type": "display_data"
    }
   ],
   "source": [
    "plt.matshow(yhat.data[:15],cmap='bwr')"
   ]
  },
  {
   "cell_type": "code",
   "execution_count": 52,
   "id": "cc850170-4d52-44cb-a060-5e4ab381e611",
   "metadata": {},
   "outputs": [
    {
     "data": {
      "text/plain": [
       "tensor([[0., 1., 0., 0.],\n",
       "        [1., 0., 0., 0.],\n",
       "        [0., 0., 1., 0.],\n",
       "        [1., 0., 0., 0.],\n",
       "        [0., 0., 0., 1.],\n",
       "        [1., 0., 0., 0.],\n",
       "        [0., 1., 0., 0.],\n",
       "        [1., 0., 0., 0.],\n",
       "        [0., 0., 1., 0.],\n",
       "        [1., 0., 0., 0.],\n",
       "        [0., 0., 0., 1.],\n",
       "        [1., 0., 0., 0.],\n",
       "        [0., 1., 0., 0.],\n",
       "        [1., 0., 0., 0.],\n",
       "        [0., 0., 1., 0.]])"
      ]
     },
     "execution_count": 52,
     "metadata": {},
     "output_type": "execute_result"
    }
   ],
   "source": [
    "y[:15]"
   ]
  },
  {
   "cell_type": "markdown",
   "id": "51dea804-8ec9-47a9-8491-bd8a430df3f2",
   "metadata": {},
   "source": [
    "- 처음은 좀 틀렸다."
   ]
  },
  {
   "cell_type": "code",
   "execution_count": 53,
   "id": "f36a8e24-f3c0-40f8-8cbb-205a6bb59485",
   "metadata": {},
   "outputs": [
    {
     "data": {
      "text/plain": [
       "<matplotlib.image.AxesImage at 0x7f6824ca51c0>"
      ]
     },
     "execution_count": 53,
     "metadata": {},
     "output_type": "execute_result"
    },
    {
     "data": {
      "image/png": "[encoded data removed]",
      "text/plain": [
       "<Figure size 288x1080 with 1 Axes>"
      ]
     },
     "metadata": {
      "needs_background": "light"
     },
     "output_type": "display_data"
    }
   ],
   "source": [
    "plt.matshow(yhat.data[-15:],cmap='bwr')"
   ]
  },
  {
   "cell_type": "code",
   "execution_count": 54,
   "id": "027166e6-c3c7-4574-8472-85f8419d0e42",
   "metadata": {},
   "outputs": [
    {
     "data": {
      "text/plain": [
       "tensor([[0., 0., 1., 0.],\n",
       "        [1., 0., 0., 0.],\n",
       "        [0., 0., 0., 1.],\n",
       "        [1., 0., 0., 0.],\n",
       "        [0., 1., 0., 0.],\n",
       "        [1., 0., 0., 0.],\n",
       "        [0., 0., 1., 0.],\n",
       "        [1., 0., 0., 0.],\n",
       "        [0., 0., 0., 1.],\n",
       "        [1., 0., 0., 0.],\n",
       "        [0., 1., 0., 0.],\n",
       "        [1., 0., 0., 0.],\n",
       "        [0., 0., 1., 0.],\n",
       "        [1., 0., 0., 0.],\n",
       "        [0., 0., 0., 1.]])"
      ]
     },
     "execution_count": 54,
     "metadata": {},
     "output_type": "execute_result"
    }
   ],
   "source": [
    "y[-15:]"
   ]
  },
  {
   "cell_type": "markdown",
   "id": "4b8905e7-8ba9-4615-80dd-2dfe0752d958",
   "metadata": {},
   "source": [
    "- 뒤에는 잘맞음"
   ]
  },
  {
   "cell_type": "markdown",
   "id": "d102406f-eb25-4602-b25e-1cf86f4dac81",
   "metadata": {},
   "source": [
    "**실전팁: `_water` 대신에 `hT`를 대입 (사실 큰 차이는 없음)**"
   ]
  },
  {
   "cell_type": "markdown",
   "id": "cbade321-b0e4-41f1-a947-52d9891f7cfa",
   "metadata": {},
   "source": [
    "`6` 시각화2: hidden, yhat"
   ]
  },
  {
   "cell_type": "code",
   "execution_count": 55,
   "id": "3a7e303c-17f2-4f93-85aa-160609367e54",
   "metadata": {},
   "outputs": [
    {
     "data": {
      "text/plain": [
       "((tensor([[-0.9912, -0.9117],\n",
       "          [ 0.0698, -1.0000],\n",
       "          [-0.9927, -0.9682],\n",
       "          [ 0.5761, -1.0000],\n",
       "          [-0.9960, -0.0173],\n",
       "          [ 0.9960, -1.0000]], grad_fn=<SqueezeBackward1>),\n",
       "  tensor([[ 0.9960, -1.0000]], grad_fn=<SqueezeBackward1>)),\n",
       " (tensor([[-0.9713, -1.0000],\n",
       "          [ 0.0535, -1.0000],\n",
       "          [-0.9925, -0.9720],\n",
       "          [ 0.5759, -1.0000],\n",
       "          [-0.9960, -0.0180],\n",
       "          [ 0.9960, -1.0000]], grad_fn=<SqueezeBackward1>),\n",
       "  tensor([[ 0.9960, -1.0000]], grad_fn=<SqueezeBackward1>)))"
      ]
     },
     "execution_count": 55,
     "metadata": {},
     "output_type": "execute_result"
    }
   ],
   "source": [
    "rnn(x[:6],_water),rnn(x[:6],hT)"
   ]
  },
  {
   "cell_type": "markdown",
   "id": "3eb95925-9e05-4842-ba46-8b70389a7ece",
   "metadata": {},
   "source": [
    "`-` 시각화2: hidden, yhat"
   ]
  },
  {
   "cell_type": "code",
   "execution_count": 56,
   "id": "aed6832a-bbe7-48ca-a9e6-4235b1bff374",
   "metadata": {},
   "outputs": [
    {
     "data": {
      "text/plain": [
       "torch.Size([599, 6])"
      ]
     },
     "execution_count": 56,
     "metadata": {},
     "output_type": "execute_result"
    }
   ],
   "source": [
    "combinded = torch.concat([hidden,yhat], axis=1) # 처음2개는 hidden node, 나머지 4개는 y에 대한 예측값.\n",
    "combinded.shape"
   ]
  },
  {
   "cell_type": "code",
   "execution_count": 62,
   "id": "417177af-a2e6-4564-800a-9e6e95297fcb",
   "metadata": {},
   "outputs": [
    {
     "data": {
      "text/plain": [
       "<matplotlib.image.AxesImage at 0x7f68246ca610>"
      ]
     },
     "execution_count": 62,
     "metadata": {},
     "output_type": "execute_result"
    },
    {
     "data": {
      "image/png": "[encoded data removed]",
      "text/plain": [
       "<Figure size 288x720 with 1 Axes>"
      ]
     },
     "metadata": {
      "needs_background": "light"
     },
     "output_type": "display_data"
    }
   ],
   "source": [
    "plt.matshow(combinded[-15:].data,cmap='bwr')"
   ]
  },
  {
   "cell_type": "markdown",
   "id": "d1e3d0fc-45b2-49e8-a2f7-ba601997cead",
   "metadata": {},
   "source": [
    "- 히든노드의 해석이 어려움\n",
    "- 파란색은 음수값, 빨간색은 양수값, 흰색은 0에 근처에 있는 값."
   ]
  },
  {
   "cell_type": "markdown",
   "id": "396947d0-5484-49fa-9140-18fd980506b1",
   "metadata": {},
   "source": [
    "# 순환신경망 구현4 (with RNN, hidden node 3) -- 성공"
   ]
  },
  {
   "cell_type": "markdown",
   "id": "8a022b1a-ee5f-441e-ae74-718a47cd83e1",
   "metadata": {},
   "source": [
    "`(1)` 숙성네트워크 ~ `(2)`조리네트워크"
   ]
  },
  {
   "cell_type": "code",
   "execution_count": 63,
   "id": "cffb2d2e-fe57-41fc-8aeb-f0ee74334c09",
   "metadata": {},
   "outputs": [],
   "source": [
    "torch.manual_seed(2)\n",
    "rnn = torch.nn.RNN(4,3)\n",
    "cook = torch.nn.Linear(3,4)"
   ]
  },
  {
   "cell_type": "markdown",
   "id": "ab5e21fa-1d4a-44e6-bb80-bd19974a93c7",
   "metadata": {},
   "source": [
    "`(3)` 손실함수, 옵티마이저"
   ]
  },
  {
   "cell_type": "code",
   "execution_count": 64,
   "id": "0bc6fb27-fc80-4bfc-88e3-10ab44716927",
   "metadata": {},
   "outputs": [],
   "source": [
    "loss_fn = torch.nn.CrossEntropyLoss()\n",
    "optimizr = torch.optim.Adam(list(rnn.parameters())+list(cook.parameters()))"
   ]
  },
  {
   "cell_type": "markdown",
   "id": "decfffe1-2c25-48d5-a3a5-f657b9667914",
   "metadata": {},
   "source": [
    "`(4)` 학습"
   ]
  },
  {
   "cell_type": "code",
   "execution_count": 66,
   "id": "41531e86-0a3c-483d-b331-c1d51cfeb91e",
   "metadata": {},
   "outputs": [],
   "source": [
    "_water = torch.zeros(1,3) \n",
    "for epoc in range(5000):\n",
    "    ## 1\n",
    "    hidden,hT = rnn(x,_water) \n",
    "    output = cook(hidden) \n",
    "    ## 2 \n",
    "    loss = loss_fn(output,y) \n",
    "    ## 3 \n",
    "    loss.backward()\n",
    "    ## 4 \n",
    "    optimizr.step()\n",
    "    optimizr.zero_grad()"
   ]
  },
  {
   "cell_type": "markdown",
   "id": "93014d93-0b4f-4133-aa05-411132845f86",
   "metadata": {},
   "source": [
    "`5` 시각화1: yhat"
   ]
  },
  {
   "cell_type": "code",
   "execution_count": 67,
   "id": "a7166007-0700-46e4-a327-ea4ae0674d33",
   "metadata": {},
   "outputs": [],
   "source": [
    "yhat = soft(output)"
   ]
  },
  {
   "cell_type": "code",
   "execution_count": 68,
   "id": "7b6c4a21-113c-40de-80e0-d3371559a07b",
   "metadata": {},
   "outputs": [
    {
     "data": {
      "text/plain": [
       "<matplotlib.image.AxesImage at 0x7f6824440af0>"
      ]
     },
     "execution_count": 68,
     "metadata": {},
     "output_type": "execute_result"
    },
    {
     "data": {
      "image/png": "[encoded data removed]",
      "text/plain": [
       "<Figure size 288x1080 with 1 Axes>"
      ]
     },
     "metadata": {
      "needs_background": "light"
     },
     "output_type": "display_data"
    }
   ],
   "source": [
    "plt.matshow(yhat[-15:].data,cmap='bwr')"
   ]
  },
  {
   "cell_type": "markdown",
   "id": "39d32426-a744-48ab-8694-8d691e5d4af3",
   "metadata": {},
   "source": [
    "`(6)` 시각화2: hidden, yhat"
   ]
  },
  {
   "cell_type": "code",
   "execution_count": 69,
   "id": "fcb92fee-9907-4a73-9de8-ea5fb25582f8",
   "metadata": {},
   "outputs": [],
   "source": [
    "combinded = torch.concat([hidden,yhat],axis=1)"
   ]
  },
  {
   "cell_type": "code",
   "execution_count": 70,
   "id": "a04ab7fc-74ee-4c34-9a5f-bef36bc463b6",
   "metadata": {},
   "outputs": [
    {
     "data": {
      "text/plain": [
       "<matplotlib.image.AxesImage at 0x7f68244193a0>"
      ]
     },
     "execution_count": 70,
     "metadata": {},
     "output_type": "execute_result"
    },
    {
     "data": {
      "image/png": "[encoded data removed]",
      "text/plain": [
       "<Figure size 288x617.143 with 1 Axes>"
      ]
     },
     "metadata": {
      "needs_background": "light"
     },
     "output_type": "display_data"
    }
   ],
   "source": [
    "plt.matshow(combinded[-15:].data,cmap='bwr')"
   ]
  },
  {
   "cell_type": "markdown",
   "id": "63ef8a1b-81f1-4b3b-bccd-a56191129a89",
   "metadata": {},
   "source": [
    "- 세번째 히든노드가 빨강이면 무조건 A인데? (즉, 세번째 히든노드는 대소문자를 구분한다.)"
   ]
  },
  {
   "cell_type": "code",
   "execution_count": 71,
   "id": "d31be93e-d042-411c-84ab-6fdd257d550d",
   "metadata": {},
   "outputs": [
    {
     "data": {
      "text/plain": [
       "tensor([[0., 0., 1., 0.],\n",
       "        [1., 0., 0., 0.],\n",
       "        [0., 0., 0., 1.],\n",
       "        [1., 0., 0., 0.],\n",
       "        [0., 1., 0., 0.],\n",
       "        [1., 0., 0., 0.],\n",
       "        [0., 0., 1., 0.],\n",
       "        [1., 0., 0., 0.],\n",
       "        [0., 0., 0., 1.],\n",
       "        [1., 0., 0., 0.],\n",
       "        [0., 1., 0., 0.],\n",
       "        [1., 0., 0., 0.],\n",
       "        [0., 0., 1., 0.],\n",
       "        [1., 0., 0., 0.],\n",
       "        [0., 0., 0., 1.]])"
      ]
     },
     "execution_count": 71,
     "metadata": {},
     "output_type": "execute_result"
    }
   ],
   "source": [
    "y[-15:]"
   ]
  },
  {
   "cell_type": "markdown",
   "id": "87587fe9-e102-440e-b859-c6f7885ce4a8",
   "metadata": {},
   "source": [
    "- 세번째 히든노드 = 대소문자구분\n",
    "- 1,2히든노드 = bcd를구분"
   ]
  },
  {
   "cell_type": "markdown",
   "id": "361d22ab-fffc-4180-ad8a-ba64e1fd25cb",
   "metadata": {},
   "source": [
    "# HW: hello 예제"
   ]
  },
  {
   "cell_type": "markdown",
   "id": "1bcef89d-884c-4869-a65d-004f187053bc",
   "metadata": {},
   "source": [
    "아래와 같은 hello가 반복되는 자료가 있다고 하자."
   ]
  },
  {
   "cell_type": "code",
   "execution_count": 73,
   "id": "9accb078-e5a1-4231-a3c6-4d5ad0d79083",
   "metadata": {},
   "outputs": [
    {
     "data": {
      "text/plain": [
       "['h', 'e', 'l', 'l', 'o', 'h', 'e', 'l', 'l', 'o']"
      ]
     },
     "execution_count": 73,
     "metadata": {},
     "output_type": "execute_result"
    }
   ],
   "source": [
    "txt = list('hello')*100\n",
    "txt[:10]"
   ]
  },
  {
   "cell_type": "code",
   "execution_count": 74,
   "id": "32abfd28-c0f9-4f1f-b65e-b509ed860705",
   "metadata": {},
   "outputs": [],
   "source": [
    "txt_x = txt[:-1]\n",
    "txt_y = txt[1:]"
   ]
  },
  {
   "cell_type": "code",
   "execution_count": 97,
   "id": "e0aa36bd-48c3-4478-aae7-1c976ad683b4",
   "metadata": {},
   "outputs": [
    {
     "data": {
      "text/plain": [
       "(['h', 'e', 'l', 'l', 'o'], ['e', 'l', 'l', 'o', 'h'])"
      ]
     },
     "execution_count": 97,
     "metadata": {},
     "output_type": "execute_result"
    }
   ],
   "source": [
    "txt_x[:5], txt_y[:5]"
   ]
  },
  {
   "cell_type": "code",
   "execution_count": 76,
   "id": "ec776559-efaf-4376-aa25-30098b5c6335",
   "metadata": {},
   "outputs": [],
   "source": [
    "x = torch.nn.functional.one_hot(torch.tensor(f(txt_x,{'h':0,'e':1,'l':2,'o':3}))).float()\n",
    "y = torch.nn.functional.one_hot(torch.tensor(f(txt_y,{'h':0,'e':1,'l':2,'o':3}))).float()"
   ]
  },
  {
   "cell_type": "code",
   "execution_count": 82,
   "id": "de9aab8f-a1e0-4194-b08c-7fbe38ff0a99",
   "metadata": {},
   "outputs": [
    {
     "data": {
      "text/plain": [
       "(tensor([[1., 0., 0., 0.],\n",
       "         [0., 1., 0., 0.],\n",
       "         [0., 0., 1., 0.],\n",
       "         ...,\n",
       "         [0., 1., 0., 0.],\n",
       "         [0., 0., 1., 0.],\n",
       "         [0., 0., 1., 0.]]),\n",
       " tensor([[0., 1., 0., 0.],\n",
       "         [0., 0., 1., 0.],\n",
       "         [0., 0., 1., 0.],\n",
       "         ...,\n",
       "         [0., 0., 1., 0.],\n",
       "         [0., 0., 1., 0.],\n",
       "         [0., 0., 0., 1.]]))"
      ]
     },
     "execution_count": 82,
     "metadata": {},
     "output_type": "execute_result"
    }
   ],
   "source": [
    "x,y"
   ]
  },
  {
   "cell_type": "code",
   "execution_count": 123,
   "id": "3f3e015c-1650-4f77-b8e0-66033f7e6139",
   "metadata": {},
   "outputs": [
    {
     "data": {
      "text/plain": [
       "(torch.Size([499, 4]), torch.Size([499, 4]))"
      ]
     },
     "execution_count": 123,
     "metadata": {},
     "output_type": "execute_result"
    }
   ],
   "source": [
    "x.shape, y.shape"
   ]
  },
  {
   "cell_type": "markdown",
   "id": "1a49d538-f2e3-44c4-953d-fa5760c167e6",
   "metadata": {},
   "source": [
    "3개의 은닉노드를 가진 RNN을 설계하고 학습하라."
   ]
  },
  {
   "cell_type": "markdown",
   "id": "c10bdf93-794c-4174-aeb3-819cdd0d2a61",
   "metadata": {},
   "source": [
    "***(풀이시작!!!)***"
   ]
  },
  {
   "cell_type": "markdown",
   "id": "26132267-6367-41e6-93d9-49572c7876f2",
   "metadata": {},
   "source": [
    "***RNN설계 (hidden node=3)***"
   ]
  },
  {
   "cell_type": "markdown",
   "id": "47cd1043-b130-47e9-806f-9438d3abb390",
   "metadata": {},
   "source": [
    "`(1)` 숙성네트워크~ `(2)` 조리네트워크"
   ]
  },
  {
   "cell_type": "code",
   "execution_count": 98,
   "id": "fad638f1-c52b-4914-9b12-d96e721af8f6",
   "metadata": {},
   "outputs": [],
   "source": [
    "torch.manual_seed(2) \n",
    "rnn = torch.nn.RNN(4,3)\n",
    "cook = torch.nn.Linear(3,4)"
   ]
  },
  {
   "cell_type": "markdown",
   "id": "2567664b-3af7-4597-9872-e3becfe77a2c",
   "metadata": {},
   "source": [
    "`(3)` 손실함수와 옵티마이저"
   ]
  },
  {
   "cell_type": "code",
   "execution_count": 88,
   "id": "0d4994c8-0212-4051-96b4-a8c08ee0e9e9",
   "metadata": {},
   "outputs": [],
   "source": [
    "loss_fn = torch.nn.CrossEntropyLoss()\n",
    "optimizr = torch.optim.Adam(list(rnn.parameters()) + list(cook.parameters()))"
   ]
  },
  {
   "cell_type": "markdown",
   "id": "0e97b4fb-9ef0-48a5-b52f-2469588cbe56",
   "metadata": {},
   "source": [
    "`(4)` 학습"
   ]
  },
  {
   "cell_type": "code",
   "execution_count": 93,
   "id": "e2b197bc-3bf6-4ead-94bc-b387f6782843",
   "metadata": {},
   "outputs": [],
   "source": [
    "_water = torch.zeros(1,3)\n",
    "for epoc in range(5000):\n",
    "    ## 1\n",
    "    hidden,hT = rnn(x,_water)\n",
    "    output = cook(hidden)\n",
    "    ## 2\n",
    "    loss = loss_fn(output,y)\n",
    "    ## 3\n",
    "    loss.backward()\n",
    "    ## 4\n",
    "    optimizr.step()\n",
    "    optimizr.zero_grad()"
   ]
  },
  {
   "cell_type": "markdown",
   "id": "d62ac278-19d9-48a9-aba1-4a088142def1",
   "metadata": {},
   "source": [
    "`(5)` 시각화1: yhat"
   ]
  },
  {
   "cell_type": "code",
   "execution_count": 95,
   "id": "9a994757-46c2-43f0-8109-fe3350d1ac53",
   "metadata": {},
   "outputs": [],
   "source": [
    "yhat = soft(output)"
   ]
  },
  {
   "cell_type": "code",
   "execution_count": 99,
   "id": "d4b9addf-a908-4579-9f30-87c7fcc76ac5",
   "metadata": {},
   "outputs": [
    {
     "data": {
      "text/plain": [
       "<matplotlib.image.AxesImage at 0x7f682418c9d0>"
      ]
     },
     "execution_count": 99,
     "metadata": {},
     "output_type": "execute_result"
    },
    {
     "data": {
      "image/png": "[encoded data removed]",
      "text/plain": [
       "<Figure size 288x1080 with 1 Axes>"
      ]
     },
     "metadata": {
      "needs_background": "light"
     },
     "output_type": "display_data"
    }
   ],
   "source": [
    "plt.matshow(yhat[:15].data, cmap='bwr')"
   ]
  },
  {
   "cell_type": "markdown",
   "id": "69b2ba70-c9e2-4980-821b-0592358d6c26",
   "metadata": {},
   "source": [
    "`(6)` 시각화2: hidden, yhat"
   ]
  },
  {
   "cell_type": "code",
   "execution_count": 130,
   "id": "14dd69dc-4eae-49e3-946b-5c404de84bb4",
   "metadata": {},
   "outputs": [
    {
     "data": {
      "text/plain": [
       "torch.Size([499, 7])"
      ]
     },
     "execution_count": 130,
     "metadata": {},
     "output_type": "execute_result"
    }
   ],
   "source": [
    "combinded  = torch.concat([hidden,yhat],axis=1)\n",
    "combinded.shape"
   ]
  },
  {
   "cell_type": "code",
   "execution_count": 131,
   "id": "004979c5-e75e-4290-9e08-6d399cb53752",
   "metadata": {},
   "outputs": [
    {
     "data": {
      "text/plain": [
       "Text(0.5, 1.0, 'Vis2: $[h | \\\\hat{y}]$')"
      ]
     },
     "execution_count": 131,
     "metadata": {},
     "output_type": "execute_result"
    },
    {
     "data": {
      "image/png": "[encoded data removed]",
      "text/plain": [
       "<Figure size 1080x1080 with 2 Axes>"
      ]
     },
     "metadata": {
      "needs_background": "light"
     },
     "output_type": "display_data"
    }
   ],
   "source": [
    "plt.matshow(combinded[:15].data,cmap='bwr')\n",
    "plt.xticks(range(7), labels=[r'$h1$',r'$h2$',r'$h3$',r'$y=h?$',r'$y=e?$',r'$y=l?$',r'$y=o?$'],size=14)\n",
    "plt.colorbar()\n",
    "plt.gcf().set_figwidth(15)\n",
    "plt.gcf().set_figheight(15)\n",
    "plt.title(r\"Vis2: $[h | \\hat{y}]$\",size=25)"
   ]
  },
  {
   "cell_type": "code",
   "execution_count": 132,
   "id": "5b0a726b-0f77-423a-9468-1694bef8e0bb",
   "metadata": {},
   "outputs": [
    {
     "data": {
      "text/plain": [
       "tensor([[0., 1., 0., 0.],\n",
       "        [0., 0., 1., 0.],\n",
       "        [0., 0., 1., 0.],\n",
       "        [0., 0., 0., 1.],\n",
       "        [1., 0., 0., 0.],\n",
       "        [0., 1., 0., 0.],\n",
       "        [0., 0., 1., 0.],\n",
       "        [0., 0., 1., 0.],\n",
       "        [0., 0., 0., 1.],\n",
       "        [1., 0., 0., 0.],\n",
       "        [0., 1., 0., 0.],\n",
       "        [0., 0., 1., 0.],\n",
       "        [0., 0., 1., 0.],\n",
       "        [0., 0., 0., 1.],\n",
       "        [1., 0., 0., 0.]])"
      ]
     },
     "execution_count": 132,
     "metadata": {},
     "output_type": "execute_result"
    }
   ],
   "source": [
    "y[:15]"
   ]
  },
  {
   "cell_type": "code",
   "execution_count": 133,
   "id": "89db70c7-5262-4bf1-a17a-e43372b34767",
   "metadata": {},
   "outputs": [
    {
     "data": {
      "text/plain": [
       "Text(0.5, 1.0, 'Vis2: $[h | \\\\hat{y}]$')"
      ]
     },
     "execution_count": 133,
     "metadata": {},
     "output_type": "execute_result"
    },
    {
     "data": {
      "image/png": "[encoded data removed]",
      "text/plain": [
       "<Figure size 1080x1080 with 2 Axes>"
      ]
     },
     "metadata": {
      "needs_background": "light"
     },
     "output_type": "display_data"
    }
   ],
   "source": [
    "plt.matshow(combinded[-15:].data,cmap='bwr')\n",
    "plt.xticks(range(7), labels=[r'$h1$',r'$h2$',r'$h3$',r'$y=h?$',r'$y=e?$',r'$y=l?$',r'$y=o?$'],size=14)\n",
    "plt.colorbar()\n",
    "plt.gcf().set_figwidth(15)\n",
    "plt.gcf().set_figheight(15)\n",
    "plt.title(r\"Vis2: $[h | \\hat{y}]$\",size=25)"
   ]
  },
  {
   "cell_type": "code",
   "execution_count": 117,
   "id": "7d15c934-630b-4e97-a4da-0e5b1ef5dcd7",
   "metadata": {},
   "outputs": [
    {
     "data": {
      "text/plain": [
       "tensor([[1., 0., 0., 0.],\n",
       "        [0., 1., 0., 0.],\n",
       "        [0., 0., 1., 0.],\n",
       "        [0., 0., 1., 0.],\n",
       "        [0., 0., 0., 1.],\n",
       "        [1., 0., 0., 0.],\n",
       "        [0., 1., 0., 0.],\n",
       "        [0., 0., 1., 0.],\n",
       "        [0., 0., 1., 0.],\n",
       "        [0., 0., 0., 1.],\n",
       "        [1., 0., 0., 0.],\n",
       "        [0., 1., 0., 0.],\n",
       "        [0., 0., 1., 0.],\n",
       "        [0., 0., 1., 0.],\n",
       "        [0., 0., 0., 1.]])"
      ]
     },
     "execution_count": 117,
     "metadata": {},
     "output_type": "execute_result"
    }
   ],
   "source": [
    "y[-15:]"
   ]
  },
  {
   "cell_type": "markdown",
   "id": "538bb941-5b96-4e0d-9ab2-5a75d0a17326",
   "metadata": {},
   "source": [
    "- 꽤 잘 맞추는 것 같다...ㅎ"
   ]
  }
 ],
 "metadata": {
  "kernelspec": {
   "display_name": "Python 3",
   "language": "python",
   "name": "python3"
  },
  "language_info": {
   "codemirror_mode": {
    "name": "ipython",
    "version": 3
   },
   "file_extension": ".py",
   "mimetype": "text/x-python",
   "name": "python",
   "nbconvert_exporter": "python",
   "pygments_lexer": "ipython3",
   "version": "3.8.16"
  }
 },
 "nbformat": 4,
 "nbformat_minor": 5
}
