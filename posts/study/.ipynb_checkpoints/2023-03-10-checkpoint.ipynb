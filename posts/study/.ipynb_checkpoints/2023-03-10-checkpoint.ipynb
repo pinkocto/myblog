{
 "cells": [
  {
   "cell_type": "raw",
   "id": "e483e0a6-6eb4-471d-8deb-5d0a3311c6f3",
   "metadata": {},
   "source": [
    "---\n",
    "title: \"테스트\"\n",
    "author: \"jiyun Lim\"\n",
    "date: \"03/09/2023\"\n",
    "---"
   ]
  },
  {
   "cell_type": "markdown",
   "id": "4bb0cec4-d6b7-4802-a6c1-0535b5c346c9",
   "metadata": {},
   "source": [
    "ㅁㅇㄻㄴㅇㄹ"
   ]
  },
  {
   "cell_type": "code",
   "execution_count": null,
   "id": "4e5aa665-a233-4b42-8ab4-95c89d0667c2",
   "metadata": {},
   "outputs": [],
   "source": []
  }
 ],
 "metadata": {
  "kernelspec": {
   "display_name": "Python 3",
   "language": "python",
   "name": "python3"
  },
  "language_info": {
   "codemirror_mode": {
    "name": "ipython",
    "version": 3
   },
   "file_extension": ".py",
   "mimetype": "text/x-python",
   "name": "python",
   "nbconvert_exporter": "python",
   "pygments_lexer": "ipython3",
   "version": "3.8.16"
  }
 },
 "nbformat": 4,
 "nbformat_minor": 5
}
