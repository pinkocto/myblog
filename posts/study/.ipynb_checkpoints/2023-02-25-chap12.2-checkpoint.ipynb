{
 "cells": [
  {
   "cell_type": "raw",
   "id": "c5fcce16-c928-43ce-a35b-e8e2c3e42b63",
   "metadata": {},
   "source": [
    "---\n",
    "title: \"Chap 12.2: Weakly Stationary Graph process\"\n",
    "author: \"jiyun Lim\"\n",
    "date: \"02/24/2023\"\n",
    "categories:\n",
    "  - CGSP\n",
    "  - study\n",
    "---"
   ]
  },
  {
   "cell_type": "code",
   "execution_count": 13,
   "id": "72ebffc9-6a36-435e-ae77-9b52e69345f1",
   "metadata": {},
   "outputs": [],
   "source": [
    "using LinearAlgebra, DSP"
   ]
  },
  {
   "cell_type": "markdown",
   "id": "5f24a1e5-6e53-45ac-b179-aa4e3c9e4995",
   "metadata": {},
   "source": [
    "# Preliminary Study"
   ]
  },
  {
   "cell_type": "markdown",
   "id": "49bc5559-2c2c-4564-8d7e-54780b34b018",
   "metadata": {},
   "source": [
    "## Simultaneously Diagonalizable"
   ]
  },
  {
   "cell_type": "markdown",
   "id": "99afb7c4-ac12-4798-9ee8-fff2b3d85601",
   "metadata": {},
   "source": [
    "매트릭스 $\\bf{A}$와 $\\bf{B}$가 대각화 가능하다는 것은 아래의 표현을 만족한 적당한 invertible matrix와 ${\\bf \\Psi}_A,{\\bf \\Psi}_B$와 대각행렬 ${\\bf \\Lambda}_A,{\\bf \\Lambda}_B$가 존재한다는 의미가 된다."
   ]
  },
  {
   "cell_type": "markdown",
   "id": "6e24c7fa-6a1f-4f89-8ce7-2fc827a60e79",
   "metadata": {},
   "source": [
    "$${\\bf A} = {\\bf V}_{A} {\\bf \\Lambda}_A {\\bf V}_{A}^{-1}$$"
   ]
  },
  {
   "cell_type": "markdown",
   "id": "ed233e5c-be37-42ed-9e0f-63b787c58fa1",
   "metadata": {},
   "source": [
    "$${\\bf B} = {\\bf V}_{B} {\\bf \\Lambda}_B {\\bf V}_{B}^{-1}$$"
   ]
  },
  {
   "cell_type": "markdown",
   "id": "518651c6-5498-4d98-9a48-daf972d06336",
   "metadata": {},
   "source": [
    "그리고 만약에 ${\\bf V}_{A}={\\bf V}_{B}$이라면 즉,"
   ]
  },
  {
   "cell_type": "markdown",
   "id": "582515e6-cc10-4021-9ca9-add546076a47",
   "metadata": {},
   "source": [
    "$${\\bf A} = {\\bf V} {\\bf \\Lambda}_A {\\bf V}^{-1}$$\n",
    "\n",
    "$${\\bf B} = {\\bf V} {\\bf \\Lambda}_B {\\bf V}^{-1}$$"
   ]
  },
  {
   "cell_type": "markdown",
   "id": "1ff64d96-0eaa-4493-94e1-db1838c47404",
   "metadata": {},
   "source": [
    "이라면 $\\{{\\bf A},{\\bf B}\\}$가 simultaneosuly diagonalizable 하다고 표현한다."
   ]
  },
  {
   "cell_type": "markdown",
   "id": "61d03ed0-822c-499c-9e42-9a2df6e93c1c",
   "metadata": {},
   "source": [
    "## Commute"
   ]
  },
  {
   "cell_type": "markdown",
   "id": "9204d4e4-64c2-458c-917c-3329304c109b",
   "metadata": {},
   "source": [
    "두 matrix $\\bf{A}$ 와 $\\bf{B}$에 대하여"
   ]
  },
  {
   "cell_type": "markdown",
   "id": "6f93f0a6-9d14-465b-928f-fd4ce05bd926",
   "metadata": {},
   "source": [
    "$${\\bf A}{\\bf B}= {\\bf B}{\\bf A}$$"
   ]
  },
  {
   "cell_type": "markdown",
   "id": "4c899f8d-0fdd-4683-b867-2ebaacb5d7e1",
   "metadata": {},
   "source": [
    "인 관계가 성립하면 두 매트릭스가 commute한다고 표현한다. 그런데 ${\\bf A}{\\bf B}= {\\bf B}{\\bf A}$의 조건은 $\\bf{A}, \\bf{B}$가 동시대각화가능할(simultaneously diagonalizable) 조건과 같다. 따라서 simultaneously diagonalizable는 commute와 같은 말이라 생각해도 무방하다."
   ]
  },
  {
   "cell_type": "markdown",
   "id": "d5849393-6558-4cba-9e96-c6dbc80d5339",
   "metadata": {},
   "source": [
    "## Shift Invariant Filter"
   ]
  },
  {
   "cell_type": "markdown",
   "id": "6aac9ac0-08ab-4c5e-a3ae-654557044f06",
   "metadata": {},
   "source": [
    "Define the matrix ${\\bf B}$ as periodic shift matrix such that \n",
    "\n",
    "$$\n",
    "{\\bf B} = \\begin{bmatrix} \n",
    "0 & 0 & 0 & \\dots  & 0 & 1 \\\\ \n",
    "1 & 0 & 0 & \\dots & 0 & 0 \\\\ \n",
    "0 & 1 & 0 & \\dots & 0 & 0 \\\\ \n",
    "\\dots & \\dots & \\dots & \\dots & \\dots & \\dots\\\\ \n",
    "0 & 0 & \\dots & 1 & 0 & 0 \\\\ \n",
    "0 & 0 & \\dots & 0 & 1 & 0 \\\\ \n",
    "\\end{bmatrix}.$$\n",
    "\n",
    "A generic filter ${\\boldsymbol h}$ is given by its $z$-transform \n",
    "\n",
    "$$h(z)=h_0z^0+h_1z^{-1}+\\cdots +h_{N-1}z^{-(N-1)}$$\n",
    "\n",
    "where $s_{n-1}=z^{-1}s_n$. In vector notation, and with respect to the standard basis ${\\bf I}$, the filter is represented by the matrix ${\\bf H}$, a polynomial in the cyclic shift\n",
    "\n",
    "$${\\bf H}=h({\\bf B})=h_0{\\bf B}^0+h_1{\\bf B}^1+\\cdots+h_{N-1}{\\bf B}^{N-1}.$$"
   ]
  },
  {
   "cell_type": "markdown",
   "id": "4598d36a-8c10-462f-83cc-ec961bcd0e4b",
   "metadata": {},
   "source": [
    "Filters are shift invariant iff"
   ]
  },
  {
   "cell_type": "markdown",
   "id": "9d382710-05b7-4cd6-8977-23016fbc8833",
   "metadata": {},
   "source": [
    "$$z\\cdot h(z) = h(z) \\cdot z$$"
   ]
  },
  {
   "cell_type": "markdown",
   "id": "735ab480-4e1f-4505-8c95-1ab542e9d149",
   "metadata": {},
   "source": [
    "or from the matrix representation"
   ]
  },
  {
   "cell_type": "markdown",
   "id": "63bcd185-b607-4996-86fc-7e2ea8910d16",
   "metadata": {},
   "source": [
    "$$\\bf{B}h(\\bf{B}) = h(\\bf{B})\\bf{B}.$$"
   ]
  },
  {
   "cell_type": "markdown",
   "id": "9218745e-1887-4da3-9d6a-7f1d2ae43377",
   "metadata": {},
   "source": [
    "### Example"
   ]
  },
  {
   "cell_type": "markdown",
   "id": "15fec66f-429b-4869-ba94-866f98cae1d7",
   "metadata": {},
   "source": [
    "Let $\\bf{B}$ as"
   ]
  },
  {
   "cell_type": "code",
   "execution_count": 1,
   "id": "ab494fa1-4e65-4985-b8ef-7a7beeb99075",
   "metadata": {},
   "outputs": [
    {
     "data": {
      "text/plain": [
       "7×7 Matrix{Int64}:\n",
       " 0  1  0  0  0  0  0\n",
       " 0  0  1  0  0  0  0\n",
       " 0  0  0  1  0  0  0\n",
       " 0  0  0  0  1  0  0\n",
       " 0  0  0  0  0  1  0\n",
       " 0  0  0  0  0  0  1\n",
       " 1  0  0  0  0  0  0"
      ]
     },
     "execution_count": 1,
     "metadata": {},
     "output_type": "execute_result"
    }
   ],
   "source": [
    "B= [0 1 0 0 0 0 0\n",
    "    0 0 1 0 0 0 0 \n",
    "    0 0 0 1 0 0 0 \n",
    "    0 0 0 0 1 0 0 \n",
    "    0 0 0 0 0 1 0 \n",
    "    0 0 0 0 0 0 1 \n",
    "    1 0 0 0 0 0 0]"
   ]
  },
  {
   "cell_type": "markdown",
   "id": "ac9de366-1dbc-4d0e-bf52-b2b60e87464e",
   "metadata": {},
   "source": [
    "Define $h$ as"
   ]
  },
  {
   "cell_type": "code",
   "execution_count": 2,
   "id": "3518f5a1-4033-48a9-b770-11e48029e75a",
   "metadata": {},
   "outputs": [
    {
     "data": {
      "text/plain": [
       "3-element Vector{Float64}:\n",
       " 0.3333333333333333\n",
       " 0.3333333333333333\n",
       " 0.3333333333333333"
      ]
     },
     "execution_count": 2,
     "metadata": {},
     "output_type": "execute_result"
    }
   ],
   "source": [
    "h = [1/3,1/3,1/3]"
   ]
  },
  {
   "cell_type": "markdown",
   "id": "43050d5c-8e52-4f4c-b7b7-fa656bae2281",
   "metadata": {},
   "source": [
    "Furthermore define ${\\bf H}=h({\\bf B})=h_0{\\bf B}^0+h_1{\\bf B}^1+h_2{\\bf B}^2$"
   ]
  },
  {
   "cell_type": "code",
   "execution_count": 3,
   "id": "398a5ddf-ca3f-460b-bf6c-822334e50ace",
   "metadata": {},
   "outputs": [
    {
     "data": {
      "text/plain": [
       "7×7 Matrix{Int64}:\n",
       " 1  0  0  0  0  0  0\n",
       " 0  1  0  0  0  0  0\n",
       " 0  0  1  0  0  0  0\n",
       " 0  0  0  1  0  0  0\n",
       " 0  0  0  0  1  0  0\n",
       " 0  0  0  0  0  1  0\n",
       " 0  0  0  0  0  0  1"
      ]
     },
     "execution_count": 3,
     "metadata": {},
     "output_type": "execute_result"
    }
   ],
   "source": [
    "B^0"
   ]
  },
  {
   "cell_type": "code",
   "execution_count": 4,
   "id": "8442a570-2eee-4a5b-8231-3131f76d0b8a",
   "metadata": {},
   "outputs": [
    {
     "data": {
      "text/plain": [
       "7×7 Matrix{Int64}:\n",
       " 0  1  0  0  0  0  0\n",
       " 0  0  1  0  0  0  0\n",
       " 0  0  0  1  0  0  0\n",
       " 0  0  0  0  1  0  0\n",
       " 0  0  0  0  0  1  0\n",
       " 0  0  0  0  0  0  1\n",
       " 1  0  0  0  0  0  0"
      ]
     },
     "execution_count": 4,
     "metadata": {},
     "output_type": "execute_result"
    }
   ],
   "source": [
    "B^1"
   ]
  },
  {
   "cell_type": "code",
   "execution_count": 5,
   "id": "e7363a10-bdb3-4f5c-b525-06c12afadbb6",
   "metadata": {},
   "outputs": [
    {
     "data": {
      "text/plain": [
       "7×7 Matrix{Int64}:\n",
       " 0  0  1  0  0  0  0\n",
       " 0  0  0  1  0  0  0\n",
       " 0  0  0  0  1  0  0\n",
       " 0  0  0  0  0  1  0\n",
       " 0  0  0  0  0  0  1\n",
       " 1  0  0  0  0  0  0\n",
       " 0  1  0  0  0  0  0"
      ]
     },
     "execution_count": 5,
     "metadata": {},
     "output_type": "execute_result"
    }
   ],
   "source": [
    "B^2"
   ]
  },
  {
   "cell_type": "code",
   "execution_count": 6,
   "id": "dc25f967-917d-4273-8b71-fa952037c483",
   "metadata": {},
   "outputs": [
    {
     "data": {
      "text/plain": [
       "7×7 Matrix{Float64}:\n",
       " 0.333333  0.333333  0.333333  0.0       0.0       0.0       0.0\n",
       " 0.0       0.333333  0.333333  0.333333  0.0       0.0       0.0\n",
       " 0.0       0.0       0.333333  0.333333  0.333333  0.0       0.0\n",
       " 0.0       0.0       0.0       0.333333  0.333333  0.333333  0.0\n",
       " 0.0       0.0       0.0       0.0       0.333333  0.333333  0.333333\n",
       " 0.333333  0.0       0.0       0.0       0.0       0.333333  0.333333\n",
       " 0.333333  0.333333  0.0       0.0       0.0       0.0       0.333333"
      ]
     },
     "execution_count": 6,
     "metadata": {},
     "output_type": "execute_result"
    }
   ],
   "source": [
    "H = (1/3)*B^0 + (1/3)*B^1 + (1/3)*B^2"
   ]
  },
  {
   "cell_type": "markdown",
   "id": "9a893dd6-e41e-42fd-81be-72c537c11de6",
   "metadata": {},
   "source": [
    "Observe following"
   ]
  },
  {
   "cell_type": "code",
   "execution_count": 7,
   "id": "f35135e7-ff63-4dc8-9dad-6248d9dc8a87",
   "metadata": {},
   "outputs": [
    {
     "data": {
      "text/plain": [
       "true"
      ]
     },
     "execution_count": 7,
     "metadata": {},
     "output_type": "execute_result"
    }
   ],
   "source": [
    "B*H == H*B"
   ]
  },
  {
   "cell_type": "code",
   "execution_count": 8,
   "id": "7a50a384-adea-435f-9d42-7ec3ece417a5",
   "metadata": {},
   "outputs": [
    {
     "data": {
      "text/plain": [
       "7×7 Matrix{Float64}:\n",
       " 0.0       0.333333  0.333333  0.333333  0.0       0.0       0.0\n",
       " 0.0       0.0       0.333333  0.333333  0.333333  0.0       0.0\n",
       " 0.0       0.0       0.0       0.333333  0.333333  0.333333  0.0\n",
       " 0.0       0.0       0.0       0.0       0.333333  0.333333  0.333333\n",
       " 0.333333  0.0       0.0       0.0       0.0       0.333333  0.333333\n",
       " 0.333333  0.333333  0.0       0.0       0.0       0.0       0.333333\n",
       " 0.333333  0.333333  0.333333  0.0       0.0       0.0       0.0"
      ]
     },
     "execution_count": 8,
     "metadata": {},
     "output_type": "execute_result"
    }
   ],
   "source": [
    "B*H"
   ]
  },
  {
   "cell_type": "code",
   "execution_count": 9,
   "id": "addaa0bf-bd8d-4034-8658-c235efb6e633",
   "metadata": {},
   "outputs": [
    {
     "data": {
      "text/plain": [
       "7×7 Matrix{Float64}:\n",
       " 0.0       0.333333  0.333333  0.333333  0.0       0.0       0.0\n",
       " 0.0       0.0       0.333333  0.333333  0.333333  0.0       0.0\n",
       " 0.0       0.0       0.0       0.333333  0.333333  0.333333  0.0\n",
       " 0.0       0.0       0.0       0.0       0.333333  0.333333  0.333333\n",
       " 0.333333  0.0       0.0       0.0       0.0       0.333333  0.333333\n",
       " 0.333333  0.333333  0.0       0.0       0.0       0.0       0.333333\n",
       " 0.333333  0.333333  0.333333  0.0       0.0       0.0       0.0"
      ]
     },
     "execution_count": 9,
     "metadata": {},
     "output_type": "execute_result"
    }
   ],
   "source": [
    "H*B"
   ]
  },
  {
   "cell_type": "markdown",
   "id": "b4b7de3e-a585-4f79-a93f-55733fd8da82",
   "metadata": {},
   "source": [
    "따라서 filter $h$는 invariant filter이고, matrix $\\bf{H}$는 shift invariant operator이다."
   ]
  },
  {
   "cell_type": "markdown",
   "id": "f464028a-078e-45be-8e71-499fb303c9fb",
   "metadata": {},
   "source": [
    "*note*: $h$ 는 moving average filter^[이전 n개의 데이터의 비가중 평균]."
   ]
  },
  {
   "cell_type": "markdown",
   "id": "58de0c5c-d629-4c00-b1fa-c2fb35005242",
   "metadata": {},
   "source": [
    "*note*: for any $\\bf{x}, \\bf{Hx}$ is definded by"
   ]
  },
  {
   "cell_type": "markdown",
   "id": "0bc68fc2-072d-4cc0-9a95-e61bd18ffd83",
   "metadata": {},
   "source": [
    "$$\\left[\\frac{x_{n-1}+x_n+x_1}{3},\\frac{x_n+x_1+x_2}{3},\\dots,\\frac{x_{n-3}+x_{n-2}+x_n}{3}\\right].$$"
   ]
  },
  {
   "cell_type": "code",
   "execution_count": 10,
   "id": "9a4b41be-b85f-44dc-94c5-c01fbc5ffeea",
   "metadata": {},
   "outputs": [
    {
     "data": {
      "text/plain": [
       "7-element Vector{Float64}:\n",
       " 1.0\n",
       " 1.0\n",
       " 1.3333333333333333\n",
       " 1.6666666666666665\n",
       " 2.0\n",
       " 1.6666666666666665\n",
       " 1.3333333333333333"
      ]
     },
     "execution_count": 10,
     "metadata": {},
     "output_type": "execute_result"
    }
   ],
   "source": [
    "x = [1,1,1,1,2,2,2]\n",
    "H*x"
   ]
  },
  {
   "cell_type": "markdown",
   "id": "e6519848-2e56-4c89-8f62-f1b90058c432",
   "metadata": {},
   "source": [
    "*note:* In some sense, the matrix ${\\bf H}{\\bf x}$ can be thought as generalized version of ${\\boldsymbol h}\\star {\\bf x}$ where $\\star$ is convolution up to shift"
   ]
  },
  {
   "cell_type": "code",
   "execution_count": 14,
   "id": "4e3d22e1-2330-45f5-b878-1f7bb07845c6",
   "metadata": {},
   "outputs": [
    {
     "data": {
      "text/plain": [
       "9-element Vector{Float64}:\n",
       " 0.3333333333333334\n",
       " 0.6666666666666667\n",
       " 1.0\n",
       " 1.0\n",
       " 1.3333333333333333\n",
       " 1.6666666666666667\n",
       " 2.0\n",
       " 1.3333333333333333\n",
       " 0.6666666666666667"
      ]
     },
     "execution_count": 14,
     "metadata": {},
     "output_type": "execute_result"
    }
   ],
   "source": [
    "conv(h, x)"
   ]
  },
  {
   "cell_type": "markdown",
   "id": "a6cb0625-06f7-428a-9a6f-c407913b6305",
   "metadata": {},
   "source": [
    "## Weakly Stationary Graph Processes"
   ]
  },
  {
   "cell_type": "markdown",
   "id": "d9268920-9809-4598-bccb-b07e9dbc6f8c",
   "metadata": {},
   "source": [
    "We extend three equivalent definitions of weak stationary in time to the graph domain, the most common being the invariance of the first and second moments to time shifts."
   ]
  },
  {
   "cell_type": "markdown",
   "id": "49445180-6677-49f4-99e6-9ffd6a1ac4bd",
   "metadata": {},
   "source": [
    "**Definition 12.1.** Given a normal shift operator ${\\bf S}$, a zero-mean random process ${\\bf x}$ is weakly stationary with respect to ${\\bf S}$ if it can be written as the response of a linear shift-invariant graph filter ${\\bf H}=\\sum_{l=0}^{N-1}h_l{\\bf S}^l$ to a zero-mean white input ${\\bf n}$. "
   ]
  },
  {
   "cell_type": "markdown",
   "id": "dcc8c489-64bc-404a-8a4e-da1833c2d4c0",
   "metadata": {},
   "source": [
    "**Definition 12.2.** Given a normal shift operator ${\\bf S}$, a zero-mean random process ${\\bf x}$ is weakly stationary with respect to ${\\bf S}$ is the following two equivalent properties hold \n",
    "\n",
    "**(a)** For any set of nonnegative integers $a$,$b$, and $c\\leq b$ it holds that \n",
    "\n",
    "$$\\mathbb{E} \\bigg[ \\big({\\bf S}^a{\\bf x}\\big)\\Big(\\big({\\bf S}^H)^b {\\bf x}\\Big)^H  \\bigg]=\\mathbb{E}\\bigg[\\big({\\bf S}^{a+c}{\\bf x}\\big)\\Big(\\big({\\bf S}^H\\big)^{b-c}{\\bf x} \\Big)^H \\bigg]$$"
   ]
  },
  {
   "cell_type": "markdown",
   "id": "47cbba69-7113-45de-86cf-0a6871d8e02f",
   "metadata": {},
   "source": [
    "**(b)** Matrices ${\\bf C}_{\\bf x}$ and ${\\bf S}$ are simultaneously diagonalizable."
   ]
  }
 ],
 "metadata": {
  "kernelspec": {
   "display_name": "Julia 1.8.5",
   "language": "julia",
   "name": "julia-1.8"
  },
  "language_info": {
   "file_extension": ".jl",
   "mimetype": "application/julia",
   "name": "julia",
   "version": "1.8.5"
  }
 },
 "nbformat": 4,
 "nbformat_minor": 5
}
