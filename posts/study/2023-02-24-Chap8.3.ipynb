{
 "cells": [
  {
   "cell_type": "raw",
   "id": "8109e9d8-736d-4061-9b94-3627a856b506",
   "metadata": {},
   "source": [
    "---\n",
    "title: \"Chap 8.3: Discrete Fourier Transform\"\n",
    "author: \"jiyun Lim\"\n",
    "date: \"02/24/2023\"\n",
    "categories:\n",
    "  - CGSP\n",
    "  - study\n",
    "image: \"cyclic_shift2.png\"\n",
    "---"
   ]
  },
  {
   "cell_type": "code",
   "execution_count": 1,
   "id": "9812c2ac-6987-42ce-9608-8410a9e1faf5",
   "metadata": {},
   "outputs": [],
   "source": [
    "using LinearAlgebra, FFTW"
   ]
  },
  {
   "cell_type": "markdown",
   "id": "60652b7b-b680-4e99-ab82-227b415d1343",
   "metadata": {},
   "source": [
    "# Discrete Fourier Transform\n",
    "> 이산 푸리에 변환에 대해 알아보자."
   ]
  },
  {
   "cell_type": "markdown",
   "id": "c43fdd3c-454a-48d4-bca9-06f011311bdb",
   "metadata": {},
   "source": [
    "## Cyclic shift operator $\\bf{B}$"
   ]
  },
  {
   "cell_type": "markdown",
   "id": "b7f30a89-957c-441f-89fc-ff6542d760e6",
   "metadata": {},
   "source": [
    "The matrix $\\bf{B}$ representing the periodic shift is"
   ]
  },
  {
   "cell_type": "code",
   "execution_count": 1,
   "id": "18c213df-4c33-420c-ab8c-38a5542b7879",
   "metadata": {},
   "outputs": [
    {
     "data": {
      "text/plain": [
       "5×5 Matrix{Int64}:\n",
       " 0  0  0  0  1\n",
       " 1  0  0  0  0\n",
       " 0  1  0  0  0\n",
       " 0  0  1  0  0\n",
       " 0  0  0  1  0"
      ]
     },
     "execution_count": 1,
     "metadata": {},
     "output_type": "execute_result"
    }
   ],
   "source": [
    "B= [0 0 0 0 1\n",
    "    1 0 0 0 0 \n",
    "    0 1 0 0 0\n",
    "    0 0 1 0 0\n",
    "    0 0 0 1 0]"
   ]
  },
  {
   "cell_type": "markdown",
   "id": "4d9709a7-5eca-47f9-8858-576e046edd11",
   "metadata": {},
   "source": [
    "This matrix is cyclic shift\n",
    "\n",
    "note: $\\bf{B}$ is orthogonal matrix (직교행렬: 전치행렬이 역행렬인 행렬 $\\bf{A}\\bf{A}'=\\bf{A}'\\bf{A}=\\bf{I}$)"
   ]
  },
  {
   "cell_type": "markdown",
   "id": "35a89f41-01f9-4bba-9a56-d631ae601ac7",
   "metadata": {},
   "source": [
    "- Cyclic shift가 뭔지는 모르겠지만 뭔가 모양새가 단위행렬을 한 칸씩 뒤에서 앞으로 밀어놓은 느낌이다."
   ]
  },
  {
   "cell_type": "markdown",
   "id": "abd4e8d1-dd2c-4de5-ba0a-aeea210b2b0c",
   "metadata": {},
   "source": [
    "### What is Cyclic shift?"
   ]
  },
  {
   "cell_type": "markdown",
   "id": "b9b998ea-c659-4fef-b90a-4ec1151ab63b",
   "metadata": {},
   "source": [
    "ref: [Cyclic shift의 개념](https://en.wikipedia.org/wiki/Circular_shift)"
   ]
  },
  {
   "cell_type": "markdown",
   "id": "271ed135-153d-408e-b943-7569b32e189c",
   "metadata": {},
   "source": [
    "a circular shift is the operation of rearranging the entries in a tuple, either by moving the final entry to the first position, while shifting all other entries to the next position, or by performing the inverse operation. A circular shift is a special kind of cyclic permutation, which in turn is a special kind of permutation.\n",
    "\n",
    "위를 요약하자면 조합론에서 순환이동이란 튜플의 항목을 재정렬하는 작업이라고 한다. 마지막 element를 첫번째 위치로 이동하고 다른 모든 element들은 다음 위치로 이동하는 것."
   ]
  },
  {
   "cell_type": "markdown",
   "id": "860504c8-cd6b-473e-8959-63c734afaab1",
   "metadata": {},
   "source": [
    "![](cyclic_shift2.png)"
   ]
  },
  {
   "cell_type": "markdown",
   "id": "f8585330-e8f4-44f0-b462-616cc559e70a",
   "metadata": {},
   "source": [
    "\n",
    "예를들어 (a, b, c, d)에 ciclic shift를 반복적으로 적용하면 다음과 같다.\n",
    "\n",
    "- `0` $(a, b, c, d)$ # before cyclic shift (origin)\n",
    "- `1` $(d, a, b, c)$ # 1step\n",
    "- `2` $(c, d, a, b)$ # 2step \n",
    "- `3` $(b, c, d, a)$ # 3step\n",
    "- `4` $(a, b, c, d)$ # 4step  --> origin\n",
    "\n",
    "*cyclic shift를 4번 반복하니까 원래 변환 전 원래 튜플로 돌아왔다.*"
   ]
  },
  {
   "cell_type": "markdown",
   "id": "d2ba978e-6bac-4355-a8d8-a96eab994b58",
   "metadata": {},
   "source": [
    "### 예제"
   ]
  },
  {
   "cell_type": "code",
   "execution_count": 10,
   "id": "224bf4bd-7837-49b9-bc81-d3730fd9fd12",
   "metadata": {},
   "outputs": [
    {
     "data": {
      "text/plain": [
       "5×5 Matrix{Int64}:\n",
       " 0  0  0  0  1\n",
       " 1  0  0  0  0\n",
       " 0  1  0  0  0\n",
       " 0  0  1  0  0\n",
       " 0  0  0  1  0"
      ]
     },
     "execution_count": 10,
     "metadata": {},
     "output_type": "execute_result"
    }
   ],
   "source": [
    "B # 1 cyclic shift"
   ]
  },
  {
   "cell_type": "code",
   "execution_count": 2,
   "id": "8f1ae1c4-94ef-4156-9958-9ace935afbc7",
   "metadata": {},
   "outputs": [
    {
     "data": {
      "text/plain": [
       "5×5 Matrix{Int64}:\n",
       " 1  0  0  0  0\n",
       " 0  1  0  0  0\n",
       " 0  0  1  0  0\n",
       " 0  0  0  1  0\n",
       " 0  0  0  0  1"
      ]
     },
     "execution_count": 2,
     "metadata": {},
     "output_type": "execute_result"
    }
   ],
   "source": [
    "B'B # B는 orthogonal matrix니까 B'B = I일 것."
   ]
  },
  {
   "cell_type": "markdown",
   "id": "f9d04d6f-d194-4c07-aded-36a4a716bc04",
   "metadata": {},
   "source": [
    "`-` (ex1) Define $s$ as"
   ]
  },
  {
   "cell_type": "code",
   "execution_count": 4,
   "id": "be1d6d3d-3a1f-417b-a5a3-423d3ac15de4",
   "metadata": {},
   "outputs": [
    {
     "data": {
      "text/plain": [
       "5-element Vector{Int64}:\n",
       " 1\n",
       " 2\n",
       " 3\n",
       " 4\n",
       " 5"
      ]
     },
     "execution_count": 4,
     "metadata": {},
     "output_type": "execute_result"
    }
   ],
   "source": [
    "s = [1,2,3,4,5] ## origin\n",
    "s"
   ]
  },
  {
   "cell_type": "code",
   "execution_count": 5,
   "id": "f0d5569b-723e-48c3-9680-8995f58391c8",
   "metadata": {},
   "outputs": [
    {
     "data": {
      "text/plain": [
       "5-element Vector{Int64}:\n",
       " 5\n",
       " 1\n",
       " 2\n",
       " 3\n",
       " 4"
      ]
     },
     "execution_count": 5,
     "metadata": {},
     "output_type": "execute_result"
    }
   ],
   "source": [
    "B*s"
   ]
  },
  {
   "cell_type": "markdown",
   "id": "c1ed5a8d-4350-40a9-bca6-ac35aedb3bc4",
   "metadata": {},
   "source": [
    "결과: $[1,2,3,4,5] \\to [5,1,2,3,4]$"
   ]
  },
  {
   "cell_type": "markdown",
   "id": "9f1a3726-6bd2-456c-8032-0d9a2d0d108e",
   "metadata": {},
   "source": [
    "- 맨 뒤에 5가 앞으로 나오고 나머지 값들은 한칸씩 뒤로 밀렸다.\n",
    "- 위에서 배운대로라면 5번 쉬프트되면 자기자신으로 돌아오지 않을까?"
   ]
  },
  {
   "cell_type": "markdown",
   "id": "bb5e758f-75dc-42c6-b959-c69ef077ed9f",
   "metadata": {},
   "source": [
    "`-` $\\bf{B}^2$ 에 $s$를 곱하면?"
   ]
  },
  {
   "cell_type": "code",
   "execution_count": 7,
   "id": "58218349-9a79-4ad7-9251-34331f656716",
   "metadata": {},
   "outputs": [
    {
     "data": {
      "text/plain": [
       "5×5 Matrix{Int64}:\n",
       " 0  0  0  1  0\n",
       " 0  0  0  0  1\n",
       " 1  0  0  0  0\n",
       " 0  1  0  0  0\n",
       " 0  0  1  0  0"
      ]
     },
     "execution_count": 7,
     "metadata": {},
     "output_type": "execute_result"
    }
   ],
   "source": [
    "B^2  # 2 cyclic shift"
   ]
  },
  {
   "cell_type": "code",
   "execution_count": 11,
   "id": "197df1ee-60e9-4013-92de-31585123bb44",
   "metadata": {},
   "outputs": [
    {
     "data": {
      "text/plain": [
       "5-element Vector{Int64}:\n",
       " 4\n",
       " 5\n",
       " 1\n",
       " 2\n",
       " 3"
      ]
     },
     "execution_count": 11,
     "metadata": {},
     "output_type": "execute_result"
    }
   ],
   "source": [
    "B^2*s"
   ]
  },
  {
   "cell_type": "markdown",
   "id": "ba7127af-2ab7-428d-8a34-8adb7a18e0ad",
   "metadata": {},
   "source": [
    "결과: $[1,2,3,4,5] \\to [5,1,2,3,4] \\to [4,5,1,2,3]$"
   ]
  },
  {
   "cell_type": "markdown",
   "id": "d1e694e5-c91a-4858-887f-2bf7445db68e",
   "metadata": {},
   "source": [
    "`-` $\\bf{B}^5$에 $s$를 곱하면?"
   ]
  },
  {
   "cell_type": "markdown",
   "id": "6d76f31c-3a52-439b-b865-056269c47e65",
   "metadata": {},
   "source": [
    "예상대로라면 원래 $s$인 $[1,2,3,4,5]$로 돌아올 것 같다."
   ]
  },
  {
   "cell_type": "code",
   "execution_count": 12,
   "id": "bbcdcda1-a215-485a-9916-a73c838961bd",
   "metadata": {},
   "outputs": [
    {
     "data": {
      "text/plain": [
       "5-element Vector{Int64}:\n",
       " 1\n",
       " 2\n",
       " 3\n",
       " 4\n",
       " 5"
      ]
     },
     "execution_count": 12,
     "metadata": {},
     "output_type": "execute_result"
    }
   ],
   "source": [
    "B^5*s"
   ]
  },
  {
   "cell_type": "markdown",
   "id": "95390e85-bb59-4f7f-bab2-82bea122b4eb",
   "metadata": {},
   "source": [
    " Thus we can interprete the matrix $\\bf{B}$ as cyclic shift operator such that\n",
    " \n",
    "$$\\bf{B}_n = s_{n-1}$$"
   ]
  },
  {
   "cell_type": "markdown",
   "id": "4939441b-8b60-483b-89eb-472d88c6e753",
   "metadata": {},
   "source": [
    "for $n = 1,\\dots,N-1$ and $\\bf{B}_{s_0}=s_N$"
   ]
  },
  {
   "cell_type": "markdown",
   "id": "4fe6a3a1-fed8-491c-bcff-6903b8e95b2b",
   "metadata": {},
   "source": [
    "*note* : $\\bf{B}$는 시계열에서 다루는 backshift operator과 비슷함.\n",
    "\n",
    "(참고) backshift operator(후방이동) 연산자 $\\bf{B}$는 시계열 시차를 다룰 때 유용한 표기법 장치이다. ($B_{y_t} = y_{t-1})$"
   ]
  },
  {
   "cell_type": "markdown",
   "id": "15f83630-2138-4ad7-930f-22b57a1cd268",
   "metadata": {},
   "source": [
    "시차변수 만들 때 완전 꿀팁인듯?"
   ]
  },
  {
   "cell_type": "markdown",
   "id": "9a2ce94d-91bc-47b2-9ad1-608a9993bb06",
   "metadata": {},
   "source": [
    "## DFT"
   ]
  },
  {
   "cell_type": "markdown",
   "id": "a4d6cc0b-7a0f-4df0-8ff5-85d8d7686958",
   "metadata": {},
   "source": [
    "The matrix $\\bf{B}$ can be expressed as"
   ]
  },
  {
   "cell_type": "markdown",
   "id": "9ce6a932-be2e-4dcb-af18-92fd35cc86f3",
   "metadata": {},
   "source": [
    "$\\bf{B} = DFT^* \\cdot \\Lambda \\cdot DFT$"
   ]
  },
  {
   "cell_type": "markdown",
   "id": "4b366696-fa8b-4416-a26b-7a791634df6c",
   "metadata": {},
   "source": [
    "where DFT is unitary and symmetric matrix and $\\Lambda$ is diagonal matrix."
   ]
  },
  {
   "cell_type": "markdown",
   "id": "c784f034-8a48-4dee-9dd9-610e53e7df96",
   "metadata": {},
   "source": [
    "## Spectral components and Frequencies"
   ]
  },
  {
   "cell_type": "markdown",
   "id": "ea77c1af-d94a-447b-ac00-ada5bb1645b5",
   "metadata": {},
   "source": [
    "we remark:\n"
   ]
  },
  {
   "cell_type": "markdown",
   "id": "87722378-4de7-411e-be8e-460d68e2da0c",
   "metadata": {},
   "source": [
    "**(1) Spectral components**: For $k = 0,1,2,\\dots, N-1$, the $k$-th column of ${\\bf DFT}^\\ast$ is defined by \n",
    "\n",
    "$$\\Psi_k:=\\frac{1}{\\sqrt{N}}\\begin{bmatrix} 1 \\\\ e^{j\\frac{2\\pi}{N}k} \\\\ e^{j\\frac{2\\pi}{N}2k} \\\\ e^{j\\frac{2\\pi}{N}3k} \\\\  \\dots \\\\ e^{j\\frac{2\\pi}{N}(N-1)k} \\end{bmatrix}.$$\n",
    "\n",
    "Note that $\\Psi_k$ can be also interpreted as $\\ell$-th eigenvector of ${\\bf A}$ correspoding $\\lambda_\\ell = e^{-j\\frac{2\\pi}{N}k}$. Those eigenvectors \n",
    "\n",
    "$$\\big\\{{\\bf 1},\\Psi_1,\\Psi_2, \\dots, \\Psi_{N-1}\\big\\}$$\n",
    "\n",
    "form a complete orthonomal basis of $\\mathbb{C}^N$. These vectors are called spectral components. "
   ]
  },
  {
   "cell_type": "markdown",
   "id": "179f549a-095a-4a51-8f95-2b06154c8838",
   "metadata": {},
   "source": [
    "**(2) Frequencies:** The diagonal entries of ${\\bf \\Lambda}$ are the eigenvalues of the time shift ${\\bf B}$. In Physics and in operator theory, these eigenvalues are the frequencies of the signal. In DSP it is more common to call frequencies \n",
    "\n",
    "$$\\Omega_k=\\frac{-1}{2\\pi j}\\ln\\lambda_k=\\frac{-1}{2\\pi j}\\ln e^{-j \\frac{2\\pi}{N}k}=\\frac{k}{N}, \\quad k=0,1,2,\\dots,N-1.$$"
   ]
  },
  {
   "cell_type": "code",
   "execution_count": null,
   "id": "9b61cd25-e446-4dc7-8a58-b0a0ba2b487c",
   "metadata": {},
   "outputs": [],
   "source": []
  }
 ],
 "metadata": {
  "kernelspec": {
   "display_name": "Julia 1.8.5",
   "language": "julia",
   "name": "julia-1.8"
  },
  "language_info": {
   "file_extension": ".jl",
   "mimetype": "application/julia",
   "name": "julia",
   "version": "1.8.5"
  }
 },
 "nbformat": 4,
 "nbformat_minor": 5
}
