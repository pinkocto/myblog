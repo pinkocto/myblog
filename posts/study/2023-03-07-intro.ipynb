{
 "cells": [
  {
   "cell_type": "raw",
   "id": "7bc84f3b-2c26-4b0e-8216-018a885bd699",
   "metadata": {},
   "source": [
    "---\n",
    "title: \"측도론 intro\"\n",
    "author: \"jiyun Lim\"\n",
    "date: \"03/09/2023\"\n",
    "categories:\n",
    "  - Measure Theory\n",
    "---"
   ]
  },
  {
   "cell_type": "markdown",
   "id": "a8cd9b57-cabe-4068-990d-90b107bf00fe",
   "metadata": {},
   "source": [
    "# 예제1: 동전"
   ]
  },
  {
   "cell_type": "markdown",
   "id": "08dd1f85-435d-49ee-9a24-44f17c629e27",
   "metadata": {},
   "source": [
    "`-` $\\Omega = \\{H,T\\}$ $\\to$ sample space"
   ]
  },
  {
   "cell_type": "markdown",
   "id": "6f69b7ff-7409-4a7a-a860-bbba0ee1450b",
   "metadata": {},
   "source": [
    "`-` $P(\\{H\\}) = P(\\{T\\}) = \\frac{1}{2}: \\text{prob}$"
   ]
  },
  {
   "cell_type": "markdown",
   "id": "501c2e5f-3bc1-4da3-a711-139b41d49719",
   "metadata": {},
   "source": [
    "`-` 질문: $\\Omega$의 임의의 (=모든) 부분집합 $\\Omega^*$에 대하여 $P(\\Omega^*)$를 **모순없이!** 정의할 수 있을까?"
   ]
  },
  {
   "cell_type": "markdown",
   "id": "da56f4c4-b08d-4964-9749-68a2c2152744",
   "metadata": {},
   "source": [
    "오메가($\\Omega$) > Sample Space 라고함.."
   ]
  },
  {
   "cell_type": "markdown",
   "id": "bf33677f-433d-4abd-b6d5-6abb0b059d6d",
   "metadata": {},
   "source": [
    "오메가의 부분집합은? 공집합, {H},{T}, {H,T}"
   ]
  },
  {
   "cell_type": "markdown",
   "id": "49f14cea-daa9-4a07-909a-ad8453c260cc",
   "metadata": {},
   "source": [
    "공집합이 나올확률은 0?"
   ]
  },
  {
   "cell_type": "markdown",
   "id": "130bea09-6ff9-4c4a-a6f1-0d5363cf214e",
   "metadata": {},
   "source": [
    "공리1,2,3은 지켜야함. "
   ]
  },
  {
   "cell_type": "markdown",
   "id": "ef52570c-6d26-4fc6-8f28-cba7abad142c",
   "metadata": {},
   "source": [
    "# 예제2: 바늘이 하나만 있는 시계"
   ]
  },
  {
   "cell_type": "markdown",
   "id": "e692424f-c3db-4c1c-bcf1-c2c7acb4c838",
   "metadata": {},
   "source": [
    "`-` $\\Omega = [0, 2\\pi)$"
   ]
  },
  {
   "cell_type": "markdown",
   "id": "8efc0362-fec3-4d69-bdda-bf1aae4902e9",
   "metadata": {},
   "source": [
    "- 시계바늘을 돌려서 나오는 각도를 재는 일 $\\Leftrightarrow [0,2\\pi)$ 사이의 숫자 중에 하나를 뽑는 일"
   ]
  },
  {
   "cell_type": "markdown",
   "id": "9ff9b7fd-9b9b-4727-9085-25868b85b0d9",
   "metadata": {},
   "source": [
    "`-` 질문: 바늘을 랜덤으로 돌렸을 때 12시~6시 사이에 바늘이 있을 확률 $\\Rightarrow \\frac{1}{2}$"
   ]
  },
  {
   "cell_type": "markdown",
   "id": "332ea726-2434-4d27-85a8-db39e3b75535",
   "metadata": {},
   "source": [
    "- $\\Omega^* = [0, \\pi)$\n",
    "- $P(\\Omega^*) = \\frac{1}{2}$"
   ]
  },
  {
   "cell_type": "markdown",
   "id": "187cb4fd-b69b-4fca-b4cb-301dbf24c5d0",
   "metadata": {},
   "source": [
    "`-` 계산하는 방법? 아래와 같이 계산하면 가능!"
   ]
  },
  {
   "cell_type": "markdown",
   "id": "c7b04595-f21c-467a-a41b-4b30c6929119",
   "metadata": {},
   "source": [
    "$$\\forall \\Omega^* \\subset \\Omega, \\quad P(\\Omega^*) = \\frac{m(\\Omega^*)}{m(\\Omega)}$$"
   ]
  },
  {
   "cell_type": "markdown",
   "id": "b9b42e44-2d7a-43c3-9383-4e57bb86e02e",
   "metadata": {},
   "source": [
    "단, 여기에서 $m$은 길이를 재는 함수라고 하자."
   ]
  },
  {
   "cell_type": "markdown",
   "id": "6b360b30-09d7-4b6e-8a34-4677dd01bb17",
   "metadata": {},
   "source": [
    "**연습** : $m$의 사용\n",
    "\n",
    "- $m(\\Omega) =  m([0,2\\pi))=2\\pi$\n",
    "- $m(\\Omega^*) = m([0,\\pi)) = \\pi$"
   ]
  },
  {
   "cell_type": "markdown",
   "id": "321297be-1d0c-4de2-ae19-16b9a0457ca2",
   "metadata": {},
   "source": [
    "`-` 위와같은 방식으로 확률을 정의하면 잘 정의될까? $\\to$ 쉽지 않다.\n",
    "\n",
    "왜냐하면 확률을 잘 정의하기 위해서는"
   ]
  },
  {
   "cell_type": "markdown",
   "id": "ef1c9426-288a-4036-9c0a-b8715c945d1a",
   "metadata": {},
   "source": [
    "> $\\Omega$의 모든 부분집합 $\\Omega^*$에 대하여 $P(\\Omega^*)$를 모순없이 정의할 수가 있어야하는데, 이게 쉬운 일이 아님!"
   ]
  },
  {
   "cell_type": "markdown",
   "id": "bd8d8131-4de7-4e2e-8f09-81fb58103af8",
   "metadata": {},
   "source": [
    "### 질문1 $\\Omega^*= \\o$ 일 확률은?"
   ]
  },
  {
   "cell_type": "code",
   "execution_count": null,
   "id": "016ec1c0-a84f-4b38-930d-5c0e98f7e003",
   "metadata": {},
   "outputs": [],
   "source": []
  },
  {
   "cell_type": "markdown",
   "id": "8903cbfe-9fc9-4ce5-9480-72fd78738145",
   "metadata": {},
   "source": [
    "개구간/폐구간 똑같?"
   ]
  },
  {
   "cell_type": "markdown",
   "id": "9c53a9e7-8bfe-4c68-b88f-1447ade6306c",
   "metadata": {},
   "source": [
    "$m([0,2\\pi]) = m((0,2\\pi))$"
   ]
  },
  {
   "cell_type": "markdown",
   "id": "6a3d9d79-9b6c-41af-b581-83b594f4abb0",
   "metadata": {},
   "source": [
    "유리수만! > Q(무한개)\n",
    "\n",
    "무리수만!"
   ]
  },
  {
   "cell_type": "markdown",
   "id": "5be5fee9-ce87-4297-871f-252a889f9b28",
   "metadata": {},
   "source": [
    "(외통수)"
   ]
  },
  {
   "cell_type": "markdown",
   "id": "794deaf0-397f-4a5c-8ef2-6e9da56ca4b7",
   "metadata": {},
   "source": [
    "$$P(Q_{\\sqrt{2}})$$"
   ]
  },
  {
   "cell_type": "code",
   "execution_count": null,
   "id": "2e64b758-857f-44ec-8d83-0080f4f6e5e3",
   "metadata": {},
   "outputs": [],
   "source": []
  }
 ],
 "metadata": {
  "kernelspec": {
   "display_name": "Python 3",
   "language": "python",
   "name": "python3"
  },
  "language_info": {
   "codemirror_mode": {
    "name": "ipython",
    "version": 3
   },
   "file_extension": ".py",
   "mimetype": "text/x-python",
   "name": "python",
   "nbconvert_exporter": "python",
   "pygments_lexer": "ipython3",
   "version": "3.8.16"
  }
 },
 "nbformat": 4,
 "nbformat_minor": 5
}
