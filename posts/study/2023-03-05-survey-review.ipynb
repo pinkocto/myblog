{
 "cells": [
  {
   "cell_type": "raw",
   "id": "d5def1f3-4861-4a50-b86b-88323b04f926",
   "metadata": {},
   "source": [
    "---\n",
    "title: \"A Comprehensive Survey on Geometric Deep Learning\"\n",
    "author: \"jiyun Lim\"\n",
    "date: \"03/05/2023\"\n",
    "categories:\n",
    "  - 논문리뷰\n",
    "  - study\n",
    "---"
   ]
  },
  {
   "cell_type": "markdown",
   "id": "5941b64a-1f6c-4fbf-b883-cae7b5ef5a2d",
   "metadata": {},
   "source": [
    "# A Comprehensive Survey on Geometric Deep Learning"
   ]
  },
  {
   "cell_type": "markdown",
   "id": "7499ef14-4a1c-4e8b-966e-674e49268030",
   "metadata": {},
   "source": [
    "> Convolutional neural networks, geometric deep learnig, graph, manifold"
   ]
  },
  {
   "cell_type": "markdown",
   "id": "73fa470f-a4be-4d93-bd26-5723b6579c45",
   "metadata": {},
   "source": [
    "The deep Learning [1] technologies, for example, the convolutional neural networks [2], have achieved unprecedented\n",
    "good results in some machine learning applications such\n",
    "as object detection [3]–[5], image classification [6], speech\n",
    "recognition [7], and machine translation [8]. Different from\n",
    "traditional neural networks, the deep neural networks, especially convolutional neural networks, make use of the basic\n",
    "statistical characteristics of data including local stationarity\n",
    "and multi-scale component structure to capture deeper local\n",
    "information and features. Although deep learning technology\n",
    "is very successful in processing traditional signals such as\n",
    "image, sound, video or text, the current research on deep\n",
    "learning still mainly focuses on the data mentioned above\n",
    "which are defined in the Euclidean domain, namely grid-like\n",
    "data. With the emergence of larger data scale and more powerful GPU computing ability, people begin to be more and\n",
    "more interested in processing data in non-Euclidean domain,\n",
    "such as graphs and manifolds. This type of data is ubiquitous in real life. It is of great significance to study deep learning\n",
    "techniques in non-Euclidean domains. This is called geometric deep learning.\n",
    "\n",
    "The geometric deep learning mainly study graph and manifold data. The graph is composed of nodes and edges of the\n",
    "network structure data. For instance, in social network, each\n",
    "node represent a person’s information and the edge represent\n",
    "the relationship between people. The edges can be directed or\n",
    "undirected depending on the relationship of the connecting\n",
    "vertices. The Manifold data are usually used to describe\n",
    "geometric shapes, such as surface of objects returned by radar\n",
    "scanning. These geometric data are irregularly arranged and\n",
    "randomly distributed, which makes it difficult for people to\n",
    "find out the underlying pattern. Specifically, it is difficult to\n",
    "find the neighbor nodes of a certain point in the data, or the\n",
    "number of a node’s neighbor is different in [9]. This makes\n",
    "it difficult to define convolution operations like those on\n",
    "images. On the other hand, data like images in the Euclidean\n",
    "domain can be regarded as a special graph data, with vertices\n",
    "arranged in a regular way. Another issue is that non-Euclidean\n",
    "data usually has extraordinarily large scale. For example,\n",
    "molecular graph can have hundreds of millions of nodes. For\n",
    "this case, it is unlikely to use the traditional deep learning technology to carry out analysis and prediction tasks. This is\n",
    "why deep learning is so important in the field of geometric\n",
    "data.\n",
    "The purpose of this survey is to review and summarize the\n",
    "geometric deep learning frameworks and algorithms developed on graphs and manifolds data, and to introduce the\n",
    "practical difficulties and development directions in this new\n",
    "rising field.\n"
   ]
  },
  {
   "cell_type": "markdown",
   "id": "9fb2c53f-49e2-4617-b871-fc1378e4d487",
   "metadata": {},
   "source": [
    "## I. INTRODUCTION"
   ]
  },
  {
   "cell_type": "markdown",
   "id": "051dcaaf-8f4b-4c51-a5a2-6e9d2fa85752",
   "metadata": {},
   "source": [
    "With the emergence of larger data scale and more powerful GPU computing ability, people begin to be more and\n",
    "more interested in processing data in non-Euclidean domain, such as graphs and manifolds. This type of data is ubiquitous in real life. It is of great significance to study deep learning techniques in non-Euclidean domains. This is called geometric deep learning.\n"
   ]
  },
  {
   "cell_type": "markdown",
   "id": "a7a5bc43-24cf-436d-a0a8-5343e7f7da93",
   "metadata": {},
   "source": [
    "- *minifold data?*"
   ]
  },
  {
   "cell_type": "markdown",
   "id": "470b83cc-7c32-4f4a-b9f1-196273d7a738",
   "metadata": {},
   "source": [
    "The geometric deep learning mainly study graph and man\u0002ifold data. The graph is composed of nodes and edges of the\n",
    "network structure data. For instance, in social network, each\n",
    "node represent a person’s information and the edge represent\n",
    "the relationship between people. The edges can be directed or\n",
    "undirected depending on the relationship of the connecting\n",
    "vertices. The Manifold data are usually used to describe\n",
    "geometric shapes, such as surface of objects returned by radar\n",
    "scanning. These geometric data are irregularly arranged and\n",
    "randomly distributed, which makes it difficult for people to\n",
    "find out the underlying pattern. Specifically, it is difficult to\n",
    "find the neighbor nodes of a certain point in the data, or the\n",
    "number of a node’s neighbor is different in [9]. This makes\n",
    "it difficult to define convolution operations like those on\n",
    "images. On the other hand, data like images in the Euclidean\n",
    "domain can be regarded as a special graph data, with vertices\n",
    "arranged in a regular way. Another issue is that non-Euclidean\n",
    "data usually has extraordinarily large scale. For example,\n",
    "molecular graph can have hundreds of millions of nodes. For\n",
    "this case, it is unlikely to use the traditional deep learning technology to carry out analysis and prediction tasks. This is\n",
    "why deep learning is so important in the field of geometric\n",
    "data.\n",
    "\n",
    "The purpose of this survey is to review and summarize the\n",
    "geometric deep learning frameworks and algorithms developed on graphs and manifolds data, and to introduce the\n",
    "practical difficulties and development directions in this new\n",
    "rising field"
   ]
  },
  {
   "cell_type": "markdown",
   "id": "26265182-84b3-4a2a-9005-74ae7c64f69e",
   "metadata": {},
   "source": [
    "***BRIEF HISTORY***"
   ]
  },
  {
   "cell_type": "markdown",
   "id": "0214d615-4971-49c3-a731-0b6360352a59",
   "metadata": {},
   "source": [
    "The history of geometric deep learning filed is not very long.\n",
    "Although it seems that this area is in its infancy, the deep\n",
    "learning behind its development has a long history. The rapid\n",
    "development of deep learning technologies such as convolutional neural network greatly pushes the progress of geometric deep learning. After all, studying geometric deep learning is to study how to define the non-Euclidean world mathematically, and how to transplant the existing frameworks and algorithms of deep learning to handle graphs and manifolds data effectively. In general, geometric deep learning can be mainly divided into two major research directions, one is for processing graph data (i.e. graph networks or grid-like data);\n",
    "the other is for processing manifold data (i.e. generally for processing 3D point cloud data). Among them, graph data\n",
    "processing is more popular, and people aim to extend the deep\n",
    "learning technologies to non-Euclidean structural data."
   ]
  },
  {
   "cell_type": "markdown",
   "id": "7d447f56-2e94-4217-bdd6-7375287f8780",
   "metadata": {},
   "source": [
    "As early as in **2005, M. Gori** et al. first proposed ***a graph neural network (GNN)*** to process graph data [10] such as\n",
    "directed graphs, undirected graphs, labeled graphs, and recurrent graphs. The work of [11] published by Scarselli et al.\n",
    "in 2009 brought back the graph neural network model to the public’s horizon, defined a function that can map graph and any node to a dimensional Euclidean space, and proposed an algorithm to estimate the neural network model parameter with supervised learning."
   ]
  },
  {
   "cell_type": "markdown",
   "id": "aff18c85-befc-4966-a1d1-bbd7af624471",
   "metadata": {},
   "source": [
    "In the work of [12] proposed spectral convolutional neural networks on graphs. Work of [13]\n",
    "extended the spectral network by combining a graph estimation process. diffusion convolutional neural network (DCNN) was next proposed in [14] to learning diffusion based representation from graph data for node classification. The work\n",
    "of [9], similar to image based convolutional network operating on the input locally connected region, proposed a general method to extract the locally connected region from the graph."
   ]
  },
  {
   "cell_type": "markdown",
   "id": "033ac5d5-8f18-4c1a-8a04-bf031d1c4fc7",
   "metadata": {},
   "source": [
    "In **2016, M. Defferrard** et al. proposed ***ChebNet***[15],\n",
    "and then a ***simplified version GCN*** (graph convolutional\n",
    "network) was proposed [16]. One year later, ***CayleyNet*** was\n",
    "proposed by Levie et al. [17]. All the above research results were based on the idea of convolutional network. Besides graph convolution model, there are other similar studies conducted in parallel, such as ***graph attention networks, graph generative networks, and graph auto-encoders*** that will be seen in section III.\n"
   ]
  },
  {
   "cell_type": "markdown",
   "id": "64b0ee82-c963-4833-b745-32d9b7b793ee",
   "metadata": {},
   "source": [
    "At the same time, research of deep learning theory on\n",
    "manifold data are also carried out. There have been two\n",
    "traditional research methods on manifolds, one is to fill\n",
    "3D shapes with many voxel grids (cube blocks), and each"
   ]
  },
  {
   "cell_type": "markdown",
   "id": "c0e5863c-4f4f-4cbd-98cd-b09f09a1d4f9",
   "metadata": {},
   "source": [
    "## II. BACKGROUND"
   ]
  },
  {
   "cell_type": "markdown",
   "id": "a60d9051-ed1d-4062-a8e0-42c361ade243",
   "metadata": {},
   "source": [
    "In this section, we give a basic background introduction on graph and manifold theories. voxel can be processed by 3D CNN opreation, called 3D volumetric CNN.\n"
   ]
  },
  {
   "cell_type": "markdown",
   "id": "687ec8f5-4f6e-4f0b-a07f-31bf71c725e1",
   "metadata": {},
   "source": [
    "### ***A. Graph and Laplacian Matrix***"
   ]
  },
  {
   "cell_type": "markdown",
   "id": "466d9921-6e48-476a-b1b0-3e39df10a26b",
   "metadata": {},
   "source": [
    "$$ \\bf{G} = (\\bf{V},\\bf{E})$$"
   ]
  },
  {
   "cell_type": "markdown",
   "id": "09ea92fe-fb8e-44f3-8ef3-9571c642a47d",
   "metadata": {},
   "source": [
    "Let $v_i \\in \\bf{V}$ represent\n",
    "a node and $e_{ij} = (v_i, v_j) \\in \\bf{E}$ to represent an edge between $v_i$ and $v_j$\n",
    "."
   ]
  },
  {
   "cell_type": "markdown",
   "id": "2b8bb6ce-e9e6-4904-8aee-8d370d6492b2",
   "metadata": {},
   "source": [
    "- $\\bf{V}$: the set of vertices or nodes.\n",
    "- $\\bf{E}$: the set of edges.\n",
    "- $M = |\\bf{E}|$ : total number of edges\n",
    "- $\\bf{A}$ : $N \\times N$ matrix of edge weights where:"
   ]
  },
  {
   "cell_type": "markdown",
   "id": "b56d1d90-4eba-47e9-9aea-4403437af57e",
   "metadata": {},
   "source": [
    "\\begin{cases}\n",
    " & \\bf{A}_{ij} = a_{ij} > 0 &&  \\text{if } e_{ij}  \\in \\bf{E} \\\\\n",
    " & \\bf{A}_{ij} = 0 &&  \\text{if } e_{ij} \\notin \\bf{E}\n",
    "\\end{cases}"
   ]
  },
  {
   "cell_type": "markdown",
   "id": "5ae66c85-29b3-43ed-9eb9-3ab3a59fab35",
   "metadata": {},
   "source": [
    "The edges in an undirected graph are all undirected, *i.e.* an undirected graph's edges are all undirected, any two nodes are just connected without direction. \n",
    "- For an undirected graph, $\\bf{A}_{ij}=\\bf{A}_{ji} = 1$.\n",
    "\n",
    "directed graph has edges going from one node to another.\n",
    "- For a directed graph, $\\bf{A}_{ij} \\neq \\bf{A}_{ji}$"
   ]
  },
  {
   "cell_type": "markdown",
   "id": "6b16555a-7cba-4d15-ad74-ddb4e89b37a5",
   "metadata": {},
   "source": [
    "The Laplacian matrix of a graph is defined as\n",
    "- $\\bf{L} = \\bf{D} - \\bf{A}$\n",
    "    - $\\bf{D}$: degree matrix, which is diagonal. \n",
    "\n",
    "*the diagonal elements are the degrees of nodes, which is defined as the number of connecting edges, namely, $\\bf{D}_{ii} = \\sum_j \\bf{A}_{ij}$*"
   ]
  },
  {
   "cell_type": "markdown",
   "id": "9188e3e3-a49d-47d7-923d-a7a2081f5c83",
   "metadata": {},
   "source": [
    "The common Laplacian matrix usually has the following three forms, Combinatorial Laplacian:"
   ]
  },
  {
   "cell_type": "markdown",
   "id": "1cd786eb-fb22-4668-8429-16a16c8e1599",
   "metadata": {},
   "source": [
    "`-` Combinatorial Laplacian:\n",
    "\n",
    "$$ \\bf{L} = \\bf{D} - \\bf{A}$$"
   ]
  },
  {
   "cell_type": "markdown",
   "id": "dc8d087c-5f6d-48d7-9354-f8138324ca49",
   "metadata": {},
   "source": [
    "`-` Symmetric Nomalized Laplacian:"
   ]
  },
  {
   "cell_type": "markdown",
   "id": "1940e796-1930-42d0-a05c-d8efab9e794b",
   "metadata": {},
   "source": [
    "$$ \\bf{L}^{sym}  = \\bf{D}^{-\\frac{1}{2}}\\bf{L}\\bf{D}^{-\\frac{1}{2}} = \\bf{I} - \\bf{D}^{-\\frac{1}{2}}\\bf{A}\\bf{D}^{-\\frac{1}{2}}$$"
   ]
  },
  {
   "cell_type": "markdown",
   "id": "652ee5a9-7be5-4bfd-8a12-9052482f84d5",
   "metadata": {},
   "source": [
    "`-` Random Walk Nomalized Laplacian:"
   ]
  },
  {
   "cell_type": "markdown",
   "id": "e6a36710-44c8-4126-a07c-c04367a642fc",
   "metadata": {},
   "source": [
    "$$\\bf{L}^{rw} = \\bf{D}^{-1}\\bf{L} = \\bf{I} - \\bf{D}^{-1}\\bf{A}$$"
   ]
  },
  {
   "cell_type": "markdown",
   "id": "162f00a7-e5a1-42c4-a5df-58b60bbff95a",
   "metadata": {},
   "source": [
    "### ***B. Fourier Transformation on Graphs***"
   ]
  },
  {
   "cell_type": "markdown",
   "id": "d838b447-0b02-4ae4-aa7a-de0280c3fb82",
   "metadata": {},
   "source": [
    "The key of graph convolutional network based on spec\u0002tral method is the eigen-decomposition of Laplacian matrix,\n",
    "so Laplacian matrix plays a very important role. The normal\u0002ized Laplacian matrix is a semi-positive definite symmetric matrix, it has N linearly independent and mutually orthog\u0002onal eigenvectors, and N non-negative eigenvalues. Therefore, Laplacian matrix can be decomposed into the following\n",
    "formula:"
   ]
  },
  {
   "cell_type": "markdown",
   "id": "94f06c91-2c3b-477a-943c-7be1bc66232b",
   "metadata": {},
   "source": [
    "$$\\bf{L} = \\bf{U}\\Lambda\\bf{U}^{-1}$$"
   ]
  },
  {
   "cell_type": "markdown",
   "id": "3d58d19f-23af-4d97-81ac-66ab7683173a",
   "metadata": {},
   "source": [
    "## III. METHODS"
   ]
  },
  {
   "cell_type": "markdown",
   "id": "2bde58a1-0034-4056-ab35-cea0cd6e3288",
   "metadata": {},
   "source": [
    "## IV. APPLICATIONS"
   ]
  },
  {
   "cell_type": "markdown",
   "id": "fde2c27d-6d26-4d53-9b95-23693175b86f",
   "metadata": {},
   "source": [
    "## V. FUTURE WORK AND OPEN PROBLEMS"
   ]
  },
  {
   "cell_type": "markdown",
   "id": "c6f6e167-8681-46a2-a24a-7a1e087db7ff",
   "metadata": {},
   "source": [
    "## VI. CONCLUSION"
   ]
  },
  {
   "cell_type": "code",
   "execution_count": null,
   "id": "28b67308-604c-4810-b9ff-d19fadc0234e",
   "metadata": {},
   "outputs": [],
   "source": []
  }
 ],
 "metadata": {
  "kernelspec": {
   "display_name": "Python 3",
   "language": "python",
   "name": "python3"
  },
  "language_info": {
   "codemirror_mode": {
    "name": "ipython",
    "version": 3
   },
   "file_extension": ".py",
   "mimetype": "text/x-python",
   "name": "python",
   "nbconvert_exporter": "python",
   "pygments_lexer": "ipython3",
   "version": "3.8.16"
  }
 },
 "nbformat": 4,
 "nbformat_minor": 5
}
