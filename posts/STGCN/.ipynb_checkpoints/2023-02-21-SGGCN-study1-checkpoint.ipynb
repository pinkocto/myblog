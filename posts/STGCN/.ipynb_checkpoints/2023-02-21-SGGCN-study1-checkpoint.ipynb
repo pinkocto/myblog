{
 "cells": [
  {
   "cell_type": "raw",
   "id": "0f8a679e-c28f-4ff0-a882-2978939be067",
   "metadata": {},
   "source": [
    "---\n",
    "title: \"STGCN 튜토리얼 따라가기\"\n",
    "author: \"jiyun Lim\"\n",
    "date: \"02/20/2023\"\n",
    "categories:\n",
    "  - STGCN\n",
    "  - BASIC\n",
    "---"
   ]
  },
  {
   "cell_type": "markdown",
   "id": "5a6541d0-264e-4411-9af7-bb09374a6176",
   "metadata": {
    "jp-MarkdownHeadingCollapsed": true,
    "tags": []
   },
   "source": [
    "# ref\n",
    "- https://miruetoto.github.io/yechan3/posts/3_Researches/STGCN/2022-12-29-STGCN-tutorial.html"
   ]
  },
  {
   "cell_type": "markdown",
   "id": "06cae4f4-1966-4b98-b3cd-6a820643407e",
   "metadata": {},
   "source": [
    "# STGCN\n",
    "DNN $\\to$ CNN $\\to$ GCN $\\to$ STGCN (순환망 + GCN)\n",
    "\n",
    "- GCN : Graph Convolutional Network\n",
    "- STGCN: Spatio Temporal Graph Convolutional Networks"
   ]
  },
  {
   "cell_type": "markdown",
   "id": "5dc5ba3a-f60f-4b78-a6ce-052aa4f4478e",
   "metadata": {},
   "source": [
    "- GCN?\n",
    "- 그래프 시그널?\n",
    "- STGCN layer?\n",
    "- STGCN dataset?\n",
    "으아아아아앙아아ㅏㄱ "
   ]
  },
  {
   "cell_type": "markdown",
   "id": "9725ac65-2655-4670-9bb4-3b62149079fa",
   "metadata": {},
   "source": [
    "## imports"
   ]
  },
  {
   "cell_type": "code",
   "execution_count": 1,
   "id": "feeb354f-c9b3-41f8-b81e-e5c3334685d1",
   "metadata": {},
   "outputs": [],
   "source": [
    "# 일반적인 모듈\n",
    "import numpy as np\n",
    "import matplotlib.pyplot as plt\n",
    "import networkx as nx # 그래프 시그널 시각화를 위한 모듈\n",
    "from tqdm import tqdm # for문의 진행 상태 확인\n",
    "\n",
    "# 파이토치 관련\n",
    "import torch\n",
    "import torch.nn.functional as F\n",
    "\n",
    "\n",
    "# PyG 관련\n",
    "from torch_geometric.data import Data # 그래프 자료를 만들기 위한 클래스\n",
    "\n",
    "\n",
    "# STGCN 관련\n",
    "import torch_geometric_temporal\n",
    "from torch_geometric_temporal.nn.recurrent import GConvGRU\n",
    "from torch_geometric_temporal.signal import temporal_signal_split # STGCN dataset을 train/test set으로 분리"
   ]
  },
  {
   "cell_type": "markdown",
   "id": "57ae92c5-92f1-4b3d-b328-008d0387bbea",
   "metadata": {},
   "source": [
    "`-` STGCN의 학습을 위한 클래스 선언"
   ]
  },
  {
   "cell_type": "code",
   "execution_count": 3,
   "id": "466375da-0092-48c2-8542-43c141ae20c1",
   "metadata": {},
   "outputs": [],
   "source": [
    "class RecurrentGCN(torch.nn.Module):\n",
    "    def __init__(self, node_features, filters):\n",
    "        super(RecurrentGCN, self).__init__()\n",
    "        self.recurrent = GConvGRU(node_features, filters, 2)\n",
    "        self.linear = torch.nn.Linear(filters, 1)\n",
    "\n",
    "    def forward(self, x, edge_index, edge_weight):\n",
    "        h = self.recurrent(x, edge_index, edge_weight)\n",
    "        h = F.relu(h)\n",
    "        h = self.linear(h)\n",
    "        return h"
   ]
  },
  {
   "cell_type": "markdown",
   "id": "521d19bd-9d9e-48a9-8b1d-03e1b6e1b449",
   "metadata": {},
   "source": [
    "## notations of STGCN"
   ]
  },
  {
   "cell_type": "markdown",
   "id": "dc45a289-639e-4e54-b508-f5704e9810ff",
   "metadata": {},
   "source": [
    "`-` 시계열: each $t$ 에에 대한 observation이 하나의 값 (혹은 벡터)"
   ]
  },
  {
   "cell_type": "markdown",
   "id": "2d2a359c-b349-4d36-b44a-8d3b797ed08e",
   "metadata": {},
   "source": [
    "`-` STGCN setting에서는 each $t$ 에 대한 observation이 graph"
   ]
  },
  {
   "cell_type": "markdown",
   "id": "9ca7ee75-e10e-4c84-a5cb-7ed5803233b9",
   "metadata": {},
   "source": [
    "## dataset, dataloaders"
   ]
  },
  {
   "cell_type": "markdown",
   "id": "94f33434-34cc-41e3-8d62-b30727b0c596",
   "metadata": {},
   "source": [
    "### PyG의 Data 자료형"
   ]
  },
  {
   "cell_type": "markdown",
   "id": "d9ad80e0-7e0f-4bf5-890f-df6314c3a865",
   "metadata": {},
   "source": [
    "(예제) 아래와 같은 그래프 자료를 고려하자."
   ]
  },
  {
   "cell_type": "markdown",
   "id": "34d720ab-439b-4a02-98e3-ac579e6121b3",
   "metadata": {},
   "source": [
    "We show a simple example of an unweighted and undirected graph with three nodes and four edges. Each node contains exactly one feature"
   ]
  },
  {
   "cell_type": "markdown",
   "id": "a9c9efa0-d16d-4a15-adb4-38d7f91310b3",
   "metadata": {},
   "source": [
    "![](https://pytorch-geometric.readthedocs.io/en/latest/_images/graph.svg)"
   ]
  },
  {
   "cell_type": "markdown",
   "id": "ce1398db-9f33-49b5-89b8-f9a3b6455244",
   "metadata": {},
   "source": [
    "이러한 자료형은 아래와 같은 형식으로 저장한다."
   ]
  },
  {
   "cell_type": "code",
   "execution_count": 12,
   "id": "5aa3a406-e339-4556-92b3-36b5156fa0f9",
   "metadata": {},
   "outputs": [],
   "source": [
    "edge_index = torch.tensor([[0, 1, 1, 2],\n",
    "                           [1, 0, 2, 1]], dtype = torch.long)  # 4 edges\n",
    "x  = torch.tensor([[-1], [0], [1]], dtype = torch.float) # 3 nodes\n",
    "data = Data(x=x, edge_index=edge_index) # Data는 그래프자료형을 만드는 클래스"
   ]
  },
  {
   "cell_type": "code",
   "execution_count": 16,
   "id": "4a0ec0f8-c74a-4416-973e-1d6884e508df",
   "metadata": {},
   "outputs": [
    {
     "data": {
      "text/plain": [
       "Data(x=[3, 1], edge_index=[2, 4])"
      ]
     },
     "execution_count": 16,
     "metadata": {},
     "output_type": "execute_result"
    }
   ],
   "source": [
    "data"
   ]
  },
  {
   "cell_type": "markdown",
   "id": "5d11de26-6fe5-4d00-806b-797555bca6ef",
   "metadata": {},
   "source": [
    "- **x** : $3\\times1$ 크기의 행렬 $\\to$ 3개의 노드와 각 노드는 단일 값을 가진다.\n",
    "- **edge_index** : $2 \\times 4$ 크기의 행렬 $\\to$ $4$개의 엣지들 (양방향 그래프)"
   ]
  },
  {
   "cell_type": "code",
   "execution_count": 13,
   "id": "a076e7b6-8533-40b3-b2cd-169d90b74a85",
   "metadata": {},
   "outputs": [
    {
     "data": {
      "text/plain": [
       "torch_geometric.data.data.Data"
      ]
     },
     "execution_count": 13,
     "metadata": {},
     "output_type": "execute_result"
    }
   ],
   "source": [
    "type(data)"
   ]
  },
  {
   "cell_type": "code",
   "execution_count": 14,
   "id": "04fe1f72-44fe-4bb5-8037-53b8ebe68c73",
   "metadata": {},
   "outputs": [
    {
     "data": {
      "text/plain": [
       "tensor([[-1.],\n",
       "        [ 0.],\n",
       "        [ 1.]])"
      ]
     },
     "execution_count": 14,
     "metadata": {},
     "output_type": "execute_result"
    }
   ],
   "source": [
    "data.x # 노드의 특징 행렬"
   ]
  },
  {
   "cell_type": "code",
   "execution_count": 15,
   "id": "43c8cde2-2510-498e-8aca-3507784c24c3",
   "metadata": {},
   "outputs": [
    {
     "data": {
      "text/plain": [
       "tensor([[0, 1, 1, 2],\n",
       "        [1, 0, 2, 1]])"
      ]
     },
     "execution_count": 15,
     "metadata": {},
     "output_type": "execute_result"
    }
   ],
   "source": [
    "data.edge_index # 그래프 연결성"
   ]
  },
  {
   "cell_type": "code",
   "execution_count": 23,
   "id": "5b199c6c-f02b-4fc3-865e-6d440c893b15",
   "metadata": {},
   "outputs": [
    {
     "data": {
      "text/plain": [
       "4"
      ]
     },
     "execution_count": 23,
     "metadata": {},
     "output_type": "execute_result"
    }
   ],
   "source": [
    "data.num_edges # edge 총 갯수"
   ]
  },
  {
   "cell_type": "code",
   "execution_count": 24,
   "id": "e4ef8b7a-327b-4b6c-a286-a82101f22c68",
   "metadata": {},
   "outputs": [
    {
     "data": {
      "text/plain": [
       "False"
      ]
     },
     "execution_count": 24,
     "metadata": {},
     "output_type": "execute_result"
    }
   ],
   "source": [
    "data.is_directed() # 그래프 방향성 여부 확인"
   ]
  },
  {
   "cell_type": "markdown",
   "id": "f102746c-15a7-4e33-a311-81f02bcc53e3",
   "metadata": {},
   "source": [
    "## PyTorch Geometric Temporal 의 자료형\n",
    "> ref: [PyTorch Geomatric Temporal Signal](https://pytorch-geometric-temporal.readthedocs.io/en/latest/modules/signal.html#torch_geometric_temporal.signal.static_graph_temporal_signal.StaticGraphTemporalSignal)"
   ]
  },
  {
   "cell_type": "markdown",
   "id": "2f1b6ba2-c76b-4289-9f59-8fcb90eb2012",
   "metadata": {},
   "source": [
    "아래의 클래스들 중 하나를 이용하여 만든다."
   ]
  },
  {
   "cell_type": "code",
   "execution_count": 17,
   "id": "808f9a3b-ef1f-48e9-a20f-4dd548b52019",
   "metadata": {},
   "outputs": [
    {
     "data": {
      "text/plain": [
       "torch_geometric_temporal.signal.dynamic_hetero_graph_static_signal.DynamicHeteroGraphStaticSignal"
      ]
     },
     "execution_count": 17,
     "metadata": {},
     "output_type": "execute_result"
    }
   ],
   "source": [
    "## Temporal Signal Iterators\n",
    "torch_geometric_temporal.signal.StaticGraphTemporalSignal\n",
    "torch_geometric_temporal.signal.DynamicGraphTemporalSignal\n",
    "torch_geometric_temporal.signal.DynamicGraphStaticSignal\n",
    "\n",
    "## Heterogeneous Temporal Signal Iterators\n",
    "torch_geometric_temporal.signal.StaticHeteroGraphTemporalSignal\n",
    "torch_geometric_temporal.signal.DynamicHeteroGraphTemporalSignal\n",
    "torch_geometric_temporal.signal.DynamicHeteroGraphStaticSignal"
   ]
  },
  {
   "cell_type": "markdown",
   "id": "9a9f32cd-e85c-472a-8631-cff1ce7c8d66",
   "metadata": {},
   "source": [
    "이 중 \"Heterogeneous Temporal Signal\"은 우리가 관심이 있는 신호가 아님로 사실상 아래 3가지만 고려하면 된다."
   ]
  },
  {
   "cell_type": "markdown",
   "id": "cf093b40-388e-43fe-a3a5-80197d74688a",
   "metadata": {},
   "source": [
    "- `torch_geometric_temporal.signal.StaticGraphTemporalSignal`\n",
    "- `torch_geometric_temporal.signal.DynamicGraphTemporalSignal`\n",
    "- `torch_geometric_temporal.signal.DynamicGraphStaticSignal`"
   ]
  },
  {
   "cell_type": "markdown",
   "id": "ec931b00-ff59-401a-9d5e-ecac2a14d763",
   "metadata": {},
   "source": [
    "여기에서 `StaticGraphTemporalSignal` 는 시간에 따라서 그래프 구조가 일정한 경우, 즉 ${\\cal G}_t=\\{{\\cal V},{\\cal E}\\}$ 와 같은 구조를 의미한다."
   ]
  },
  {
   "cell_type": "markdown",
   "id": "bf6ff354-684c-493e-90f5-d87e71885cd7",
   "metadata": {},
   "source": [
    "#### (예제1) StaticGraphTemporalSignal을 이용하여 데이터 셋 만들기"
   ]
  },
  {
   "cell_type": "markdown",
   "id": "6e8dc398-cc16-46e0-acf3-61a33d6348d0",
   "metadata": {},
   "source": [
    "`-` json data $\\to$ dict"
   ]
  },
  {
   "cell_type": "code",
   "execution_count": 18,
   "id": "18b4896c-afab-435e-aa3c-71ba5f018d24",
   "metadata": {},
   "outputs": [],
   "source": [
    "import json\n",
    "import urllib"
   ]
  },
  {
   "cell_type": "code",
   "execution_count": 19,
   "id": "da3f7b82-96f7-4eb5-b287-b8729713149f",
   "metadata": {},
   "outputs": [],
   "source": [
    "url = \"https://raw.githubusercontent.com/benedekrozemberczki/pytorch_geometric_temporal/master/dataset/chickenpox.json\"\n",
    "data_dict = json.loads(urllib.request.urlopen(url).read())\n",
    "# data_dict 출력이 김"
   ]
  },
  {
   "cell_type": "code",
   "execution_count": 21,
   "id": "226d3160-5992-42eb-8c65-be2869c43104",
   "metadata": {},
   "outputs": [
    {
     "data": {
      "text/plain": [
       "dict_keys(['edges', 'node_ids', 'FX'])"
      ]
     },
     "execution_count": 21,
     "metadata": {},
     "output_type": "execute_result"
    }
   ],
   "source": [
    "data_dict.keys()"
   ]
  },
  {
   "cell_type": "markdown",
   "id": "1cea8954-15b3-42e7-8a88-1ce4f04844cd",
   "metadata": {},
   "source": [
    "`-` 살펴보기"
   ]
  },
  {
   "cell_type": "code",
   "execution_count": 22,
   "id": "352682cc-2686-4452-a173-746e72c60a33",
   "metadata": {},
   "outputs": [
    {
     "data": {
      "text/plain": [
       "array([[ 0,  0,  0,  0,  0,  0,  0,  1,  1,  1,  1,  2,  2,  2,  2,  3,\n",
       "         3,  3,  3,  3,  3,  4,  4,  5,  5,  5,  5,  6,  6,  6,  6,  6,\n",
       "         6,  6,  7,  7,  7,  7,  8,  8,  8,  8,  8,  9,  9,  9,  9,  9,\n",
       "        10, 10, 10, 10, 10, 10, 10, 10, 11, 11, 11, 11, 11, 12, 12, 12,\n",
       "        12, 13, 13, 13, 13, 13, 13, 13, 13, 14, 14, 14, 14, 14, 14, 15,\n",
       "        15, 15, 16, 16, 16, 16, 16, 17, 17, 17, 17, 18, 18, 18, 18, 18,\n",
       "        18, 18, 19, 19, 19, 19],\n",
       "       [10,  6, 13,  1,  0,  5, 16,  0, 16,  1, 14, 10,  8,  2,  5,  8,\n",
       "        15, 12,  9, 10,  3,  4, 13,  0, 10,  2,  5,  0, 16,  6, 14, 13,\n",
       "        11, 18,  7, 17, 11, 18,  3,  2, 15,  8, 10,  9, 13,  3, 12, 10,\n",
       "         5,  9,  8,  3, 10,  2, 13,  0,  6, 11,  7, 13, 18,  3,  9, 13,\n",
       "        12, 13,  9,  6,  4, 12,  0, 11, 10, 18, 19,  1, 14,  6, 16,  3,\n",
       "        15,  8, 16, 14,  1,  0,  6,  7, 19, 17, 18, 14, 18, 17,  7,  6,\n",
       "        19, 11, 18, 14, 19, 17]])"
      ]
     },
     "execution_count": 22,
     "metadata": {},
     "output_type": "execute_result"
    }
   ],
   "source": [
    "np.array(data_dict['edges']).T"
   ]
  },
  {
   "cell_type": "code",
   "execution_count": null,
   "id": "856d74db-ae5f-486e-99af-5e40f67bee93",
   "metadata": {},
   "outputs": [],
   "source": []
  }
 ],
 "metadata": {
  "kernelspec": {
   "display_name": "Python 3",
   "language": "python",
   "name": "python3"
  },
  "language_info": {
   "codemirror_mode": {
    "name": "ipython",
    "version": 3
   },
   "file_extension": ".py",
   "mimetype": "text/x-python",
   "name": "python",
   "nbconvert_exporter": "python",
   "pygments_lexer": "ipython3",
   "version": "3.8.16"
  }
 },
 "nbformat": 4,
 "nbformat_minor": 5
}
