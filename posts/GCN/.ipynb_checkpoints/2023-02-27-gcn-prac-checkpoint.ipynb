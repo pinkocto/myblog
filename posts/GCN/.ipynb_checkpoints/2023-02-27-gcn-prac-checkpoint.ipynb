{
 "cells": [
  {
   "cell_type": "raw",
   "id": "798d3993-460c-4c36-a91a-44430c409150",
   "metadata": {},
   "source": [
    "---\n",
    "title: \"GCN Implementation\"\n",
    "author: \"jiyun Lim\"\n",
    "date: \"02/27/2023\"\n",
    "categories:\n",
    "  - GCN\n",
    "  - Implementation\n",
    "---"
   ]
  },
  {
   "cell_type": "markdown",
   "id": "11414d1f-6881-4e4b-ba52-54fc2a16a25c",
   "metadata": {},
   "source": [
    "# Graph Convolutional Networks\n",
    "> cora dataset"
   ]
  },
  {
   "cell_type": "code",
   "execution_count": 28,
   "id": "441840a3-b949-4093-91b3-b3e43b03a9fc",
   "metadata": {},
   "outputs": [],
   "source": [
    "import torch_geometric"
   ]
  },
  {
   "cell_type": "code",
   "execution_count": 41,
   "id": "f69ca223-30e7-4550-a272-45931897de52",
   "metadata": {},
   "outputs": [],
   "source": [
    "from typing import Callable, List, Optional, Tuple\n",
    "import matplotlib.pyplot as plt\n",
    "import numpy as np\n",
    "import torch\n",
    "import torch.nn.functional as F\n",
    "import torch_geometric.transforms as T\n",
    "from torch import Tensor\n",
    "from torch.optim import Optimizer\n",
    "from torch_geometric.data import Data\n",
    "from torch_geometric.datasets import Planetoid\n",
    "from torch_geometric.nn import GCNConv\n",
    "# from torch_geometric.utils import accuracy\n",
    "from typing_extensions import Literal, TypedDict"
   ]
  },
  {
   "cell_type": "markdown",
   "id": "3a6add80-2112-4b31-a904-c98fd526659b",
   "metadata": {},
   "source": [
    "The Cora dataset consists of 2708 scientific publications classified into one of seven classes. The citation network consists of 5429 links. Each publication in the dataset is described by a 0/1-valued word vector indicating the absence/presence of the corresponding word from the dictionary. The dictionary consists of 1433 unique words."
   ]
  },
  {
   "cell_type": "code",
   "execution_count": 42,
   "id": "53536768-8354-40ba-8d6c-e52e28e0e18d",
   "metadata": {},
   "outputs": [
    {
     "name": "stderr",
     "output_type": "stream",
     "text": [
      "Downloading https://github.com/kimiyoung/planetoid/raw/master/data/ind.cora.x\n",
      "Downloading https://github.com/kimiyoung/planetoid/raw/master/data/ind.cora.tx\n",
      "Downloading https://github.com/kimiyoung/planetoid/raw/master/data/ind.cora.allx\n",
      "Downloading https://github.com/kimiyoung/planetoid/raw/master/data/ind.cora.y\n",
      "Downloading https://github.com/kimiyoung/planetoid/raw/master/data/ind.cora.ty\n",
      "Downloading https://github.com/kimiyoung/planetoid/raw/master/data/ind.cora.ally\n",
      "Downloading https://github.com/kimiyoung/planetoid/raw/master/data/ind.cora.graph\n",
      "Downloading https://github.com/kimiyoung/planetoid/raw/master/data/ind.cora.test.index\n",
      "Processing...\n",
      "Done!\n"
     ]
    }
   ],
   "source": [
    "dataset = Planetoid('./cora', name='Cora')"
   ]
  },
  {
   "cell_type": "code",
   "execution_count": 54,
   "id": "a65ffa0c-bb7f-4824-a321-cc7202b4cbad",
   "metadata": {},
   "outputs": [
    {
     "name": "stdout",
     "output_type": "stream",
     "text": [
      "Dataset: Cora\n",
      "Num. nodes: 2708(train=140,val=500, test=1000, other=1068)\n",
      "Num. edges: 5278\n",
      "Num. node features: 1433\n",
      "Num. classes: 7\n",
      "Dataaset len.: 1\n"
     ]
    }
   ],
   "source": [
    "num_nodes = dataset.data.num_nodes\n",
    "num_edges = dataset.data.num_edges // 2\n",
    "train_len = dataset[0].train_mask.sum()\n",
    "val_len = dataset[0].val_mask.sum()\n",
    "test_len = dataset[0].test_mask.sum()\n",
    "other_len = num_nodes - train_len - val_len - test_len\n",
    "print(f'Dataset: {dataset.name}')\n",
    "print(f'Num. nodes: {num_nodes}(train={train_len},val={val_len}, test={test_len}, other={other_len})')\n",
    "print(f'Num. edges: {num_edges}')\n",
    "print(f'Num. node features: {dataset.num_node_features}')\n",
    "print(f'Num. classes: {dataset.num_classes}')\n",
    "print(f'Dataaset len.: {dataset.len()}')"
   ]
  },
  {
   "cell_type": "code",
   "execution_count": 79,
   "id": "6fa20017-d34a-4c8a-962a-efd4a3dd133b",
   "metadata": {},
   "outputs": [],
   "source": [
    "class GCN(torch.nn.Module):\n",
    "    def __init__(\n",
    "        self,\n",
    "        num_node_features: int,\n",
    "        num_classes: int,\n",
    "        hidden_dim: int = 16,\n",
    "        dropout_rate: float = 0.5,\n",
    "    ) -> None:\n",
    "        super().__init__()\n",
    "        self.dropout1 = torch.nn.Dropout(dropout_rate)\n",
    "        self.conv1 = GCNConv(num_node_features, hidden_dim)\n",
    "        self.relu = torch.nn.ReLU(inplace=True)\n",
    "        self.dropout2 = torch.nn.Dropout(dropout_rate)\n",
    "        self.conv2 = GCNConv(hidden_dim, num_classes)\n",
    "        \n",
    "    def forward(self, x: Tensor, edge_index: Tensor) -> torch.Tensor:\n",
    "        x = self.dropout1(x)\n",
    "        x = self.conv1(x, edge_index)\n",
    "        x = self.relu(x)\n",
    "        x = self.dropout2(x)\n",
    "        x = self.conv2(x, edge_index)\n",
    "        return x"
   ]
  },
  {
   "cell_type": "code",
   "execution_count": 80,
   "id": "e21dfcd7-3657-48a0-a6a0-b8e9a3e9bfb1",
   "metadata": {},
   "outputs": [
    {
     "data": {
      "text/plain": [
       "GCN(\n",
       "  (dropout1): Dropout(p=0.5, inplace=False)\n",
       "  (conv1): GCNConv(1433, 16)\n",
       "  (relu): ReLU(inplace=True)\n",
       "  (dropout2): Dropout(p=0.5, inplace=False)\n",
       "  (conv2): GCNConv(16, 7)\n",
       ")"
      ]
     },
     "execution_count": 80,
     "metadata": {},
     "output_type": "execute_result"
    }
   ],
   "source": [
    "GCN(dataset.num_node_features, dataset.num_classes, 16, 0.5)"
   ]
  },
  {
   "cell_type": "code",
   "execution_count": 86,
   "id": "445b321d-a17c-4ff8-9c6c-1ab90281340d",
   "metadata": {},
   "outputs": [
    {
     "name": "stdout",
     "output_type": "stream",
     "text": [
      "Sum of row values without normalization: tensor([ 9., 23., 19.,  ..., 18., 14., 13.])\n",
      "Sum of row values with normalization: tensor([1.0000, 1.0000, 1.0000,  ..., 1.0000, 1.0000, 1.0000])\n"
     ]
    }
   ],
   "source": [
    "dataset = Planetoid('./cora', name='Cora')\n",
    "print(f'Sum of row values without normalization: {dataset[0].x.sum(dim=-1)}')\n",
    "\n",
    "dataset = Planetoid('./cora', name='Cora', transform=T.NormalizeFeatures())\n",
    "print(f'Sum of row values with normalization: {dataset[0].x.sum(dim=-1)}')"
   ]
  },
  {
   "cell_type": "markdown",
   "id": "e3d50a07-b3d5-46d0-b51c-f85fe8bb548f",
   "metadata": {},
   "source": [
    "## Training "
   ]
  },
  {
   "cell_type": "code",
   "execution_count": 87,
   "id": "85bcdc8e-ab71-47d6-93b0-31fccd02aa95",
   "metadata": {},
   "outputs": [],
   "source": [
    "LossFn = Callable[[Tensor, Tensor], Tensor]\n",
    "Stage  = Literal['train','val','test']\n",
    "\n",
    "def train_step(\n",
    "    model: torch.nn.Module, date: Data, optimizer: torch.optim.Optimizer, loss_fn:LossFn\n",
    ") -> Tuple[float, float]:\n",
    "    model.train()\n",
    "    optimizer.zero_grad()\n",
    "    mask = data.train_mask\n",
    "    logits = model(data.x, data.edge_index)[mask]\n",
    "    preds = logits.argmax(dim=1)\n",
    "    y = data.y[mask]\n",
    "    loss = loss_fn(logits, y)\n",
    "    # L2 regularization to the first layer only\n",
    "    \n",
    "    acc = accuracy(preds, y)\n",
    "    loss.backward()\n",
    "    optimizer.step()\n",
    "    return loss.item(), acc\n",
    "\n",
    "@torch.no_grad()\n",
    "def eval_step(model: torch.nn.Module, data: Data, loss_fn:LossFn, stage: Stage) -> Tuple[float,float]:\n",
    "    model.eval()\n",
    "    mask = getattr(data, f'{stage}_mask')\n",
    "    logits = model(data.x, data.edge_index)[mask]\n",
    "    preds = logits.argmax(dim=1)\n",
    "    y = data.y[mask]\n",
    "    loss = loss_fn(logits, y)\n",
    "    \n",
    "    acc = accuracy(preds, y)\n",
    "    return loss.item(), acc"
   ]
  },
  {
   "cell_type": "code",
   "execution_count": 88,
   "id": "1f2f9168-d1dc-47a8-b953-096cf679ccc6",
   "metadata": {},
   "outputs": [],
   "source": [
    "class HistoryDict(TypedDict):\n",
    "    loss: List[float]\n",
    "    acc: List[float]\n",
    "    val_loss: List[float]\n",
    "    val_acc: List[float]\n",
    "    \n",
    "def train(\n",
    "    model: torch.nn.Module,\n",
    "    date: Data,\n",
    "    optimizer: torch.optim.Optimizer,\n",
    "    loss_fn: LossFn = torch.nn.CrossEntropyLoss(),\n",
    "    max_epochs: int=200,\n",
    "    early_stopping: int=10,\n",
    "    print_interval: int=20,\n",
    "    verbose: bool=True,\n",
    ") -> HistoryDict:\n",
    "    history = {'loss':[], 'val_loss':[], 'acc_loss':[], 'val_acc':[]}\n",
    "    for epoch in range(max_epochs):\n",
    "        loss, acc = train_step(model, data, optimizer, loss_fn)\n",
    "        val_loss, val_acc = eval_step(model, data, loss_fn, 'val')\n",
    "        history['loss'].append(loss)\n",
    "        history['acc'].append(acc)\n",
    "        history['val_loss'].append(val_loss)\n",
    "        history['val_acc'].append(val_acc)\n",
    "        \n",
    "        if epoch > early_stopping and val_loss > np.mean(history['val_loss'][-(early_stopping + 1):-1]):\n",
    "            if verbose:\n",
    "                print('\\nEarly stopping...')\n",
    "            break\n",
    "            \n",
    "        if verbose and epoch % print_interval == 0:\n",
    "            print(f'nEpoch: {epoch}\\n--------------')\n",
    "            print(f'Train loss: {loss:.4f} | Train acc: {acc:.4f}')\n",
    "            print(f' Val loss: {loss:.4f} | Val acc: {val_acc:.4f}')\n",
    "    \n",
    "    test_loss, test_acc = eval_step(model, data, loss_fn, 'test')\n",
    "    if verbose:\n",
    "        print(f'nEpoch: {epoch}\\n--------------')\n",
    "        print(f'Train loss: {loss:.4f} | Train acc: {acc:.4f}')\n",
    "        print(f' Val loss: {loss:.4f} | Val acc: {val_acc:.4f}')\n",
    "    return history\n",
    "        "
   ]
  },
  {
   "cell_type": "code",
   "execution_count": 89,
   "id": "0e56eee0-ebba-4637-a301-65289516c449",
   "metadata": {},
   "outputs": [],
   "source": [
    "SEED = 42\n",
    "MAX_EPOCHS = 200\n",
    "LEARNING_RATE = 0.01\n",
    "WEIGHT_DECAY = 5e-4\n",
    "EARLY_STOPPING = 10"
   ]
  },
  {
   "cell_type": "code",
   "execution_count": 90,
   "id": "8adc7475-10f0-43e2-aafa-eeeecac262ef",
   "metadata": {},
   "outputs": [
    {
     "ename": "IndexError",
     "evalue": "Dimension out of range (expected to be in range of [-1, 0], but got 1)",
     "output_type": "error",
     "traceback": [
      "\u001b[0;31m---------------------------------------------------------------------------\u001b[0m",
      "\u001b[0;31mIndexError\u001b[0m                                Traceback (most recent call last)",
      "Cell \u001b[0;32mIn[90], line 7\u001b[0m\n\u001b[1;32m      5\u001b[0m data \u001b[38;5;241m=\u001b[39m dataset[\u001b[38;5;241m0\u001b[39m]\u001b[38;5;241m.\u001b[39mto(device)\n\u001b[1;32m      6\u001b[0m optimizer \u001b[38;5;241m=\u001b[39m torch\u001b[38;5;241m.\u001b[39moptim\u001b[38;5;241m.\u001b[39mAdam(model\u001b[38;5;241m.\u001b[39mparameters(), lr\u001b[38;5;241m=\u001b[39mLEARNING_RATE, weight_decay\u001b[38;5;241m=\u001b[39mWEIGHT_DECAY)\n\u001b[0;32m----> 7\u001b[0m history \u001b[38;5;241m=\u001b[39m \u001b[43mtrain\u001b[49m\u001b[43m(\u001b[49m\u001b[43mmodel\u001b[49m\u001b[43m,\u001b[49m\u001b[43m \u001b[49m\u001b[43mdata\u001b[49m\u001b[43m,\u001b[49m\u001b[43m \u001b[49m\u001b[43moptimizer\u001b[49m\u001b[43m,\u001b[49m\u001b[43m \u001b[49m\u001b[43mmax_epochs\u001b[49m\u001b[38;5;241;43m=\u001b[39;49m\u001b[43mMAX_EPOCHS\u001b[49m\u001b[43m,\u001b[49m\u001b[43m \u001b[49m\u001b[43mearly_stopping\u001b[49m\u001b[38;5;241;43m=\u001b[39;49m\u001b[43mEARLY_STOPPING\u001b[49m\u001b[43m)\u001b[49m\n",
      "Cell \u001b[0;32mIn[88], line 19\u001b[0m, in \u001b[0;36mtrain\u001b[0;34m(model, date, optimizer, loss_fn, max_epochs, early_stopping, print_interval, verbose)\u001b[0m\n\u001b[1;32m     17\u001b[0m history \u001b[38;5;241m=\u001b[39m {\u001b[38;5;124m'\u001b[39m\u001b[38;5;124mloss\u001b[39m\u001b[38;5;124m'\u001b[39m:[], \u001b[38;5;124m'\u001b[39m\u001b[38;5;124mval_loss\u001b[39m\u001b[38;5;124m'\u001b[39m:[], \u001b[38;5;124m'\u001b[39m\u001b[38;5;124macc_loss\u001b[39m\u001b[38;5;124m'\u001b[39m:[], \u001b[38;5;124m'\u001b[39m\u001b[38;5;124mval_acc\u001b[39m\u001b[38;5;124m'\u001b[39m:[]}\n\u001b[1;32m     18\u001b[0m \u001b[38;5;28;01mfor\u001b[39;00m epoch \u001b[38;5;129;01min\u001b[39;00m \u001b[38;5;28mrange\u001b[39m(max_epochs):\n\u001b[0;32m---> 19\u001b[0m     loss, acc \u001b[38;5;241m=\u001b[39m \u001b[43mtrain_step\u001b[49m\u001b[43m(\u001b[49m\u001b[43mmodel\u001b[49m\u001b[43m,\u001b[49m\u001b[43m \u001b[49m\u001b[43mdata\u001b[49m\u001b[43m,\u001b[49m\u001b[43m \u001b[49m\u001b[43moptimizer\u001b[49m\u001b[43m,\u001b[49m\u001b[43m \u001b[49m\u001b[43mloss_fn\u001b[49m\u001b[43m)\u001b[49m\n\u001b[1;32m     20\u001b[0m     val_loss, val_acc \u001b[38;5;241m=\u001b[39m eval_step(model, data, loss_fn, \u001b[38;5;124m'\u001b[39m\u001b[38;5;124mval\u001b[39m\u001b[38;5;124m'\u001b[39m)\n\u001b[1;32m     21\u001b[0m     history[\u001b[38;5;124m'\u001b[39m\u001b[38;5;124mloss\u001b[39m\u001b[38;5;124m'\u001b[39m]\u001b[38;5;241m.\u001b[39mappend(loss)\n",
      "Cell \u001b[0;32mIn[87], line 16\u001b[0m, in \u001b[0;36mtrain_step\u001b[0;34m(model, date, optimizer, loss_fn)\u001b[0m\n\u001b[1;32m     13\u001b[0m loss \u001b[38;5;241m=\u001b[39m loss_fn(logits, y)\n\u001b[1;32m     14\u001b[0m \u001b[38;5;66;03m# L2 regularization to the first layer only\u001b[39;00m\n\u001b[0;32m---> 16\u001b[0m acc \u001b[38;5;241m=\u001b[39m \u001b[43maccuracy\u001b[49m\u001b[43m(\u001b[49m\u001b[43mpreds\u001b[49m\u001b[43m,\u001b[49m\u001b[43m \u001b[49m\u001b[43my\u001b[49m\u001b[43m)\u001b[49m\n\u001b[1;32m     17\u001b[0m loss\u001b[38;5;241m.\u001b[39mbackward()\n\u001b[1;32m     18\u001b[0m optimizer\u001b[38;5;241m.\u001b[39mstep()\n",
      "Cell \u001b[0;32mIn[4], line 61\u001b[0m, in \u001b[0;36maccuracy\u001b[0;34m(output, labels)\u001b[0m\n\u001b[1;32m     60\u001b[0m \u001b[38;5;28;01mdef\u001b[39;00m \u001b[38;5;21maccuracy\u001b[39m(output, labels):\n\u001b[0;32m---> 61\u001b[0m     preds \u001b[38;5;241m=\u001b[39m \u001b[43moutput\u001b[49m\u001b[38;5;241;43m.\u001b[39;49m\u001b[43mmax\u001b[49m\u001b[43m(\u001b[49m\u001b[38;5;241;43m1\u001b[39;49m\u001b[43m)\u001b[49m[\u001b[38;5;241m1\u001b[39m]\u001b[38;5;241m.\u001b[39mtype_as(labels)\n\u001b[1;32m     62\u001b[0m     correct \u001b[38;5;241m=\u001b[39m preds\u001b[38;5;241m.\u001b[39meq(labels)\u001b[38;5;241m.\u001b[39mdouble()\n\u001b[1;32m     63\u001b[0m     correct \u001b[38;5;241m=\u001b[39m correct\u001b[38;5;241m.\u001b[39msum()\n",
      "\u001b[0;31mIndexError\u001b[0m: Dimension out of range (expected to be in range of [-1, 0], but got 1)"
     ]
    }
   ],
   "source": [
    "torch.manual_seed(SEED)\n",
    "device = torch.device('cuda' if torch.cuda.is_available() else 'cpu')\n",
    "\n",
    "model = GCN(dataset.num_node_features, dataset.num_classes).to(device)\n",
    "data = dataset[0].to(device)\n",
    "optimizer = torch.optim.Adam(model.parameters(), lr=LEARNING_RATE, weight_decay=WEIGHT_DECAY)\n",
    "history = train(model, data, optimizer, max_epochs=MAX_EPOCHS, early_stopping=EARLY_STOPPING)"
   ]
  },
  {
   "cell_type": "markdown",
   "id": "7655be52-f6fc-48b5-803e-a893c0148862",
   "metadata": {},
   "source": [
    "- 뭐가 문제지? ㅠㅠㅠ"
   ]
  }
 ],
 "metadata": {
  "kernelspec": {
   "display_name": "Python 3",
   "language": "python",
   "name": "python3"
  },
  "language_info": {
   "codemirror_mode": {
    "name": "ipython",
    "version": 3
   },
   "file_extension": ".py",
   "mimetype": "text/x-python",
   "name": "python",
   "nbconvert_exporter": "python",
   "pygments_lexer": "ipython3",
   "version": "3.8.16"
  }
 },
 "nbformat": 4,
 "nbformat_minor": 5
}
