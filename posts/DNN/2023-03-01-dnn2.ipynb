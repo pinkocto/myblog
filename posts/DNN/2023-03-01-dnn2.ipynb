{
 "cells": [
  {
   "cell_type": "raw",
   "id": "e49a2436-173c-4f1c-95a8-0a4ecdb78ad2",
   "metadata": {},
   "source": [
    "---\n",
    "title: \"딥러닝 기초 (2)\"\n",
    "author: \"jiyun Lim\"\n",
    "date: \"03/01/2023\"\n",
    "categories:\n",
    "  - DNN\n",
    "  - BASIC\n",
    "  - DL2022\n",
    "---"
   ]
  },
  {
   "cell_type": "markdown",
   "id": "ff0f21ff-c327-44ee-ae11-2300cd481f2c",
   "metadata": {},
   "source": [
    "> 회귀분석(2)-- SSE와 MSE, step1의 다른버전 (torch.nn.Linear)"
   ]
  },
  {
   "cell_type": "code",
   "execution_count": 1,
   "id": "1d22fd0a-eff2-4384-8cdd-08899421e72b",
   "metadata": {},
   "outputs": [
    {
     "name": "stderr",
     "output_type": "stream",
     "text": [
      "/home/hankang07/anaconda3/envs/py38/lib/python3.8/site-packages/tqdm/auto.py:22: TqdmWarning: IProgress not found. Please update jupyter and ipywidgets. See https://ipywidgets.readthedocs.io/en/stable/user_install.html\n",
      "  from .autonotebook import tqdm as notebook_tqdm\n"
     ]
    }
   ],
   "source": [
    "import torch\n",
    "import pandas as pd\n",
    "import numpy as np\n",
    "import matplotlib.pyplot as plt "
   ]
  },
  {
   "cell_type": "code",
   "execution_count": 2,
   "id": "658afac4-6903-4391-9b36-5d6004dde83b",
   "metadata": {},
   "outputs": [
    {
     "data": {
      "text/html": [
       "<div>\n",
       "<style scoped>\n",
       "    .dataframe tbody tr th:only-of-type {\n",
       "        vertical-align: middle;\n",
       "    }\n",
       "\n",
       "    .dataframe tbody tr th {\n",
       "        vertical-align: top;\n",
       "    }\n",
       "\n",
       "    .dataframe thead th {\n",
       "        text-align: right;\n",
       "    }\n",
       "</style>\n",
       "<table border=\"1\" class=\"dataframe\">\n",
       "  <thead>\n",
       "    <tr style=\"text-align: right;\">\n",
       "      <th></th>\n",
       "      <th>x</th>\n",
       "      <th>y</th>\n",
       "    </tr>\n",
       "  </thead>\n",
       "  <tbody>\n",
       "    <tr>\n",
       "      <th>0</th>\n",
       "      <td>-2.482113</td>\n",
       "      <td>-8.542024</td>\n",
       "    </tr>\n",
       "    <tr>\n",
       "      <th>1</th>\n",
       "      <td>-2.362146</td>\n",
       "      <td>-6.576713</td>\n",
       "    </tr>\n",
       "    <tr>\n",
       "      <th>2</th>\n",
       "      <td>-1.997295</td>\n",
       "      <td>-5.949576</td>\n",
       "    </tr>\n",
       "    <tr>\n",
       "      <th>3</th>\n",
       "      <td>-1.623936</td>\n",
       "      <td>-4.479364</td>\n",
       "    </tr>\n",
       "    <tr>\n",
       "      <th>4</th>\n",
       "      <td>-1.479192</td>\n",
       "      <td>-4.251570</td>\n",
       "    </tr>\n",
       "    <tr>\n",
       "      <th>...</th>\n",
       "      <td>...</td>\n",
       "      <td>...</td>\n",
       "    </tr>\n",
       "    <tr>\n",
       "      <th>95</th>\n",
       "      <td>2.244400</td>\n",
       "      <td>10.325987</td>\n",
       "    </tr>\n",
       "    <tr>\n",
       "      <th>96</th>\n",
       "      <td>2.393501</td>\n",
       "      <td>12.266493</td>\n",
       "    </tr>\n",
       "    <tr>\n",
       "      <th>97</th>\n",
       "      <td>2.605604</td>\n",
       "      <td>13.098280</td>\n",
       "    </tr>\n",
       "    <tr>\n",
       "      <th>98</th>\n",
       "      <td>2.605658</td>\n",
       "      <td>12.546793</td>\n",
       "    </tr>\n",
       "    <tr>\n",
       "      <th>99</th>\n",
       "      <td>2.663240</td>\n",
       "      <td>13.834002</td>\n",
       "    </tr>\n",
       "  </tbody>\n",
       "</table>\n",
       "<p>100 rows × 2 columns</p>\n",
       "</div>"
      ],
      "text/plain": [
       "           x          y\n",
       "0  -2.482113  -8.542024\n",
       "1  -2.362146  -6.576713\n",
       "2  -1.997295  -5.949576\n",
       "3  -1.623936  -4.479364\n",
       "4  -1.479192  -4.251570\n",
       "..       ...        ...\n",
       "95  2.244400  10.325987\n",
       "96  2.393501  12.266493\n",
       "97  2.605604  13.098280\n",
       "98  2.605658  12.546793\n",
       "99  2.663240  13.834002\n",
       "\n",
       "[100 rows x 2 columns]"
      ]
     },
     "execution_count": 2,
     "metadata": {},
     "output_type": "execute_result"
    }
   ],
   "source": [
    "df = pd.read_csv(\"https://raw.githubusercontent.com/guebin/DL2022/main/posts/II.%20DNN/2022-09-22-regression.csv\") \n",
    "df"
   ]
  },
  {
   "cell_type": "code",
   "execution_count": 16,
   "id": "25cc7f5d-5af1-4bb7-9aed-1970e8766b7b",
   "metadata": {},
   "outputs": [
    {
     "data": {
      "text/plain": [
       "torch.float64"
      ]
     },
     "execution_count": 16,
     "metadata": {},
     "output_type": "execute_result"
    }
   ],
   "source": [
    "torch.tensor(df.x).dtype # 데이터프레임을 불러오면 좀 더 정밀한 저장이 가능한 float64형태로 불러와짐."
   ]
  },
  {
   "cell_type": "code",
   "execution_count": 22,
   "id": "edd62519-ca48-4f51-b7df-ff4e68e68637",
   "metadata": {},
   "outputs": [
    {
     "data": {
      "text/plain": [
       "torch.float32"
      ]
     },
     "execution_count": 22,
     "metadata": {},
     "output_type": "execute_result"
    }
   ],
   "source": [
    "# torch.tensor(df.x,dtype=torch.float32).dtype # 메모리를 아끼기 위해 float32로 저장할 것임.\n",
    "torch.tensor(df.x).float().dtype # 메소드로도 구현되어 있음."
   ]
  },
  {
   "cell_type": "code",
   "execution_count": 23,
   "id": "885a83ff-6eb9-403b-8f2f-7cc32a604586",
   "metadata": {},
   "outputs": [],
   "source": [
    "x= torch.tensor(df.x,dtype=torch.float32).reshape(100,1)\n",
    "y= torch.tensor(df.y,dtype=torch.float32).reshape(100,1)\n",
    "X= torch.tensor([[1]*100,x]).T"
   ]
  },
  {
   "cell_type": "code",
   "execution_count": 24,
   "id": "cdfe96b7-09ba-40ac-886b-af8adae51e73",
   "metadata": {},
   "outputs": [
    {
     "data": {
      "text/plain": [
       "tensor([[-5.],\n",
       "        [10.]], requires_grad=True)"
      ]
     },
     "execution_count": 24,
     "metadata": {},
     "output_type": "execute_result"
    }
   ],
   "source": [
    "What = torch.tensor([[-5.0],[10.0]],requires_grad=True)\n",
    "What"
   ]
  },
  {
   "cell_type": "code",
   "execution_count": 25,
   "id": "4ee88ce2-619c-45f4-8ddc-aa730d526f0a",
   "metadata": {},
   "outputs": [
    {
     "data": {
      "text/plain": [
       "[<matplotlib.lines.Line2D at 0x7fa882ab0700>]"
      ]
     },
     "execution_count": 25,
     "metadata": {},
     "output_type": "execute_result"
    },
    {
     "data": {
      "image/png": "[encoded data removed]",
      "text/plain": [
       "<Figure size 432x288 with 1 Axes>"
      ]
     },
     "metadata": {
      "needs_background": "light"
     },
     "output_type": "display_data"
    }
   ],
   "source": [
    "plt.plot(x,y,'o')\n",
    "#plt.plot(x,-5+10*x,'--')\n",
    "plt.plot(x,X@What.data,'--')  ## 최초의 선!"
   ]
  },
  {
   "cell_type": "markdown",
   "id": "e90cb640-bd49-4d5d-ae5b-8da9fa3637ff",
   "metadata": {},
   "source": [
    "## ver1: loss = sum of squares error"
   ]
  },
  {
   "cell_type": "code",
   "execution_count": 26,
   "id": "64288147-9639-4995-92e0-b58bdb5f3583",
   "metadata": {},
   "outputs": [],
   "source": [
    "alpha = 1/1000\n",
    "What = torch.tensor([[-5.0],[10.0]],requires_grad=True)\n",
    "for epoc in range(30): \n",
    "    # step1: yhat \n",
    "    yhat = X@What \n",
    "    # step2: loss \n",
    "    loss = torch.sum((y-yhat)**2)\n",
    "    # step3: 미분 \n",
    "    loss.backward()\n",
    "    # step4: update \n",
    "    What.data = What.data - alpha * What.grad  # 가중치 업데이트 // # What.grad: 미분계수값 저장되어 있음.\n",
    "    What.grad = None # 가중치 초기화 (깨끗하게!)"
   ]
  },
  {
   "cell_type": "code",
   "execution_count": 29,
   "id": "0d4b3153-8491-43fd-a162-ee3069436353",
   "metadata": {},
   "outputs": [
    {
     "data": {
      "text/plain": [
       "tensor([[2.4290],\n",
       "        [4.0144]], requires_grad=True)"
      ]
     },
     "execution_count": 29,
     "metadata": {},
     "output_type": "execute_result"
    }
   ],
   "source": [
    "What"
   ]
  },
  {
   "cell_type": "code",
   "execution_count": 30,
   "id": "047b3ec4-0c9d-4a1c-a05e-e6da255dbcc7",
   "metadata": {},
   "outputs": [
    {
     "data": {
      "text/plain": [
       "[<matplotlib.lines.Line2D at 0x7fa8823d0a60>]"
      ]
     },
     "execution_count": 30,
     "metadata": {},
     "output_type": "execute_result"
    },
    {
     "data": {
      "image/png": "[encoded data removed]",
      "text/plain": [
       "<Figure size 432x288 with 1 Axes>"
      ]
     },
     "metadata": {
      "needs_background": "light"
     },
     "output_type": "display_data"
    }
   ],
   "source": [
    "plt.plot(x,y,'o') \n",
    "plt.plot(x,X@What.data,'--')"
   ]
  },
  {
   "cell_type": "markdown",
   "id": "fc902fe5-9d67-4033-a8c5-2f7f0a377fa2",
   "metadata": {},
   "source": [
    "- note: 왜 What = What - alpha*What.grad 는 안되는지?"
   ]
  },
  {
   "cell_type": "markdown",
   "id": "26851594-92ba-40aa-98c0-8f5d5cd6ed61",
   "metadata": {},
   "source": [
    "## ver2: loss = mean squared error = MSE "
   ]
  },
  {
   "cell_type": "code",
   "execution_count": 31,
   "id": "8e6acc86-7c89-40d4-a85f-ba0e85e47e37",
   "metadata": {},
   "outputs": [],
   "source": [
    "alpha = 1/10\n",
    "What = torch.tensor([[-5.0],[10.0]],requires_grad=True)\n",
    "for epoc in range(30): \n",
    "    # step1: yhat \n",
    "    yhat = X@What \n",
    "    # step2: loss \n",
    "    loss = torch.mean((y-yhat)**2)\n",
    "    # step3: 미분 \n",
    "    loss.backward()\n",
    "    # step4: update \n",
    "    What.data = What.data - alpha * What.grad \n",
    "    What.grad = None "
   ]
  },
  {
   "cell_type": "code",
   "execution_count": 32,
   "id": "30f62f30-8e62-4397-ba2d-f43e9df1b3da",
   "metadata": {},
   "outputs": [
    {
     "data": {
      "text/plain": [
       "tensor([[2.4290],\n",
       "        [4.0144]], requires_grad=True)"
      ]
     },
     "execution_count": 32,
     "metadata": {},
     "output_type": "execute_result"
    }
   ],
   "source": [
    "What"
   ]
  },
  {
   "cell_type": "markdown",
   "id": "cc12e3a8-aa1e-4ef1-9ae7-5681e236a042",
   "metadata": {},
   "source": [
    "# step1의 다른버전: torch.nn.Linear()"
   ]
  },
  {
   "cell_type": "markdown",
   "id": "339afb30-83c3-447b-af30-7b754adb2653",
   "metadata": {},
   "source": [
    "## ver1: bias=True"
   ]
  },
  {
   "cell_type": "markdown",
   "id": "510ec311-05ab-4518-bd2c-51c15eddcccf",
   "metadata": {},
   "source": [
    "> **net = torch.nn.Linear(1,1,bias=True)**"
   ]
  },
  {
   "cell_type": "markdown",
   "id": "fc73f5ff-af0e-4629-aa92-ad470776ad17",
   "metadata": {},
   "source": [
    "$X$가 수식적이 변환을 거처서 $\\hat{y}$라는게 나오게 될텐데 그것을 네트워크라고 정의한다. \n",
    "```\n",
    "X -> yhat\n",
    "yhat = w0 + w1*x\n",
    "net(x) = yhat ## 이런 구조로 만들 것임.\n",
    "```\n",
    "w0 + w1*x같은 수식을 매번 안쳐도 됨!! $\\to$ 파이토치에서 구현이 되어있음!"
   ]
  },
  {
   "cell_type": "code",
   "execution_count": 34,
   "id": "7955170a-d851-45c6-862f-d7e1ffb4e72f",
   "metadata": {},
   "outputs": [],
   "source": [
    "# torch.nn.Linear?"
   ]
  },
  {
   "cell_type": "code",
   "execution_count": 37,
   "id": "ffd1d746-0b46-40a2-b5f9-d2c183a5bf06",
   "metadata": {},
   "outputs": [],
   "source": [
    "torch.manual_seed(43052)\n",
    "net = torch.nn.Linear(in_features=1, out_features=1, bias=True) "
   ]
  },
  {
   "cell_type": "code",
   "execution_count": 40,
   "id": "038156a3-3007-4ab2-b5e3-78ced88d3b59",
   "metadata": {},
   "outputs": [
    {
     "data": {
      "text/plain": [
       "Linear(in_features=1, out_features=1, bias=True)"
      ]
     },
     "execution_count": 40,
     "metadata": {},
     "output_type": "execute_result"
    }
   ],
   "source": [
    "net"
   ]
  },
  {
   "cell_type": "markdown",
   "id": "d76a7ca0-759e-4d0f-9457-10ab67c4ef24",
   "metadata": {},
   "source": [
    "`-` 초기 plot1 (네트워크로 만듦)"
   ]
  },
  {
   "cell_type": "code",
   "execution_count": 41,
   "id": "ba6ac603-1a6c-4e1f-9138-13a62995dac7",
   "metadata": {},
   "outputs": [
    {
     "data": {
      "text/plain": [
       "[<matplotlib.lines.Line2D at 0x7fa88274fd00>]"
      ]
     },
     "execution_count": 41,
     "metadata": {},
     "output_type": "execute_result"
    },
    {
     "data": {
      "image/png": "[encoded data removed]",
      "text/plain": [
       "<Figure size 432x288 with 1 Axes>"
      ]
     },
     "metadata": {
      "needs_background": "light"
     },
     "output_type": "display_data"
    }
   ],
   "source": [
    "plt.plot(x,y,'o')\n",
    "plt.plot(x,net(x).data,'--')"
   ]
  },
  {
   "cell_type": "markdown",
   "id": "22167e2d-ab26-4ceb-a09e-84f593c34746",
   "metadata": {},
   "source": [
    "`-` 초기 plot2 (수식으로 만듦: yhat = w0+w1*x)"
   ]
  },
  {
   "cell_type": "code",
   "execution_count": 42,
   "id": "09d0b080-03de-4e1f-ac62-d087c406bca8",
   "metadata": {},
   "outputs": [
    {
     "data": {
      "text/plain": [
       "(Parameter containing:\n",
       " tensor([-0.8470], requires_grad=True),\n",
       " Parameter containing:\n",
       " tensor([[-0.3467]], requires_grad=True))"
      ]
     },
     "execution_count": 42,
     "metadata": {},
     "output_type": "execute_result"
    }
   ],
   "source": [
    "net.bias, net.weight"
   ]
  },
  {
   "cell_type": "markdown",
   "id": "74a1f2a8-ec00-4842-9189-9827fc30f02d",
   "metadata": {},
   "source": [
    "- 네트워크가 만들어질 때 net.bias, net.weight에 아무값이나 들어있음.."
   ]
  },
  {
   "cell_type": "code",
   "execution_count": 43,
   "id": "1cf492dd-b210-4a69-9d51-edf283b0912b",
   "metadata": {},
   "outputs": [
    {
     "data": {
      "text/plain": [
       "[<matplotlib.lines.Line2D at 0x7fa88260f9a0>]"
      ]
     },
     "execution_count": 43,
     "metadata": {},
     "output_type": "execute_result"
    },
    {
     "data": {
      "image/png": "[encoded data removed]",
      "text/plain": [
       "<Figure size 432x288 with 1 Axes>"
      ]
     },
     "metadata": {
      "needs_background": "light"
     },
     "output_type": "display_data"
    }
   ],
   "source": [
    "# 위의 그래프와 똑같음.\n",
    "plt.plot(x,y,'o')\n",
    "plt.plot(x,-0.8470-0.3467*x,'--')"
   ]
  },
  {
   "cell_type": "markdown",
   "id": "58d54ead-4480-48da-856f-d3bd531b79ec",
   "metadata": {},
   "source": [
    "`-` net에서 $\\hat{w}_0, \\hat{w}_1$ 의 값은? "
   ]
  },
  {
   "cell_type": "code",
   "execution_count": 44,
   "id": "591846ec-ac3e-4989-9504-0c9ad410eeb0",
   "metadata": {},
   "outputs": [
    {
     "data": {
      "text/plain": [
       "Parameter containing:\n",
       "tensor([[-0.3467]], requires_grad=True)"
      ]
     },
     "execution_count": 44,
     "metadata": {},
     "output_type": "execute_result"
    }
   ],
   "source": [
    "net.weight # w1 "
   ]
  },
  {
   "cell_type": "code",
   "execution_count": 45,
   "id": "5dd2d680-f688-45eb-a649-5ce15616acff",
   "metadata": {},
   "outputs": [
    {
     "data": {
      "text/plain": [
       "Parameter containing:\n",
       "tensor([-0.8470], requires_grad=True)"
      ]
     },
     "execution_count": 45,
     "metadata": {},
     "output_type": "execute_result"
    }
   ],
   "source": [
    "net.bias # w0 "
   ]
  },
  {
   "cell_type": "code",
   "execution_count": 46,
   "id": "976fe9ba-9675-439d-8243-112561b1bcaa",
   "metadata": {},
   "outputs": [],
   "source": [
    "_yhat = -0.8470 + -0.3467*x "
   ]
  },
  {
   "cell_type": "code",
   "execution_count": 47,
   "id": "bc56b4ac-6e34-44e7-9e80-711169b93b55",
   "metadata": {},
   "outputs": [
    {
     "data": {
      "text/plain": [
       "[<matplotlib.lines.Line2D at 0x7fa8824fd1c0>]"
      ]
     },
     "execution_count": 47,
     "metadata": {},
     "output_type": "execute_result"
    },
    {
     "data": {
      "image/png": "[encoded data removed]",
      "text/plain": [
       "<Figure size 432x288 with 1 Axes>"
      ]
     },
     "metadata": {
      "needs_background": "light"
     },
     "output_type": "display_data"
    }
   ],
   "source": [
    "plt.plot(x,y,'o')\n",
    "plt.plot(x, _yhat,'--')\n",
    "plt.plot(x,net(x).data,'-.')"
   ]
  },
  {
   "cell_type": "markdown",
   "id": "5020662c-8e2d-4784-8411-dbf86a33a93d",
   "metadata": {},
   "source": [
    "`-` 수식표현: $\\hat{y}_i = \\hat{w}_0 + \\hat{w}_1 x_i = \\hat{b} + \\hat{w}x_i =  -0.8470 + -0.3467 x_i$ for all $i=1,2,\\dots,100$. "
   ]
  },
  {
   "cell_type": "markdown",
   "id": "b8d119d2-f3d7-4f5e-b89c-813bf7d7738f",
   "metadata": {},
   "source": [
    "## ver2"
   ]
  },
  {
   "cell_type": "markdown",
   "id": "86c220bb-8f4b-4cde-9eaa-c78ca1872f41",
   "metadata": {},
   "source": [
    "`-` 입력이 x가 아닌 X를 넣고 싶다면? (보통 잘 안하긴 해요, 왜? bias=False로 주는게 귀찮거든요)\n",
    "- X는 바이어스가 고려된 상황 "
   ]
  },
  {
   "cell_type": "code",
   "execution_count": 48,
   "id": "d15f6fa2-98b9-49e0-9a01-2fe7fd0953b4",
   "metadata": {},
   "outputs": [
    {
     "ename": "RuntimeError",
     "evalue": "mat1 and mat2 shapes cannot be multiplied (100x2 and 1x1)",
     "output_type": "error",
     "traceback": [
      "\u001b[0;31m---------------------------------------------------------------------------\u001b[0m",
      "\u001b[0;31mRuntimeError\u001b[0m                              Traceback (most recent call last)",
      "Cell \u001b[0;32mIn[48], line 1\u001b[0m\n\u001b[0;32m----> 1\u001b[0m \u001b[43mnet\u001b[49m\u001b[43m(\u001b[49m\u001b[43mX\u001b[49m\u001b[43m)\u001b[49m \u001b[38;5;66;03m## 그대로 쓰면 당연히 에러\u001b[39;00m\n",
      "File \u001b[0;32m~/anaconda3/envs/py38/lib/python3.8/site-packages/torch/nn/modules/module.py:1194\u001b[0m, in \u001b[0;36mModule._call_impl\u001b[0;34m(self, *input, **kwargs)\u001b[0m\n\u001b[1;32m   1190\u001b[0m \u001b[38;5;66;03m# If we don't have any hooks, we want to skip the rest of the logic in\u001b[39;00m\n\u001b[1;32m   1191\u001b[0m \u001b[38;5;66;03m# this function, and just call forward.\u001b[39;00m\n\u001b[1;32m   1192\u001b[0m \u001b[38;5;28;01mif\u001b[39;00m \u001b[38;5;129;01mnot\u001b[39;00m (\u001b[38;5;28mself\u001b[39m\u001b[38;5;241m.\u001b[39m_backward_hooks \u001b[38;5;129;01mor\u001b[39;00m \u001b[38;5;28mself\u001b[39m\u001b[38;5;241m.\u001b[39m_forward_hooks \u001b[38;5;129;01mor\u001b[39;00m \u001b[38;5;28mself\u001b[39m\u001b[38;5;241m.\u001b[39m_forward_pre_hooks \u001b[38;5;129;01mor\u001b[39;00m _global_backward_hooks\n\u001b[1;32m   1193\u001b[0m         \u001b[38;5;129;01mor\u001b[39;00m _global_forward_hooks \u001b[38;5;129;01mor\u001b[39;00m _global_forward_pre_hooks):\n\u001b[0;32m-> 1194\u001b[0m     \u001b[38;5;28;01mreturn\u001b[39;00m \u001b[43mforward_call\u001b[49m\u001b[43m(\u001b[49m\u001b[38;5;241;43m*\u001b[39;49m\u001b[38;5;28;43minput\u001b[39;49m\u001b[43m,\u001b[49m\u001b[43m \u001b[49m\u001b[38;5;241;43m*\u001b[39;49m\u001b[38;5;241;43m*\u001b[39;49m\u001b[43mkwargs\u001b[49m\u001b[43m)\u001b[49m\n\u001b[1;32m   1195\u001b[0m \u001b[38;5;66;03m# Do not call functions when jit is used\u001b[39;00m\n\u001b[1;32m   1196\u001b[0m full_backward_hooks, non_full_backward_hooks \u001b[38;5;241m=\u001b[39m [], []\n",
      "File \u001b[0;32m~/anaconda3/envs/py38/lib/python3.8/site-packages/torch/nn/modules/linear.py:114\u001b[0m, in \u001b[0;36mLinear.forward\u001b[0;34m(self, input)\u001b[0m\n\u001b[1;32m    113\u001b[0m \u001b[38;5;28;01mdef\u001b[39;00m \u001b[38;5;21mforward\u001b[39m(\u001b[38;5;28mself\u001b[39m, \u001b[38;5;28minput\u001b[39m: Tensor) \u001b[38;5;241m-\u001b[39m\u001b[38;5;241m>\u001b[39m Tensor:\n\u001b[0;32m--> 114\u001b[0m     \u001b[38;5;28;01mreturn\u001b[39;00m \u001b[43mF\u001b[49m\u001b[38;5;241;43m.\u001b[39;49m\u001b[43mlinear\u001b[49m\u001b[43m(\u001b[49m\u001b[38;5;28;43minput\u001b[39;49m\u001b[43m,\u001b[49m\u001b[43m \u001b[49m\u001b[38;5;28;43mself\u001b[39;49m\u001b[38;5;241;43m.\u001b[39;49m\u001b[43mweight\u001b[49m\u001b[43m,\u001b[49m\u001b[43m \u001b[49m\u001b[38;5;28;43mself\u001b[39;49m\u001b[38;5;241;43m.\u001b[39;49m\u001b[43mbias\u001b[49m\u001b[43m)\u001b[49m\n",
      "\u001b[0;31mRuntimeError\u001b[0m: mat1 and mat2 shapes cannot be multiplied (100x2 and 1x1)"
     ]
    }
   ],
   "source": [
    "net(X) ## 그대로 쓰면 당연히 에러"
   ]
  },
  {
   "cell_type": "code",
   "execution_count": 50,
   "id": "a5f13274-9651-41b3-8e1b-8de3d4edbf64",
   "metadata": {},
   "outputs": [],
   "source": [
    "torch.manual_seed(43052)\n",
    "net = torch.nn.Linear(in_features=2, out_features=1, bias=False) "
   ]
  },
  {
   "cell_type": "code",
   "execution_count": 51,
   "id": "b0e42ec4-3bc3-4807-9d73-e1f10a7f21e7",
   "metadata": {},
   "outputs": [
    {
     "data": {
      "text/plain": [
       "Parameter containing:\n",
       "tensor([[-0.2451, -0.5989]], requires_grad=True)"
      ]
     },
     "execution_count": 51,
     "metadata": {},
     "output_type": "execute_result"
    }
   ],
   "source": [
    "net.weight"
   ]
  },
  {
   "cell_type": "markdown",
   "id": "d1da0b6e-9221-4a89-810f-3fb40d544066",
   "metadata": {},
   "source": [
    "$w_0 = -0.2451, \\quad w_1 =  -0.5989$"
   ]
  },
  {
   "cell_type": "code",
   "execution_count": 52,
   "id": "23c61037-bc81-476f-a7c1-51538b66fb95",
   "metadata": {},
   "outputs": [],
   "source": [
    "net.bias # bias=False로 했기때문에 아무것도 없음."
   ]
  },
  {
   "cell_type": "code",
   "execution_count": 53,
   "id": "66cb80fb-e68f-4b1a-85fa-f4e13533cf6c",
   "metadata": {},
   "outputs": [
    {
     "data": {
      "text/plain": [
       "[<matplotlib.lines.Line2D at 0x7fa87af868b0>]"
      ]
     },
     "execution_count": 53,
     "metadata": {},
     "output_type": "execute_result"
    },
    {
     "data": {
      "image/png": "[encoded data removed]",
      "text/plain": [
       "<Figure size 432x288 with 1 Axes>"
      ]
     },
     "metadata": {
      "needs_background": "light"
     },
     "output_type": "display_data"
    }
   ],
   "source": [
    "plt.plot(x,y,'o') \n",
    "plt.plot(x,net(X).data, '--')\n",
    "plt.plot(x,X@torch.tensor([[-0.2451],[-0.5989]]), '-.')"
   ]
  },
  {
   "cell_type": "markdown",
   "id": "95687f28-d5c2-4347-ac25-25b0b6994fd9",
   "metadata": {},
   "source": [
    "`-` 수식표현: $\\hat{\\bf y} = {\\bf X} {\\bf \\hat W} = \\begin{bmatrix} 1 & x_1 \\\\ 1 & x_2 \\\\ \\dots & \\dots \\\\ 1 & x_{100} \\end{bmatrix}  \\begin{bmatrix} -0.2451 \\\\ -0.5989  \\end{bmatrix}$"
   ]
  },
  {
   "cell_type": "markdown",
   "id": "83704007-584f-4c41-8358-aef2408d6b22",
   "metadata": {},
   "source": [
    "## 잘못된사용1"
   ]
  },
  {
   "cell_type": "code",
   "execution_count": 54,
   "id": "628348e9-1f1b-4e81-9144-1937dd481984",
   "metadata": {},
   "outputs": [],
   "source": [
    "_x = x.reshape(-1) # length=100인 벡터."
   ]
  },
  {
   "cell_type": "code",
   "execution_count": 55,
   "id": "b30da651-09c8-4735-956e-08716aa7fafc",
   "metadata": {},
   "outputs": [
    {
     "data": {
      "text/plain": [
       "tensor([-2.4821, -2.3621, -1.9973, -1.6239, -1.4792, -1.4635, -1.4509, -1.4435,\n",
       "        -1.3722, -1.3079, -1.1904, -1.1092, -1.1054, -1.0875, -0.9469, -0.9319,\n",
       "        -0.8643, -0.7858, -0.7549, -0.7421, -0.6948, -0.6103, -0.5830, -0.5621,\n",
       "        -0.5506, -0.5058, -0.4806, -0.4738, -0.4710, -0.4676, -0.3874, -0.3719,\n",
       "        -0.3688, -0.3159, -0.2775, -0.2772, -0.2734, -0.2721, -0.2668, -0.2155,\n",
       "        -0.2000, -0.1816, -0.1708, -0.1565, -0.1448, -0.1361, -0.1057, -0.0603,\n",
       "        -0.0559, -0.0214,  0.0655,  0.0684,  0.1195,  0.1420,  0.1521,  0.1568,\n",
       "         0.2646,  0.2656,  0.3157,  0.3220,  0.3461,  0.3984,  0.4190,  0.5443,\n",
       "         0.5579,  0.5913,  0.6148,  0.6469,  0.6469,  0.6523,  0.6674,  0.7059,\n",
       "         0.7141,  0.7822,  0.8154,  0.8668,  0.9291,  0.9804,  0.9853,  0.9941,\n",
       "         1.0376,  1.0393,  1.0697,  1.1024,  1.1126,  1.1532,  1.2289,  1.3403,\n",
       "         1.3494,  1.4279,  1.4994,  1.5031,  1.5437,  1.6789,  2.0832,  2.2444,\n",
       "         2.3935,  2.6056,  2.6057,  2.6632])"
      ]
     },
     "execution_count": 55,
     "metadata": {},
     "output_type": "execute_result"
    }
   ],
   "source": [
    "_x"
   ]
  },
  {
   "cell_type": "code",
   "execution_count": 56,
   "id": "15209f3e-1562-4bbf-9410-fabe25d4d842",
   "metadata": {},
   "outputs": [],
   "source": [
    "torch.manual_seed(43052)\n",
    "net = torch.nn.Linear(in_features=1,out_features=1) "
   ]
  },
  {
   "cell_type": "code",
   "execution_count": 57,
   "id": "e8468d6b-f0a8-4d4a-9021-0d04fbae1147",
   "metadata": {},
   "outputs": [
    {
     "ename": "RuntimeError",
     "evalue": "mat1 and mat2 shapes cannot be multiplied (1x100 and 1x1)",
     "output_type": "error",
     "traceback": [
      "\u001b[0;31m---------------------------------------------------------------------------\u001b[0m",
      "\u001b[0;31mRuntimeError\u001b[0m                              Traceback (most recent call last)",
      "Cell \u001b[0;32mIn[57], line 1\u001b[0m\n\u001b[0;32m----> 1\u001b[0m \u001b[43mnet\u001b[49m\u001b[43m(\u001b[49m\u001b[43m_x\u001b[49m\u001b[43m)\u001b[49m\n",
      "File \u001b[0;32m~/anaconda3/envs/py38/lib/python3.8/site-packages/torch/nn/modules/module.py:1194\u001b[0m, in \u001b[0;36mModule._call_impl\u001b[0;34m(self, *input, **kwargs)\u001b[0m\n\u001b[1;32m   1190\u001b[0m \u001b[38;5;66;03m# If we don't have any hooks, we want to skip the rest of the logic in\u001b[39;00m\n\u001b[1;32m   1191\u001b[0m \u001b[38;5;66;03m# this function, and just call forward.\u001b[39;00m\n\u001b[1;32m   1192\u001b[0m \u001b[38;5;28;01mif\u001b[39;00m \u001b[38;5;129;01mnot\u001b[39;00m (\u001b[38;5;28mself\u001b[39m\u001b[38;5;241m.\u001b[39m_backward_hooks \u001b[38;5;129;01mor\u001b[39;00m \u001b[38;5;28mself\u001b[39m\u001b[38;5;241m.\u001b[39m_forward_hooks \u001b[38;5;129;01mor\u001b[39;00m \u001b[38;5;28mself\u001b[39m\u001b[38;5;241m.\u001b[39m_forward_pre_hooks \u001b[38;5;129;01mor\u001b[39;00m _global_backward_hooks\n\u001b[1;32m   1193\u001b[0m         \u001b[38;5;129;01mor\u001b[39;00m _global_forward_hooks \u001b[38;5;129;01mor\u001b[39;00m _global_forward_pre_hooks):\n\u001b[0;32m-> 1194\u001b[0m     \u001b[38;5;28;01mreturn\u001b[39;00m \u001b[43mforward_call\u001b[49m\u001b[43m(\u001b[49m\u001b[38;5;241;43m*\u001b[39;49m\u001b[38;5;28;43minput\u001b[39;49m\u001b[43m,\u001b[49m\u001b[43m \u001b[49m\u001b[38;5;241;43m*\u001b[39;49m\u001b[38;5;241;43m*\u001b[39;49m\u001b[43mkwargs\u001b[49m\u001b[43m)\u001b[49m\n\u001b[1;32m   1195\u001b[0m \u001b[38;5;66;03m# Do not call functions when jit is used\u001b[39;00m\n\u001b[1;32m   1196\u001b[0m full_backward_hooks, non_full_backward_hooks \u001b[38;5;241m=\u001b[39m [], []\n",
      "File \u001b[0;32m~/anaconda3/envs/py38/lib/python3.8/site-packages/torch/nn/modules/linear.py:114\u001b[0m, in \u001b[0;36mLinear.forward\u001b[0;34m(self, input)\u001b[0m\n\u001b[1;32m    113\u001b[0m \u001b[38;5;28;01mdef\u001b[39;00m \u001b[38;5;21mforward\u001b[39m(\u001b[38;5;28mself\u001b[39m, \u001b[38;5;28minput\u001b[39m: Tensor) \u001b[38;5;241m-\u001b[39m\u001b[38;5;241m>\u001b[39m Tensor:\n\u001b[0;32m--> 114\u001b[0m     \u001b[38;5;28;01mreturn\u001b[39;00m \u001b[43mF\u001b[49m\u001b[38;5;241;43m.\u001b[39;49m\u001b[43mlinear\u001b[49m\u001b[43m(\u001b[49m\u001b[38;5;28;43minput\u001b[39;49m\u001b[43m,\u001b[49m\u001b[43m \u001b[49m\u001b[38;5;28;43mself\u001b[39;49m\u001b[38;5;241;43m.\u001b[39;49m\u001b[43mweight\u001b[49m\u001b[43m,\u001b[49m\u001b[43m \u001b[49m\u001b[38;5;28;43mself\u001b[39;49m\u001b[38;5;241;43m.\u001b[39;49m\u001b[43mbias\u001b[49m\u001b[43m)\u001b[49m\n",
      "\u001b[0;31mRuntimeError\u001b[0m: mat1 and mat2 shapes cannot be multiplied (1x100 and 1x1)"
     ]
    }
   ],
   "source": [
    "net(_x)"
   ]
  },
  {
   "cell_type": "markdown",
   "id": "5ddd658f-208f-4a6e-861f-c0b779d158b3",
   "metadata": {},
   "source": [
    "## 잘못된사용2"
   ]
  },
  {
   "cell_type": "markdown",
   "id": "bee5bd93-4ad9-4852-9642-9fb35b08b674",
   "metadata": {},
   "source": [
    "> 이건 에러메세지는 안나지만 틀림."
   ]
  },
  {
   "cell_type": "code",
   "execution_count": 127,
   "id": "d40c6840-3d55-4dba-92f3-4e366e55767e",
   "metadata": {},
   "outputs": [],
   "source": [
    "torch.manual_seed(43052)\n",
    "net = torch.nn.Linear(in_features=2,out_features=1) # bias=False를 깜빡.."
   ]
  },
  {
   "cell_type": "code",
   "execution_count": 128,
   "id": "4b5584dc-56ad-45dc-b55b-33c9c69747a3",
   "metadata": {},
   "outputs": [
    {
     "data": {
      "text/plain": [
       "Parameter containing:\n",
       "tensor([[-0.2451, -0.5989]], requires_grad=True)"
      ]
     },
     "execution_count": 128,
     "metadata": {},
     "output_type": "execute_result"
    }
   ],
   "source": [
    "net.weight"
   ]
  },
  {
   "cell_type": "code",
   "execution_count": 129,
   "id": "17e4d297-e319-4847-8824-f5610d3644db",
   "metadata": {},
   "outputs": [
    {
     "data": {
      "text/plain": [
       "Parameter containing:\n",
       "tensor([0.2549], requires_grad=True)"
      ]
     },
     "execution_count": 129,
     "metadata": {},
     "output_type": "execute_result"
    }
   ],
   "source": [
    "net.bias"
   ]
  },
  {
   "cell_type": "code",
   "execution_count": 133,
   "id": "d5cce3d7-248d-481c-9e2e-6281c362f5aa",
   "metadata": {},
   "outputs": [
    {
     "data": {
      "text/plain": [
       "[<matplotlib.lines.Line2D at 0x7f870d1afa90>]"
      ]
     },
     "execution_count": 133,
     "metadata": {},
     "output_type": "execute_result"
    },
    {
     "data": {
      "image/png": "[encoded data removed]",
      "text/plain": [
       "<Figure size 432x288 with 1 Axes>"
      ]
     },
     "metadata": {
      "needs_background": "light"
     },
     "output_type": "display_data"
    }
   ],
   "source": [
    "plt.plot(x,y,'o')\n",
    "plt.plot(x,net(X).data,'--')\n",
    "plt.plot(x,X@torch.tensor([[-0.2451],[-0.5989]])+0.2549,'-.')"
   ]
  },
  {
   "cell_type": "markdown",
   "id": "ead2fd9f-6bb5-48ba-9828-b5e45ecc830e",
   "metadata": {},
   "source": [
    "- 수식표현: $\\hat{\\bf y} = {\\bf X} {\\bf \\hat W} + \\hat{b}= \\begin{bmatrix} 1 & x_1 \\\\ 1 & x_2 \\\\ \\dots & \\dots \\\\ 1 & x_{100} \\end{bmatrix}  \\begin{bmatrix} -0.2451 \\\\ -0.5989  \\end{bmatrix} + 0.2549$"
   ]
  },
  {
   "cell_type": "markdown",
   "id": "7f3ca97f-f7c4-448c-94e9-626b82b91a25",
   "metadata": {},
   "source": [
    "# 숙제 "
   ]
  },
  {
   "cell_type": "markdown",
   "id": "e5af0aee-2bd4-47ef-a46a-a0d87f38d24f",
   "metadata": {},
   "source": [
    "`(1)` 자신의 학번을 seed로 설정하고 표준정규분포에서 5개의 난수를 생성하고 순서대로 정렬한 뒤 이를 `x`로 저장하라. (아래코드참고)\n",
    "\n",
    "```python\n",
    "torch.manual_seed(202043052) \n",
    "x,_ = torch.randn(5).sort()\n",
    "```"
   ]
  },
  {
   "cell_type": "markdown",
   "id": "84d2f591-e8c4-4358-aeeb-8e3f82f88d1c",
   "metadata": {},
   "source": [
    "`(2)` 아래와 같이 torch.nn.Linear()를 이용하여 적당한 네트워크를 생성하고 \"최초의 직선\" $\\hat{y}_i$가 아래와 같이 구해지도록 `net.weight` 혹은 `net.bias`의 값을 수정하라. \n",
    "\n",
    "$$ \\hat{y}_i = 2.5 x_i - 7, \\quad i=1,2,3,4,5 $$ "
   ]
  },
  {
   "cell_type": "markdown",
   "id": "fc30362f-5ba6-4ddc-b608-7dff4cccf747",
   "metadata": {},
   "source": [
    "단, $x_1,x_2,\\dots,x_5$는 `x`의 원소이다. "
   ]
  },
  {
   "cell_type": "markdown",
   "id": "03531c02-acd8-4997-a0a0-1cde7e3585db",
   "metadata": {},
   "source": [
    "> note: 공부를 위해서 bias를 넣은 버전과 넣지 않는 버전 모두 계산해 보세요. (숙제제출은 한 방법으로만 구현해도 무방) "
   ]
  },
  {
   "cell_type": "markdown",
   "id": "05a339e0-5695-4022-b3e0-446f6b798dc9",
   "metadata": {},
   "source": [
    "***(풀이 시작)***"
   ]
  },
  {
   "cell_type": "code",
   "execution_count": 69,
   "id": "e3dc0bdf-fea3-45f9-a4f8-fb2d79d3709e",
   "metadata": {},
   "outputs": [
    {
     "data": {
      "text/plain": [
       "869206177"
      ]
     },
     "execution_count": 69,
     "metadata": {},
     "output_type": "execute_result"
    }
   ],
   "source": [
    "import random\n",
    "random_id = random.randint(100000000,999999999)\n",
    "random_id"
   ]
  },
  {
   "cell_type": "code",
   "execution_count": 70,
   "id": "76136634-28fc-4b9f-ac3e-5d4c46cc98b3",
   "metadata": {},
   "outputs": [],
   "source": [
    "torch.manual_seed(random_id)\n",
    "x,_ = torch.rand(5).sort()\n",
    "x = x.reshape(-1,1)\n",
    "X = torch.concat([torch.ones(5).reshape(-1,1),x],axis=1)"
   ]
  },
  {
   "cell_type": "markdown",
   "id": "b3f0d422-b17e-4cab-80e1-9f3d99d2528e",
   "metadata": {},
   "source": [
    "## ver1. bias=True"
   ]
  },
  {
   "cell_type": "code",
   "execution_count": 81,
   "id": "b84b448d-3f81-45d7-8555-7485da4a4ef1",
   "metadata": {},
   "outputs": [
    {
     "data": {
      "text/plain": [
       "(tensor([[0.1441]]), tensor([-0.8133]))"
      ]
     },
     "execution_count": 81,
     "metadata": {},
     "output_type": "execute_result"
    }
   ],
   "source": [
    "net1 = torch.nn.Linear(in_features=1, out_features=1,bias=True)\n",
    "net1.weight.data, net1.bias.data # 네트워크에 들어있는 초기값."
   ]
  },
  {
   "cell_type": "code",
   "execution_count": 98,
   "id": "a5584b08-30b4-496d-b4f1-f9aeba7343d4",
   "metadata": {},
   "outputs": [
    {
     "data": {
      "text/plain": [
       "(torch.Size([1, 1]), torch.Size([1]))"
      ]
     },
     "execution_count": 98,
     "metadata": {},
     "output_type": "execute_result"
    }
   ],
   "source": [
    "net1.weight.data = torch.tensor([[2.5]]) # dim 맞춰주기위한 작업 // torch.tensor([2.5]).reshape(-1,1).shape -> torch.Size([1,1])\n",
    "net1.bias.data = torch.tensor([-7.0]) # 얜 스칼라니까..\n",
    "net1.weight.data.shape, net1.bias.shape"
   ]
  },
  {
   "cell_type": "code",
   "execution_count": 100,
   "id": "284b3895-000e-4601-85c9-d92fc25e4e5b",
   "metadata": {},
   "outputs": [
    {
     "data": {
      "text/plain": [
       "(tensor([[-6.8399],\n",
       "         [-6.2981],\n",
       "         [-6.2541],\n",
       "         [-5.9748],\n",
       "         [-5.7316]], grad_fn=<AddmmBackward0>),\n",
       " tensor([[-6.8399],\n",
       "         [-6.2981],\n",
       "         [-6.2541],\n",
       "         [-5.9748],\n",
       "         [-5.7316]]))"
      ]
     },
     "execution_count": 100,
     "metadata": {},
     "output_type": "execute_result"
    }
   ],
   "source": [
    "net1(x), 2.5*x-7.0"
   ]
  },
  {
   "cell_type": "markdown",
   "id": "b23f0d74-da04-4ab8-8a03-005a93f13f1d",
   "metadata": {},
   "source": [
    "## ver2. bias=False"
   ]
  },
  {
   "cell_type": "code",
   "execution_count": 107,
   "id": "48e14ae9-cc00-43fb-ad8a-dc6bb3812e01",
   "metadata": {},
   "outputs": [
    {
     "data": {
      "text/plain": [
       "(tensor([[-0.2855],\n",
       "         [-0.4631]]),\n",
       " None)"
      ]
     },
     "execution_count": 107,
     "metadata": {},
     "output_type": "execute_result"
    }
   ],
   "source": [
    "net2 = torch.nn.Linear(in_features=1, out_features=2, bias=False)\n",
    "net2.weight.data, net2.bias"
   ]
  },
  {
   "cell_type": "code",
   "execution_count": 109,
   "id": "0ed4436f-a002-411a-8b00-afb4921b1d26",
   "metadata": {},
   "outputs": [
    {
     "data": {
      "text/plain": [
       "torch.Size([1, 2])"
      ]
     },
     "execution_count": 109,
     "metadata": {},
     "output_type": "execute_result"
    }
   ],
   "source": [
    "net2.weight.data = torch.tensor([[-7.0, 2.5]])\n",
    "net2.weight.data.shape"
   ]
  },
  {
   "cell_type": "code",
   "execution_count": 113,
   "id": "602a2eb1-2b9d-4018-a4e0-0b424a4e47ee",
   "metadata": {},
   "outputs": [
    {
     "data": {
      "text/plain": [
       "(tensor([[-6.8399],\n",
       "         [-6.2981],\n",
       "         [-6.2541],\n",
       "         [-5.9748],\n",
       "         [-5.7316]], grad_fn=<MmBackward0>),\n",
       " tensor([[-6.8399],\n",
       "         [-6.2981],\n",
       "         [-6.2541],\n",
       "         [-5.9748],\n",
       "         [-5.7316]]))"
      ]
     },
     "execution_count": 113,
     "metadata": {},
     "output_type": "execute_result"
    }
   ],
   "source": [
    "net2(X), 2.5*x-7.0"
   ]
  },
  {
   "cell_type": "markdown",
   "id": "3c38d0b4-48c0-4f4d-99ba-16b3e34f5774",
   "metadata": {},
   "source": [
    "---"
   ]
  },
  {
   "cell_type": "markdown",
   "id": "cade2f40-e2e4-41c6-b98b-959e36710c79",
   "metadata": {},
   "source": [
    "***(모범답안)***"
   ]
  },
  {
   "cell_type": "code",
   "execution_count": 34,
   "id": "4d83d82a-9129-4ac7-bf01-a92cd311bc89",
   "metadata": {},
   "outputs": [],
   "source": [
    "torch.manual_seed(202043052) \n",
    "x,_ = torch.randn(5).sort()\n",
    "x = x.reshape(-1,1)\n",
    "X = torch.concat([torch.ones(5).reshape(-1,1),x],axis=1)"
   ]
  },
  {
   "cell_type": "code",
   "execution_count": 36,
   "id": "94c6e5aa-916b-415d-8b28-9c9c438830c7",
   "metadata": {},
   "outputs": [
    {
     "data": {
      "text/plain": [
       "(tensor([[-2.9777],\n",
       "         [-0.2220],\n",
       "         [-0.1181],\n",
       "         [ 0.1084],\n",
       "         [ 1.7688]]),\n",
       " tensor([[ 1.0000, -2.9777],\n",
       "         [ 1.0000, -0.2220],\n",
       "         [ 1.0000, -0.1181],\n",
       "         [ 1.0000,  0.1084],\n",
       "         [ 1.0000,  1.7688]]))"
      ]
     },
     "execution_count": 36,
     "metadata": {},
     "output_type": "execute_result"
    }
   ],
   "source": [
    "x,X"
   ]
  },
  {
   "cell_type": "markdown",
   "id": "e55642ba-c69d-4a6e-80a6-8501b4a9a947",
   "metadata": {},
   "source": [
    "**(ver1) bias를 넣음**"
   ]
  },
  {
   "cell_type": "code",
   "execution_count": 45,
   "id": "aef1c188-50f7-42a4-8c8b-ed9ab82c9355",
   "metadata": {},
   "outputs": [
    {
     "data": {
      "text/plain": [
       "(tensor([[0.0092]]), tensor([0.1899]))"
      ]
     },
     "execution_count": 45,
     "metadata": {},
     "output_type": "execute_result"
    }
   ],
   "source": [
    "net1=torch.nn.Linear(in_features=1,out_features=1,bias=True) \n",
    "net1.weight.data, net1.bias.data"
   ]
  },
  {
   "cell_type": "code",
   "execution_count": 46,
   "id": "e6ce023e-46f4-44ad-9888-a656aba66cb6",
   "metadata": {},
   "outputs": [
    {
     "data": {
      "text/plain": [
       "(tensor([[2.5000]]), tensor([-7.]))"
      ]
     },
     "execution_count": 46,
     "metadata": {},
     "output_type": "execute_result"
    }
   ],
   "source": [
    "net1.weight.data = torch.tensor([[2.5]])\n",
    "net1.bias.data = torch.tensor([-7.0])\n",
    "net1.weight.data, net1.bias.data"
   ]
  },
  {
   "cell_type": "code",
   "execution_count": 47,
   "id": "8b00873b-59a1-42c8-b553-b8887cfabec8",
   "metadata": {},
   "outputs": [
    {
     "data": {
      "text/plain": [
       "(tensor([[-14.4443],\n",
       "         [ -7.5551],\n",
       "         [ -7.2952],\n",
       "         [ -6.7290],\n",
       "         [ -2.5781]], grad_fn=<AddmmBackward0>),\n",
       " tensor([[-14.4443],\n",
       "         [ -7.5551],\n",
       "         [ -7.2952],\n",
       "         [ -6.7290],\n",
       "         [ -2.5781]]))"
      ]
     },
     "execution_count": 47,
     "metadata": {},
     "output_type": "execute_result"
    }
   ],
   "source": [
    "net1(x), 2.5*x-7"
   ]
  },
  {
   "cell_type": "markdown",
   "id": "c8488e6b-a67c-4a63-8065-87c2be87dabd",
   "metadata": {},
   "source": [
    "**(ver2) bias를 넣지 않음**"
   ]
  },
  {
   "cell_type": "code",
   "execution_count": 48,
   "id": "9741f31a-7f90-4a6a-b41a-f7fb488a3170",
   "metadata": {},
   "outputs": [
    {
     "data": {
      "text/plain": [
       "(tensor([[-0.6152, -0.6372]]), None)"
      ]
     },
     "execution_count": 48,
     "metadata": {},
     "output_type": "execute_result"
    }
   ],
   "source": [
    "net2=torch.nn.Linear(in_features=2,out_features=1,bias=False) \n",
    "net2.weight.data, net2.bias"
   ]
  },
  {
   "cell_type": "code",
   "execution_count": 49,
   "id": "bd3cf40f-2981-48c5-8a3f-072ee728e4b0",
   "metadata": {},
   "outputs": [
    {
     "data": {
      "text/plain": [
       "tensor([[-7.0000,  2.5000]])"
      ]
     },
     "execution_count": 49,
     "metadata": {},
     "output_type": "execute_result"
    }
   ],
   "source": [
    "net2.weight.data = torch.tensor([[-7.0, 2.5]])\n",
    "net2.weight.data"
   ]
  },
  {
   "cell_type": "code",
   "execution_count": 51,
   "id": "15a06ce0-5c50-4990-8c38-f19d3cbf650c",
   "metadata": {},
   "outputs": [
    {
     "data": {
      "text/plain": [
       "(tensor([[-14.4443],\n",
       "         [ -7.5551],\n",
       "         [ -7.2952],\n",
       "         [ -6.7290],\n",
       "         [ -2.5781]], grad_fn=<MmBackward0>),\n",
       " tensor([[-14.4443],\n",
       "         [ -7.5551],\n",
       "         [ -7.2952],\n",
       "         [ -6.7290],\n",
       "         [ -2.5781]]))"
      ]
     },
     "execution_count": 51,
     "metadata": {},
     "output_type": "execute_result"
    }
   ],
   "source": [
    "net2(X), 2.5*x-7"
   ]
  }
 ],
 "metadata": {
  "kernelspec": {
   "display_name": "Python 3",
   "language": "python",
   "name": "python3"
  },
  "language_info": {
   "codemirror_mode": {
    "name": "ipython",
    "version": 3
   },
   "file_extension": ".py",
   "mimetype": "text/x-python",
   "name": "python",
   "nbconvert_exporter": "python",
   "pygments_lexer": "ipython3",
   "version": "3.8.16"
  }
 },
 "nbformat": 4,
 "nbformat_minor": 5
}
