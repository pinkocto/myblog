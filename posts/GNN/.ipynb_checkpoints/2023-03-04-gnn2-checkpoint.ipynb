{
 "cells": [
  {
   "cell_type": "raw",
   "id": "6a43cb48-5ac2-4e0f-b7f4-0cb1b1cc2c34",
   "metadata": {},
   "source": [
    "---\n",
    "title: \"2 GNN tuto2\"\n",
    "author: \"jiyun Lim\"\n",
    "date: \"03/04/2023\"\n",
    "categories:\n",
    "  - GNN\n",
    "---"
   ]
  },
  {
   "cell_type": "markdown",
   "id": "f2813da2-fc25-450b-a3dc-df2bb0f7276f",
   "metadata": {},
   "source": [
    "# GNN tutorial 2\n",
    "> Node calssification with GNN (Cora dataset)"
   ]
  },
  {
   "cell_type": "markdown",
   "id": "5eab2e04-7e2e-4863-ab05-8a1032d26bb8",
   "metadata": {},
   "source": [
    "This tutorial will teach you how to apply Graph Neural Networks (GNNs) to the task of node classification. Here, we are given the ground-truth labels of only a small subset of nodes, and want to infer the labels for all the remaining nodes (transductive learning)."
   ]
  },
  {
   "cell_type": "markdown",
   "id": "ae9bcd7f-da7f-4929-a2af-bfcdab59788a",
   "metadata": {},
   "source": [
    "## Data"
   ]
  },
  {
   "cell_type": "markdown",
   "id": "49fa98a1-3a59-424d-844e-e331d5472f60",
   "metadata": {},
   "source": [
    "To demonstrate, we make use of the Cora dataset, which is a citation network where nodes represent documents. Each node is described by a 1433-dimensional bag-of-words feature vector. Two documents are connected if there exists a citation link between them. The task is to infer the category of each document (7 in total)."
   ]
  },
  {
   "cell_type": "markdown",
   "id": "e3f806b6-3852-4cbc-b247-2450167e41e9",
   "metadata": {},
   "source": [
    "This dataset was first introduced by Yang et al. (2016)^[Revisiting Semi-Supervised Learning with Graph Embeddings] as one of the datasets of the Planetoid benchmark suite. We again can make use PyTorch Geometric for an easy access to this dataset via `torch_geometric.datasets.Planetoid`^[https://pytorch-geometric.readthedocs.io/en/latest/modules/datasets.html#torch_geometric.datasets.Planetoid]:"
   ]
  },
  {
   "cell_type": "code",
   "execution_count": 14,
   "id": "434cad18-e923-4fd8-9bc5-a17cd34f2d75",
   "metadata": {},
   "outputs": [],
   "source": [
    "import os\n",
    "import torch\n",
    "\n",
    "# helper function for visualization\n",
    "import matplotlib.pyplot as plt\n",
    "from sklearn.manifold import TSNE\n",
    "\n",
    "import torch\n",
    "from torch.nn import Linear\n",
    "import torch.nn.functional as F"
   ]
  },
  {
   "cell_type": "code",
   "execution_count": 3,
   "id": "2ec5829a-1c26-49dd-9844-314a6aff2269",
   "metadata": {},
   "outputs": [],
   "source": [
    "def visualize(h, color):\n",
    "    z = TSNE(n_components=2).fit_transform(h.detach().cpu().numpy())\n",
    "\n",
    "    plt.figure(figsize=(10,10))\n",
    "    plt.xticks([])\n",
    "    plt.yticks([])\n",
    "\n",
    "    plt.scatter(z[:, 0], z[:, 1], s=70, c=color, cmap=\"Set2\")\n",
    "    plt.show()"
   ]
  },
  {
   "cell_type": "code",
   "execution_count": 4,
   "id": "6a5a0915-6458-49f4-bc18-eb0bf043fe13",
   "metadata": {},
   "outputs": [
    {
     "name": "stdout",
     "output_type": "stream",
     "text": [
      "\n",
      "Dataset: Cora():\n",
      "======================\n",
      "Number of graphs: 1\n",
      "Number of features: 1433\n",
      "Number of classes: 7\n"
     ]
    }
   ],
   "source": [
    "from torch_geometric.datasets import Planetoid\n",
    "from torch_geometric.transforms import NormalizeFeatures\n",
    "\n",
    "dataset = Planetoid(root='data/Planetoid', name='Cora', transform=NormalizeFeatures())\n",
    "\n",
    "print()\n",
    "print(f'Dataset: {dataset}:')\n",
    "print('======================')\n",
    "print(f'Number of graphs: {len(dataset)}')\n",
    "print(f'Number of features: {dataset.num_features}')\n",
    "print(f'Number of classes: {dataset.num_classes}')"
   ]
  },
  {
   "cell_type": "code",
   "execution_count": 5,
   "id": "60fb29ff-7a31-44d2-ad5d-acea226f8333",
   "metadata": {},
   "outputs": [
    {
     "name": "stdout",
     "output_type": "stream",
     "text": [
      "\n",
      "Data(x=[2708, 1433], edge_index=[2, 10556], y=[2708], train_mask=[2708], val_mask=[2708], test_mask=[2708])\n",
      "===========================================================================================================\n"
     ]
    }
   ],
   "source": [
    "data = dataset[0]  # Get the first graph object.\n",
    "print()\n",
    "print(data)\n",
    "print('===========================================================================================================')"
   ]
  },
  {
   "cell_type": "code",
   "execution_count": 6,
   "id": "8f035ecd-59c5-4465-b5d7-4793ec95680b",
   "metadata": {},
   "outputs": [
    {
     "name": "stdout",
     "output_type": "stream",
     "text": [
      "Number of nodes: 2708\n",
      "Number of edges: 10556\n",
      "Average node degree: 3.90\n",
      "Number of training nodes: 140\n",
      "Training node label rate: 0.05\n",
      "Has isolated nodes: False\n",
      "Has self-loops: False\n",
      "Is undirected: True\n"
     ]
    }
   ],
   "source": [
    "# Gather some statistics about the graph.\n",
    "print(f'Number of nodes: {data.num_nodes}')\n",
    "print(f'Number of edges: {data.num_edges}')\n",
    "print(f'Average node degree: {data.num_edges / data.num_nodes:.2f}')\n",
    "print(f'Number of training nodes: {data.train_mask.sum()}')\n",
    "print(f'Training node label rate: {int(data.train_mask.sum()) / data.num_nodes:.2f}')\n",
    "print(f'Has isolated nodes: {data.has_isolated_nodes()}')\n",
    "print(f'Has self-loops: {data.has_self_loops()}')\n",
    "print(f'Is undirected: {data.is_undirected()}')"
   ]
  },
  {
   "cell_type": "code",
   "execution_count": 7,
   "id": "6cdaf1a2-3025-49f8-a490-b01237d1d358",
   "metadata": {},
   "outputs": [
    {
     "data": {
      "text/plain": [
       "tensor([0, 1, 2, 3, 4, 5, 6])"
      ]
     },
     "execution_count": 7,
     "metadata": {},
     "output_type": "execute_result"
    }
   ],
   "source": [
    "data.y.unique()"
   ]
  },
  {
   "cell_type": "markdown",
   "id": "6e925534-581b-48df-87ca-0d5c982acba6",
   "metadata": {},
   "source": [
    "- 각 클래스 당 20개씩 정답을 알고 있음.\n",
    "- training node label rate = $5\\%$ (학습을 위한 노드는 전체의 5% 밖에 안된다..)"
   ]
  },
  {
   "cell_type": "markdown",
   "id": "adb7f246-0368-41e0-b88d-ee01cd791133",
   "metadata": {},
   "source": [
    "*this network is undirected, and that there exists no isolated nodes (each document has at least one citation).*"
   ]
  },
  {
   "cell_type": "markdown",
   "id": "62914520-3e67-4f8b-baba-7388019c87ae",
   "metadata": {},
   "source": [
    "## (시도1 ) Training a Multi-layer Perception Network(MLP)"
   ]
  },
  {
   "cell_type": "markdown",
   "id": "2a16a9b0-58a1-4582-8cd7-8e428b1633cd",
   "metadata": {},
   "source": [
    "n theory, we should be able to infer the category of a document solely based on its content, i.e. its bag-of-words feature representation, without taking any relational information into account.\n",
    "\n",
    "Let's verify that by constructing a simple MLP that solely operates on input node features (using shared weights across all nodes):"
   ]
  },
  {
   "cell_type": "code",
   "execution_count": 8,
   "id": "31fe6653-4a00-4fc7-80ba-67cbc4f16b8f",
   "metadata": {},
   "outputs": [],
   "source": [
    "import torch\n",
    "from torch.nn import Linear\n",
    "import torch.nn.functional as F"
   ]
  },
  {
   "cell_type": "code",
   "execution_count": 9,
   "id": "835f5614-564e-4cee-982e-4364c97c0332",
   "metadata": {},
   "outputs": [
    {
     "name": "stdout",
     "output_type": "stream",
     "text": [
      "MLP(\n",
      "  (lin1): Linear(in_features=1433, out_features=16, bias=True)\n",
      "  (lin2): Linear(in_features=16, out_features=7, bias=True)\n",
      ")\n"
     ]
    }
   ],
   "source": [
    "class MLP(torch.nn.Module):\n",
    "    def __init__(self, hidden_channels):\n",
    "        super().__init__()\n",
    "        ## 우리가 사용할 레이어 정의\n",
    "        torch.manual_seed(12345)\n",
    "        self.lin1 = Linear(dataset.num_features, hidden_channels)\n",
    "        self.lin2 = Linear(hidden_channels, dataset.num_classes)\n",
    "        ## 레이어 정의 끝!\n",
    "        \n",
    "    def forward(self, x):\n",
    "        ## yhat을 어떻게 구할것인지 정의\n",
    "        x = self.lin1(x)\n",
    "        x = x.relu()\n",
    "        x = F.dropout(x, p=0.5, training=self.training)\n",
    "        x = self.lin2(x)\n",
    "        ## 정의 끝!\n",
    "        return x\n",
    "\n",
    "model = MLP(hidden_channels=16)\n",
    "print(model)"
   ]
  },
  {
   "cell_type": "code",
   "execution_count": 33,
   "id": "4f72b25b-c3bc-4d9b-9655-1564ee13b45a",
   "metadata": {},
   "outputs": [],
   "source": [
    "model = MLP(hidden_channels=16)\n",
    "loss_fn = torch.nn.CrossEntropyLoss()  # Define loss criterion.\n",
    "optimizr = torch.optim.Adam(model.parameters(), lr=0.01, weight_decay=5e-4)  # Define optimizer."
   ]
  },
  {
   "cell_type": "code",
   "execution_count": 40,
   "id": "5c97b5b4-ee21-4344-b10b-6669cede9fbd",
   "metadata": {},
   "outputs": [
    {
     "data": {
      "text/plain": [
       "tensor(1000)"
      ]
     },
     "execution_count": 40,
     "metadata": {},
     "output_type": "execute_result"
    }
   ],
   "source": [
    "data.test_mask.sum()"
   ]
  },
  {
   "cell_type": "code",
   "execution_count": 41,
   "id": "303a1796-3a58-4873-bff2-2c01265ccc90",
   "metadata": {},
   "outputs": [
    {
     "name": "stdout",
     "output_type": "stream",
     "text": [
      "Epoch: 001, Loss: 1.9615\n",
      "Epoch: 002, Loss: 1.9557\n",
      "Epoch: 003, Loss: 1.9505\n",
      "Epoch: 004, Loss: 1.9423\n",
      "Epoch: 005, Loss: 1.9327\n",
      "Epoch: 006, Loss: 1.9279\n",
      "Epoch: 007, Loss: 1.9144\n",
      "Epoch: 008, Loss: 1.9087\n",
      "Epoch: 009, Loss: 1.9023\n",
      "Epoch: 010, Loss: 1.8893\n",
      "Epoch: 011, Loss: 1.8776\n",
      "Epoch: 012, Loss: 1.8594\n",
      "Epoch: 013, Loss: 1.8457\n",
      "Epoch: 014, Loss: 1.8365\n",
      "Epoch: 015, Loss: 1.8280\n",
      "Epoch: 016, Loss: 1.7965\n",
      "Epoch: 017, Loss: 1.7984\n",
      "Epoch: 018, Loss: 1.7832\n",
      "Epoch: 019, Loss: 1.7495\n",
      "Epoch: 020, Loss: 1.7441\n",
      "Epoch: 021, Loss: 1.7188\n",
      "Epoch: 022, Loss: 1.7124\n",
      "Epoch: 023, Loss: 1.6785\n",
      "Epoch: 024, Loss: 1.6660\n",
      "Epoch: 025, Loss: 1.6119\n",
      "Epoch: 026, Loss: 1.6236\n",
      "Epoch: 027, Loss: 1.5827\n",
      "Epoch: 028, Loss: 1.5784\n",
      "Epoch: 029, Loss: 1.5524\n",
      "Epoch: 030, Loss: 1.5020\n",
      "Epoch: 031, Loss: 1.5065\n",
      "Epoch: 032, Loss: 1.4742\n",
      "Epoch: 033, Loss: 1.4581\n",
      "Epoch: 034, Loss: 1.4246\n",
      "Epoch: 035, Loss: 1.4131\n",
      "Epoch: 036, Loss: 1.4112\n",
      "Epoch: 037, Loss: 1.3923\n",
      "Epoch: 038, Loss: 1.3055\n",
      "Epoch: 039, Loss: 1.2982\n",
      "Epoch: 040, Loss: 1.2543\n",
      "Epoch: 041, Loss: 1.2244\n",
      "Epoch: 042, Loss: 1.2331\n",
      "Epoch: 043, Loss: 1.1984\n",
      "Epoch: 044, Loss: 1.1796\n",
      "Epoch: 045, Loss: 1.1093\n",
      "Epoch: 046, Loss: 1.1284\n",
      "Epoch: 047, Loss: 1.1229\n",
      "Epoch: 048, Loss: 1.0383\n",
      "Epoch: 049, Loss: 1.0439\n",
      "Epoch: 050, Loss: 1.0563\n",
      "Epoch: 051, Loss: 0.9893\n",
      "Epoch: 052, Loss: 1.0508\n",
      "Epoch: 053, Loss: 0.9343\n",
      "Epoch: 054, Loss: 0.9639\n",
      "Epoch: 055, Loss: 0.8929\n",
      "Epoch: 056, Loss: 0.8705\n",
      "Epoch: 057, Loss: 0.9176\n",
      "Epoch: 058, Loss: 0.9239\n",
      "Epoch: 059, Loss: 0.8641\n",
      "Epoch: 060, Loss: 0.8578\n",
      "Epoch: 061, Loss: 0.7908\n",
      "Epoch: 062, Loss: 0.7856\n",
      "Epoch: 063, Loss: 0.7683\n",
      "Epoch: 064, Loss: 0.7816\n",
      "Epoch: 065, Loss: 0.7356\n",
      "Epoch: 066, Loss: 0.6951\n",
      "Epoch: 067, Loss: 0.7300\n",
      "Epoch: 068, Loss: 0.6939\n",
      "Epoch: 069, Loss: 0.7550\n",
      "Epoch: 070, Loss: 0.6864\n",
      "Epoch: 071, Loss: 0.7094\n",
      "Epoch: 072, Loss: 0.7238\n",
      "Epoch: 073, Loss: 0.7150\n",
      "Epoch: 074, Loss: 0.6191\n",
      "Epoch: 075, Loss: 0.6770\n",
      "Epoch: 076, Loss: 0.6487\n",
      "Epoch: 077, Loss: 0.6258\n",
      "Epoch: 078, Loss: 0.5821\n",
      "Epoch: 079, Loss: 0.5637\n",
      "Epoch: 080, Loss: 0.6368\n",
      "Epoch: 081, Loss: 0.6333\n",
      "Epoch: 082, Loss: 0.6434\n",
      "Epoch: 083, Loss: 0.5974\n",
      "Epoch: 084, Loss: 0.6176\n",
      "Epoch: 085, Loss: 0.5972\n",
      "Epoch: 086, Loss: 0.4690\n",
      "Epoch: 087, Loss: 0.6362\n",
      "Epoch: 088, Loss: 0.6118\n",
      "Epoch: 089, Loss: 0.5248\n",
      "Epoch: 090, Loss: 0.5520\n",
      "Epoch: 091, Loss: 0.6130\n",
      "Epoch: 092, Loss: 0.5361\n",
      "Epoch: 093, Loss: 0.5594\n",
      "Epoch: 094, Loss: 0.5049\n",
      "Epoch: 095, Loss: 0.5043\n",
      "Epoch: 096, Loss: 0.5235\n",
      "Epoch: 097, Loss: 0.5451\n",
      "Epoch: 098, Loss: 0.5329\n",
      "Epoch: 099, Loss: 0.5008\n",
      "Epoch: 100, Loss: 0.5350\n",
      "Epoch: 101, Loss: 0.5343\n",
      "Epoch: 102, Loss: 0.5138\n",
      "Epoch: 103, Loss: 0.5377\n",
      "Epoch: 104, Loss: 0.5353\n",
      "Epoch: 105, Loss: 0.5176\n",
      "Epoch: 106, Loss: 0.5229\n",
      "Epoch: 107, Loss: 0.4558\n",
      "Epoch: 108, Loss: 0.4883\n",
      "Epoch: 109, Loss: 0.4659\n",
      "Epoch: 110, Loss: 0.4908\n",
      "Epoch: 111, Loss: 0.4966\n",
      "Epoch: 112, Loss: 0.4725\n",
      "Epoch: 113, Loss: 0.4787\n",
      "Epoch: 114, Loss: 0.4390\n",
      "Epoch: 115, Loss: 0.4199\n",
      "Epoch: 116, Loss: 0.4810\n",
      "Epoch: 117, Loss: 0.4484\n",
      "Epoch: 118, Loss: 0.5080\n",
      "Epoch: 119, Loss: 0.4241\n",
      "Epoch: 120, Loss: 0.4745\n",
      "Epoch: 121, Loss: 0.4651\n",
      "Epoch: 122, Loss: 0.4652\n",
      "Epoch: 123, Loss: 0.5580\n",
      "Epoch: 124, Loss: 0.4861\n",
      "Epoch: 125, Loss: 0.4405\n",
      "Epoch: 126, Loss: 0.4292\n",
      "Epoch: 127, Loss: 0.4409\n",
      "Epoch: 128, Loss: 0.3575\n",
      "Epoch: 129, Loss: 0.4468\n",
      "Epoch: 130, Loss: 0.4603\n",
      "Epoch: 131, Loss: 0.4108\n",
      "Epoch: 132, Loss: 0.4601\n",
      "Epoch: 133, Loss: 0.4258\n",
      "Epoch: 134, Loss: 0.3852\n",
      "Epoch: 135, Loss: 0.4028\n",
      "Epoch: 136, Loss: 0.4245\n",
      "Epoch: 137, Loss: 0.4300\n",
      "Epoch: 138, Loss: 0.4693\n",
      "Epoch: 139, Loss: 0.4314\n",
      "Epoch: 140, Loss: 0.4031\n",
      "Epoch: 141, Loss: 0.4290\n",
      "Epoch: 142, Loss: 0.4110\n",
      "Epoch: 143, Loss: 0.3863\n",
      "Epoch: 144, Loss: 0.4215\n",
      "Epoch: 145, Loss: 0.4519\n",
      "Epoch: 146, Loss: 0.3940\n",
      "Epoch: 147, Loss: 0.4429\n",
      "Epoch: 148, Loss: 0.3527\n",
      "Epoch: 149, Loss: 0.4390\n",
      "Epoch: 150, Loss: 0.4212\n",
      "Epoch: 151, Loss: 0.4128\n",
      "Epoch: 152, Loss: 0.3779\n",
      "Epoch: 153, Loss: 0.4801\n",
      "Epoch: 154, Loss: 0.4130\n",
      "Epoch: 155, Loss: 0.3962\n",
      "Epoch: 156, Loss: 0.4262\n",
      "Epoch: 157, Loss: 0.4210\n",
      "Epoch: 158, Loss: 0.4081\n",
      "Epoch: 159, Loss: 0.4066\n",
      "Epoch: 160, Loss: 0.3782\n",
      "Epoch: 161, Loss: 0.3836\n",
      "Epoch: 162, Loss: 0.4172\n",
      "Epoch: 163, Loss: 0.3993\n",
      "Epoch: 164, Loss: 0.4477\n",
      "Epoch: 165, Loss: 0.3714\n",
      "Epoch: 166, Loss: 0.3610\n",
      "Epoch: 167, Loss: 0.4546\n",
      "Epoch: 168, Loss: 0.4387\n",
      "Epoch: 169, Loss: 0.3793\n",
      "Epoch: 170, Loss: 0.3704\n",
      "Epoch: 171, Loss: 0.4286\n",
      "Epoch: 172, Loss: 0.4131\n",
      "Epoch: 173, Loss: 0.3795\n",
      "Epoch: 174, Loss: 0.4230\n",
      "Epoch: 175, Loss: 0.4139\n",
      "Epoch: 176, Loss: 0.3586\n",
      "Epoch: 177, Loss: 0.3588\n",
      "Epoch: 178, Loss: 0.3911\n",
      "Epoch: 179, Loss: 0.3810\n",
      "Epoch: 180, Loss: 0.4203\n",
      "Epoch: 181, Loss: 0.3583\n",
      "Epoch: 182, Loss: 0.3690\n",
      "Epoch: 183, Loss: 0.4025\n",
      "Epoch: 184, Loss: 0.3920\n",
      "Epoch: 185, Loss: 0.4369\n",
      "Epoch: 186, Loss: 0.4317\n",
      "Epoch: 187, Loss: 0.4911\n",
      "Epoch: 188, Loss: 0.3369\n",
      "Epoch: 189, Loss: 0.4945\n",
      "Epoch: 190, Loss: 0.3912\n",
      "Epoch: 191, Loss: 0.3824\n",
      "Epoch: 192, Loss: 0.3479\n",
      "Epoch: 193, Loss: 0.3798\n",
      "Epoch: 194, Loss: 0.3799\n",
      "Epoch: 195, Loss: 0.4015\n",
      "Epoch: 196, Loss: 0.3615\n",
      "Epoch: 197, Loss: 0.3985\n",
      "Epoch: 198, Loss: 0.4664\n",
      "Epoch: 199, Loss: 0.3714\n",
      "Epoch: 200, Loss: 0.3810\n"
     ]
    }
   ],
   "source": [
    "def train():\n",
    "      model.train()\n",
    "      optimizr.zero_grad()  # Clear gradients. <-- 앞에 나와도 상관없는건가??\n",
    "      out = model(data.x)  # Perform a single forward pass.\n",
    "      loss = loss_fn(out[data.train_mask], data.y[data.train_mask])  # Compute the loss solely based on the training nodes.\n",
    "      loss.backward()  # Derive gradients.\n",
    "      optimizr.step()  # Update parameters based on gradients.\n",
    "      return loss\n",
    "\n",
    "def test():\n",
    "      model.eval()\n",
    "      out = model(data.x)\n",
    "      pred = out.argmax(dim=1)  # Use the class with highest probability.\n",
    "      test_correct = pred[data.test_mask] == data.y[data.test_mask]  # Check against ground-truth labels.\n",
    "      test_acc = int(test_correct.sum()) / int(data.test_mask.sum())  # Derive ratio of correct predictions.\n",
    "      return test_acc\n",
    "\n",
    "for epoch in range(1, 201):\n",
    "    loss = train()\n",
    "    print(f'Epoch: {epoch:03d}, Loss: {loss:.4f}')"
   ]
  },
  {
   "cell_type": "code",
   "execution_count": 43,
   "id": "0796d264-8e25-48f2-b796-e034e3ac1a77",
   "metadata": {},
   "outputs": [
    {
     "name": "stdout",
     "output_type": "stream",
     "text": [
      "Test Accuracy: 0.5900\n"
     ]
    }
   ],
   "source": [
    "# unseen labels에 대한 성능\n",
    "test_acc = test()\n",
    "print(f'Test Accuracy: {test_acc:.4f}')"
   ]
  },
  {
   "cell_type": "code",
   "execution_count": 84,
   "id": "07b8961c-22cf-4904-8264-47b3ff9ee438",
   "metadata": {},
   "outputs": [
    {
     "data": {
      "text/plain": [
       "0.14285714285714285"
      ]
     },
     "execution_count": 84,
     "metadata": {},
     "output_type": "execute_result"
    }
   ],
   "source": [
    "1/7"
   ]
  },
  {
   "cell_type": "markdown",
   "id": "5d9376f4-d6f3-4b8a-b62f-f0b11d4bbe0b",
   "metadata": {},
   "source": [
    "- MLP $\\to$ $59\\%$ test accuracy (그냥 찍는 것보다는 낫지만 성능이 별로임)\n",
    "\n",
    "`-` ***문제1***\n",
    "- 심각한 오버피팅때문에 성능이 안좋게 나오는 것.\n",
    "- 그렇다면 왜 오버피팅이 될까? $\\to$ 학습에 사용되는 training 노드수가 너무 작아 모르는 노드에 대해 일반화 하기 어렵다.\n",
    "\n",
    "`-` ***문제2***\n",
    "- MLP 모델은 중요한 bias가 반영이 안된다. (인용된 논문은 문서의 카테고리와 관련이 있을 가능성이 매우매우 높지만 이런것들이 반영이 안된다는 점)"
   ]
  },
  {
   "cell_type": "markdown",
   "id": "fd0fe15e-1b33-4c30-8faa-f3212ba5d6b7",
   "metadata": {},
   "source": [
    "***Graph Neural Network를 사용해서 모델 성능을 높일수 있을 것 같다.***"
   ]
  },
  {
   "cell_type": "markdown",
   "id": "ad46666a-d8c9-493a-9171-8de970fc50e3",
   "metadata": {},
   "source": [
    "## (시도2) Training a Graph Neural Network (GNN)"
   ]
  },
  {
   "cell_type": "markdown",
   "id": "822c3a9f-7964-4c1d-8e8b-35a6000ae15f",
   "metadata": {},
   "source": [
    "We can easily convert our MLP to a GNN by swapping the torch.nn.Linear layers with PyG's GNN operators."
   ]
  },
  {
   "cell_type": "markdown",
   "id": "420962da-464f-4dc9-8f92-27f5246db367",
   "metadata": {},
   "source": [
    "Following-up on the first part of this tutorial, we replace the linear layers by the GCNConv module. To recap, the **GCN layer** ([Kipf et al. (2017)](https://arxiv.org/abs/1609.02907)) is defined as\n",
    "\n",
    "$$\n",
    "\\mathbf{x}_v^{(\\ell + 1)} = \\mathbf{W}^{(\\ell + 1)} \\sum_{w \\in \\mathcal{N}(v) \\, \\cup \\, \\{ v \\}} \\frac{1}{c_{w,v}} \\cdot \\mathbf{x}_w^{(\\ell)}\n",
    "$$"
   ]
  },
  {
   "cell_type": "markdown",
   "id": "833abc54-739c-4a30-a5d7-b614a22589f8",
   "metadata": {},
   "source": [
    "- $\\bf{W}^{l+1}$ : a trainable weight matrix of shape of shape [num_output_features, num_input_features]\n",
    "- $c_{w,v}$: fixed normalization coefficient for each node."
   ]
  },
  {
   "cell_type": "markdown",
   "id": "f8f9274a-b37a-479f-a1ac-2bd9dbf752d4",
   "metadata": {},
   "source": [
    "in contrast, a single `Linear` layer is defined as\n",
    "\n",
    "$$\\bf{x}_v^{l+1} = \\bf{W}^{l+1}\\bf{x}_v^{l}$$\n",
    "\n",
    "\n",
    "which does not make use of neighboring node information."
   ]
  },
  {
   "cell_type": "code",
   "execution_count": 10,
   "id": "4eebf594-edb1-4dc5-95e9-3d6e978d5903",
   "metadata": {},
   "outputs": [
    {
     "data": {
      "text/plain": [
       "(1433, 7)"
      ]
     },
     "execution_count": 10,
     "metadata": {},
     "output_type": "execute_result"
    }
   ],
   "source": [
    "dataset.num_features, dataset.num_classes"
   ]
  },
  {
   "cell_type": "code",
   "execution_count": 20,
   "id": "7477d696-f781-4834-a646-452f052016f5",
   "metadata": {},
   "outputs": [
    {
     "name": "stdout",
     "output_type": "stream",
     "text": [
      "GCN(\n",
      "  (conv1): GCNConv(1433, 16)\n",
      "  (conv2): GCNConv(16, 7)\n",
      ")\n"
     ]
    }
   ],
   "source": [
    "from torch_geometric.nn import GCNConv\n",
    "\n",
    "\n",
    "class GCN(torch.nn.Module):\n",
    "    def __init__(self, hidden_channels):\n",
    "        super().__init__()\n",
    "        ## 우리가 사용할 레이어 정의\n",
    "        torch.manual_seed(1234567)\n",
    "        self.conv1 = GCNConv(dataset.num_features, hidden_channels)\n",
    "        self.conv2 = GCNConv(hidden_channels, dataset.num_classes)\n",
    "        ## 레이어 정의 끝!\n",
    "        \n",
    "    def forward(self, x, edge_index):\n",
    "        ## yhat을 어떻게 구할것인지 정의\n",
    "        x = self.conv1(x, edge_index)\n",
    "        x = x.relu()\n",
    "        x = F.dropout(x, p=0.5, training=self.training)\n",
    "        x = self.conv2(x, edge_index)\n",
    "        ## 정의 끝!\n",
    "        return x\n",
    "\n",
    "model = GCN(hidden_channels=16)\n",
    "print(model)"
   ]
  },
  {
   "cell_type": "markdown",
   "id": "340cbb71-da21-42e5-a1e7-2f181aac5788",
   "metadata": {},
   "source": [
    "### `-` 학습전 GCN network의 노드임베딩 시각화"
   ]
  },
  {
   "cell_type": "markdown",
   "id": "b8d86550-56c0-4757-b65b-41c062cd7bd5",
   "metadata": {},
   "source": [
    "we make use of [TSNE](https://scikit-learn.org/stable/modules/generated/sklearn.manifold.TSNE.html) to embed our 7-dimensional node embeddings onto a 2D plane."
   ]
  },
  {
   "cell_type": "code",
   "execution_count": 52,
   "id": "e7633e6a-bd4d-4e54-ad5a-a27509df2bd7",
   "metadata": {},
   "outputs": [
    {
     "data": {
      "image/png": "[encoded data removed]",
      "text/plain": [
       "<Figure size 720x720 with 1 Axes>"
      ]
     },
     "metadata": {},
     "output_type": "display_data"
    }
   ],
   "source": [
    "model = GCN(hidden_channels=16)\n",
    "model.eval()\n",
    "\n",
    "out = model(data.x, data.edge_index)\n",
    "visualize(out, color=data.y)"
   ]
  },
  {
   "cell_type": "markdown",
   "id": "1d36dd67-418b-4892-b19c-c7bfc91c72b6",
   "metadata": {},
   "source": [
    "We certainly can do better by training our model. The training and testing procedure is once again the same, but this time we make use of the node features `x` and the graph connectivity `edge_index` as input to our GCN model."
   ]
  },
  {
   "cell_type": "code",
   "execution_count": 27,
   "id": "c9b16fe8-c079-4179-9625-2be06f8fba05",
   "metadata": {},
   "outputs": [],
   "source": [
    "model = GCN(hidden_channels=16)\n",
    "optimizr = torch.optim.Adam(model.parameters(), lr=0.01, weight_decay=5e-4)\n",
    "loss_fn = torch.nn.CrossEntropyLoss()\n",
    "\n",
    "def train():\n",
    "      model.train()\n",
    "      optimizr.zero_grad()  # Clear gradients.\n",
    "      out = model(data.x, data.edge_index)  # Perform a single forward pass.\n",
    "      loss = loss_fn(out[data.train_mask], data.y[data.train_mask])  # Compute the loss solely based on the training nodes.\n",
    "      loss.backward()  # Derive gradients.\n",
    "      optimizr.step()  # Update parameters based on gradients.\n",
    "      return loss\n",
    "\n",
    "def test():\n",
    "      model.eval()\n",
    "      out = model(data.x, data.edge_index)\n",
    "      pred = out.argmax(dim=1)  # Use the class with highest probability.\n",
    "      test_correct = pred[data.test_mask] == data.y[data.test_mask]  # Check against ground-truth labels.\n",
    "      test_acc = int(test_correct.sum()) / int(data.test_mask.sum())  # Derive ratio of correct predictions.\n",
    "      return test_acc"
   ]
  },
  {
   "cell_type": "code",
   "execution_count": 28,
   "id": "28f18da8-095e-4aa8-9ae6-ba23039a3a06",
   "metadata": {},
   "outputs": [
    {
     "name": "stdout",
     "output_type": "stream",
     "text": [
      "Epoch: 001, Loss: 1.9463, Test: 0.8020\n",
      "Epoch: 002, Loss: 1.9409, Test: 0.8020\n",
      "Epoch: 003, Loss: 1.9343, Test: 0.8020\n",
      "Epoch: 004, Loss: 1.9275, Test: 0.8020\n",
      "Epoch: 005, Loss: 1.9181, Test: 0.8020\n",
      "Epoch: 006, Loss: 1.9086, Test: 0.8020\n",
      "Epoch: 007, Loss: 1.9015, Test: 0.8020\n",
      "Epoch: 008, Loss: 1.8933, Test: 0.8020\n",
      "Epoch: 009, Loss: 1.8808, Test: 0.8020\n",
      "Epoch: 010, Loss: 1.8685, Test: 0.8020\n",
      "Epoch: 011, Loss: 1.8598, Test: 0.8020\n",
      "Epoch: 012, Loss: 1.8482, Test: 0.8020\n",
      "Epoch: 013, Loss: 1.8290, Test: 0.8020\n",
      "Epoch: 014, Loss: 1.8233, Test: 0.8020\n",
      "Epoch: 015, Loss: 1.8057, Test: 0.8020\n",
      "Epoch: 016, Loss: 1.7966, Test: 0.8020\n",
      "Epoch: 017, Loss: 1.7825, Test: 0.8020\n",
      "Epoch: 018, Loss: 1.7617, Test: 0.8020\n",
      "Epoch: 019, Loss: 1.7491, Test: 0.8020\n",
      "Epoch: 020, Loss: 1.7310, Test: 0.8020\n",
      "Epoch: 021, Loss: 1.7147, Test: 0.8020\n",
      "Epoch: 022, Loss: 1.7056, Test: 0.8020\n",
      "Epoch: 023, Loss: 1.6954, Test: 0.8020\n",
      "Epoch: 024, Loss: 1.6697, Test: 0.8020\n",
      "Epoch: 025, Loss: 1.6538, Test: 0.8020\n",
      "Epoch: 026, Loss: 1.6312, Test: 0.8020\n",
      "Epoch: 027, Loss: 1.6161, Test: 0.8020\n",
      "Epoch: 028, Loss: 1.5899, Test: 0.8020\n",
      "Epoch: 029, Loss: 1.5711, Test: 0.8020\n",
      "Epoch: 030, Loss: 1.5576, Test: 0.8020\n",
      "Epoch: 031, Loss: 1.5393, Test: 0.8020\n",
      "Epoch: 032, Loss: 1.5137, Test: 0.8020\n",
      "Epoch: 033, Loss: 1.4948, Test: 0.8020\n",
      "Epoch: 034, Loss: 1.4913, Test: 0.8020\n",
      "Epoch: 035, Loss: 1.4698, Test: 0.8020\n",
      "Epoch: 036, Loss: 1.3998, Test: 0.8020\n",
      "Epoch: 037, Loss: 1.4041, Test: 0.8020\n",
      "Epoch: 038, Loss: 1.3761, Test: 0.8020\n",
      "Epoch: 039, Loss: 1.3631, Test: 0.8020\n",
      "Epoch: 040, Loss: 1.3258, Test: 0.8020\n",
      "Epoch: 041, Loss: 1.3030, Test: 0.8020\n",
      "Epoch: 042, Loss: 1.3119, Test: 0.8020\n",
      "Epoch: 043, Loss: 1.2519, Test: 0.8020\n",
      "Epoch: 044, Loss: 1.2530, Test: 0.8020\n",
      "Epoch: 045, Loss: 1.2492, Test: 0.8020\n",
      "Epoch: 046, Loss: 1.2205, Test: 0.8020\n",
      "Epoch: 047, Loss: 1.2037, Test: 0.8020\n",
      "Epoch: 048, Loss: 1.1571, Test: 0.8020\n",
      "Epoch: 049, Loss: 1.1700, Test: 0.8020\n",
      "Epoch: 050, Loss: 1.1296, Test: 0.8020\n",
      "Epoch: 051, Loss: 1.0860, Test: 0.8020\n",
      "Epoch: 052, Loss: 1.1080, Test: 0.8020\n",
      "Epoch: 053, Loss: 1.0564, Test: 0.8020\n",
      "Epoch: 054, Loss: 1.0157, Test: 0.8020\n",
      "Epoch: 055, Loss: 1.0362, Test: 0.8020\n",
      "Epoch: 056, Loss: 1.0328, Test: 0.8020\n",
      "Epoch: 057, Loss: 1.0058, Test: 0.8020\n",
      "Epoch: 058, Loss: 0.9865, Test: 0.8020\n",
      "Epoch: 059, Loss: 0.9667, Test: 0.8020\n",
      "Epoch: 060, Loss: 0.9741, Test: 0.8020\n",
      "Epoch: 061, Loss: 0.9769, Test: 0.8020\n",
      "Epoch: 062, Loss: 0.9122, Test: 0.8020\n",
      "Epoch: 063, Loss: 0.8993, Test: 0.8020\n",
      "Epoch: 064, Loss: 0.8769, Test: 0.8020\n",
      "Epoch: 065, Loss: 0.8575, Test: 0.8020\n",
      "Epoch: 066, Loss: 0.8897, Test: 0.8020\n",
      "Epoch: 067, Loss: 0.8312, Test: 0.8020\n",
      "Epoch: 068, Loss: 0.8262, Test: 0.8020\n",
      "Epoch: 069, Loss: 0.8511, Test: 0.8020\n",
      "Epoch: 070, Loss: 0.7711, Test: 0.8020\n",
      "Epoch: 071, Loss: 0.8012, Test: 0.8020\n",
      "Epoch: 072, Loss: 0.7529, Test: 0.8020\n",
      "Epoch: 073, Loss: 0.7525, Test: 0.8020\n",
      "Epoch: 074, Loss: 0.7689, Test: 0.8020\n",
      "Epoch: 075, Loss: 0.7553, Test: 0.8020\n",
      "Epoch: 076, Loss: 0.7032, Test: 0.8020\n",
      "Epoch: 077, Loss: 0.7326, Test: 0.8020\n",
      "Epoch: 078, Loss: 0.7122, Test: 0.8020\n",
      "Epoch: 079, Loss: 0.7090, Test: 0.8020\n",
      "Epoch: 080, Loss: 0.6755, Test: 0.8020\n",
      "Epoch: 081, Loss: 0.6666, Test: 0.8020\n",
      "Epoch: 082, Loss: 0.6679, Test: 0.8020\n",
      "Epoch: 083, Loss: 0.7037, Test: 0.8020\n",
      "Epoch: 084, Loss: 0.6752, Test: 0.8020\n",
      "Epoch: 085, Loss: 0.6266, Test: 0.8020\n",
      "Epoch: 086, Loss: 0.6564, Test: 0.8020\n",
      "Epoch: 087, Loss: 0.6266, Test: 0.8020\n",
      "Epoch: 088, Loss: 0.6411, Test: 0.8020\n",
      "Epoch: 089, Loss: 0.6226, Test: 0.8020\n",
      "Epoch: 090, Loss: 0.6535, Test: 0.8020\n",
      "Epoch: 091, Loss: 0.6317, Test: 0.8020\n",
      "Epoch: 092, Loss: 0.5741, Test: 0.8020\n",
      "Epoch: 093, Loss: 0.5572, Test: 0.8020\n",
      "Epoch: 094, Loss: 0.5710, Test: 0.8020\n",
      "Epoch: 095, Loss: 0.5816, Test: 0.8020\n",
      "Epoch: 096, Loss: 0.5745, Test: 0.8020\n",
      "Epoch: 097, Loss: 0.5547, Test: 0.8020\n",
      "Epoch: 098, Loss: 0.5989, Test: 0.8020\n",
      "Epoch: 099, Loss: 0.6021, Test: 0.8020\n",
      "Epoch: 100, Loss: 0.5799, Test: 0.8020\n"
     ]
    }
   ],
   "source": [
    "for epoch in range(1, 101):\n",
    "    loss = train()\n",
    "    print(f'Epoch: {epoch:03d}, Loss: {loss:.4f}, Test: {test_acc:.4f}')"
   ]
  },
  {
   "cell_type": "code",
   "execution_count": 29,
   "id": "fdc46d6f-d64b-4933-93b1-52604e7f8b0b",
   "metadata": {},
   "outputs": [
    {
     "name": "stdout",
     "output_type": "stream",
     "text": [
      "Test Accuracy: 0.8150\n"
     ]
    }
   ],
   "source": [
    "test_acc = test()\n",
    "print(f'Test Accuracy: {test_acc:.4f}')"
   ]
  },
  {
   "cell_type": "markdown",
   "id": "f52d8fbc-478a-4583-8b6c-b50c8ebe9e97",
   "metadata": {},
   "source": [
    "- GNN $\\to 81.5\\%$ test accuracy!!!"
   ]
  },
  {
   "cell_type": "markdown",
   "id": "01d952da-5985-41c2-8a5d-a31a38e5ce0e",
   "metadata": {},
   "source": [
    "There it is! By simply swapping the linear layers with GNN layers, we can reach 81.5% of test accuracy! "
   ]
  },
  {
   "cell_type": "markdown",
   "id": "b2f2dcda-e7cb-4e86-9431-cdb214f4c362",
   "metadata": {},
   "source": [
    "### `-` 학습후 GCN network의 노드임베딩 시각화"
   ]
  },
  {
   "cell_type": "code",
   "execution_count": 64,
   "id": "9220978e-d9ef-41a4-b7f6-4e3b2aeb5953",
   "metadata": {},
   "outputs": [
    {
     "data": {
      "image/png": "[encoded data removed]",
      "text/plain": [
       "<Figure size 720x720 with 1 Axes>"
      ]
     },
     "metadata": {},
     "output_type": "display_data"
    }
   ],
   "source": [
    "model.eval()\n",
    "\n",
    "out = model(data.x, data.edge_index)\n",
    "visualize(out, color=data.y)"
   ]
  },
  {
   "cell_type": "markdown",
   "id": "cba37064-9968-45f2-a141-8e1768bec21d",
   "metadata": {},
   "source": [
    "- 카테고리별로 군집이 어느정도 잘 나눠진 느낌"
   ]
  },
  {
   "cell_type": "markdown",
   "id": "eda29a62-8cdf-426b-9d88-0d8b21fe1d09",
   "metadata": {},
   "source": [
    "## (시도3) Validation set 이용 - 뭔가 잘못됨"
   ]
  },
  {
   "cell_type": "code",
   "execution_count": 30,
   "id": "013c3151-cd06-4c21-8ce6-c300c60e2dc9",
   "metadata": {},
   "outputs": [
    {
     "data": {
      "text/plain": [
       "tensor(500)"
      ]
     },
     "execution_count": 30,
     "metadata": {},
     "output_type": "execute_result"
    }
   ],
   "source": [
    "data.val_mask.sum()"
   ]
  },
  {
   "cell_type": "code",
   "execution_count": 19,
   "id": "0603cc05-1ca7-423e-85a0-243553c7cc9e",
   "metadata": {},
   "outputs": [
    {
     "data": {
      "text/plain": [
       "tensor(1000)"
      ]
     },
     "execution_count": 19,
     "metadata": {},
     "output_type": "execute_result"
    }
   ],
   "source": [
    "data.test_mask.sum()"
   ]
  },
  {
   "cell_type": "markdown",
   "id": "ed95447b-3543-417f-850e-08c5188b01e3",
   "metadata": {},
   "source": [
    "```python\n",
    "from torch_geometric.nn import GCNConv\n",
    "\n",
    "\n",
    "class GCN(torch.nn.Module):\n",
    "    def __init__(self, hidden_channels):\n",
    "        super().__init__()\n",
    "        ## 우리가 사용할 레이어 정의\n",
    "        torch.manual_seed(1234567)\n",
    "        self.conv1 = GCNConv(dataset.num_features, hidden_channels)\n",
    "        self.conv2 = GCNConv(hidden_channels, dataset.num_classes)\n",
    "        ## 레이어 정의 끝!\n",
    "        \n",
    "    def forward(self, x, edge_index):\n",
    "        ## yhat을 어떻게 구할것인지 정의\n",
    "        x = self.conv1(x, edge_index)\n",
    "        x = x.relu()\n",
    "        x = F.dropout(x, p=0.5, training=self.training)\n",
    "        x = self.conv2(x, edge_index)\n",
    "        ## 정의 끝!\n",
    "        return x\n",
    "\n",
    "model = GCN(hidden_channels=16)\n",
    "print(model)\n",
    "```"
   ]
  },
  {
   "cell_type": "code",
   "execution_count": 36,
   "id": "9cfb19e7-1ebd-4c50-80d9-a71810fc6082",
   "metadata": {},
   "outputs": [],
   "source": [
    "# model = GCN(hidden_channels=16)\n",
    "optimizr = torch.optim.Adam(model.parameters(), lr=0.01, weight_decay=5e-4)\n",
    "loss_fn = torch.nn.CrossEntropyLoss()\n",
    "\n",
    "def train():\n",
    "      model.train()\n",
    "      optimizr.zero_grad()  # Clear gradients.\n",
    "      out = model(data.x, data.edge_index)  # Perform a single forward pass.\n",
    "      loss = loss_fn(out[data.train_mask], data.y[data.train_mask])  # Compute the loss solely based on the training nodes.\n",
    "      loss.backward()  # Derive gradients.\n",
    "      optimizr.step()  # Update parameters based on gradients.\n",
    "      return loss\n",
    "\n",
    "def test():\n",
    "      model.eval()\n",
    "      out = model(data.x, data.edge_index)\n",
    "      pred = out.argmax(dim=1)  # Use the class with highest probability.\n",
    "      test_correct = pred[data.test_mask] == data.y[data.test_mask]  # Check against ground-truth labels.\n",
    "      test_acc = int(test_correct.sum()) / int(data.test_mask.sum())  # Derive ratio of correct predictions.\n",
    "      return test_acc\n",
    "\n",
    "def val():\n",
    "      model.eval()\n",
    "      out = model(data.x, data.edge_index)\n",
    "      pred = out.argmax(dim=1)  # Use the class with highest probability.\n",
    "      val_correct = pred[data.val_mask] == data.y[data.val_mask]  # Check against ground-truth labels.\n",
    "      val_acc = int(val_correct.sum()) / int(data.val_mask.sum())  # Derive ratio of correct predictions.\n",
    "      return val_acc"
   ]
  },
  {
   "cell_type": "markdown",
   "id": "30013883-8644-4cb3-bb6d-8488c7858c1a",
   "metadata": {},
   "source": [
    "### model1 (hidden chnnels=16)"
   ]
  },
  {
   "cell_type": "code",
   "execution_count": 37,
   "id": "a5a3615f-cafc-43c1-b14a-5fbf8458f4f8",
   "metadata": {},
   "outputs": [
    {
     "name": "stdout",
     "output_type": "stream",
     "text": [
      "에폭: 001, Loss: 1.9463, Val: 0.2880, Test: 0.2700\n",
      "에폭: 002, Loss: 1.9409, Val: 0.2580, Test: 0.2910\n",
      "에폭: 003, Loss: 1.9343, Val: 0.2560, Test: 0.2910\n",
      "에폭: 004, Loss: 1.9275, Val: 0.2640, Test: 0.3210\n",
      "에폭: 005, Loss: 1.9181, Val: 0.3220, Test: 0.3630\n",
      "에폭: 006, Loss: 1.9086, Val: 0.4000, Test: 0.4120\n",
      "에폭: 007, Loss: 1.9015, Val: 0.3900, Test: 0.4010\n",
      "에폭: 008, Loss: 1.8933, Val: 0.3900, Test: 0.4020\n",
      "에폭: 009, Loss: 1.8808, Val: 0.4220, Test: 0.4180\n",
      "에폭: 010, Loss: 1.8685, Val: 0.4560, Test: 0.4470\n",
      "에폭: 011, Loss: 1.8598, Val: 0.4760, Test: 0.4680\n",
      "에폭: 012, Loss: 1.8482, Val: 0.5120, Test: 0.5180\n",
      "에폭: 013, Loss: 1.8290, Val: 0.5380, Test: 0.5440\n",
      "에폭: 014, Loss: 1.8233, Val: 0.5580, Test: 0.5720\n",
      "에폭: 015, Loss: 1.8057, Val: 0.5820, Test: 0.5910\n",
      "에폭: 016, Loss: 1.7966, Val: 0.6060, Test: 0.6080\n",
      "에폭: 017, Loss: 1.7825, Val: 0.6200, Test: 0.6300\n",
      "에폭: 018, Loss: 1.7617, Val: 0.6280, Test: 0.6450\n",
      "에폭: 019, Loss: 1.7491, Val: 0.6280, Test: 0.6520\n",
      "에폭: 020, Loss: 1.7310, Val: 0.6320, Test: 0.6560\n",
      "에폭: 021, Loss: 1.7147, Val: 0.6360, Test: 0.6570\n",
      "에폭: 022, Loss: 1.7056, Val: 0.6420, Test: 0.6640\n",
      "에폭: 023, Loss: 1.6954, Val: 0.6720, Test: 0.6770\n",
      "에폭: 024, Loss: 1.6697, Val: 0.6920, Test: 0.6950\n",
      "에폭: 025, Loss: 1.6538, Val: 0.7080, Test: 0.7140\n",
      "에폭: 026, Loss: 1.6312, Val: 0.7160, Test: 0.7150\n",
      "에폭: 027, Loss: 1.6161, Val: 0.7160, Test: 0.7170\n",
      "에폭: 028, Loss: 1.5899, Val: 0.7200, Test: 0.7230\n",
      "에폭: 029, Loss: 1.5711, Val: 0.7160, Test: 0.7220\n",
      "에폭: 030, Loss: 1.5576, Val: 0.7220, Test: 0.7210\n",
      "에폭: 031, Loss: 1.5393, Val: 0.7260, Test: 0.7280\n",
      "에폭: 032, Loss: 1.5137, Val: 0.7340, Test: 0.7370\n",
      "에폭: 033, Loss: 1.4948, Val: 0.7340, Test: 0.7380\n",
      "에폭: 034, Loss: 1.4913, Val: 0.7360, Test: 0.7430\n",
      "에폭: 035, Loss: 1.4698, Val: 0.7400, Test: 0.7510\n",
      "에폭: 036, Loss: 1.3998, Val: 0.7520, Test: 0.7570\n",
      "에폭: 037, Loss: 1.4041, Val: 0.7540, Test: 0.7600\n",
      "에폭: 038, Loss: 1.3761, Val: 0.7560, Test: 0.7640\n",
      "에폭: 039, Loss: 1.3631, Val: 0.7620, Test: 0.7700\n",
      "에폭: 040, Loss: 1.3258, Val: 0.7620, Test: 0.7800\n",
      "에폭: 041, Loss: 1.3030, Val: 0.7640, Test: 0.7810\n",
      "에폭: 042, Loss: 1.3119, Val: 0.7600, Test: 0.7760\n",
      "에폭: 043, Loss: 1.2519, Val: 0.7580, Test: 0.7760\n",
      "에폭: 044, Loss: 1.2530, Val: 0.7600, Test: 0.7790\n",
      "에폭: 045, Loss: 1.2492, Val: 0.7660, Test: 0.7800\n",
      "에폭: 046, Loss: 1.2205, Val: 0.7640, Test: 0.7790\n",
      "에폭: 047, Loss: 1.2037, Val: 0.7620, Test: 0.7850\n",
      "에폭: 048, Loss: 1.1571, Val: 0.7660, Test: 0.7900\n",
      "에폭: 049, Loss: 1.1700, Val: 0.7620, Test: 0.7920\n",
      "에폭: 050, Loss: 1.1296, Val: 0.7600, Test: 0.7940\n",
      "에폭: 051, Loss: 1.0860, Val: 0.7600, Test: 0.7930\n",
      "에폭: 052, Loss: 1.1080, Val: 0.7600, Test: 0.7910\n",
      "에폭: 053, Loss: 1.0564, Val: 0.7580, Test: 0.7930\n",
      "에폭: 054, Loss: 1.0157, Val: 0.7560, Test: 0.7930\n",
      "에폭: 055, Loss: 1.0362, Val: 0.7580, Test: 0.7920\n",
      "에폭: 056, Loss: 1.0328, Val: 0.7660, Test: 0.7980\n",
      "에폭: 057, Loss: 1.0058, Val: 0.7680, Test: 0.8000\n",
      "에폭: 058, Loss: 0.9865, Val: 0.7680, Test: 0.7970\n",
      "에폭: 059, Loss: 0.9667, Val: 0.7700, Test: 0.8010\n",
      "에폭: 060, Loss: 0.9741, Val: 0.7680, Test: 0.8000\n",
      "에폭: 061, Loss: 0.9769, Val: 0.7700, Test: 0.8030\n",
      "에폭: 062, Loss: 0.9122, Val: 0.7720, Test: 0.8040\n",
      "에폭: 063, Loss: 0.8993, Val: 0.7760, Test: 0.8050\n",
      "에폭: 064, Loss: 0.8769, Val: 0.7760, Test: 0.8050\n",
      "에폭: 065, Loss: 0.8575, Val: 0.7800, Test: 0.8060\n",
      "에폭: 066, Loss: 0.8897, Val: 0.7760, Test: 0.8030\n",
      "에폭: 067, Loss: 0.8312, Val: 0.7720, Test: 0.8060\n",
      "에폭: 068, Loss: 0.8262, Val: 0.7680, Test: 0.8030\n",
      "에폭: 069, Loss: 0.8511, Val: 0.7660, Test: 0.8070\n",
      "에폭: 070, Loss: 0.7711, Val: 0.7700, Test: 0.8070\n",
      "에폭: 071, Loss: 0.8012, Val: 0.7680, Test: 0.8080\n",
      "에폭: 072, Loss: 0.7529, Val: 0.7740, Test: 0.8080\n",
      "에폭: 073, Loss: 0.7525, Val: 0.7740, Test: 0.8070\n",
      "에폭: 074, Loss: 0.7689, Val: 0.7740, Test: 0.8110\n",
      "에폭: 075, Loss: 0.7553, Val: 0.7760, Test: 0.8140\n",
      "에폭: 076, Loss: 0.7032, Val: 0.7780, Test: 0.8120\n",
      "에폭: 077, Loss: 0.7326, Val: 0.7800, Test: 0.8110\n",
      "에폭: 078, Loss: 0.7122, Val: 0.7840, Test: 0.8120\n",
      "에폭: 079, Loss: 0.7090, Val: 0.7880, Test: 0.8110\n",
      "에폭: 080, Loss: 0.6755, Val: 0.7800, Test: 0.8130\n",
      "에폭: 081, Loss: 0.6666, Val: 0.7780, Test: 0.8070\n",
      "에폭: 082, Loss: 0.6679, Val: 0.7700, Test: 0.8080\n",
      "에폭: 083, Loss: 0.7037, Val: 0.7700, Test: 0.8100\n",
      "에폭: 084, Loss: 0.6752, Val: 0.7700, Test: 0.8070\n",
      "에폭: 085, Loss: 0.6266, Val: 0.7680, Test: 0.8100\n",
      "에폭: 086, Loss: 0.6564, Val: 0.7660, Test: 0.8080\n",
      "에폭: 087, Loss: 0.6266, Val: 0.7660, Test: 0.8090\n",
      "에폭: 088, Loss: 0.6411, Val: 0.7660, Test: 0.8080\n",
      "에폭: 089, Loss: 0.6226, Val: 0.7700, Test: 0.8100\n",
      "에폭: 090, Loss: 0.6535, Val: 0.7780, Test: 0.8130\n",
      "에폭: 091, Loss: 0.6317, Val: 0.7820, Test: 0.8140\n",
      "에폭: 092, Loss: 0.5741, Val: 0.7840, Test: 0.8120\n",
      "에폭: 093, Loss: 0.5572, Val: 0.7860, Test: 0.8140\n",
      "에폭: 094, Loss: 0.5710, Val: 0.7820, Test: 0.8120\n",
      "에폭: 095, Loss: 0.5816, Val: 0.7820, Test: 0.8140\n",
      "에폭: 096, Loss: 0.5745, Val: 0.7780, Test: 0.8140\n",
      "에폭: 097, Loss: 0.5547, Val: 0.7740, Test: 0.8150\n",
      "에폭: 098, Loss: 0.5989, Val: 0.7800, Test: 0.8160\n",
      "에폭: 099, Loss: 0.6021, Val: 0.7720, Test: 0.8160\n",
      "에폭: 100, Loss: 0.5799, Val: 0.7780, Test: 0.8150\n"
     ]
    }
   ],
   "source": [
    "model = GCN(hidden_channels=16)\n",
    "optimizr = torch.optim.Adam(model.parameters(), lr=0.01, weight_decay=5e-4)\n",
    "loss_fn = torch.nn.CrossEntropyLoss()\n",
    "\n",
    "for epoch in range(1, 101):\n",
    "    loss = train()\n",
    "    val_acc = val()\n",
    "    test_acc = test()\n",
    "    print(f'에폭: {epoch:03d}, Loss: {loss:.4f}, Val: {val_acc:.4f}, Test: {test_acc:.4f}')"
   ]
  },
  {
   "cell_type": "markdown",
   "id": "a1d8d763-fd91-491a-ad36-cd0fbc8de938",
   "metadata": {},
   "source": [
    "### model2 (hidden channels=64)"
   ]
  },
  {
   "cell_type": "code",
   "execution_count": 39,
   "id": "ff69f2b8-a6ba-4cc8-8c43-d9d2abef1137",
   "metadata": {},
   "outputs": [
    {
     "name": "stdout",
     "output_type": "stream",
     "text": [
      "에폭: 001, Loss: 1.9448, Val: 0.2460, Test: 0.2360\n",
      "에폭: 002, Loss: 1.9221, Val: 0.3020, Test: 0.3060\n",
      "에폭: 003, Loss: 1.8922, Val: 0.3200, Test: 0.3270\n",
      "에폭: 004, Loss: 1.8556, Val: 0.3940, Test: 0.4060\n",
      "에폭: 005, Loss: 1.8123, Val: 0.4800, Test: 0.4960\n",
      "에폭: 006, Loss: 1.7614, Val: 0.5400, Test: 0.5510\n",
      "에폭: 007, Loss: 1.7012, Val: 0.5900, Test: 0.6140\n",
      "에폭: 008, Loss: 1.6528, Val: 0.6440, Test: 0.6740\n",
      "에폭: 009, Loss: 1.5808, Val: 0.6740, Test: 0.7130\n",
      "에폭: 010, Loss: 1.5118, Val: 0.7080, Test: 0.7390\n",
      "에폭: 011, Loss: 1.4335, Val: 0.7220, Test: 0.7500\n",
      "에폭: 012, Loss: 1.3561, Val: 0.7400, Test: 0.7590\n",
      "에폭: 013, Loss: 1.2777, Val: 0.7500, Test: 0.7660\n",
      "에폭: 014, Loss: 1.2094, Val: 0.7560, Test: 0.7750\n",
      "에폭: 015, Loss: 1.1225, Val: 0.7680, Test: 0.7820\n",
      "에폭: 016, Loss: 1.0417, Val: 0.7720, Test: 0.7920\n",
      "에폭: 017, Loss: 0.9676, Val: 0.7800, Test: 0.7990\n",
      "에폭: 018, Loss: 0.9025, Val: 0.7900, Test: 0.8060\n",
      "에폭: 019, Loss: 0.8258, Val: 0.7920, Test: 0.8100\n",
      "에폭: 020, Loss: 0.7598, Val: 0.7940, Test: 0.8150\n",
      "에폭: 021, Loss: 0.7166, Val: 0.7920, Test: 0.8140\n",
      "에폭: 022, Loss: 0.6533, Val: 0.7920, Test: 0.8130\n",
      "에폭: 023, Loss: 0.6075, Val: 0.7880, Test: 0.8100\n",
      "에폭: 024, Loss: 0.5647, Val: 0.7900, Test: 0.8140\n",
      "에폭: 025, Loss: 0.5216, Val: 0.7940, Test: 0.8160\n",
      "에폭: 026, Loss: 0.4843, Val: 0.7960, Test: 0.8170\n",
      "에폭: 027, Loss: 0.4597, Val: 0.7960, Test: 0.8210\n",
      "에폭: 028, Loss: 0.4341, Val: 0.8040, Test: 0.8240\n",
      "에폭: 029, Loss: 0.3999, Val: 0.8040, Test: 0.8310\n",
      "에폭: 030, Loss: 0.3885, Val: 0.8000, Test: 0.8310\n",
      "에폭: 031, Loss: 0.3755, Val: 0.7980, Test: 0.8290\n",
      "에폭: 032, Loss: 0.3532, Val: 0.7960, Test: 0.8240\n",
      "에폭: 033, Loss: 0.3327, Val: 0.7940, Test: 0.8220\n",
      "에폭: 034, Loss: 0.3176, Val: 0.7960, Test: 0.8180\n",
      "에폭: 035, Loss: 0.3280, Val: 0.7960, Test: 0.8190\n",
      "에폭: 036, Loss: 0.3020, Val: 0.7980, Test: 0.8200\n",
      "에폭: 037, Loss: 0.3077, Val: 0.7960, Test: 0.8140\n",
      "에폭: 038, Loss: 0.3007, Val: 0.7980, Test: 0.8140\n",
      "에폭: 039, Loss: 0.2771, Val: 0.8000, Test: 0.8190\n",
      "에폭: 040, Loss: 0.2912, Val: 0.8020, Test: 0.8190\n",
      "에폭: 041, Loss: 0.2674, Val: 0.8020, Test: 0.8170\n",
      "에폭: 042, Loss: 0.2737, Val: 0.7920, Test: 0.8110\n",
      "에폭: 043, Loss: 0.2506, Val: 0.7960, Test: 0.8070\n",
      "에폭: 044, Loss: 0.2429, Val: 0.7960, Test: 0.8070\n",
      "에폭: 045, Loss: 0.2518, Val: 0.7940, Test: 0.8110\n",
      "에폭: 046, Loss: 0.2412, Val: 0.7880, Test: 0.8090\n",
      "에폭: 047, Loss: 0.2537, Val: 0.7980, Test: 0.8010\n",
      "에폭: 048, Loss: 0.2303, Val: 0.7960, Test: 0.8030\n",
      "에폭: 049, Loss: 0.2341, Val: 0.7900, Test: 0.8090\n",
      "에폭: 050, Loss: 0.2295, Val: 0.7960, Test: 0.8050\n",
      "에폭: 051, Loss: 0.2180, Val: 0.7940, Test: 0.8060\n",
      "에폭: 052, Loss: 0.2149, Val: 0.7940, Test: 0.8040\n",
      "에폭: 053, Loss: 0.2350, Val: 0.7920, Test: 0.8040\n",
      "에폭: 054, Loss: 0.2234, Val: 0.7980, Test: 0.7990\n",
      "에폭: 055, Loss: 0.2126, Val: 0.7940, Test: 0.8040\n",
      "에폭: 056, Loss: 0.2107, Val: 0.7920, Test: 0.8120\n",
      "에폭: 057, Loss: 0.2117, Val: 0.7940, Test: 0.8080\n",
      "에폭: 058, Loss: 0.2034, Val: 0.7920, Test: 0.8110\n",
      "에폭: 059, Loss: 0.2032, Val: 0.7940, Test: 0.8080\n",
      "에폭: 060, Loss: 0.2053, Val: 0.8000, Test: 0.8030\n",
      "에폭: 061, Loss: 0.2004, Val: 0.7980, Test: 0.7990\n",
      "에폭: 062, Loss: 0.1933, Val: 0.7980, Test: 0.8050\n",
      "에폭: 063, Loss: 0.1882, Val: 0.7960, Test: 0.8120\n",
      "에폭: 064, Loss: 0.1891, Val: 0.7960, Test: 0.8150\n",
      "에폭: 065, Loss: 0.1982, Val: 0.7960, Test: 0.8080\n",
      "에폭: 066, Loss: 0.1794, Val: 0.7900, Test: 0.8050\n",
      "에폭: 067, Loss: 0.1883, Val: 0.7940, Test: 0.8010\n",
      "에폭: 068, Loss: 0.1840, Val: 0.7900, Test: 0.8010\n",
      "에폭: 069, Loss: 0.1801, Val: 0.7900, Test: 0.8030\n",
      "에폭: 070, Loss: 0.1845, Val: 0.7960, Test: 0.8070\n",
      "에폭: 071, Loss: 0.1839, Val: 0.7920, Test: 0.8120\n",
      "에폭: 072, Loss: 0.1820, Val: 0.7980, Test: 0.8080\n",
      "에폭: 073, Loss: 0.1787, Val: 0.7940, Test: 0.8000\n",
      "에폭: 074, Loss: 0.1813, Val: 0.7920, Test: 0.8060\n",
      "에폭: 075, Loss: 0.1793, Val: 0.7860, Test: 0.8050\n",
      "에폭: 076, Loss: 0.1785, Val: 0.7960, Test: 0.8070\n",
      "에폭: 077, Loss: 0.1644, Val: 0.7980, Test: 0.8090\n",
      "에폭: 078, Loss: 0.1687, Val: 0.7940, Test: 0.8090\n",
      "에폭: 079, Loss: 0.1673, Val: 0.7880, Test: 0.8080\n",
      "에폭: 080, Loss: 0.1705, Val: 0.7960, Test: 0.8140\n",
      "에폭: 081, Loss: 0.1713, Val: 0.7900, Test: 0.8070\n",
      "에폭: 082, Loss: 0.1720, Val: 0.7940, Test: 0.8080\n",
      "에폭: 083, Loss: 0.1683, Val: 0.7940, Test: 0.8040\n",
      "에폭: 084, Loss: 0.1672, Val: 0.7880, Test: 0.8080\n",
      "에폭: 085, Loss: 0.1657, Val: 0.7900, Test: 0.8140\n",
      "에폭: 086, Loss: 0.1592, Val: 0.7940, Test: 0.8060\n",
      "에폭: 087, Loss: 0.1635, Val: 0.8000, Test: 0.8100\n",
      "에폭: 088, Loss: 0.1593, Val: 0.7920, Test: 0.8090\n",
      "에폭: 089, Loss: 0.1666, Val: 0.7900, Test: 0.8040\n",
      "에폭: 090, Loss: 0.1593, Val: 0.7940, Test: 0.7980\n",
      "에폭: 091, Loss: 0.1669, Val: 0.7940, Test: 0.8010\n",
      "에폭: 092, Loss: 0.1540, Val: 0.7900, Test: 0.8010\n",
      "에폭: 093, Loss: 0.1513, Val: 0.7940, Test: 0.8100\n",
      "에폭: 094, Loss: 0.1569, Val: 0.7940, Test: 0.8150\n",
      "에폭: 095, Loss: 0.1561, Val: 0.7880, Test: 0.8080\n",
      "에폭: 096, Loss: 0.1497, Val: 0.7840, Test: 0.8020\n",
      "에폭: 097, Loss: 0.1497, Val: 0.7880, Test: 0.8000\n",
      "에폭: 098, Loss: 0.1559, Val: 0.7920, Test: 0.8020\n",
      "에폭: 099, Loss: 0.1493, Val: 0.7940, Test: 0.8090\n",
      "에폭: 100, Loss: 0.1488, Val: 0.8000, Test: 0.8090\n"
     ]
    }
   ],
   "source": [
    "model = GCN(hidden_channels=256)\n",
    "optimizr = torch.optim.Adam(model.parameters(), lr=0.01, weight_decay=5e-4)\n",
    "loss_fn = torch.nn.CrossEntropyLoss()\n",
    "\n",
    "for epoch in range(1, 101):\n",
    "    loss = train()\n",
    "    val_acc = val()\n",
    "    test_acc = test()\n",
    "    print(f'에폭: {epoch:03d}, Loss: {loss:.4f}, Val: {val_acc:.4f}, Test: {test_acc:.4f}')"
   ]
  },
  {
   "cell_type": "code",
   "execution_count": 41,
   "id": "75a50446-684e-4b77-b4ac-ba18d71c8f5e",
   "metadata": {},
   "outputs": [
    {
     "data": {
      "text/plain": [
       "0.809"
      ]
     },
     "execution_count": 41,
     "metadata": {},
     "output_type": "execute_result"
    }
   ],
   "source": [
    "test_acc = test()\n",
    "test_acc"
   ]
  },
  {
   "cell_type": "markdown",
   "id": "19688b99-605c-48c6-81eb-db8e64ebaa51",
   "metadata": {},
   "source": [
    "### model3 (hidden_channels=256)"
   ]
  },
  {
   "cell_type": "code",
   "execution_count": 43,
   "id": "985c708c-4cc2-435a-a2fa-0c6373a94862",
   "metadata": {},
   "outputs": [
    {
     "name": "stdout",
     "output_type": "stream",
     "text": [
      "에폭: 001, Loss: 1.9448, Val: 0.2460, Test: 0.2360\n",
      "에폭: 002, Loss: 1.9221, Val: 0.3020, Test: 0.3060\n",
      "에폭: 003, Loss: 1.8922, Val: 0.3200, Test: 0.3270\n",
      "에폭: 004, Loss: 1.8556, Val: 0.3940, Test: 0.4060\n",
      "에폭: 005, Loss: 1.8123, Val: 0.4800, Test: 0.4960\n",
      "에폭: 006, Loss: 1.7614, Val: 0.5400, Test: 0.5510\n",
      "에폭: 007, Loss: 1.7012, Val: 0.5900, Test: 0.6140\n",
      "에폭: 008, Loss: 1.6528, Val: 0.6440, Test: 0.6740\n",
      "에폭: 009, Loss: 1.5808, Val: 0.6740, Test: 0.7130\n",
      "에폭: 010, Loss: 1.5118, Val: 0.7080, Test: 0.7390\n",
      "에폭: 011, Loss: 1.4335, Val: 0.7220, Test: 0.7500\n",
      "에폭: 012, Loss: 1.3561, Val: 0.7400, Test: 0.7590\n",
      "에폭: 013, Loss: 1.2777, Val: 0.7500, Test: 0.7660\n",
      "에폭: 014, Loss: 1.2094, Val: 0.7560, Test: 0.7750\n",
      "에폭: 015, Loss: 1.1225, Val: 0.7680, Test: 0.7820\n",
      "에폭: 016, Loss: 1.0417, Val: 0.7720, Test: 0.7920\n",
      "에폭: 017, Loss: 0.9676, Val: 0.7800, Test: 0.7990\n",
      "에폭: 018, Loss: 0.9025, Val: 0.7900, Test: 0.8060\n",
      "에폭: 019, Loss: 0.8258, Val: 0.7920, Test: 0.8100\n",
      "에폭: 020, Loss: 0.7598, Val: 0.7940, Test: 0.8150\n",
      "에폭: 021, Loss: 0.7166, Val: 0.7920, Test: 0.8140\n",
      "에폭: 022, Loss: 0.6533, Val: 0.7920, Test: 0.8130\n",
      "에폭: 023, Loss: 0.6075, Val: 0.7880, Test: 0.8100\n",
      "에폭: 024, Loss: 0.5647, Val: 0.7900, Test: 0.8140\n",
      "에폭: 025, Loss: 0.5216, Val: 0.7940, Test: 0.8160\n",
      "에폭: 026, Loss: 0.4843, Val: 0.7960, Test: 0.8170\n",
      "에폭: 027, Loss: 0.4597, Val: 0.7960, Test: 0.8210\n",
      "에폭: 028, Loss: 0.4341, Val: 0.8040, Test: 0.8240\n",
      "에폭: 029, Loss: 0.3999, Val: 0.8040, Test: 0.8310\n",
      "에폭: 030, Loss: 0.3885, Val: 0.8000, Test: 0.8310\n",
      "에폭: 031, Loss: 0.3755, Val: 0.7980, Test: 0.8290\n",
      "에폭: 032, Loss: 0.3532, Val: 0.7960, Test: 0.8240\n",
      "에폭: 033, Loss: 0.3327, Val: 0.7940, Test: 0.8220\n",
      "에폭: 034, Loss: 0.3176, Val: 0.7960, Test: 0.8180\n",
      "에폭: 035, Loss: 0.3280, Val: 0.7960, Test: 0.8190\n",
      "에폭: 036, Loss: 0.3020, Val: 0.7980, Test: 0.8200\n",
      "에폭: 037, Loss: 0.3077, Val: 0.7960, Test: 0.8140\n",
      "에폭: 038, Loss: 0.3007, Val: 0.7980, Test: 0.8140\n",
      "에폭: 039, Loss: 0.2771, Val: 0.8000, Test: 0.8190\n",
      "에폭: 040, Loss: 0.2912, Val: 0.8020, Test: 0.8190\n",
      "에폭: 041, Loss: 0.2674, Val: 0.8020, Test: 0.8170\n",
      "에폭: 042, Loss: 0.2737, Val: 0.7920, Test: 0.8110\n",
      "에폭: 043, Loss: 0.2506, Val: 0.7960, Test: 0.8070\n",
      "에폭: 044, Loss: 0.2429, Val: 0.7960, Test: 0.8070\n",
      "에폭: 045, Loss: 0.2518, Val: 0.7940, Test: 0.8110\n",
      "에폭: 046, Loss: 0.2412, Val: 0.7880, Test: 0.8090\n",
      "에폭: 047, Loss: 0.2537, Val: 0.7980, Test: 0.8010\n",
      "에폭: 048, Loss: 0.2303, Val: 0.7960, Test: 0.8030\n",
      "에폭: 049, Loss: 0.2341, Val: 0.7900, Test: 0.8090\n",
      "에폭: 050, Loss: 0.2295, Val: 0.7960, Test: 0.8050\n",
      "에폭: 051, Loss: 0.2180, Val: 0.7940, Test: 0.8060\n",
      "에폭: 052, Loss: 0.2149, Val: 0.7940, Test: 0.8040\n",
      "에폭: 053, Loss: 0.2350, Val: 0.7920, Test: 0.8040\n",
      "에폭: 054, Loss: 0.2234, Val: 0.7980, Test: 0.7990\n",
      "에폭: 055, Loss: 0.2126, Val: 0.7940, Test: 0.8040\n",
      "에폭: 056, Loss: 0.2107, Val: 0.7920, Test: 0.8120\n",
      "에폭: 057, Loss: 0.2117, Val: 0.7940, Test: 0.8080\n",
      "에폭: 058, Loss: 0.2034, Val: 0.7920, Test: 0.8110\n",
      "에폭: 059, Loss: 0.2032, Val: 0.7940, Test: 0.8080\n",
      "에폭: 060, Loss: 0.2053, Val: 0.8000, Test: 0.8030\n",
      "에폭: 061, Loss: 0.2004, Val: 0.7980, Test: 0.7990\n",
      "에폭: 062, Loss: 0.1933, Val: 0.7980, Test: 0.8050\n",
      "에폭: 063, Loss: 0.1882, Val: 0.7960, Test: 0.8120\n",
      "에폭: 064, Loss: 0.1891, Val: 0.7960, Test: 0.8150\n",
      "에폭: 065, Loss: 0.1982, Val: 0.7960, Test: 0.8080\n",
      "에폭: 066, Loss: 0.1794, Val: 0.7900, Test: 0.8050\n",
      "에폭: 067, Loss: 0.1883, Val: 0.7940, Test: 0.8010\n",
      "에폭: 068, Loss: 0.1840, Val: 0.7900, Test: 0.8010\n",
      "에폭: 069, Loss: 0.1801, Val: 0.7900, Test: 0.8030\n",
      "에폭: 070, Loss: 0.1845, Val: 0.7960, Test: 0.8070\n",
      "에폭: 071, Loss: 0.1839, Val: 0.7920, Test: 0.8120\n",
      "에폭: 072, Loss: 0.1820, Val: 0.7980, Test: 0.8080\n",
      "에폭: 073, Loss: 0.1787, Val: 0.7940, Test: 0.8000\n",
      "에폭: 074, Loss: 0.1813, Val: 0.7920, Test: 0.8060\n",
      "에폭: 075, Loss: 0.1793, Val: 0.7860, Test: 0.8050\n",
      "에폭: 076, Loss: 0.1785, Val: 0.7960, Test: 0.8070\n",
      "에폭: 077, Loss: 0.1644, Val: 0.7980, Test: 0.8090\n",
      "에폭: 078, Loss: 0.1687, Val: 0.7940, Test: 0.8090\n",
      "에폭: 079, Loss: 0.1673, Val: 0.7880, Test: 0.8080\n",
      "에폭: 080, Loss: 0.1705, Val: 0.7960, Test: 0.8140\n",
      "에폭: 081, Loss: 0.1713, Val: 0.7900, Test: 0.8070\n",
      "에폭: 082, Loss: 0.1720, Val: 0.7940, Test: 0.8080\n",
      "에폭: 083, Loss: 0.1683, Val: 0.7940, Test: 0.8040\n",
      "에폭: 084, Loss: 0.1672, Val: 0.7880, Test: 0.8080\n",
      "에폭: 085, Loss: 0.1657, Val: 0.7900, Test: 0.8140\n",
      "에폭: 086, Loss: 0.1592, Val: 0.7940, Test: 0.8060\n",
      "에폭: 087, Loss: 0.1635, Val: 0.8000, Test: 0.8100\n",
      "에폭: 088, Loss: 0.1593, Val: 0.7920, Test: 0.8090\n",
      "에폭: 089, Loss: 0.1666, Val: 0.7900, Test: 0.8040\n",
      "에폭: 090, Loss: 0.1593, Val: 0.7940, Test: 0.7980\n",
      "에폭: 091, Loss: 0.1669, Val: 0.7940, Test: 0.8010\n",
      "에폭: 092, Loss: 0.1540, Val: 0.7900, Test: 0.8010\n",
      "에폭: 093, Loss: 0.1513, Val: 0.7940, Test: 0.8100\n",
      "에폭: 094, Loss: 0.1569, Val: 0.7940, Test: 0.8150\n",
      "에폭: 095, Loss: 0.1561, Val: 0.7880, Test: 0.8080\n",
      "에폭: 096, Loss: 0.1497, Val: 0.7840, Test: 0.8020\n",
      "에폭: 097, Loss: 0.1497, Val: 0.7880, Test: 0.8000\n",
      "에폭: 098, Loss: 0.1559, Val: 0.7920, Test: 0.8020\n",
      "에폭: 099, Loss: 0.1493, Val: 0.7940, Test: 0.8090\n",
      "에폭: 100, Loss: 0.1488, Val: 0.8000, Test: 0.8090\n"
     ]
    }
   ],
   "source": [
    "model = GCN(hidden_channels=256)\n",
    "optimizr = torch.optim.Adam(model.parameters(), lr=0.01, weight_decay=5e-4)\n",
    "loss_fn = torch.nn.CrossEntropyLoss()\n",
    "\n",
    "for epoch in range(1, 101):\n",
    "    loss = train()\n",
    "    val_acc = val()\n",
    "    test_acc = test()\n",
    "    print(f'에폭: {epoch:03d}, Loss: {loss:.4f}, Val: {val_acc:.4f}, Test: {test_acc:.4f}')"
   ]
  },
  {
   "cell_type": "markdown",
   "id": "da32e86a-cc84-46c6-a612-193d90db40b8",
   "metadata": {},
   "source": [
    "- 올라가야하는데 오히려 떨어졌는데?? (에폭수 늘려봐도 똑같다..)"
   ]
  },
  {
   "cell_type": "markdown",
   "id": "94abe553-e52b-4c4b-ac8e-9b93df548343",
   "metadata": {},
   "source": [
    "## dropout=0.3"
   ]
  },
  {
   "cell_type": "code",
   "execution_count": 44,
   "id": "e9b476b6-7dd9-4467-b406-75b691ce7b49",
   "metadata": {},
   "outputs": [
    {
     "name": "stdout",
     "output_type": "stream",
     "text": [
      "GCN(\n",
      "  (conv1): GCNConv(1433, 16)\n",
      "  (conv2): GCNConv(16, 7)\n",
      ")\n"
     ]
    }
   ],
   "source": [
    "from torch_geometric.nn import GCNConv\n",
    "\n",
    "\n",
    "class GCN(torch.nn.Module):\n",
    "    def __init__(self, hidden_channels):\n",
    "        super().__init__()\n",
    "        ## 우리가 사용할 레이어 정의\n",
    "        torch.manual_seed(1234567)\n",
    "        self.conv1 = GCNConv(dataset.num_features, hidden_channels)\n",
    "        self.conv2 = GCNConv(hidden_channels, dataset.num_classes)\n",
    "        ## 레이어 정의 끝!\n",
    "        \n",
    "    def forward(self, x, edge_index):\n",
    "        ## yhat을 어떻게 구할것인지 정의\n",
    "        x = self.conv1(x, edge_index)\n",
    "        x = x.relu()\n",
    "        x = F.dropout(x, p=0.3, training=self.training)\n",
    "        x = self.conv2(x, edge_index)\n",
    "        ## 정의 끝!\n",
    "        return x\n",
    "\n",
    "model = GCN(hidden_channels=16)\n",
    "print(model)"
   ]
  },
  {
   "cell_type": "code",
   "execution_count": 45,
   "id": "386dec17-3729-4080-b211-904aad4d2e68",
   "metadata": {},
   "outputs": [
    {
     "name": "stdout",
     "output_type": "stream",
     "text": [
      "에폭: 001, Loss: 1.9464, Val: 0.2780, Test: 0.2740\n",
      "에폭: 002, Loss: 1.9407, Val: 0.4700, Test: 0.4760\n",
      "에폭: 003, Loss: 1.9337, Val: 0.2860, Test: 0.3320\n",
      "에폭: 004, Loss: 1.9258, Val: 0.2960, Test: 0.3550\n",
      "에폭: 005, Loss: 1.9156, Val: 0.3040, Test: 0.3420\n",
      "에폭: 006, Loss: 1.9056, Val: 0.3220, Test: 0.3490\n",
      "에폭: 007, Loss: 1.8976, Val: 0.3720, Test: 0.3790\n",
      "에폭: 008, Loss: 1.8855, Val: 0.3900, Test: 0.3810\n",
      "에폭: 009, Loss: 1.8749, Val: 0.4040, Test: 0.4030\n",
      "에폭: 010, Loss: 1.8610, Val: 0.4240, Test: 0.4150\n",
      "에폭: 011, Loss: 1.8510, Val: 0.4460, Test: 0.4290\n",
      "에폭: 012, Loss: 1.8393, Val: 0.4700, Test: 0.4650\n",
      "에폭: 013, Loss: 1.8186, Val: 0.4920, Test: 0.4850\n",
      "에폭: 014, Loss: 1.8061, Val: 0.5000, Test: 0.5010\n",
      "에폭: 015, Loss: 1.7972, Val: 0.5120, Test: 0.5220\n",
      "에폭: 016, Loss: 1.7835, Val: 0.5160, Test: 0.5360\n",
      "에폭: 017, Loss: 1.7636, Val: 0.5440, Test: 0.5580\n",
      "에폭: 018, Loss: 1.7460, Val: 0.5580, Test: 0.5740\n",
      "에폭: 019, Loss: 1.7369, Val: 0.5640, Test: 0.5900\n",
      "에폭: 020, Loss: 1.7162, Val: 0.5800, Test: 0.6060\n",
      "에폭: 021, Loss: 1.6970, Val: 0.5940, Test: 0.6260\n",
      "에폭: 022, Loss: 1.6831, Val: 0.6080, Test: 0.6390\n",
      "에폭: 023, Loss: 1.6674, Val: 0.6420, Test: 0.6470\n",
      "에폭: 024, Loss: 1.6391, Val: 0.6480, Test: 0.6610\n",
      "에폭: 025, Loss: 1.6216, Val: 0.6600, Test: 0.6730\n",
      "에폭: 026, Loss: 1.6116, Val: 0.6680, Test: 0.6860\n",
      "에폭: 027, Loss: 1.5808, Val: 0.6800, Test: 0.6940\n",
      "에폭: 028, Loss: 1.5628, Val: 0.6880, Test: 0.7000\n",
      "에폭: 029, Loss: 1.5349, Val: 0.7000, Test: 0.7040\n",
      "에폭: 030, Loss: 1.5208, Val: 0.7100, Test: 0.7100\n",
      "에폭: 031, Loss: 1.4980, Val: 0.7300, Test: 0.7130\n",
      "에폭: 032, Loss: 1.4797, Val: 0.7360, Test: 0.7190\n",
      "에폭: 033, Loss: 1.4533, Val: 0.7400, Test: 0.7330\n",
      "에폭: 034, Loss: 1.4457, Val: 0.7420, Test: 0.7400\n",
      "에폭: 035, Loss: 1.3973, Val: 0.7380, Test: 0.7480\n",
      "에폭: 036, Loss: 1.3577, Val: 0.7380, Test: 0.7570\n",
      "에폭: 037, Loss: 1.3596, Val: 0.7480, Test: 0.7600\n",
      "에폭: 038, Loss: 1.3399, Val: 0.7500, Test: 0.7630\n",
      "에폭: 039, Loss: 1.3004, Val: 0.7480, Test: 0.7640\n",
      "에폭: 040, Loss: 1.2785, Val: 0.7600, Test: 0.7660\n",
      "에폭: 041, Loss: 1.2550, Val: 0.7640, Test: 0.7710\n",
      "에폭: 042, Loss: 1.2501, Val: 0.7640, Test: 0.7750\n",
      "에폭: 043, Loss: 1.1990, Val: 0.7680, Test: 0.7800\n",
      "에폭: 044, Loss: 1.1957, Val: 0.7640, Test: 0.7810\n",
      "에폭: 045, Loss: 1.1835, Val: 0.7620, Test: 0.7840\n",
      "에폭: 046, Loss: 1.1654, Val: 0.7620, Test: 0.7860\n",
      "에폭: 047, Loss: 1.1340, Val: 0.7680, Test: 0.7850\n",
      "에폭: 048, Loss: 1.0928, Val: 0.7640, Test: 0.7870\n",
      "에폭: 049, Loss: 1.0673, Val: 0.7620, Test: 0.7890\n",
      "에폭: 050, Loss: 1.0424, Val: 0.7600, Test: 0.7950\n",
      "에폭: 051, Loss: 1.0307, Val: 0.7700, Test: 0.7960\n",
      "에폭: 052, Loss: 1.0354, Val: 0.7700, Test: 0.7960\n",
      "에폭: 053, Loss: 0.9902, Val: 0.7680, Test: 0.7960\n",
      "에폭: 054, Loss: 0.9670, Val: 0.7660, Test: 0.7990\n",
      "에폭: 055, Loss: 0.9509, Val: 0.7720, Test: 0.8010\n",
      "에폭: 056, Loss: 0.9346, Val: 0.7720, Test: 0.7990\n",
      "에폭: 057, Loss: 0.9241, Val: 0.7720, Test: 0.8010\n",
      "에폭: 058, Loss: 0.9048, Val: 0.7700, Test: 0.8060\n",
      "에폭: 059, Loss: 0.8751, Val: 0.7760, Test: 0.8070\n",
      "에폭: 060, Loss: 0.8744, Val: 0.7760, Test: 0.8070\n",
      "에폭: 061, Loss: 0.8741, Val: 0.7760, Test: 0.8060\n",
      "에폭: 062, Loss: 0.8382, Val: 0.7760, Test: 0.8060\n",
      "에폭: 063, Loss: 0.8386, Val: 0.7760, Test: 0.8050\n",
      "에폭: 064, Loss: 0.8064, Val: 0.7740, Test: 0.8050\n",
      "에폭: 065, Loss: 0.7937, Val: 0.7700, Test: 0.8050\n",
      "에폭: 066, Loss: 0.7756, Val: 0.7700, Test: 0.8060\n",
      "에폭: 067, Loss: 0.7719, Val: 0.7740, Test: 0.8060\n",
      "에폭: 068, Loss: 0.7680, Val: 0.7760, Test: 0.8080\n",
      "에폭: 069, Loss: 0.7578, Val: 0.7740, Test: 0.8060\n",
      "에폭: 070, Loss: 0.6947, Val: 0.7760, Test: 0.8060\n",
      "에폭: 071, Loss: 0.6947, Val: 0.7740, Test: 0.8060\n",
      "에폭: 072, Loss: 0.7084, Val: 0.7800, Test: 0.8090\n",
      "에폭: 073, Loss: 0.6902, Val: 0.7820, Test: 0.8110\n",
      "에폭: 074, Loss: 0.6982, Val: 0.7840, Test: 0.8120\n",
      "에폭: 075, Loss: 0.6644, Val: 0.7860, Test: 0.8130\n",
      "에폭: 076, Loss: 0.6464, Val: 0.7840, Test: 0.8140\n",
      "에폭: 077, Loss: 0.6493, Val: 0.7820, Test: 0.8110\n",
      "에폭: 078, Loss: 0.6318, Val: 0.7820, Test: 0.8090\n",
      "에폭: 079, Loss: 0.6261, Val: 0.7820, Test: 0.8100\n",
      "에폭: 080, Loss: 0.6206, Val: 0.7840, Test: 0.8090\n",
      "에폭: 081, Loss: 0.6000, Val: 0.7820, Test: 0.8080\n",
      "에폭: 082, Loss: 0.5981, Val: 0.7820, Test: 0.8050\n",
      "에폭: 083, Loss: 0.6003, Val: 0.7840, Test: 0.8070\n",
      "에폭: 084, Loss: 0.5982, Val: 0.7780, Test: 0.8070\n",
      "에폭: 085, Loss: 0.5790, Val: 0.7780, Test: 0.8090\n",
      "에폭: 086, Loss: 0.5735, Val: 0.7760, Test: 0.8100\n",
      "에폭: 087, Loss: 0.5556, Val: 0.7700, Test: 0.8110\n",
      "에폭: 088, Loss: 0.5661, Val: 0.7720, Test: 0.8090\n",
      "에폭: 089, Loss: 0.5532, Val: 0.7720, Test: 0.8090\n",
      "에폭: 090, Loss: 0.5643, Val: 0.7720, Test: 0.8110\n",
      "에폭: 091, Loss: 0.5254, Val: 0.7800, Test: 0.8120\n",
      "에폭: 092, Loss: 0.5273, Val: 0.7800, Test: 0.8120\n",
      "에폭: 093, Loss: 0.4899, Val: 0.7800, Test: 0.8120\n",
      "에폭: 094, Loss: 0.5018, Val: 0.7840, Test: 0.8120\n",
      "에폭: 095, Loss: 0.5108, Val: 0.7820, Test: 0.8100\n",
      "에폭: 096, Loss: 0.4899, Val: 0.7800, Test: 0.8090\n",
      "에폭: 097, Loss: 0.5016, Val: 0.7780, Test: 0.8080\n",
      "에폭: 098, Loss: 0.5214, Val: 0.7800, Test: 0.8110\n",
      "에폭: 099, Loss: 0.5047, Val: 0.7820, Test: 0.8130\n",
      "에폭: 100, Loss: 0.5089, Val: 0.7820, Test: 0.8120\n"
     ]
    }
   ],
   "source": [
    "model = GCN(hidden_channels=16)\n",
    "optimizr = torch.optim.Adam(model.parameters(), lr=0.01, weight_decay=5e-4)\n",
    "loss_fn = torch.nn.CrossEntropyLoss()\n",
    "\n",
    "for epoch in range(1, 101):\n",
    "    loss = train()\n",
    "    val_acc = val()\n",
    "    test_acc = test()\n",
    "    print(f'에폭: {epoch:03d}, Loss: {loss:.4f}, Val: {val_acc:.4f}, Test: {test_acc:.4f}')"
   ]
  },
  {
   "cell_type": "code",
   "execution_count": 47,
   "id": "eb7f3182-c09c-48b7-8bba-cb955f0a226e",
   "metadata": {},
   "outputs": [
    {
     "data": {
      "text/plain": [
       "0.812"
      ]
     },
     "execution_count": 47,
     "metadata": {},
     "output_type": "execute_result"
    }
   ],
   "source": [
    "test_acc = test()\n",
    "test_acc"
   ]
  },
  {
   "cell_type": "markdown",
   "id": "51153254-54e4-4776-90ec-0778358998c2",
   "metadata": {},
   "source": [
    "## dropout = 0.8"
   ]
  },
  {
   "cell_type": "code",
   "execution_count": 251,
   "id": "9e23a1b9-cef2-47e0-b1a1-c0383df6853f",
   "metadata": {},
   "outputs": [
    {
     "name": "stdout",
     "output_type": "stream",
     "text": [
      "GCN(\n",
      "  (conv1): GCNConv(1433, 16)\n",
      "  (conv2): GCNConv(16, 7)\n",
      ")\n"
     ]
    }
   ],
   "source": [
    "from torch_geometric.nn import GCNConv\n",
    "\n",
    "\n",
    "class GCN(torch.nn.Module):\n",
    "    def __init__(self, hidden_channels):\n",
    "        super().__init__()\n",
    "        ## 우리가 사용할 레이어 정의\n",
    "        torch.manual_seed(1234567)\n",
    "        self.conv1 = GCNConv(dataset.num_features, hidden_channels)\n",
    "        self.conv2 = GCNConv(hidden_channels, dataset.num_classes)\n",
    "        ## 레이어 정의 끝!\n",
    "        \n",
    "    def forward(self, x, edge_index):\n",
    "        ## yhat을 어떻게 구할것인지 정의\n",
    "        x = self.conv1(x, edge_index)\n",
    "        x = x.relu()\n",
    "        x = F.dropout(x, p=0.1, training=self.training)\n",
    "        x = self.conv2(x, edge_index)\n",
    "        ## 정의 끝!\n",
    "        return x\n",
    "\n",
    "model = GCN(hidden_channels=16)\n",
    "print(model)"
   ]
  },
  {
   "cell_type": "code",
   "execution_count": 252,
   "id": "1b2429d5-ed6d-47f9-8e7b-11a43a4285d2",
   "metadata": {},
   "outputs": [
    {
     "name": "stdout",
     "output_type": "stream",
     "text": [
      "에폭: 001, Loss: 1.9464, Val: 0.2780, Test: 0.2690\n",
      "에폭: 002, Loss: 1.9400, Val: 0.3480, Test: 0.3900\n",
      "에폭: 003, Loss: 1.9326, Val: 0.3080, Test: 0.3470\n",
      "에폭: 004, Loss: 1.9237, Val: 0.3320, Test: 0.3570\n",
      "에폭: 005, Loss: 1.9150, Val: 0.3480, Test: 0.3900\n",
      "에폭: 006, Loss: 1.9046, Val: 0.3740, Test: 0.4190\n",
      "에폭: 007, Loss: 1.8929, Val: 0.3680, Test: 0.4050\n",
      "에폭: 008, Loss: 1.8826, Val: 0.3600, Test: 0.3880\n",
      "에폭: 009, Loss: 1.8704, Val: 0.3540, Test: 0.3780\n",
      "에폭: 010, Loss: 1.8585, Val: 0.3600, Test: 0.3810\n",
      "에폭: 011, Loss: 1.8438, Val: 0.3800, Test: 0.3860\n",
      "에폭: 012, Loss: 1.8324, Val: 0.4120, Test: 0.4050\n",
      "에폭: 013, Loss: 1.8152, Val: 0.4520, Test: 0.4360\n",
      "에폭: 014, Loss: 1.7987, Val: 0.4760, Test: 0.4750\n",
      "에폭: 015, Loss: 1.7910, Val: 0.4880, Test: 0.5050\n",
      "에폭: 016, Loss: 1.7717, Val: 0.5140, Test: 0.5240\n",
      "에폭: 017, Loss: 1.7569, Val: 0.5320, Test: 0.5470\n",
      "에폭: 018, Loss: 1.7395, Val: 0.5380, Test: 0.5630\n",
      "에폭: 019, Loss: 1.7258, Val: 0.5440, Test: 0.5700\n",
      "에폭: 020, Loss: 1.7043, Val: 0.5580, Test: 0.5800\n",
      "에폭: 021, Loss: 1.6870, Val: 0.5660, Test: 0.5930\n",
      "에폭: 022, Loss: 1.6703, Val: 0.5880, Test: 0.6060\n",
      "에폭: 023, Loss: 1.6519, Val: 0.6040, Test: 0.6180\n",
      "에폭: 024, Loss: 1.6270, Val: 0.6140, Test: 0.6310\n",
      "에폭: 025, Loss: 1.6076, Val: 0.6300, Test: 0.6520\n",
      "에폭: 026, Loss: 1.5909, Val: 0.6440, Test: 0.6650\n",
      "에폭: 027, Loss: 1.5703, Val: 0.6620, Test: 0.6770\n",
      "에폭: 028, Loss: 1.5411, Val: 0.6680, Test: 0.6800\n",
      "에폭: 029, Loss: 1.5178, Val: 0.6840, Test: 0.6820\n",
      "에폭: 030, Loss: 1.5052, Val: 0.6980, Test: 0.6950\n",
      "에폭: 031, Loss: 1.4801, Val: 0.7100, Test: 0.7120\n",
      "에폭: 032, Loss: 1.4611, Val: 0.7220, Test: 0.7220\n",
      "에폭: 033, Loss: 1.4331, Val: 0.7300, Test: 0.7290\n",
      "에폭: 034, Loss: 1.4049, Val: 0.7320, Test: 0.7370\n",
      "에폭: 035, Loss: 1.3814, Val: 0.7320, Test: 0.7430\n",
      "에폭: 036, Loss: 1.3534, Val: 0.7320, Test: 0.7460\n",
      "에폭: 037, Loss: 1.3392, Val: 0.7360, Test: 0.7500\n",
      "에폭: 038, Loss: 1.3111, Val: 0.7420, Test: 0.7550\n",
      "에폭: 039, Loss: 1.2872, Val: 0.7440, Test: 0.7590\n",
      "에폭: 040, Loss: 1.2524, Val: 0.7440, Test: 0.7650\n",
      "에폭: 041, Loss: 1.2334, Val: 0.7520, Test: 0.7670\n",
      "에폭: 042, Loss: 1.2059, Val: 0.7580, Test: 0.7670\n",
      "에폭: 043, Loss: 1.1807, Val: 0.7600, Test: 0.7710\n",
      "에폭: 044, Loss: 1.1772, Val: 0.7640, Test: 0.7720\n",
      "에폭: 045, Loss: 1.1379, Val: 0.7640, Test: 0.7740\n",
      "에폭: 046, Loss: 1.1219, Val: 0.7640, Test: 0.7740\n",
      "에폭: 047, Loss: 1.0842, Val: 0.7620, Test: 0.7790\n",
      "에폭: 048, Loss: 1.0544, Val: 0.7640, Test: 0.7830\n",
      "에폭: 049, Loss: 1.0447, Val: 0.7600, Test: 0.7820\n",
      "에폭: 050, Loss: 1.0195, Val: 0.7640, Test: 0.7840\n",
      "에폭: 051, Loss: 1.0132, Val: 0.7640, Test: 0.7830\n",
      "에폭: 052, Loss: 0.9956, Val: 0.7680, Test: 0.7860\n",
      "에폭: 053, Loss: 0.9449, Val: 0.7700, Test: 0.7880\n",
      "에폭: 054, Loss: 0.9339, Val: 0.7680, Test: 0.7890\n",
      "에폭: 055, Loss: 0.9095, Val: 0.7700, Test: 0.7940\n",
      "에폭: 056, Loss: 0.8824, Val: 0.7720, Test: 0.7980\n",
      "에폭: 057, Loss: 0.8770, Val: 0.7660, Test: 0.8020\n",
      "에폭: 058, Loss: 0.8491, Val: 0.7700, Test: 0.8010\n",
      "에폭: 059, Loss: 0.8406, Val: 0.7700, Test: 0.7990\n",
      "에폭: 060, Loss: 0.8326, Val: 0.7660, Test: 0.8030\n",
      "에폭: 061, Loss: 0.8064, Val: 0.7680, Test: 0.8000\n",
      "에폭: 062, Loss: 0.7896, Val: 0.7700, Test: 0.7980\n",
      "에폭: 063, Loss: 0.7920, Val: 0.7780, Test: 0.7990\n",
      "에폭: 064, Loss: 0.7561, Val: 0.7780, Test: 0.8010\n",
      "에폭: 065, Loss: 0.7494, Val: 0.7760, Test: 0.8010\n",
      "에폭: 066, Loss: 0.7280, Val: 0.7720, Test: 0.8030\n",
      "에폭: 067, Loss: 0.7121, Val: 0.7740, Test: 0.8050\n",
      "에폭: 068, Loss: 0.7002, Val: 0.7740, Test: 0.8070\n",
      "에폭: 069, Loss: 0.6942, Val: 0.7740, Test: 0.8110\n",
      "에폭: 070, Loss: 0.6777, Val: 0.7700, Test: 0.8090\n",
      "에폭: 071, Loss: 0.6598, Val: 0.7720, Test: 0.8110\n",
      "에폭: 072, Loss: 0.6473, Val: 0.7820, Test: 0.8080\n",
      "에폭: 073, Loss: 0.6488, Val: 0.7800, Test: 0.8050\n",
      "에폭: 074, Loss: 0.6491, Val: 0.7800, Test: 0.8040\n",
      "에폭: 075, Loss: 0.6071, Val: 0.7800, Test: 0.8050\n",
      "에폭: 076, Loss: 0.6019, Val: 0.7820, Test: 0.8080\n",
      "에폭: 077, Loss: 0.5906, Val: 0.7800, Test: 0.8090\n",
      "에폭: 078, Loss: 0.5825, Val: 0.7820, Test: 0.8100\n",
      "에폭: 079, Loss: 0.5755, Val: 0.7820, Test: 0.8120\n",
      "에폭: 080, Loss: 0.5750, Val: 0.7840, Test: 0.8120\n",
      "에폭: 081, Loss: 0.5544, Val: 0.7820, Test: 0.8120\n",
      "에폭: 082, Loss: 0.5467, Val: 0.7760, Test: 0.8110\n",
      "에폭: 083, Loss: 0.5502, Val: 0.7760, Test: 0.8090\n",
      "에폭: 084, Loss: 0.5462, Val: 0.7760, Test: 0.8050\n",
      "에폭: 085, Loss: 0.5186, Val: 0.7860, Test: 0.8060\n",
      "에폭: 086, Loss: 0.5396, Val: 0.7880, Test: 0.8080\n",
      "에폭: 087, Loss: 0.5158, Val: 0.7880, Test: 0.8090\n",
      "에폭: 088, Loss: 0.5236, Val: 0.7840, Test: 0.8130\n",
      "에폭: 089, Loss: 0.5042, Val: 0.7840, Test: 0.8130\n",
      "에폭: 090, Loss: 0.5049, Val: 0.7820, Test: 0.8130\n",
      "에폭: 091, Loss: 0.4941, Val: 0.7800, Test: 0.8090\n",
      "에폭: 092, Loss: 0.4815, Val: 0.7860, Test: 0.8080\n",
      "에폭: 093, Loss: 0.4546, Val: 0.7860, Test: 0.8100\n",
      "에폭: 094, Loss: 0.4762, Val: 0.7860, Test: 0.8100\n",
      "에폭: 095, Loss: 0.4845, Val: 0.7960, Test: 0.8070\n",
      "에폭: 096, Loss: 0.4559, Val: 0.7960, Test: 0.8100\n",
      "에폭: 097, Loss: 0.4512, Val: 0.7940, Test: 0.8080\n",
      "에폭: 098, Loss: 0.4589, Val: 0.7880, Test: 0.8100\n",
      "에폭: 099, Loss: 0.4549, Val: 0.7780, Test: 0.8100\n",
      "에폭: 100, Loss: 0.4531, Val: 0.7780, Test: 0.8110\n",
      "에폭: 101, Loss: 0.4394, Val: 0.7780, Test: 0.8120\n",
      "에폭: 102, Loss: 0.4359, Val: 0.7760, Test: 0.8110\n",
      "에폭: 103, Loss: 0.4360, Val: 0.7800, Test: 0.8110\n",
      "에폭: 104, Loss: 0.4213, Val: 0.7900, Test: 0.8090\n",
      "에폭: 105, Loss: 0.4442, Val: 0.7980, Test: 0.8100\n",
      "에폭: 106, Loss: 0.4131, Val: 0.7960, Test: 0.8130\n",
      "에폭: 107, Loss: 0.4266, Val: 0.7920, Test: 0.8120\n",
      "에폭: 108, Loss: 0.4158, Val: 0.7880, Test: 0.8130\n",
      "에폭: 109, Loss: 0.4077, Val: 0.7900, Test: 0.8110\n",
      "에폭: 110, Loss: 0.3960, Val: 0.7880, Test: 0.8080\n",
      "에폭: 111, Loss: 0.4049, Val: 0.7900, Test: 0.8110\n",
      "에폭: 112, Loss: 0.3819, Val: 0.7880, Test: 0.8120\n",
      "에폭: 113, Loss: 0.3931, Val: 0.7860, Test: 0.8110\n",
      "에폭: 114, Loss: 0.3862, Val: 0.7860, Test: 0.8110\n",
      "에폭: 115, Loss: 0.3649, Val: 0.7920, Test: 0.8130\n",
      "에폭: 116, Loss: 0.3774, Val: 0.7880, Test: 0.8110\n",
      "에폭: 117, Loss: 0.3580, Val: 0.7880, Test: 0.8090\n",
      "에폭: 118, Loss: 0.3820, Val: 0.7900, Test: 0.8140\n",
      "에폭: 119, Loss: 0.3640, Val: 0.7920, Test: 0.8150\n",
      "에폭: 120, Loss: 0.3648, Val: 0.7920, Test: 0.8140\n",
      "에폭: 121, Loss: 0.3477, Val: 0.7920, Test: 0.8110\n",
      "에폭: 122, Loss: 0.3689, Val: 0.7960, Test: 0.8120\n",
      "에폭: 123, Loss: 0.3664, Val: 0.7980, Test: 0.8080\n",
      "에폭: 124, Loss: 0.3627, Val: 0.7920, Test: 0.8050\n",
      "에폭: 125, Loss: 0.3612, Val: 0.7880, Test: 0.8100\n",
      "에폭: 126, Loss: 0.3507, Val: 0.7860, Test: 0.8100\n",
      "에폭: 127, Loss: 0.3329, Val: 0.7880, Test: 0.8130\n",
      "에폭: 128, Loss: 0.3505, Val: 0.7920, Test: 0.8110\n",
      "에폭: 129, Loss: 0.3464, Val: 0.7960, Test: 0.8100\n",
      "에폭: 130, Loss: 0.3310, Val: 0.7960, Test: 0.8110\n",
      "에폭: 131, Loss: 0.3384, Val: 0.7960, Test: 0.8100\n",
      "에폭: 132, Loss: 0.3405, Val: 0.7940, Test: 0.8110\n",
      "에폭: 133, Loss: 0.3313, Val: 0.7920, Test: 0.8100\n",
      "에폭: 134, Loss: 0.3211, Val: 0.7940, Test: 0.8130\n",
      "에폭: 135, Loss: 0.3281, Val: 0.7940, Test: 0.8120\n",
      "에폭: 136, Loss: 0.3299, Val: 0.7900, Test: 0.8130\n",
      "에폭: 137, Loss: 0.3133, Val: 0.7920, Test: 0.8130\n",
      "에폭: 138, Loss: 0.3328, Val: 0.7940, Test: 0.8150\n",
      "에폭: 139, Loss: 0.3331, Val: 0.7940, Test: 0.8180\n",
      "에폭: 140, Loss: 0.3145, Val: 0.7980, Test: 0.8160\n",
      "에폭: 141, Loss: 0.3150, Val: 0.7940, Test: 0.8120\n",
      "에폭: 142, Loss: 0.3036, Val: 0.7920, Test: 0.8120\n",
      "에폭: 143, Loss: 0.3115, Val: 0.7940, Test: 0.8110\n",
      "에폭: 144, Loss: 0.3078, Val: 0.8000, Test: 0.8110\n",
      "에폭: 145, Loss: 0.3058, Val: 0.7980, Test: 0.8120\n",
      "에폭: 146, Loss: 0.3015, Val: 0.7980, Test: 0.8090\n",
      "에폭: 147, Loss: 0.3093, Val: 0.7940, Test: 0.8100\n",
      "에폭: 148, Loss: 0.2789, Val: 0.7920, Test: 0.8110\n",
      "에폭: 149, Loss: 0.2946, Val: 0.7880, Test: 0.8100\n",
      "에폭: 150, Loss: 0.2950, Val: 0.7900, Test: 0.8130\n",
      "에폭: 151, Loss: 0.3160, Val: 0.7860, Test: 0.8110\n",
      "에폭: 152, Loss: 0.3075, Val: 0.7880, Test: 0.8120\n",
      "에폭: 153, Loss: 0.3057, Val: 0.7920, Test: 0.8130\n",
      "에폭: 154, Loss: 0.2921, Val: 0.7980, Test: 0.8120\n",
      "에폭: 155, Loss: 0.2911, Val: 0.8000, Test: 0.8130\n",
      "에폭: 156, Loss: 0.2857, Val: 0.7980, Test: 0.8140\n",
      "에폭: 157, Loss: 0.2865, Val: 0.7980, Test: 0.8170\n",
      "에폭: 158, Loss: 0.2816, Val: 0.7960, Test: 0.8160\n",
      "에폭: 159, Loss: 0.2919, Val: 0.7960, Test: 0.8170\n",
      "에폭: 160, Loss: 0.2773, Val: 0.7980, Test: 0.8170\n",
      "에폭: 161, Loss: 0.2636, Val: 0.7960, Test: 0.8160\n",
      "에폭: 162, Loss: 0.3004, Val: 0.7960, Test: 0.8170\n",
      "에폭: 163, Loss: 0.2888, Val: 0.7900, Test: 0.8110\n",
      "에폭: 164, Loss: 0.2830, Val: 0.7900, Test: 0.8110\n",
      "에폭: 165, Loss: 0.2694, Val: 0.7980, Test: 0.8150\n",
      "에폭: 166, Loss: 0.2709, Val: 0.8000, Test: 0.8090\n",
      "에폭: 167, Loss: 0.2705, Val: 0.8000, Test: 0.8110\n",
      "에폭: 168, Loss: 0.2637, Val: 0.7940, Test: 0.8120\n",
      "에폭: 169, Loss: 0.2624, Val: 0.7940, Test: 0.8120\n",
      "에폭: 170, Loss: 0.2652, Val: 0.7980, Test: 0.8140\n",
      "에폭: 171, Loss: 0.2639, Val: 0.7960, Test: 0.8150\n",
      "에폭: 172, Loss: 0.2690, Val: 0.7880, Test: 0.8180\n",
      "에폭: 173, Loss: 0.2571, Val: 0.7880, Test: 0.8150\n",
      "에폭: 174, Loss: 0.2543, Val: 0.7880, Test: 0.8090\n",
      "에폭: 175, Loss: 0.2559, Val: 0.7940, Test: 0.8100\n",
      "에폭: 176, Loss: 0.2633, Val: 0.7980, Test: 0.8090\n",
      "에폭: 177, Loss: 0.2767, Val: 0.7980, Test: 0.8140\n",
      "에폭: 178, Loss: 0.2646, Val: 0.7920, Test: 0.8130\n",
      "에폭: 179, Loss: 0.2710, Val: 0.7960, Test: 0.8100\n",
      "에폭: 180, Loss: 0.2645, Val: 0.7940, Test: 0.8120\n",
      "에폭: 181, Loss: 0.2671, Val: 0.7940, Test: 0.8140\n",
      "에폭: 182, Loss: 0.2565, Val: 0.8000, Test: 0.8130\n",
      "에폭: 183, Loss: 0.2512, Val: 0.7980, Test: 0.8120\n",
      "에폭: 184, Loss: 0.2589, Val: 0.7920, Test: 0.8080\n",
      "에폭: 185, Loss: 0.2543, Val: 0.7900, Test: 0.8080\n",
      "에폭: 186, Loss: 0.2638, Val: 0.7920, Test: 0.8070\n",
      "에폭: 187, Loss: 0.2497, Val: 0.7960, Test: 0.8080\n",
      "에폭: 188, Loss: 0.2348, Val: 0.7960, Test: 0.8100\n",
      "에폭: 189, Loss: 0.2536, Val: 0.7960, Test: 0.8100\n",
      "에폭: 190, Loss: 0.2623, Val: 0.7960, Test: 0.8100\n",
      "에폭: 191, Loss: 0.2347, Val: 0.7940, Test: 0.8130\n",
      "에폭: 192, Loss: 0.2558, Val: 0.7960, Test: 0.8110\n",
      "에폭: 193, Loss: 0.2516, Val: 0.7900, Test: 0.8100\n",
      "에폭: 194, Loss: 0.2312, Val: 0.7860, Test: 0.8080\n",
      "에폭: 195, Loss: 0.2466, Val: 0.7900, Test: 0.8120\n",
      "에폭: 196, Loss: 0.2486, Val: 0.7960, Test: 0.8130\n",
      "에폭: 197, Loss: 0.2334, Val: 0.7960, Test: 0.8140\n",
      "에폭: 198, Loss: 0.2431, Val: 0.7960, Test: 0.8120\n",
      "에폭: 199, Loss: 0.2470, Val: 0.7960, Test: 0.8130\n",
      "에폭: 200, Loss: 0.2428, Val: 0.7960, Test: 0.8150\n"
     ]
    }
   ],
   "source": [
    "model = GCN(hidden_channels=16)\n",
    "optimizr = torch.optim.Adam(model.parameters(), lr=0.01, weight_decay=5e-4)\n",
    "loss_fn = torch.nn.CrossEntropyLoss()\n",
    "\n",
    "for epoch in range(1, 201):\n",
    "    loss = train()\n",
    "    val_acc = val()\n",
    "    test_acc = test()\n",
    "    print(f'에폭: {epoch:03d}, Loss: {loss:.4f}, Val: {val_acc:.4f}, Test: {test_acc:.4f}')"
   ]
  },
  {
   "cell_type": "code",
   "execution_count": 254,
   "id": "96358284-b5a2-40a4-b36f-6f4eaceb129b",
   "metadata": {},
   "outputs": [
    {
     "data": {
      "text/plain": [
       "0.815"
      ]
     },
     "execution_count": 254,
     "metadata": {},
     "output_type": "execute_result"
    }
   ],
   "source": [
    "test_acc"
   ]
  },
  {
   "cell_type": "markdown",
   "id": "7dbd715c-e24e-4c00-98c3-dd6343ce8ea0",
   "metadata": {},
   "source": [
    "## ++++"
   ]
  },
  {
   "cell_type": "code",
   "execution_count": 194,
   "id": "289341ce-cd37-45a8-b252-6ee115aaf29c",
   "metadata": {},
   "outputs": [],
   "source": [
    "# def train():\n",
    "#       model.train()\n",
    "#       optimizr.zero_grad()  # Clear gradients.\n",
    "#       out = model(data.x, data.edge_index)  # Perform a single forward pass.\n",
    "#       loss = loss_fn(out[data.train_mask], data.y[data.train_mask])  # Compute the loss solely based on the training nodes.\n",
    "#       loss.backward()  # Derive gradients.\n",
    "#       optimizr.step()  # Update parameters based on gradients.\n",
    "#       return loss"
   ]
  },
  {
   "cell_type": "code",
   "execution_count": 255,
   "id": "f705ebea-f43c-46e4-b53e-5531b8e93ade",
   "metadata": {},
   "outputs": [],
   "source": [
    "class EarlyStopping:\n",
    "    \"\"\"주어진 patience 이후로 validation loss가 개선되지 않으면 학습을 조기 중지\"\"\"\n",
    "    def __init__(self, patience=7, verbose=False, delta=0, path='checkpoint.pt'):\n",
    "        \"\"\"\n",
    "        Args:\n",
    "            patience (int): validation loss가 개선된 후 기다리는 기간\n",
    "                            Default: 7\n",
    "            verbose (bool): True일 경우 각 validation loss의 개선 사항 메세지 출력\n",
    "                            Default: False\n",
    "            delta (float): 개선되었다고 인정되는 monitered quantity의 최소 변화\n",
    "                            Default: 0\n",
    "            path (str): checkpoint저장 경로\n",
    "                            Default: 'checkpoint.pt'\n",
    "        \"\"\"\n",
    "        self.patience = patience\n",
    "        self.verbose = verbose\n",
    "        self.counter = 0\n",
    "        self.best_score = None\n",
    "        self.early_stop = False\n",
    "        self.val_loss_min = np.Inf\n",
    "        self.delta = delta\n",
    "        self.path = path\n",
    "\n",
    "    def __call__(self, val_loss, model):\n",
    "\n",
    "        score = -val_loss\n",
    "\n",
    "        if self.best_score is None:\n",
    "            self.best_score = score\n",
    "            self.save_checkpoint(val_loss, model)\n",
    "        elif score < self.best_score + self.delta:\n",
    "            self.counter += 1\n",
    "            print(f'EarlyStopping counter: {self.counter} out of {self.patience}')\n",
    "            if self.counter >= self.patience:\n",
    "                self.early_stop = True\n",
    "        else:\n",
    "            self.best_score = score\n",
    "            self.save_checkpoint(val_loss, model)\n",
    "            self.counter = 0\n",
    "\n",
    "    def save_checkpoint(self, val_loss, model):\n",
    "        '''validation loss가 감소하면 모델을 저장한다.'''\n",
    "        if self.verbose:\n",
    "            print(f'Validation loss decreased ({self.val_loss_min:.6f} --> {val_loss:.6f}).  Saving model ...')\n",
    "        torch.save(model.state_dict(), self.path)\n",
    "        self.val_loss_min = val_loss"
   ]
  },
  {
   "cell_type": "code",
   "execution_count": 261,
   "id": "7b49f96d-5e74-40f7-ac8f-31dff02d66e2",
   "metadata": {},
   "outputs": [
    {
     "name": "stdout",
     "output_type": "stream",
     "text": [
      "[  1/200] train_loss: 0.13977 valid_loss: 0.71796 test_acc: 0.81400\n",
      "Validation loss decreased (inf --> 0.717956).  Saving model ...\n",
      "[  2/200] train_loss: 0.14062 valid_loss: 0.72924 test_acc: 0.81000\n",
      "EarlyStopping counter: 1 out of 7\n",
      "[  3/200] train_loss: 0.13907 valid_loss: 0.74173 test_acc: 0.80100\n",
      "EarlyStopping counter: 2 out of 7\n",
      "[  4/200] train_loss: 0.13587 valid_loss: 0.74482 test_acc: 0.80000\n",
      "EarlyStopping counter: 3 out of 7\n",
      "[  5/200] train_loss: 0.13762 valid_loss: 0.73790 test_acc: 0.80600\n",
      "EarlyStopping counter: 4 out of 7\n",
      "[  6/200] train_loss: 0.14008 valid_loss: 0.72733 test_acc: 0.80600\n",
      "EarlyStopping counter: 5 out of 7\n",
      "[  7/200] train_loss: 0.13915 valid_loss: 0.71572 test_acc: 0.81300\n",
      "Validation loss decreased (0.717956 --> 0.715715).  Saving model ...\n",
      "[  8/200] train_loss: 0.14486 valid_loss: 0.70914 test_acc: 0.82000\n",
      "Validation loss decreased (0.715715 --> 0.709141).  Saving model ...\n",
      "[  9/200] train_loss: 0.13368 valid_loss: 0.70767 test_acc: 0.81900\n",
      "Validation loss decreased (0.709141 --> 0.707673).  Saving model ...\n",
      "[ 10/200] train_loss: 0.14246 valid_loss: 0.70954 test_acc: 0.81900\n",
      "EarlyStopping counter: 1 out of 7\n",
      "[ 11/200] train_loss: 0.13961 valid_loss: 0.71373 test_acc: 0.81600\n",
      "EarlyStopping counter: 2 out of 7\n",
      "[ 12/200] train_loss: 0.12674 valid_loss: 0.71963 test_acc: 0.81200\n",
      "EarlyStopping counter: 3 out of 7\n",
      "[ 13/200] train_loss: 0.13681 valid_loss: 0.72552 test_acc: 0.81100\n",
      "EarlyStopping counter: 4 out of 7\n",
      "[ 14/200] train_loss: 0.13652 valid_loss: 0.72897 test_acc: 0.81200\n",
      "EarlyStopping counter: 5 out of 7\n",
      "[ 15/200] train_loss: 0.13501 valid_loss: 0.72768 test_acc: 0.80900\n",
      "EarlyStopping counter: 6 out of 7\n",
      "[ 16/200] train_loss: 0.13654 valid_loss: 0.71993 test_acc: 0.81300\n",
      "EarlyStopping counter: 7 out of 7\n",
      "Early stopping\n"
     ]
    }
   ],
   "source": [
    "import numpy as np \n",
    "\n",
    "def train_model(model, patience, n_epochs): # remove batch_size\n",
    "\n",
    "    # 모델이 학습되는 동안 trainning loss를 track\n",
    "    train_losses = []\n",
    "    # 모델이 학습되는 동안 validation loss를 track\n",
    "    valid_losses = []\n",
    "    # epoch당 average training loss를 track\n",
    "    avg_train_losses = []\n",
    "    # epoch당 average validation loss를 track\n",
    "    avg_valid_losses = []\n",
    "    test_accs = []\n",
    "    # epoch당 test accuracy를 track\n",
    "    # test_accs = []\n",
    "    # avg_test_accs = []\n",
    "\n",
    "    # early_stopping object의 초기화\n",
    "    early_stopping = EarlyStopping(patience = patience, verbose = True)\n",
    "\n",
    "    for epoch in range(1, n_epochs + 1):\n",
    "\n",
    "        ###################\n",
    "        # train the model #\n",
    "        ###################\n",
    "        model.train() # prep model for training\n",
    "        # for batch, (data, target) in enumerate(train_loader, 1):\n",
    "        #     # clear the gradients of all optimized variables\n",
    "        #     optimizer.zero_grad()    \n",
    "        #     # forward pass: 입력된 값을 모델로 전달하여 예측 출력 계산\n",
    "        #     output = model(data)\n",
    "        #     # calculate the loss\n",
    "        #     loss = loss_fn(output, target)\n",
    "        #     # backward pass: 모델의 파라미터와 관련된 loss의 그래디언트 계산\n",
    "        #     loss.backward()\n",
    "        #     # perform a single optimization step (parameter update)\n",
    "        #     optimizer.step()\n",
    "        #     # record training loss\n",
    "        #     train_losses.append(loss.item())\n",
    "\n",
    "        # model.train()\n",
    "        optimizr.zero_grad()  # Clear gradients.\n",
    "        output = model(data.x, data.edge_index)  # Perform a single forward pass.\n",
    "        loss = loss_fn(output[data.train_mask], data.y[data.train_mask])  # Compute the loss solely based on the training nodes.\n",
    "        loss.backward()  # Derive gradients.\n",
    "        optimizr.step()  # Update parameters based on gradients.\n",
    "        # return loss\n",
    "        train_losses.append(loss.item())\n",
    "            \n",
    "            \n",
    "\n",
    "        ######################    \n",
    "        # validate the model #\n",
    "        ######################\n",
    "        model.eval() # prep model for evaluation\n",
    "        # for data , target in valid_loader :\n",
    "        #     # forward pass: 입력된 값을 모델로 전달하여 예측 출력 계산\n",
    "        #     output = model(data)\n",
    "        #     # calculate the loss\n",
    "        #     loss = loss_fn(output, target)\n",
    "        #     # record validation loss\n",
    "        #     valid_losses.append(loss.item())\n",
    "        output = model(data.x, data.edge_index)\n",
    "        loss = loss_fn(output[data.val_mask], data.y[data.val_mask])\n",
    "        # test_acc = int(test_correct.sum()) / int(data.test_mask.sum())  # Derive ratio of correct predictions.\n",
    "        # return test_acc\n",
    "        valid_losses.append(loss.item())\n",
    "        \n",
    "        \n",
    "        \n",
    "        #########################\n",
    "        #     test acc          #\n",
    "        #########################\n",
    "        model.eval()\n",
    "        output = model(data.x, data.edge_index)\n",
    "        pred = output.argmax(dim=1)\n",
    "        test_correct = pred[data.test_mask] == data.y[data.test_mask]\n",
    "        test_acc = int(test_correct.sum()) / int(data.test_mask.sum())\n",
    "        test_accs.append(test_acc)\n",
    "        \n",
    "\n",
    "        # print 학습/검증 statistics\n",
    "        # epoch당 평균 loss 계산\n",
    "        train_loss = np.average(train_losses)\n",
    "        valid_loss = np.average(valid_losses)\n",
    "        # test_accs_ = np.average(test_accs)\n",
    "        avg_train_losses.append(train_loss)\n",
    "        avg_valid_losses.append(valid_loss)\n",
    "        # avg_test_accs.append(test_accs_)\n",
    " \n",
    "\n",
    "        epoch_len = len(str(n_epochs))\n",
    "\n",
    "\n",
    "        print_msg = (f'[{epoch:>{epoch_len}}/{n_epochs:>{epoch_len}}] ' +\n",
    "                     f'train_loss: {train_loss:.5f} ' +\n",
    "                     f'valid_loss: {valid_loss:.5f} ' +\n",
    "                     f'test_acc: {test_acc:.5f}') #                      f'test_acc: {test_acc:.5f}'\n",
    "\n",
    "        print(print_msg)\n",
    "\n",
    "        # clear lists to track next epoch\n",
    "        train_losses = []\n",
    "        valid_losses = []\n",
    "        # test_accs = []\n",
    "\n",
    "        # early_stopping는 validation loss가 감소하였는지 확인이 필요하며,\n",
    "        # 만약 감소하였을경우 현제 모델을 checkpoint로 만든다.\n",
    "        early_stopping(valid_loss, model)\n",
    "\n",
    "        if early_stopping.early_stop:\n",
    "            print(\"Early stopping\")\n",
    "            break\n",
    "\n",
    "   # best model이 저장되어있는 last checkpoint를 로드한다.\n",
    "    model.load_state_dict(torch.load('checkpoint.pt'))\n",
    "\n",
    "    return  model, avg_train_losses, avg_valid_losses\n",
    "\n",
    "\n",
    "# batch_size = 256\n",
    "n_epochs = 200\n",
    "\n",
    "# train_loader, test_loader, valid_loader = create_datasets(batch_size)\n",
    "\n",
    "# early stopping patience;\n",
    "# validation loss가 개선된 마지막 시간 이후로 얼마나 기다릴지 지정\n",
    "patience = 7\n",
    "\n",
    "model, train_loss, valid_loss = train_model(model, patience, n_epochs) "
   ]
  },
  {
   "cell_type": "code",
   "execution_count": 262,
   "id": "91c1b638-b58e-4fbd-ae25-55e66763c2be",
   "metadata": {},
   "outputs": [
    {
     "data": {
      "image/png": "[encoded data removed]",
      "text/plain": [
       "<Figure size 720x576 with 1 Axes>"
      ]
     },
     "metadata": {
      "needs_background": "light"
     },
     "output_type": "display_data"
    }
   ],
   "source": [
    "import matplotlib.pyplot as plt\n",
    "\n",
    "# 훈련이 진행되는 과정에 따라 loss를 시각화\n",
    "fig = plt.figure(figsize=(10,8))\n",
    "plt.plot(range(1,len(train_loss)+1),train_loss, label='Training Loss')\n",
    "plt.plot(range(1,len(valid_loss)+1),valid_loss,label='Validation Loss')\n",
    "# plt.plot(range(1,len(test_acc)+1), test_acc, label='Test accuracy')\n",
    "\n",
    "# validation loss의 최저값 지점을 찾기\n",
    "minposs = valid_loss.index(min(valid_loss))+1\n",
    "plt.axvline(minposs, linestyle='--', color='r',label='Early Stopping Checkpoint')\n",
    "\n",
    "plt.xlabel('epochs')\n",
    "plt.ylabel('loss')\n",
    "plt.ylim(0, 1.0) # 일정한 scale\n",
    "plt.xlim(0, len(train_loss)+1) # 일정한 scale\n",
    "plt.grid(True)\n",
    "plt.legend()\n",
    "plt.tight_layout()\n",
    "plt.show()\n",
    "fig.savefig('loss_plot.png', bbox_inches = 'tight')"
   ]
  },
  {
   "cell_type": "markdown",
   "id": "3320d769-2526-4e53-8637-bf54f24b79a9",
   "metadata": {},
   "source": [
    "- 왜 이따구야..."
   ]
  },
  {
   "cell_type": "markdown",
   "id": "7bde5175-f6ee-42b8-b5e7-5c85b93f5669",
   "metadata": {},
   "source": [
    "-------"
   ]
  },
  {
   "cell_type": "markdown",
   "id": "726ec3f6-ed8b-4b9b-a5ae-49973d159ba1",
   "metadata": {},
   "source": [
    "## (시도4) hidden feature의 차원을 늘려보자."
   ]
  },
  {
   "cell_type": "markdown",
   "id": "e7822e87-8094-4063-b5a9-23c072d1d648",
   "metadata": {},
   "source": [
    "### `-` hidden_channels = 32"
   ]
  },
  {
   "cell_type": "code",
   "execution_count": 85,
   "id": "b34cf820-87f3-44bb-8b05-cf42aeec7a09",
   "metadata": {},
   "outputs": [],
   "source": [
    "model = GCN(hidden_channels=32)\n",
    "optimizr = torch.optim.Adam(model.parameters(), lr=0.01, weight_decay=5e-4)\n",
    "loss_fn = torch.nn.CrossEntropyLoss()\n",
    "\n",
    "def train():\n",
    "      model.train()\n",
    "      optimizr.zero_grad()  # Clear gradients.\n",
    "      out = model(data.x, data.edge_index)  # Perform a single forward pass.\n",
    "      loss = loss_fn(out[data.train_mask], data.y[data.train_mask])  # Compute the loss solely based on the training nodes.\n",
    "      loss.backward()  # Derive gradients.\n",
    "      optimizr.step()  # Update parameters based on gradients.\n",
    "      return loss\n",
    "\n",
    "# def test(mask):\n",
    "#       model.eval()\n",
    "#       out = model(data.x, data.edge_index)\n",
    "#       pred = out.argmax(dim=1)  # Use the class with highest probability.\n",
    "#       correct = pred[mask] == data.y[mask]  # Check against ground-truth labels.\n",
    "#       acc = int(correct.sum()) / int(mask.sum())  # Derive ratio of correct predictions.\n",
    "#       return acc\n",
    "def test(mask):\n",
    "      model.eval()\n",
    "      out = model(data.x, data.edge_index)\n",
    "      pred = out.argmax(dim=1)  # Use the class with highest probability.\n",
    "      correct = pred[mask] == data.y[mask]  # Check against ground-truth labels.\n",
    "      acc = int(correct.sum()) / int(mask.sum())  # Derive ratio of correct predictions.\n",
    "      return acc"
   ]
  },
  {
   "cell_type": "code",
   "execution_count": 90,
   "id": "0781ce7f-2ab8-4831-a759-57f6f240c75f",
   "metadata": {},
   "outputs": [],
   "source": [
    "_out = model(data.x, data.edge_index)"
   ]
  },
  {
   "cell_type": "code",
   "execution_count": 93,
   "id": "f80d885b-cc64-4c79-a4c5-b7379d219a6d",
   "metadata": {},
   "outputs": [
    {
     "data": {
      "text/plain": [
       "torch.Size([2708, 7])"
      ]
     },
     "execution_count": 93,
     "metadata": {},
     "output_type": "execute_result"
    }
   ],
   "source": [
    "_out"
   ]
  },
  {
   "cell_type": "code",
   "execution_count": 59,
   "id": "826eb25b-60a9-4d29-8e16-adeeeb0e2d3c",
   "metadata": {},
   "outputs": [
    {
     "name": "stdout",
     "output_type": "stream",
     "text": [
      "에폭: 001, Loss: 1.9455, Val: 0.2040, Test: 0.2490\n",
      "에폭: 002, Loss: 1.9400, Val: 0.4880, Test: 0.4600\n",
      "에폭: 003, Loss: 1.9309, Val: 0.4900, Test: 0.4740\n",
      "에폭: 004, Loss: 1.9180, Val: 0.4220, Test: 0.4570\n",
      "에폭: 005, Loss: 1.9058, Val: 0.3940, Test: 0.4240\n",
      "에폭: 006, Loss: 1.8934, Val: 0.3840, Test: 0.4230\n",
      "에폭: 007, Loss: 1.8779, Val: 0.4000, Test: 0.4390\n",
      "에폭: 008, Loss: 1.8592, Val: 0.4200, Test: 0.4470\n",
      "에폭: 009, Loss: 1.8494, Val: 0.4120, Test: 0.4300\n",
      "에폭: 010, Loss: 1.8245, Val: 0.4220, Test: 0.4290\n",
      "에폭: 011, Loss: 1.8075, Val: 0.4180, Test: 0.4250\n",
      "에폭: 012, Loss: 1.7893, Val: 0.4440, Test: 0.4480\n",
      "에폭: 013, Loss: 1.7692, Val: 0.4700, Test: 0.4770\n",
      "에폭: 014, Loss: 1.7412, Val: 0.4940, Test: 0.4980\n",
      "에폭: 015, Loss: 1.7192, Val: 0.5360, Test: 0.5290\n",
      "에폭: 016, Loss: 1.6908, Val: 0.5800, Test: 0.5700\n",
      "에폭: 017, Loss: 1.6828, Val: 0.6000, Test: 0.6080\n",
      "에폭: 018, Loss: 1.6326, Val: 0.6220, Test: 0.6360\n",
      "에폭: 019, Loss: 1.6089, Val: 0.6500, Test: 0.6640\n",
      "에폭: 020, Loss: 1.5959, Val: 0.6840, Test: 0.6810\n",
      "에폭: 021, Loss: 1.5634, Val: 0.7060, Test: 0.7000\n",
      "에폭: 022, Loss: 1.5426, Val: 0.7140, Test: 0.7090\n",
      "에폭: 023, Loss: 1.4932, Val: 0.7220, Test: 0.7160\n",
      "에폭: 024, Loss: 1.4759, Val: 0.7300, Test: 0.7190\n",
      "에폭: 025, Loss: 1.4473, Val: 0.7360, Test: 0.7320\n",
      "에폭: 026, Loss: 1.4263, Val: 0.7360, Test: 0.7430\n",
      "에폭: 027, Loss: 1.3863, Val: 0.7360, Test: 0.7450\n",
      "에폭: 028, Loss: 1.3437, Val: 0.7400, Test: 0.7480\n",
      "에폭: 029, Loss: 1.3084, Val: 0.7460, Test: 0.7570\n",
      "에폭: 030, Loss: 1.2828, Val: 0.7500, Test: 0.7610\n",
      "에폭: 031, Loss: 1.2385, Val: 0.7600, Test: 0.7620\n",
      "에폭: 032, Loss: 1.2029, Val: 0.7660, Test: 0.7680\n",
      "에폭: 033, Loss: 1.1789, Val: 0.7660, Test: 0.7720\n",
      "에폭: 034, Loss: 1.1715, Val: 0.7680, Test: 0.7770\n",
      "에폭: 035, Loss: 1.1197, Val: 0.7660, Test: 0.7790\n",
      "에폭: 036, Loss: 1.0807, Val: 0.7680, Test: 0.7810\n",
      "에폭: 037, Loss: 1.0921, Val: 0.7700, Test: 0.7870\n",
      "에폭: 038, Loss: 1.0493, Val: 0.7760, Test: 0.7920\n",
      "에폭: 039, Loss: 1.0141, Val: 0.7760, Test: 0.7940\n",
      "에폭: 040, Loss: 0.9605, Val: 0.7780, Test: 0.7970\n",
      "에폭: 041, Loss: 0.9411, Val: 0.7800, Test: 0.8010\n",
      "에폭: 042, Loss: 0.9093, Val: 0.7780, Test: 0.8000\n",
      "에폭: 043, Loss: 0.8912, Val: 0.7780, Test: 0.8030\n",
      "에폭: 044, Loss: 0.8661, Val: 0.7780, Test: 0.8010\n",
      "에폭: 045, Loss: 0.8743, Val: 0.7760, Test: 0.7990\n",
      "에폭: 046, Loss: 0.7827, Val: 0.7740, Test: 0.8000\n",
      "에폭: 047, Loss: 0.8070, Val: 0.7740, Test: 0.7990\n",
      "에폭: 048, Loss: 0.7631, Val: 0.7760, Test: 0.7980\n",
      "에폭: 049, Loss: 0.7676, Val: 0.7760, Test: 0.7930\n",
      "에폭: 050, Loss: 0.7429, Val: 0.7740, Test: 0.7960\n",
      "에폭: 051, Loss: 0.7164, Val: 0.7800, Test: 0.7960\n",
      "에폭: 052, Loss: 0.7005, Val: 0.7820, Test: 0.8010\n",
      "에폭: 053, Loss: 0.6526, Val: 0.7840, Test: 0.8040\n",
      "에폭: 054, Loss: 0.6508, Val: 0.7840, Test: 0.8070\n",
      "에폭: 055, Loss: 0.6600, Val: 0.7860, Test: 0.8080\n",
      "에폭: 056, Loss: 0.6504, Val: 0.7800, Test: 0.8090\n",
      "에폭: 057, Loss: 0.6144, Val: 0.7820, Test: 0.8130\n",
      "에폭: 058, Loss: 0.5991, Val: 0.7880, Test: 0.8150\n",
      "에폭: 059, Loss: 0.5760, Val: 0.7900, Test: 0.8150\n",
      "에폭: 060, Loss: 0.5802, Val: 0.7840, Test: 0.8190\n",
      "에폭: 061, Loss: 0.5780, Val: 0.7840, Test: 0.8170\n",
      "에폭: 062, Loss: 0.5314, Val: 0.7820, Test: 0.8170\n",
      "에폭: 063, Loss: 0.5477, Val: 0.7800, Test: 0.8140\n",
      "에폭: 064, Loss: 0.5201, Val: 0.7800, Test: 0.8140\n",
      "에폭: 065, Loss: 0.5152, Val: 0.7780, Test: 0.8170\n",
      "에폭: 066, Loss: 0.5426, Val: 0.7820, Test: 0.8150\n",
      "에폭: 067, Loss: 0.5077, Val: 0.7820, Test: 0.8090\n",
      "에폭: 068, Loss: 0.4977, Val: 0.7840, Test: 0.8080\n",
      "에폭: 069, Loss: 0.4940, Val: 0.7860, Test: 0.8100\n",
      "에폭: 070, Loss: 0.4645, Val: 0.7840, Test: 0.8070\n",
      "에폭: 071, Loss: 0.4631, Val: 0.7860, Test: 0.8080\n",
      "에폭: 072, Loss: 0.4483, Val: 0.7820, Test: 0.8130\n",
      "에폭: 073, Loss: 0.4633, Val: 0.7820, Test: 0.8140\n",
      "에폭: 074, Loss: 0.4798, Val: 0.7840, Test: 0.8130\n",
      "에폭: 075, Loss: 0.4621, Val: 0.7840, Test: 0.8120\n",
      "에폭: 076, Loss: 0.4268, Val: 0.7840, Test: 0.8130\n",
      "에폭: 077, Loss: 0.4374, Val: 0.7840, Test: 0.8160\n",
      "에폭: 078, Loss: 0.4206, Val: 0.7860, Test: 0.8160\n",
      "에폭: 079, Loss: 0.4502, Val: 0.7840, Test: 0.8140\n",
      "에폭: 080, Loss: 0.4283, Val: 0.7840, Test: 0.8120\n",
      "에폭: 081, Loss: 0.4543, Val: 0.7860, Test: 0.8140\n",
      "에폭: 082, Loss: 0.4022, Val: 0.7860, Test: 0.8130\n",
      "에폭: 083, Loss: 0.3963, Val: 0.7900, Test: 0.8120\n",
      "에폭: 084, Loss: 0.4181, Val: 0.7900, Test: 0.8100\n",
      "에폭: 085, Loss: 0.4002, Val: 0.7860, Test: 0.8080\n",
      "에폭: 086, Loss: 0.3945, Val: 0.7880, Test: 0.8090\n",
      "에폭: 087, Loss: 0.3902, Val: 0.7860, Test: 0.8100\n",
      "에폭: 088, Loss: 0.3878, Val: 0.7880, Test: 0.8090\n",
      "에폭: 089, Loss: 0.3852, Val: 0.7880, Test: 0.8100\n",
      "에폭: 090, Loss: 0.3613, Val: 0.7840, Test: 0.8110\n",
      "에폭: 091, Loss: 0.3955, Val: 0.7920, Test: 0.8120\n",
      "에폭: 092, Loss: 0.3529, Val: 0.7880, Test: 0.8120\n",
      "에폭: 093, Loss: 0.3688, Val: 0.7900, Test: 0.8110\n",
      "에폭: 094, Loss: 0.3735, Val: 0.7900, Test: 0.8080\n",
      "에폭: 095, Loss: 0.3563, Val: 0.7860, Test: 0.8070\n",
      "에폭: 096, Loss: 0.3598, Val: 0.7860, Test: 0.8090\n",
      "에폭: 097, Loss: 0.3641, Val: 0.7840, Test: 0.8090\n",
      "에폭: 098, Loss: 0.3614, Val: 0.7860, Test: 0.8100\n",
      "에폭: 099, Loss: 0.3512, Val: 0.7860, Test: 0.8110\n",
      "에폭: 100, Loss: 0.3392, Val: 0.7800, Test: 0.8110\n"
     ]
    }
   ],
   "source": [
    "for epoch in range(1, 101):\n",
    "    loss = train()\n",
    "    val_acc = test(data.val_mask)\n",
    "    test_acc = test(data.test_mask)\n",
    "    print(f'에폭: {epoch:03d}, Loss: {loss:.4f}, Val: {val_acc:.4f}, Test: {test_acc:.4f}')"
   ]
  },
  {
   "cell_type": "code",
   "execution_count": 60,
   "id": "38b06c03-b0f3-449e-84a6-ff7c58d139d6",
   "metadata": {},
   "outputs": [
    {
     "data": {
      "text/plain": [
       "0.811"
      ]
     },
     "execution_count": 60,
     "metadata": {},
     "output_type": "execute_result"
    }
   ],
   "source": [
    "test_acc = test(data.test_mask)\n",
    "test_acc"
   ]
  },
  {
   "cell_type": "markdown",
   "id": "c44766f3-9baa-4c39-a44a-f260a434ee80",
   "metadata": {},
   "source": [
    "### `-` hidden_channels = 64"
   ]
  },
  {
   "cell_type": "code",
   "execution_count": 61,
   "id": "d1281c29-7045-48f3-81c5-17e3ad727a2e",
   "metadata": {},
   "outputs": [],
   "source": [
    "model = GCN(hidden_channels=64)\n",
    "optimizr = torch.optim.Adam(model.parameters(), lr=0.01, weight_decay=5e-4)\n",
    "loss_fn = torch.nn.CrossEntropyLoss()\n",
    "\n",
    "def train():\n",
    "      model.train()\n",
    "      optimizr.zero_grad()  # Clear gradients.\n",
    "      out = model(data.x, data.edge_index)  # Perform a single forward pass.\n",
    "      loss = loss_fn(out[data.train_mask], data.y[data.train_mask])  # Compute the loss solely based on the training nodes.\n",
    "      loss.backward()  # Derive gradients.\n",
    "      optimizr.step()  # Update parameters based on gradients.\n",
    "      return loss\n",
    "\n",
    "def test(mask):\n",
    "      model.eval()\n",
    "      out = model(data.x, data.edge_index)\n",
    "      pred = out.argmax(dim=1)  # Use the class with highest probability.\n",
    "      correct = pred[mask] == data.y[mask]  # Check against ground-truth labels.\n",
    "      acc = int(correct.sum()) / int(mask.sum())  # Derive ratio of correct predictions.\n",
    "      return acc"
   ]
  },
  {
   "cell_type": "code",
   "execution_count": 62,
   "id": "67847bc5-5ee9-431c-8cbc-ac92bb8fa4f4",
   "metadata": {},
   "outputs": [
    {
     "name": "stdout",
     "output_type": "stream",
     "text": [
      "에폭: 001, Loss: 1.9461, Val: 0.2280, Test: 0.2530\n",
      "에폭: 002, Loss: 1.9347, Val: 0.3720, Test: 0.3930\n",
      "에폭: 003, Loss: 1.9207, Val: 0.6560, Test: 0.6540\n",
      "에폭: 004, Loss: 1.9041, Val: 0.7480, Test: 0.7320\n",
      "에폭: 005, Loss: 1.8870, Val: 0.7380, Test: 0.7490\n",
      "에폭: 006, Loss: 1.8686, Val: 0.7600, Test: 0.7750\n",
      "에폭: 007, Loss: 1.8476, Val: 0.7760, Test: 0.7890\n",
      "에폭: 008, Loss: 1.8169, Val: 0.7800, Test: 0.7860\n",
      "에폭: 009, Loss: 1.7975, Val: 0.7720, Test: 0.7830\n",
      "에폭: 010, Loss: 1.7649, Val: 0.7700, Test: 0.7740\n",
      "에폭: 011, Loss: 1.7330, Val: 0.7560, Test: 0.7750\n",
      "에폭: 012, Loss: 1.7101, Val: 0.7640, Test: 0.7780\n",
      "에폭: 013, Loss: 1.6784, Val: 0.7680, Test: 0.7790\n",
      "에폭: 014, Loss: 1.6361, Val: 0.7720, Test: 0.7800\n",
      "에폭: 015, Loss: 1.6086, Val: 0.7780, Test: 0.7840\n",
      "에폭: 016, Loss: 1.5724, Val: 0.7820, Test: 0.7930\n",
      "에폭: 017, Loss: 1.5306, Val: 0.7840, Test: 0.8000\n",
      "에폭: 018, Loss: 1.4846, Val: 0.7900, Test: 0.8000\n",
      "에폭: 019, Loss: 1.4324, Val: 0.8000, Test: 0.8030\n",
      "에폭: 020, Loss: 1.4128, Val: 0.8020, Test: 0.8010\n",
      "에폭: 021, Loss: 1.3664, Val: 0.7960, Test: 0.8020\n",
      "에폭: 022, Loss: 1.3191, Val: 0.7980, Test: 0.7990\n",
      "에폭: 023, Loss: 1.2794, Val: 0.7980, Test: 0.8010\n",
      "에폭: 024, Loss: 1.2395, Val: 0.7900, Test: 0.8020\n",
      "에폭: 025, Loss: 1.2056, Val: 0.7940, Test: 0.8000\n",
      "에폭: 026, Loss: 1.1459, Val: 0.7900, Test: 0.7970\n",
      "에폭: 027, Loss: 1.1225, Val: 0.7900, Test: 0.7970\n",
      "에폭: 028, Loss: 1.0561, Val: 0.7940, Test: 0.8030\n",
      "에폭: 029, Loss: 1.0305, Val: 0.7980, Test: 0.8080\n",
      "에폭: 030, Loss: 0.9678, Val: 0.8000, Test: 0.8110\n",
      "에폭: 031, Loss: 0.9440, Val: 0.7960, Test: 0.8110\n",
      "에폭: 032, Loss: 0.9190, Val: 0.7940, Test: 0.8140\n",
      "에폭: 033, Loss: 0.8733, Val: 0.7980, Test: 0.8120\n",
      "에폭: 034, Loss: 0.8455, Val: 0.8020, Test: 0.8170\n",
      "에폭: 035, Loss: 0.7919, Val: 0.8020, Test: 0.8170\n",
      "에폭: 036, Loss: 0.7638, Val: 0.8000, Test: 0.8160\n",
      "에폭: 037, Loss: 0.7554, Val: 0.8020, Test: 0.8140\n",
      "에폭: 038, Loss: 0.7256, Val: 0.8040, Test: 0.8220\n",
      "에폭: 039, Loss: 0.6891, Val: 0.8040, Test: 0.8190\n",
      "에폭: 040, Loss: 0.6443, Val: 0.7980, Test: 0.8190\n",
      "에폭: 041, Loss: 0.6405, Val: 0.8020, Test: 0.8230\n",
      "에폭: 042, Loss: 0.6302, Val: 0.7980, Test: 0.8200\n",
      "에폭: 043, Loss: 0.5836, Val: 0.7980, Test: 0.8130\n",
      "에폭: 044, Loss: 0.5620, Val: 0.7920, Test: 0.8140\n",
      "에폭: 045, Loss: 0.5484, Val: 0.8000, Test: 0.8170\n",
      "에폭: 046, Loss: 0.5387, Val: 0.8000, Test: 0.8200\n",
      "에폭: 047, Loss: 0.5254, Val: 0.8040, Test: 0.8250\n",
      "에폭: 048, Loss: 0.5036, Val: 0.8020, Test: 0.8230\n",
      "에폭: 049, Loss: 0.4968, Val: 0.8020, Test: 0.8270\n",
      "에폭: 050, Loss: 0.5090, Val: 0.7980, Test: 0.8280\n",
      "에폭: 051, Loss: 0.4719, Val: 0.7960, Test: 0.8250\n",
      "에폭: 052, Loss: 0.4537, Val: 0.7940, Test: 0.8260\n",
      "에폭: 053, Loss: 0.4421, Val: 0.7860, Test: 0.8200\n",
      "에폭: 054, Loss: 0.4380, Val: 0.7940, Test: 0.8190\n",
      "에폭: 055, Loss: 0.4082, Val: 0.8000, Test: 0.8160\n",
      "에폭: 056, Loss: 0.3956, Val: 0.8040, Test: 0.8210\n",
      "에폭: 057, Loss: 0.4172, Val: 0.8000, Test: 0.8220\n",
      "에폭: 058, Loss: 0.4053, Val: 0.7960, Test: 0.8250\n",
      "에폭: 059, Loss: 0.4049, Val: 0.7980, Test: 0.8250\n",
      "에폭: 060, Loss: 0.4005, Val: 0.7940, Test: 0.8170\n",
      "에폭: 061, Loss: 0.3776, Val: 0.7880, Test: 0.8150\n",
      "에폭: 062, Loss: 0.3655, Val: 0.7840, Test: 0.8100\n",
      "에폭: 063, Loss: 0.3504, Val: 0.7840, Test: 0.8090\n",
      "에폭: 064, Loss: 0.3473, Val: 0.7880, Test: 0.8110\n",
      "에폭: 065, Loss: 0.3726, Val: 0.7880, Test: 0.8140\n",
      "에폭: 066, Loss: 0.3532, Val: 0.7860, Test: 0.8150\n",
      "에폭: 067, Loss: 0.3520, Val: 0.7900, Test: 0.8200\n",
      "에폭: 068, Loss: 0.3481, Val: 0.7900, Test: 0.8210\n",
      "에폭: 069, Loss: 0.3543, Val: 0.7940, Test: 0.8180\n",
      "에폭: 070, Loss: 0.3482, Val: 0.7920, Test: 0.8230\n",
      "에폭: 071, Loss: 0.3228, Val: 0.7980, Test: 0.8170\n",
      "에폭: 072, Loss: 0.3726, Val: 0.7940, Test: 0.8130\n",
      "에폭: 073, Loss: 0.3259, Val: 0.8000, Test: 0.8080\n",
      "에폭: 074, Loss: 0.3051, Val: 0.8020, Test: 0.8070\n",
      "에폭: 075, Loss: 0.3152, Val: 0.7980, Test: 0.8090\n",
      "에폭: 076, Loss: 0.3163, Val: 0.7960, Test: 0.8140\n",
      "에폭: 077, Loss: 0.3005, Val: 0.7900, Test: 0.8140\n",
      "에폭: 078, Loss: 0.3089, Val: 0.7900, Test: 0.8180\n",
      "에폭: 079, Loss: 0.3017, Val: 0.7920, Test: 0.8150\n",
      "에폭: 080, Loss: 0.2835, Val: 0.7880, Test: 0.8190\n",
      "에폭: 081, Loss: 0.2895, Val: 0.7940, Test: 0.8170\n",
      "에폭: 082, Loss: 0.2775, Val: 0.7940, Test: 0.8120\n",
      "에폭: 083, Loss: 0.2926, Val: 0.7960, Test: 0.8110\n",
      "에폭: 084, Loss: 0.2832, Val: 0.7940, Test: 0.8070\n",
      "에폭: 085, Loss: 0.2879, Val: 0.7900, Test: 0.8060\n",
      "에폭: 086, Loss: 0.2579, Val: 0.7940, Test: 0.8070\n",
      "에폭: 087, Loss: 0.2768, Val: 0.7880, Test: 0.8070\n",
      "에폭: 088, Loss: 0.2832, Val: 0.7920, Test: 0.8060\n",
      "에폭: 089, Loss: 0.2625, Val: 0.7940, Test: 0.8090\n",
      "에폭: 090, Loss: 0.2670, Val: 0.7920, Test: 0.8140\n",
      "에폭: 091, Loss: 0.2810, Val: 0.7920, Test: 0.8110\n",
      "에폭: 092, Loss: 0.2622, Val: 0.7920, Test: 0.8140\n",
      "에폭: 093, Loss: 0.2512, Val: 0.7920, Test: 0.8130\n",
      "에폭: 094, Loss: 0.2469, Val: 0.7920, Test: 0.8130\n",
      "에폭: 095, Loss: 0.2359, Val: 0.7920, Test: 0.8110\n",
      "에폭: 096, Loss: 0.2657, Val: 0.7900, Test: 0.8090\n",
      "에폭: 097, Loss: 0.2554, Val: 0.7900, Test: 0.8090\n",
      "에폭: 098, Loss: 0.2496, Val: 0.7920, Test: 0.8080\n",
      "에폭: 099, Loss: 0.2493, Val: 0.7960, Test: 0.8100\n",
      "에폭: 100, Loss: 0.2593, Val: 0.7960, Test: 0.8130\n"
     ]
    }
   ],
   "source": [
    "for epoch in range(1, 101):\n",
    "    loss = train()\n",
    "    val_acc = test(data.val_mask)\n",
    "    test_acc = test(data.test_mask)\n",
    "    print(f'에폭: {epoch:03d}, Loss: {loss:.4f}, Val: {val_acc:.4f}, Test: {test_acc:.4f}')"
   ]
  },
  {
   "cell_type": "code",
   "execution_count": 63,
   "id": "d01a4f7d-154e-4a10-bc83-490b39601a54",
   "metadata": {},
   "outputs": [
    {
     "data": {
      "text/plain": [
       "0.813"
      ]
     },
     "execution_count": 63,
     "metadata": {},
     "output_type": "execute_result"
    }
   ],
   "source": [
    "test_acc = test(data.test_mask)\n",
    "test_acc"
   ]
  },
  {
   "cell_type": "markdown",
   "id": "58f957e0-955f-4d9b-b7af-b6fb0f585eab",
   "metadata": {},
   "source": [
    "진짜 마지막"
   ]
  },
  {
   "cell_type": "markdown",
   "id": "399e745e-ac7e-42e7-939d-0287290179b1",
   "metadata": {},
   "source": [
    "### `-` hidden_channels = 128"
   ]
  },
  {
   "cell_type": "code",
   "execution_count": 66,
   "id": "5abe737a-1e18-4385-a698-ec7742cd3fd6",
   "metadata": {},
   "outputs": [],
   "source": [
    "model = GCN(hidden_channels=128)\n",
    "optimizr = torch.optim.Adam(model.parameters(), lr=0.01, weight_decay=5e-4)\n",
    "loss_fn = torch.nn.CrossEntropyLoss()\n",
    "\n",
    "def train():\n",
    "      model.train()\n",
    "      optimizr.zero_grad()  # Clear gradients.\n",
    "      out = model(data.x, data.edge_index)  # Perform a single forward pass.\n",
    "      loss = loss_fn(out[data.train_mask], data.y[data.train_mask])  # Compute the loss solely based on the training nodes.\n",
    "      loss.backward()  # Derive gradients.\n",
    "      optimizr.step()  # Update parameters based on gradients.\n",
    "      return loss\n",
    "\n",
    "def test(mask):\n",
    "      model.eval()\n",
    "      out = model(data.x, data.edge_index)\n",
    "      pred = out.argmax(dim=1)  # Use the class with highest probability.\n",
    "      correct = pred[mask] == data.y[mask]  # Check against ground-truth labels.\n",
    "      acc = int(correct.sum()) / int(mask.sum())  # Derive ratio of correct predictions.\n",
    "      return acc"
   ]
  },
  {
   "cell_type": "code",
   "execution_count": 67,
   "id": "828f757e-1dee-4bf1-b01d-60ab47862b48",
   "metadata": {},
   "outputs": [
    {
     "name": "stdout",
     "output_type": "stream",
     "text": [
      "에폭: 001, Loss: 1.9459, Val: 0.2920, Test: 0.3330\n",
      "에폭: 002, Loss: 1.9297, Val: 0.2880, Test: 0.3140\n",
      "에폭: 003, Loss: 1.9134, Val: 0.3860, Test: 0.3930\n",
      "에폭: 004, Loss: 1.8888, Val: 0.4760, Test: 0.4990\n",
      "에폭: 005, Loss: 1.8626, Val: 0.5580, Test: 0.5820\n",
      "에폭: 006, Loss: 1.8336, Val: 0.6280, Test: 0.6420\n",
      "에폭: 007, Loss: 1.7979, Val: 0.6580, Test: 0.6730\n",
      "에폭: 008, Loss: 1.7657, Val: 0.6700, Test: 0.6910\n",
      "에폭: 009, Loss: 1.7229, Val: 0.6840, Test: 0.7180\n",
      "에폭: 010, Loss: 1.6762, Val: 0.7000, Test: 0.7250\n",
      "에폭: 011, Loss: 1.6376, Val: 0.7080, Test: 0.7370\n",
      "에폭: 012, Loss: 1.5870, Val: 0.7300, Test: 0.7650\n",
      "에폭: 013, Loss: 1.5326, Val: 0.7380, Test: 0.7740\n",
      "에폭: 014, Loss: 1.4731, Val: 0.7520, Test: 0.7770\n",
      "에폭: 015, Loss: 1.4370, Val: 0.7560, Test: 0.7840\n",
      "에폭: 016, Loss: 1.3767, Val: 0.7660, Test: 0.7910\n",
      "에폭: 017, Loss: 1.3069, Val: 0.7800, Test: 0.7910\n",
      "에폭: 018, Loss: 1.2643, Val: 0.7820, Test: 0.8020\n",
      "에폭: 019, Loss: 1.1892, Val: 0.7820, Test: 0.8040\n",
      "에폭: 020, Loss: 1.1427, Val: 0.7860, Test: 0.8080\n",
      "에폭: 021, Loss: 1.0830, Val: 0.7840, Test: 0.8090\n",
      "에폭: 022, Loss: 1.0314, Val: 0.7840, Test: 0.8080\n",
      "에폭: 023, Loss: 0.9648, Val: 0.7840, Test: 0.8100\n",
      "에폭: 024, Loss: 0.9281, Val: 0.7840, Test: 0.8110\n",
      "에폭: 025, Loss: 0.8805, Val: 0.7880, Test: 0.8120\n",
      "에폭: 026, Loss: 0.8167, Val: 0.7940, Test: 0.8150\n",
      "에폭: 027, Loss: 0.8019, Val: 0.7940, Test: 0.8140\n",
      "에폭: 028, Loss: 0.7399, Val: 0.7940, Test: 0.8160\n",
      "에폭: 029, Loss: 0.7001, Val: 0.7940, Test: 0.8180\n",
      "에폭: 030, Loss: 0.6684, Val: 0.7980, Test: 0.8230\n",
      "에폭: 031, Loss: 0.6249, Val: 0.8020, Test: 0.8230\n",
      "에폭: 032, Loss: 0.5802, Val: 0.8000, Test: 0.8220\n",
      "에폭: 033, Loss: 0.5604, Val: 0.8020, Test: 0.8250\n",
      "에폭: 034, Loss: 0.5569, Val: 0.8000, Test: 0.8280\n",
      "에폭: 035, Loss: 0.4827, Val: 0.7980, Test: 0.8270\n",
      "에폭: 036, Loss: 0.4973, Val: 0.7960, Test: 0.8250\n",
      "에폭: 037, Loss: 0.4821, Val: 0.7980, Test: 0.8280\n",
      "에폭: 038, Loss: 0.4444, Val: 0.7960, Test: 0.8290\n",
      "에폭: 039, Loss: 0.4423, Val: 0.7940, Test: 0.8280\n",
      "에폭: 040, Loss: 0.4391, Val: 0.7940, Test: 0.8220\n",
      "에폭: 041, Loss: 0.4209, Val: 0.7940, Test: 0.8200\n",
      "에폭: 042, Loss: 0.4060, Val: 0.7920, Test: 0.8210\n",
      "에폭: 043, Loss: 0.3860, Val: 0.7940, Test: 0.8210\n",
      "에폭: 044, Loss: 0.3712, Val: 0.7900, Test: 0.8230\n",
      "에폭: 045, Loss: 0.3680, Val: 0.7920, Test: 0.8240\n",
      "에폭: 046, Loss: 0.3541, Val: 0.7940, Test: 0.8200\n",
      "에폭: 047, Loss: 0.3426, Val: 0.7960, Test: 0.8220\n",
      "에폭: 048, Loss: 0.3309, Val: 0.7940, Test: 0.8190\n",
      "에폭: 049, Loss: 0.3434, Val: 0.7920, Test: 0.8230\n",
      "에폭: 050, Loss: 0.3195, Val: 0.7880, Test: 0.8190\n",
      "에폭: 051, Loss: 0.3153, Val: 0.7900, Test: 0.8220\n",
      "에폭: 052, Loss: 0.3199, Val: 0.7920, Test: 0.8230\n",
      "에폭: 053, Loss: 0.3043, Val: 0.7920, Test: 0.8210\n",
      "에폭: 054, Loss: 0.3003, Val: 0.7960, Test: 0.8170\n",
      "에폭: 055, Loss: 0.3075, Val: 0.7940, Test: 0.8160\n",
      "에폭: 056, Loss: 0.2846, Val: 0.7940, Test: 0.8160\n",
      "에폭: 057, Loss: 0.2740, Val: 0.7940, Test: 0.8150\n",
      "에폭: 058, Loss: 0.2864, Val: 0.7980, Test: 0.8100\n",
      "에폭: 059, Loss: 0.2695, Val: 0.7960, Test: 0.8110\n",
      "에폭: 060, Loss: 0.2758, Val: 0.7960, Test: 0.8130\n",
      "에폭: 061, Loss: 0.2689, Val: 0.7920, Test: 0.8110\n",
      "에폭: 062, Loss: 0.2551, Val: 0.7940, Test: 0.8100\n",
      "에폭: 063, Loss: 0.2599, Val: 0.7940, Test: 0.8040\n",
      "에폭: 064, Loss: 0.2571, Val: 0.7940, Test: 0.8030\n",
      "에폭: 065, Loss: 0.2597, Val: 0.7880, Test: 0.8010\n",
      "에폭: 066, Loss: 0.2536, Val: 0.7900, Test: 0.8000\n",
      "에폭: 067, Loss: 0.2444, Val: 0.8000, Test: 0.8070\n",
      "에폭: 068, Loss: 0.2524, Val: 0.7940, Test: 0.8080\n",
      "에폭: 069, Loss: 0.2539, Val: 0.7940, Test: 0.8090\n",
      "에폭: 070, Loss: 0.2463, Val: 0.7900, Test: 0.8130\n",
      "에폭: 071, Loss: 0.2359, Val: 0.7940, Test: 0.8080\n",
      "에폭: 072, Loss: 0.2504, Val: 0.7960, Test: 0.8020\n",
      "에폭: 073, Loss: 0.2226, Val: 0.7960, Test: 0.7970\n",
      "에폭: 074, Loss: 0.2196, Val: 0.7980, Test: 0.8000\n",
      "에폭: 075, Loss: 0.2296, Val: 0.8020, Test: 0.8010\n",
      "에폭: 076, Loss: 0.2369, Val: 0.8020, Test: 0.8020\n",
      "에폭: 077, Loss: 0.2375, Val: 0.7980, Test: 0.8070\n",
      "에폭: 078, Loss: 0.2348, Val: 0.7940, Test: 0.8030\n",
      "에폭: 079, Loss: 0.2251, Val: 0.7860, Test: 0.8090\n",
      "에폭: 080, Loss: 0.2125, Val: 0.7840, Test: 0.8070\n",
      "에폭: 081, Loss: 0.2132, Val: 0.7900, Test: 0.8050\n",
      "에폭: 082, Loss: 0.2095, Val: 0.7940, Test: 0.8060\n",
      "에폭: 083, Loss: 0.2157, Val: 0.7940, Test: 0.8060\n",
      "에폭: 084, Loss: 0.2067, Val: 0.7960, Test: 0.8040\n",
      "에폭: 085, Loss: 0.2076, Val: 0.7980, Test: 0.8050\n",
      "에폭: 086, Loss: 0.2017, Val: 0.7980, Test: 0.8050\n",
      "에폭: 087, Loss: 0.2083, Val: 0.8000, Test: 0.8050\n",
      "에폭: 088, Loss: 0.1889, Val: 0.8000, Test: 0.8070\n",
      "에폭: 089, Loss: 0.2043, Val: 0.7960, Test: 0.8070\n",
      "에폭: 090, Loss: 0.2090, Val: 0.7920, Test: 0.8080\n",
      "에폭: 091, Loss: 0.1975, Val: 0.7940, Test: 0.8030\n",
      "에폭: 092, Loss: 0.1983, Val: 0.7920, Test: 0.8020\n",
      "에폭: 093, Loss: 0.2047, Val: 0.7900, Test: 0.8080\n",
      "에폭: 094, Loss: 0.2028, Val: 0.7940, Test: 0.8040\n",
      "에폭: 095, Loss: 0.1916, Val: 0.7940, Test: 0.8050\n",
      "에폭: 096, Loss: 0.1996, Val: 0.7960, Test: 0.8060\n",
      "에폭: 097, Loss: 0.1867, Val: 0.7920, Test: 0.8030\n",
      "에폭: 098, Loss: 0.1803, Val: 0.7960, Test: 0.8030\n",
      "에폭: 099, Loss: 0.1878, Val: 0.7960, Test: 0.8000\n",
      "에폭: 100, Loss: 0.1855, Val: 0.7960, Test: 0.8020\n"
     ]
    }
   ],
   "source": [
    "for epoch in range(1, 101):\n",
    "    loss = train()\n",
    "    val_acc = test(data.val_mask)\n",
    "    test_acc = test(data.test_mask)\n",
    "    print(f'에폭: {epoch:03d}, Loss: {loss:.4f}, Val: {val_acc:.4f}, Test: {test_acc:.4f}')"
   ]
  },
  {
   "cell_type": "code",
   "execution_count": 68,
   "id": "1dcc2c0a-ca47-4aa9-9839-5cf9913f98b6",
   "metadata": {},
   "outputs": [
    {
     "data": {
      "text/plain": [
       "0.802"
      ]
     },
     "execution_count": 68,
     "metadata": {},
     "output_type": "execute_result"
    }
   ],
   "source": [
    "test_acc = test(data.test_mask)\n",
    "test_acc"
   ]
  },
  {
   "cell_type": "markdown",
   "id": "3bba6921-ca23-4eb4-a67c-386ec887d73f",
   "metadata": {},
   "source": [
    "***실패: hidden channels=16일때가 제일 좋았다..*** "
   ]
  },
  {
   "cell_type": "markdown",
   "id": "ec49c1d7-705f-4f7f-80e9-2580fd4b4e9d",
   "metadata": {},
   "source": [
    "## +"
   ]
  },
  {
   "cell_type": "markdown",
   "id": "61599c04-a877-411b-b7ec-657ff120feda",
   "metadata": {},
   "source": [
    "## (시도5) 층을 더 쌓아보자."
   ]
  },
  {
   "cell_type": "code",
   "execution_count": 79,
   "id": "6b3faea8-b5d6-498e-9a1e-572c4cd5eb66",
   "metadata": {},
   "outputs": [
    {
     "name": "stdout",
     "output_type": "stream",
     "text": [
      "GCN(\n",
      "  (conv1): GCNConv(1433, 16)\n",
      "  (conv2): GCNConv(16, 32)\n",
      "  (conv3): GCNConv(32, 7)\n",
      ")\n"
     ]
    }
   ],
   "source": [
    "from torch_geometric.nn import GCNConv\n",
    "\n",
    "\n",
    "class GCN(torch.nn.Module):\n",
    "    def __init__(self, hidden_channels):\n",
    "        super().__init__()\n",
    "        ## 우리가 사용할 레이어 정의\n",
    "        torch.manual_seed(1234567)\n",
    "        self.conv1 = GCNConv(dataset.num_features, hidden_channels)\n",
    "        self.conv2 = GCNConv(hidden_channels, 32)\n",
    "        self.conv3 = GCNConv(32, dataset.num_classes)\n",
    "        ## 레이어 정의 끝!\n",
    "        \n",
    "    def forward(self, x, edge_index):\n",
    "        ## yhat을 어떻게 구할것인지 정의\n",
    "        x = self.conv1(x, edge_index)\n",
    "        x = x.relu()\n",
    "        x = F.dropout(x, p=0.5, training=self.training)\n",
    "        x = self.conv2(x, edge_index)\n",
    "        x = x.relu()\n",
    "        x = F.dropout(x, p = 0.5, training=self.training)\n",
    "        x = self.conv3(x, edge_index)\n",
    "        ## 정의 끝!\n",
    "        return x\n",
    "\n",
    "model = GCN(hidden_channels=16)\n",
    "print(model)"
   ]
  },
  {
   "cell_type": "code",
   "execution_count": 80,
   "id": "b91260a9-90bc-4a1e-8bdd-dd9ccb66542b",
   "metadata": {},
   "outputs": [],
   "source": [
    "model = GCN(hidden_channels=16)  ## 다시 처음처럼\n",
    "optimizr = torch.optim.Adam(model.parameters(), lr=0.01, weight_decay=5e-4)\n",
    "loss_fn = torch.nn.CrossEntropyLoss()\n",
    "\n",
    "def train():\n",
    "      model.train()\n",
    "      optimizr.zero_grad()  # Clear gradients.\n",
    "      out = model(data.x, data.edge_index)  # Perform a single forward pass.\n",
    "      loss = loss_fn(out[data.train_mask], data.y[data.train_mask])  # Compute the loss solely based on the training nodes.\n",
    "      loss.backward()  # Derive gradients.\n",
    "      optimizr.step()  # Update parameters based on gradients.\n",
    "      return loss\n",
    "\n",
    "def test(mask):\n",
    "      model.eval()\n",
    "      out = model(data.x, data.edge_index)\n",
    "      pred = out.argmax(dim=1)  # Use the class with highest probability.\n",
    "      correct = pred[mask] == data.y[mask]  # Check against ground-truth labels.\n",
    "      acc = int(correct.sum()) / int(mask.sum())  # Derive ratio of correct predictions.\n",
    "      return acc"
   ]
  },
  {
   "cell_type": "code",
   "execution_count": 81,
   "id": "49d0c964-5d35-4acd-9a1a-0fc0157a0335",
   "metadata": {},
   "outputs": [
    {
     "name": "stdout",
     "output_type": "stream",
     "text": [
      "에폭: 001, Loss: 1.9463, Val: 0.0600, Test: 0.0680\n",
      "에폭: 002, Loss: 1.9436, Val: 0.0960, Test: 0.1230\n",
      "에폭: 003, Loss: 1.9410, Val: 0.1840, Test: 0.1940\n",
      "에폭: 004, Loss: 1.9393, Val: 0.1920, Test: 0.2000\n",
      "에폭: 005, Loss: 1.9353, Val: 0.2100, Test: 0.2140\n",
      "에폭: 006, Loss: 1.9314, Val: 0.2380, Test: 0.2490\n",
      "에폭: 007, Loss: 1.9273, Val: 0.2720, Test: 0.2650\n",
      "에폭: 008, Loss: 1.9238, Val: 0.2940, Test: 0.2740\n",
      "에폭: 009, Loss: 1.9072, Val: 0.3440, Test: 0.3270\n",
      "에폭: 010, Loss: 1.9020, Val: 0.4120, Test: 0.4070\n",
      "에폭: 011, Loss: 1.8989, Val: 0.4620, Test: 0.4510\n",
      "에폭: 012, Loss: 1.8787, Val: 0.5180, Test: 0.5020\n",
      "에폭: 013, Loss: 1.8766, Val: 0.5260, Test: 0.5140\n",
      "에폭: 014, Loss: 1.8677, Val: 0.4820, Test: 0.4820\n",
      "에폭: 015, Loss: 1.8441, Val: 0.4420, Test: 0.4530\n",
      "에폭: 016, Loss: 1.8193, Val: 0.4100, Test: 0.4130\n",
      "에폭: 017, Loss: 1.8285, Val: 0.4140, Test: 0.4190\n",
      "에폭: 018, Loss: 1.7950, Val: 0.4480, Test: 0.4840\n",
      "에폭: 019, Loss: 1.7566, Val: 0.5000, Test: 0.5160\n",
      "에폭: 020, Loss: 1.7496, Val: 0.5560, Test: 0.5420\n",
      "에폭: 021, Loss: 1.7091, Val: 0.5600, Test: 0.5580\n",
      "에폭: 022, Loss: 1.6968, Val: 0.5760, Test: 0.5710\n",
      "에폭: 023, Loss: 1.6870, Val: 0.5600, Test: 0.5620\n",
      "에폭: 024, Loss: 1.6368, Val: 0.5660, Test: 0.5620\n",
      "에폭: 025, Loss: 1.6025, Val: 0.5720, Test: 0.5690\n",
      "에폭: 026, Loss: 1.5775, Val: 0.5700, Test: 0.5680\n",
      "에폭: 027, Loss: 1.5343, Val: 0.5720, Test: 0.5700\n",
      "에폭: 028, Loss: 1.4857, Val: 0.6200, Test: 0.5940\n",
      "에폭: 029, Loss: 1.4279, Val: 0.6340, Test: 0.6280\n",
      "에폭: 030, Loss: 1.4115, Val: 0.6720, Test: 0.6680\n",
      "에폭: 031, Loss: 1.3927, Val: 0.7060, Test: 0.7100\n",
      "에폭: 032, Loss: 1.3441, Val: 0.7160, Test: 0.7300\n",
      "에폭: 033, Loss: 1.3032, Val: 0.7220, Test: 0.7410\n",
      "에폭: 034, Loss: 1.2482, Val: 0.7320, Test: 0.7390\n",
      "에폭: 035, Loss: 1.1926, Val: 0.7320, Test: 0.7280\n",
      "에폭: 036, Loss: 1.1531, Val: 0.7400, Test: 0.7300\n",
      "에폭: 037, Loss: 1.1780, Val: 0.7440, Test: 0.7370\n",
      "에폭: 038, Loss: 1.0796, Val: 0.7520, Test: 0.7440\n",
      "에폭: 039, Loss: 1.0631, Val: 0.7540, Test: 0.7510\n",
      "에폭: 040, Loss: 0.9750, Val: 0.7540, Test: 0.7520\n",
      "에폭: 041, Loss: 0.9219, Val: 0.7500, Test: 0.7530\n",
      "에폭: 042, Loss: 0.9419, Val: 0.7640, Test: 0.7520\n",
      "에폭: 043, Loss: 0.8603, Val: 0.7680, Test: 0.7540\n",
      "에폭: 044, Loss: 0.8931, Val: 0.7640, Test: 0.7500\n",
      "에폭: 045, Loss: 0.7922, Val: 0.7660, Test: 0.7490\n",
      "에폭: 046, Loss: 0.8802, Val: 0.7740, Test: 0.7590\n",
      "에폭: 047, Loss: 0.8179, Val: 0.7500, Test: 0.7700\n",
      "에폭: 048, Loss: 0.7274, Val: 0.7340, Test: 0.7650\n",
      "에폭: 049, Loss: 0.7752, Val: 0.7460, Test: 0.7660\n",
      "에폭: 050, Loss: 0.6349, Val: 0.7700, Test: 0.7740\n",
      "에폭: 051, Loss: 0.6551, Val: 0.7640, Test: 0.7660\n",
      "에폭: 052, Loss: 0.7158, Val: 0.7560, Test: 0.7620\n",
      "에폭: 053, Loss: 0.5738, Val: 0.7500, Test: 0.7640\n",
      "에폭: 054, Loss: 0.5982, Val: 0.7520, Test: 0.7670\n",
      "에폭: 055, Loss: 0.5448, Val: 0.7620, Test: 0.7680\n",
      "에폭: 056, Loss: 0.5286, Val: 0.7600, Test: 0.7630\n",
      "에폭: 057, Loss: 0.5853, Val: 0.7560, Test: 0.7600\n",
      "에폭: 058, Loss: 0.5214, Val: 0.7560, Test: 0.7590\n",
      "에폭: 059, Loss: 0.5056, Val: 0.7620, Test: 0.7560\n",
      "에폭: 060, Loss: 0.4689, Val: 0.7620, Test: 0.7680\n",
      "에폭: 061, Loss: 0.5076, Val: 0.7600, Test: 0.7740\n",
      "에폭: 062, Loss: 0.4237, Val: 0.7580, Test: 0.7780\n",
      "에폭: 063, Loss: 0.4444, Val: 0.7540, Test: 0.7780\n",
      "에폭: 064, Loss: 0.4448, Val: 0.7620, Test: 0.7800\n",
      "에폭: 065, Loss: 0.4126, Val: 0.7640, Test: 0.7730\n",
      "에폭: 066, Loss: 0.4183, Val: 0.7620, Test: 0.7660\n",
      "에폭: 067, Loss: 0.3891, Val: 0.7560, Test: 0.7550\n",
      "에폭: 068, Loss: 0.3522, Val: 0.7480, Test: 0.7500\n",
      "에폭: 069, Loss: 0.3471, Val: 0.7520, Test: 0.7510\n",
      "에폭: 070, Loss: 0.4018, Val: 0.7440, Test: 0.7540\n",
      "에폭: 071, Loss: 0.3704, Val: 0.7480, Test: 0.7570\n",
      "에폭: 072, Loss: 0.3627, Val: 0.7540, Test: 0.7580\n",
      "에폭: 073, Loss: 0.3264, Val: 0.7440, Test: 0.7660\n",
      "에폭: 074, Loss: 0.3125, Val: 0.7580, Test: 0.7730\n",
      "에폭: 075, Loss: 0.3847, Val: 0.7580, Test: 0.7770\n",
      "에폭: 076, Loss: 0.3563, Val: 0.7640, Test: 0.7810\n",
      "에폭: 077, Loss: 0.3036, Val: 0.7560, Test: 0.7780\n",
      "에폭: 078, Loss: 0.3413, Val: 0.7560, Test: 0.7770\n",
      "에폭: 079, Loss: 0.2660, Val: 0.7560, Test: 0.7700\n",
      "에폭: 080, Loss: 0.2901, Val: 0.7520, Test: 0.7610\n",
      "에폭: 081, Loss: 0.3114, Val: 0.7540, Test: 0.7580\n",
      "에폭: 082, Loss: 0.2800, Val: 0.7560, Test: 0.7710\n",
      "에폭: 083, Loss: 0.3129, Val: 0.7520, Test: 0.7750\n",
      "에폭: 084, Loss: 0.2437, Val: 0.7540, Test: 0.7770\n",
      "에폭: 085, Loss: 0.2357, Val: 0.7580, Test: 0.7820\n",
      "에폭: 086, Loss: 0.2883, Val: 0.7620, Test: 0.7830\n",
      "에폭: 087, Loss: 0.2879, Val: 0.7600, Test: 0.7810\n",
      "에폭: 088, Loss: 0.2974, Val: 0.7540, Test: 0.7800\n",
      "에폭: 089, Loss: 0.2173, Val: 0.7560, Test: 0.7780\n",
      "에폭: 090, Loss: 0.3087, Val: 0.7620, Test: 0.7800\n",
      "에폭: 091, Loss: 0.2438, Val: 0.7560, Test: 0.7790\n",
      "에폭: 092, Loss: 0.2548, Val: 0.7600, Test: 0.7790\n",
      "에폭: 093, Loss: 0.2634, Val: 0.7560, Test: 0.7780\n",
      "에폭: 094, Loss: 0.2814, Val: 0.7580, Test: 0.7780\n",
      "에폭: 095, Loss: 0.2191, Val: 0.7600, Test: 0.7790\n",
      "에폭: 096, Loss: 0.2393, Val: 0.7740, Test: 0.7770\n",
      "에폭: 097, Loss: 0.2537, Val: 0.7680, Test: 0.7780\n",
      "에폭: 098, Loss: 0.2113, Val: 0.7660, Test: 0.7810\n",
      "에폭: 099, Loss: 0.2402, Val: 0.7700, Test: 0.7790\n",
      "에폭: 100, Loss: 0.2013, Val: 0.7660, Test: 0.7770\n"
     ]
    }
   ],
   "source": [
    "for epoch in range(1, 101):\n",
    "    loss = train()\n",
    "    val_acc = test(data.val_mask)\n",
    "    test_acc = test(data.test_mask)\n",
    "    print(f'에폭: {epoch:03d}, Loss: {loss:.4f}, Val: {val_acc:.4f}, Test: {test_acc:.4f}')"
   ]
  },
  {
   "cell_type": "code",
   "execution_count": 83,
   "id": "40c989bc-73e7-46d8-a14e-9c54206efde1",
   "metadata": {},
   "outputs": [
    {
     "data": {
      "text/plain": [
       "0.777"
      ]
     },
     "execution_count": 83,
     "metadata": {},
     "output_type": "execute_result"
    }
   ],
   "source": [
    "test_acc = test(data.test_mask)\n",
    "test_acc"
   ]
  },
  {
   "cell_type": "markdown",
   "id": "76666257-dc46-4fa6-abac-9893688b6a89",
   "metadata": {},
   "source": [
    "층을 늘려봐도 test accuracy가 더 떨어진다."
   ]
  },
  {
   "cell_type": "markdown",
   "id": "d8d8bf2e-643e-42a5-8d1d-bf1a14b2d9c3",
   "metadata": {},
   "source": [
    "## (시도6) GATConv layer 이용"
   ]
  },
  {
   "cell_type": "markdown",
   "id": "83b9f391-b4f4-46ad-9bd9-74f2c9f6de15",
   "metadata": {},
   "source": [
    "`GCNConv` 인스턴스를 attention을 이용한 `GATConv`로 바꿔보자."
   ]
  },
  {
   "cell_type": "code",
   "execution_count": null,
   "id": "1920e3cb-102f-4bef-9cee-14d7b35a2a05",
   "metadata": {},
   "outputs": [],
   "source": [
    "from torch_geometric.nn import GATConv\n",
    "\n",
    "\n",
    "class GAT(torch.nn.Module):\n",
    "    def __init__(self, hidden_channels, heads):\n",
    "        super().__init__()\n",
    "        torch.manual_seed(1234567)\n",
    "        self.conv1 = GATConv(...)  # TODO\n",
    "        self.conv2 = GATConv(...)  # TODO\n",
    "\n",
    "    def forward(self, x, edge_index):\n",
    "        x = F.dropout(x, p=0.6, training=self.training)\n",
    "        x = self.conv1(x, edge_index)\n",
    "        x = F.elu(x)\n",
    "        x = F.dropout(x, p=0.6, training=self.training)\n",
    "        x = self.conv2(x, edge_index)\n",
    "        return x"
   ]
  },
  {
   "cell_type": "markdown",
   "id": "ee80565f-2240-4a2f-b3c8-0491f9e0db60",
   "metadata": {},
   "source": [
    "- [관련논문](https://arxiv.org/pdf/1710.10903.pdf)^[GRAPH ATTENTION NETWORKS]"
   ]
  },
  {
   "cell_type": "markdown",
   "id": "89348d40-5d35-4df5-904f-f29456c08217",
   "metadata": {},
   "source": [
    "## Conclusion"
   ]
  },
  {
   "cell_type": "markdown",
   "id": "04ad6b56-f8fd-43ea-a931-73441af57a17",
   "metadata": {},
   "source": [
    "In this chapter, you have seen how to apply GNNs to real-world problems, and, in particular, how they can effectively be used for boosting a model's performance. In the next section, we will look into how GNNs can be used for the task of graph classification."
   ]
  }
 ],
 "metadata": {
  "kernelspec": {
   "display_name": "Python 3",
   "language": "python",
   "name": "python3"
  },
  "language_info": {
   "codemirror_mode": {
    "name": "ipython",
    "version": 3
   },
   "file_extension": ".py",
   "mimetype": "text/x-python",
   "name": "python",
   "nbconvert_exporter": "python",
   "pygments_lexer": "ipython3",
   "version": "3.8.16"
  }
 },
 "nbformat": 4,
 "nbformat_minor": 5
}
