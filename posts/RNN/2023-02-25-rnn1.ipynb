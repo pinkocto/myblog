{
 "cells": [
  {
   "cell_type": "raw",
   "id": "5634de67-b302-428e-bb12-6ac354634cf7",
   "metadata": {},
   "source": [
    "---\n",
    "title: \" 순환신경망 (1)\"\n",
    "author: \"jiyun Lim\"\n",
    "date: \"02/25/2023\"\n",
    "categories:\n",
    "    - DL2022\n",
    "    - RNN\n",
    "---"
   ]
  },
  {
   "cell_type": "markdown",
   "id": "912cc4f2-0f6a-41c8-b25c-cc3d13f7811a",
   "metadata": {},
   "source": [
    "# 순환신경망 intro 1"
   ]
  },
  {
   "cell_type": "markdown",
   "id": "ea190a83-f675-4727-87dc-d460bbaab66c",
   "metadata": {},
   "source": [
    "> 순환신경망 intro(1)- ab예제, embedding layer"
   ]
  },
  {
   "cell_type": "markdown",
   "id": "d518fef0-13d6-4e38-8dfb-2c4074b28d12",
   "metadata": {},
   "source": [
    "# 강의영상\n",
    "- https://youtube.com/playlist?list=PLQqh36zP38-zya4QF67x6DZfNtJRF-iPc\n",
    "\n",
    "- https://guebin.github.io/DL2022/posts/IV.%20RNN/2022-11-01-9wk-2.html"
   ]
  },
  {
   "cell_type": "markdown",
   "id": "a6e5d890-b4b7-4d5d-b78b-13d3c88b71eb",
   "metadata": {},
   "source": [
    "# import"
   ]
  },
  {
   "cell_type": "code",
   "execution_count": 86,
   "id": "fa38a126-139c-4c2b-9a33-7ac0771a393c",
   "metadata": {},
   "outputs": [],
   "source": [
    "import torch\n",
    "import pandas as pd\n",
    "import matplotlib.pyplot as plt"
   ]
  },
  {
   "cell_type": "markdown",
   "id": "18d392af-a7bb-4283-a1da-e7db182f6dc6",
   "metadata": {},
   "source": [
    "# Define some functions"
   ]
  },
  {
   "cell_type": "markdown",
   "id": "60f153ab-d3b0-4e21-8aa9-9f8451108c65",
   "metadata": {},
   "source": [
    "`-` 활성화 함수들"
   ]
  },
  {
   "cell_type": "code",
   "execution_count": 87,
   "id": "951e0f9b-3063-4d66-99ca-c8411718f46f",
   "metadata": {},
   "outputs": [],
   "source": [
    "sig = torch.nn.Sigmoid()\n",
    "soft = torch.nn.Softmax(dim = 1)\n",
    "tanh = torch.nn.Tanh()"
   ]
  },
  {
   "cell_type": "code",
   "execution_count": 88,
   "id": "70ffef72-8642-4f14-9f0c-2df88047b86d",
   "metadata": {},
   "outputs": [],
   "source": [
    "_x = torch.linspace(-5,5,100)"
   ]
  },
  {
   "cell_type": "code",
   "execution_count": 89,
   "id": "630c16be-b006-48c8-a0f9-cd1c83bdca34",
   "metadata": {},
   "outputs": [
    {
     "data": {
      "text/plain": [
       "[<matplotlib.lines.Line2D at 0x7f66540d4c70>]"
      ]
     },
     "execution_count": 89,
     "metadata": {},
     "output_type": "execute_result"
    },
    {
     "data": {
      "image/png": "[encoded data removed]",
      "text/plain": [
       "<Figure size 432x288 with 1 Axes>"
      ]
     },
     "metadata": {
      "needs_background": "light"
     },
     "output_type": "display_data"
    }
   ],
   "source": [
    "plt.plot(_x, tanh(_x)) # -1 ~ 1"
   ]
  },
  {
   "cell_type": "markdown",
   "id": "fa26c30f-d66c-4489-af61-de1e08f4e883",
   "metadata": {},
   "source": [
    "`-` 문자열 $\\to$ 숫자로 바꾸는 함수"
   ]
  },
  {
   "cell_type": "code",
   "execution_count": 90,
   "id": "e136dc26-8cda-4412-b365-72db68c832e2",
   "metadata": {},
   "outputs": [],
   "source": [
    "def f(txt, mapping):\n",
    "    return [mapping[key] for key in txt]"
   ]
  },
  {
   "cell_type": "markdown",
   "id": "30418a0a-15b7-4146-b2f4-856671a57684",
   "metadata": {},
   "source": [
    "(사용예시1)"
   ]
  },
  {
   "cell_type": "code",
   "execution_count": 91,
   "id": "49b0ba96-571c-48b2-a13a-ae78252671ed",
   "metadata": {},
   "outputs": [
    {
     "name": "stdout",
     "output_type": "stream",
     "text": [
      "변환전: ['a', 'b', 'a']\n",
      "변환후: [33, -22, 33]\n"
     ]
    }
   ],
   "source": [
    "txt = ['a','b','a']\n",
    "mapping = {'a':33, 'b':-22}\n",
    "print('변환전: %s'%txt)\n",
    "print('변환후: %s'%f(txt,mapping))"
   ]
  },
  {
   "cell_type": "markdown",
   "id": "3c36fd3c-86e5-4608-af7e-91547e953211",
   "metadata": {},
   "source": [
    "(사용예시2)"
   ]
  },
  {
   "cell_type": "code",
   "execution_count": 92,
   "id": "1e5d80ca-d487-402d-bf7e-bc393abcd840",
   "metadata": {},
   "outputs": [
    {
     "name": "stdout",
     "output_type": "stream",
     "text": [
      "변환전: ['a', 'b', 'a']\n",
      "변환후: [[1, 0], [0, 1], [1, 0]]\n"
     ]
    }
   ],
   "source": [
    "txt = ['a','b','a']\n",
    "mapping = {'a':[1,0], 'b':[0,1]}\n",
    "print('변환전: %s'%txt)\n",
    "print('변환후: %s'%f(txt, mapping))"
   ]
  },
  {
   "cell_type": "markdown",
   "id": "91bb015b-ed35-4cc4-ba8f-7c0ed58de7b1",
   "metadata": {},
   "source": [
    "# Exam1: ab"
   ]
  },
  {
   "cell_type": "markdown",
   "id": "0d781e00-6a1a-47c0-9519-9e9abfaad1a1",
   "metadata": {},
   "source": [
    "## data"
   ]
  },
  {
   "cell_type": "code",
   "execution_count": 93,
   "id": "104ff3b3-f3c1-4d74-9898-e938a6a4b786",
   "metadata": {},
   "outputs": [
    {
     "data": {
      "text/plain": [
       "['a', 'b', 'a', 'b', 'a', 'b', 'a', 'b', 'a', 'b']"
      ]
     },
     "execution_count": 93,
     "metadata": {},
     "output_type": "execute_result"
    }
   ],
   "source": [
    "txt = list('ab')*100\n",
    "txt[:10]"
   ]
  },
  {
   "cell_type": "code",
   "execution_count": 94,
   "id": "18f9dcc2-52fd-4423-bdd7-8960793e53a4",
   "metadata": {},
   "outputs": [],
   "source": [
    "txt_x = txt[:-1]\n",
    "txt_y = txt[1:]"
   ]
  },
  {
   "cell_type": "code",
   "execution_count": 95,
   "id": "272bcb1b-27aa-4835-9a0a-5a15b4cac45d",
   "metadata": {},
   "outputs": [
    {
     "data": {
      "text/plain": [
       "(['a', 'b', 'a', 'b', 'a'], ['b', 'a', 'b', 'a', 'b'])"
      ]
     },
     "execution_count": 95,
     "metadata": {},
     "output_type": "execute_result"
    }
   ],
   "source": [
    "txt_x[:5], txt_y[:5]"
   ]
  },
  {
   "cell_type": "markdown",
   "id": "98a72f97-7eb9-4b8a-8e96-52c8e39b2a9e",
   "metadata": {},
   "source": [
    "x가 네트워크의 입력이라고 생각하고 b가 네트워크의 출력이라고 생각하면\n",
    "- 네트워크 입력으로 a가 들어오면 b를 뱉어내고 \n",
    "- 네트워크 입력으로 b가 들어오면 a를 뱉어낸다.\n",
    "\n",
    "$\\to$ 이러한 구조를 학습하면 된다."
   ]
  },
  {
   "cell_type": "markdown",
   "id": "97582450-db6e-4a68-b400-01e22b8dd780",
   "metadata": {},
   "source": [
    "## 선형모형을 이용한 풀이"
   ]
  },
  {
   "cell_type": "markdown",
   "id": "c671a711-7481-496f-930c-5671c8773111",
   "metadata": {},
   "source": [
    "### *(풀이1) 1개의 파라메터 - 실패*"
   ]
  },
  {
   "cell_type": "code",
   "execution_count": 96,
   "id": "001b4f38-a73f-4781-9750-716da53c7434",
   "metadata": {},
   "outputs": [],
   "source": [
    "mapping = {'a':0, 'b':1}\n",
    "x = torch.tensor(f(txt_x, mapping)).float().reshape(-1,1)\n",
    "y = torch.tensor(f(txt_y, mapping)).float().reshape(-1,1)"
   ]
  },
  {
   "cell_type": "code",
   "execution_count": 97,
   "id": "855b7ca7-9d3a-45d0-8eab-0ddd286777a9",
   "metadata": {},
   "outputs": [
    {
     "data": {
      "text/plain": [
       "(tensor([[0.],\n",
       "         [1.],\n",
       "         [0.],\n",
       "         [1.],\n",
       "         [0.]]),\n",
       " tensor([[1.],\n",
       "         [0.],\n",
       "         [1.],\n",
       "         [0.],\n",
       "         [1.]]))"
      ]
     },
     "execution_count": 97,
     "metadata": {},
     "output_type": "execute_result"
    }
   ],
   "source": [
    "x[:5], y[:5]"
   ]
  },
  {
   "cell_type": "markdown",
   "id": "4e7623c7-352e-46e8-b18f-d71e27e70f96",
   "metadata": {},
   "source": [
    "`-` 학습 및 결과 시각화"
   ]
  },
  {
   "cell_type": "code",
   "execution_count": 98,
   "id": "db58ee63-ff02-4ec2-ae40-1a0f256914aa",
   "metadata": {},
   "outputs": [],
   "source": [
    "net = torch.nn.Linear(in_features=1, out_features=1, bias=False)\n",
    "loss_fn = torch.nn.MSELoss()\n",
    "optimizer = torch.optim.Adam(net.parameters())"
   ]
  },
  {
   "cell_type": "code",
   "execution_count": 99,
   "id": "2b22259b-d90a-4308-83af-7c3c3951a975",
   "metadata": {},
   "outputs": [],
   "source": [
    "for epoc in range(5000):\n",
    "    ## 1\n",
    "    yhat = net(x)\n",
    "    ## 2\n",
    "    loss = loss_fn(yhat, y)\n",
    "    ## 3\n",
    "    loss.backward()\n",
    "    ## 4\n",
    "    optimizer.step()\n",
    "    optimizer.zero_grad()"
   ]
  },
  {
   "cell_type": "code",
   "execution_count": 100,
   "id": "d61799e9-b8da-481b-b3a4-7b2e452ac008",
   "metadata": {},
   "outputs": [
    {
     "data": {
      "text/plain": [
       "[<matplotlib.lines.Line2D at 0x7f6653d29d60>]"
      ]
     },
     "execution_count": 100,
     "metadata": {},
     "output_type": "execute_result"
    },
    {
     "data": {
      "image/png": "[encoded data removed]",
      "text/plain": [
       "<Figure size 432x288 with 1 Axes>"
      ]
     },
     "metadata": {
      "needs_background": "light"
     },
     "output_type": "display_data"
    }
   ],
   "source": [
    "plt.plot(y[:5], 'o')\n",
    "plt.plot(net(x).data[:5])"
   ]
  },
  {
   "cell_type": "markdown",
   "id": "ca814235-9f16-43c3-8960-69072c56b5fb",
   "metadata": {},
   "source": [
    "- 잘 학습이 안되었다."
   ]
  },
  {
   "cell_type": "markdown",
   "id": "ea62c4dc-ebb3-4e48-9dfc-58ed8a52cf4a",
   "metadata": {},
   "source": [
    "`-` 학습이 잘 안된 이유"
   ]
  },
  {
   "cell_type": "code",
   "execution_count": 101,
   "id": "a9362991-f11b-4d6b-99f2-8501773b5e7f",
   "metadata": {},
   "outputs": [
    {
     "data": {
      "text/html": [
       "<div>\n",
       "<style scoped>\n",
       "    .dataframe tbody tr th:only-of-type {\n",
       "        vertical-align: middle;\n",
       "    }\n",
       "\n",
       "    .dataframe tbody tr th {\n",
       "        vertical-align: top;\n",
       "    }\n",
       "\n",
       "    .dataframe thead th {\n",
       "        text-align: right;\n",
       "    }\n",
       "</style>\n",
       "<table border=\"1\" class=\"dataframe\">\n",
       "  <thead>\n",
       "    <tr style=\"text-align: right;\">\n",
       "      <th></th>\n",
       "      <th>x</th>\n",
       "      <th>y</th>\n",
       "    </tr>\n",
       "  </thead>\n",
       "  <tbody>\n",
       "    <tr>\n",
       "      <th>0</th>\n",
       "      <td>0.0</td>\n",
       "      <td>1.0</td>\n",
       "    </tr>\n",
       "    <tr>\n",
       "      <th>1</th>\n",
       "      <td>1.0</td>\n",
       "      <td>0.0</td>\n",
       "    </tr>\n",
       "    <tr>\n",
       "      <th>2</th>\n",
       "      <td>0.0</td>\n",
       "      <td>1.0</td>\n",
       "    </tr>\n",
       "    <tr>\n",
       "      <th>3</th>\n",
       "      <td>1.0</td>\n",
       "      <td>0.0</td>\n",
       "    </tr>\n",
       "    <tr>\n",
       "      <th>4</th>\n",
       "      <td>0.0</td>\n",
       "      <td>1.0</td>\n",
       "    </tr>\n",
       "  </tbody>\n",
       "</table>\n",
       "</div>"
      ],
      "text/plain": [
       "     x    y\n",
       "0  0.0  1.0\n",
       "1  1.0  0.0\n",
       "2  0.0  1.0\n",
       "3  1.0  0.0\n",
       "4  0.0  1.0"
      ]
     },
     "execution_count": 101,
     "metadata": {},
     "output_type": "execute_result"
    }
   ],
   "source": [
    "pd.DataFrame({'x':x[:5].reshape(-1), 'y':y[:5].reshape(-1)})"
   ]
  },
  {
   "cell_type": "markdown",
   "id": "f5e7a441-34d9-4052-b129-f4cda2ad9ba6",
   "metadata": {},
   "source": [
    "현재 $\\hat{y}_i = \\hat{w}x_i$ 꼴의 아키텍처이고 $y_i \\approx \\hat{w}x_i$가 되는 적당한 $\\hat{w}$를 찾아야 하는 상황\n",
    "- $(x_i, y_i) = (0, 1)$ 이면 어떠한 $\\hat{w}$ 를 선택해도 $y_i \\approx \\hat{w}x_i$ 를 만드는 것이 불가능\n",
    "- $(x_i, y_i) = (1, 0)$ 이면 $\\hat{w} = 0$ 일 경우 $y_i \\approx \\hat{w}x_i$로 만드는 것이 가능"
   ]
  },
  {
   "cell_type": "markdown",
   "id": "91cc496b-8617-4066-9efe-c512644f254c",
   "metadata": {},
   "source": [
    "상황을 종합해보니 $\\hat{w}=0$으로 학습되는 것이 그나마 최선"
   ]
  },
  {
   "cell_type": "markdown",
   "id": "b7e46dce-ffab-4d6c-98e6-6bb6b113d7de",
   "metadata": {},
   "source": [
    "### *(풀이2) 1개의 파라메터 - 성공, but 확장성이 없는 풀이*"
   ]
  },
  {
   "cell_type": "markdown",
   "id": "3241b2a1-c35f-44dd-b070-40cae95f0d19",
   "metadata": {},
   "source": [
    "`-` 0이라는 값이 문제가 되므로 인코딩방식의 변경"
   ]
  },
  {
   "cell_type": "code",
   "execution_count": 102,
   "id": "0fcab5a3-20f6-4b39-a111-eaf26012a73a",
   "metadata": {},
   "outputs": [],
   "source": [
    "x = torch.tensor(f(txt_x, {'a':-1,'b':1})).float().reshape(-1,1)\n",
    "y = torch.tensor(f(txt_y, {'a':-1,'b':1})).float().reshape(-1,1)"
   ]
  },
  {
   "cell_type": "code",
   "execution_count": 103,
   "id": "31ce370e-d1d6-436a-9e03-a83635d63426",
   "metadata": {},
   "outputs": [
    {
     "data": {
      "text/plain": [
       "(tensor([[-1.],\n",
       "         [ 1.],\n",
       "         [-1.],\n",
       "         [ 1.],\n",
       "         [-1.]]),\n",
       " tensor([[ 1.],\n",
       "         [-1.],\n",
       "         [ 1.],\n",
       "         [-1.],\n",
       "         [ 1.]]))"
      ]
     },
     "execution_count": 103,
     "metadata": {},
     "output_type": "execute_result"
    }
   ],
   "source": [
    "x[:5],y[:5]"
   ]
  },
  {
   "cell_type": "code",
   "execution_count": 104,
   "id": "50660de9-5530-4d6a-a18f-c360454617f8",
   "metadata": {},
   "outputs": [],
   "source": [
    "net = torch.nn.Linear(in_features=1, out_features=1, bias=False)\n",
    "loss_fn = torch.nn.MSELoss()\n",
    "optimizr = torch.optim.Adam(net.parameters())"
   ]
  },
  {
   "cell_type": "code",
   "execution_count": 105,
   "id": "917b3644-aa80-4c1e-babe-23fcaa44152f",
   "metadata": {},
   "outputs": [],
   "source": [
    "for epoc in range(2000):\n",
    "    ## 1\n",
    "    yhat = net(x)\n",
    "    ## 2\n",
    "    loss = loss_fn(yhat, y)\n",
    "    ## 3\n",
    "    loss.backward()\n",
    "    ## 4\n",
    "    optimizr.step()\n",
    "    optimizr.zero_grad()"
   ]
  },
  {
   "cell_type": "markdown",
   "id": "86d99bd7-c7a4-48af-a202-da593862ef1c",
   "metadata": {},
   "source": [
    "`-` 결과는 성공"
   ]
  },
  {
   "cell_type": "code",
   "execution_count": 106,
   "id": "9c033182-e390-4e6b-b82e-320cee3d02d2",
   "metadata": {},
   "outputs": [
    {
     "data": {
      "text/plain": [
       "[<matplotlib.lines.Line2D at 0x7f6653b29e80>]"
      ]
     },
     "execution_count": 106,
     "metadata": {},
     "output_type": "execute_result"
    },
    {
     "data": {
      "image/png": "[encoded data removed]",
      "text/plain": [
       "<Figure size 432x288 with 1 Axes>"
      ]
     },
     "metadata": {
      "needs_background": "light"
     },
     "output_type": "display_data"
    }
   ],
   "source": [
    "plt.plot(y[:5],'o')\n",
    "plt.plot(net(x).data[:5])"
   ]
  },
  {
   "cell_type": "markdown",
   "id": "16c9a1b2-60ca-4eba-b9b7-0a9cf7b54144",
   "metadata": {},
   "source": [
    "딱봐도 클래스가 3개일 경우 확장이 어려워 보인다."
   ]
  },
  {
   "cell_type": "markdown",
   "id": "60ef1cae-141d-4b2b-a21c-8edc86fe6be8",
   "metadata": {},
   "source": [
    "## 로지스틱 모형을 이용한 풀이"
   ]
  },
  {
   "cell_type": "markdown",
   "id": "81c04d24-7542-48fb-8117-72bf8cfa3d31",
   "metadata": {},
   "source": [
    "### *(풀이1) 1개의 파라메터 - 실패*"
   ]
  },
  {
   "cell_type": "markdown",
   "id": "1f2d98a6-2f26-49ef-9c8b-72a3a0f6d826",
   "metadata": {},
   "source": [
    "`-` 데이터를 다시 a=0, b=1로 정의"
   ]
  },
  {
   "cell_type": "code",
   "execution_count": 107,
   "id": "44198cf5-22c5-4230-b314-751ed9a49190",
   "metadata": {},
   "outputs": [],
   "source": [
    "mapping = {'a':0, 'b':1}\n",
    "x = torch.tensor(f(txt_x,mapping)).float().reshape(-1,1)\n",
    "y = torch.tensor(f(txt_y,mapping)).float().reshape(-1,1)"
   ]
  },
  {
   "cell_type": "code",
   "execution_count": 108,
   "id": "45db2bf0-7bb0-42ab-9924-8cd758928660",
   "metadata": {},
   "outputs": [
    {
     "data": {
      "text/plain": [
       "(tensor([[0.],\n",
       "         [1.],\n",
       "         [0.],\n",
       "         [1.],\n",
       "         [0.]]),\n",
       " tensor([[1.],\n",
       "         [0.],\n",
       "         [1.],\n",
       "         [0.],\n",
       "         [1.]]))"
      ]
     },
     "execution_count": 108,
     "metadata": {},
     "output_type": "execute_result"
    }
   ],
   "source": [
    "x[:5], y[:5]"
   ]
  },
  {
   "cell_type": "markdown",
   "id": "2dc0ffc6-4d3f-41da-a05e-27f3aab588db",
   "metadata": {},
   "source": [
    "`-`  학습"
   ]
  },
  {
   "cell_type": "code",
   "execution_count": 109,
   "id": "47375739-fe7e-4d83-8b37-94216c48a726",
   "metadata": {},
   "outputs": [],
   "source": [
    "net = torch.nn.Linear(in_features = 1, out_features = 1, bias = False)\n",
    "loss_fn = torch.nn.BCEWithLogitsLoss()\n",
    "optimizr = torch.optim.Adam(net.parameters())"
   ]
  },
  {
   "cell_type": "code",
   "execution_count": 110,
   "id": "25aefb96-44dc-4116-89bd-41d92a8bc8aa",
   "metadata": {},
   "outputs": [],
   "source": [
    "for epoc in range(5000):\n",
    "    ## 1\n",
    "    yhat = net(x)\n",
    "    ## 2\n",
    "    loss = loss_fn(yhat, y)\n",
    "    ## 3\n",
    "    loss.backward()\n",
    "    ## 4\n",
    "    optimizr.step()\n",
    "    optimizr.zero_grad()"
   ]
  },
  {
   "cell_type": "markdown",
   "id": "f90b1259-11ab-4035-b43a-9fa86e25e093",
   "metadata": {},
   "source": [
    "`-` 결과"
   ]
  },
  {
   "cell_type": "code",
   "execution_count": 111,
   "id": "2ec4c22c-cdee-4c94-b3df-e105dbeda398",
   "metadata": {},
   "outputs": [
    {
     "data": {
      "text/plain": [
       "[<matplotlib.lines.Line2D at 0x7f66540d4ca0>]"
      ]
     },
     "execution_count": 111,
     "metadata": {},
     "output_type": "execute_result"
    },
    {
     "data": {
      "image/png": "[encoded data removed]",
      "text/plain": [
       "<Figure size 432x288 with 1 Axes>"
      ]
     },
     "metadata": {
      "needs_background": "light"
     },
     "output_type": "display_data"
    }
   ],
   "source": [
    "plt.plot(y[:10], 'o')\n",
    "plt.plot(sig(net(x)).data[:10],'--o')"
   ]
  },
  {
   "cell_type": "markdown",
   "id": "a8fb1c03-555c-4dcf-b7f0-17202f80863e",
   "metadata": {},
   "source": [
    "`-` 결과해석: 예상되었던 실패임"
   ]
  },
  {
   "cell_type": "markdown",
   "id": "c0dfed32-fd77-413c-86a9-562994e90786",
   "metadata": {},
   "source": [
    "- 아키텍처는 $\\hat{y}_i = \\text{sig}(\\hat{w}x_i)$ 꼴이다.\n",
    "- $(x_i, y_i) = (0,1)$ 이라면 어떠한 $\\hat{w}$ 를 선택해도 $\\hat{w}x_i=0$이다. 이 경우 $\\hat{y}_i = sig(0) = 0.5$ 가 된다.\n",
    "- $(x_i, y_i) = (1,0)$ 이라면 $\\hat{w} = -5$와 같은 값으로 선택하면 $sig(-5)\\approx - = y_i$와 같이 만들 수 있다.\n",
    "- 상황을 종합해보면 net이 weight는 $sig(\\hat{w}x_i)\\approx 0$이 되도록 적당한 음수로 학습되는 것이 최선임을 알 수 있다."
   ]
  },
  {
   "cell_type": "code",
   "execution_count": 112,
   "id": "e5799da5-94bc-47aa-9ad8-38890d16aafa",
   "metadata": {},
   "outputs": [
    {
     "data": {
      "text/plain": [
       "Parameter containing:\n",
       "tensor([[-2.4571]], requires_grad=True)"
      ]
     },
     "execution_count": 112,
     "metadata": {},
     "output_type": "execute_result"
    }
   ],
   "source": [
    "net.weight # 적당한 음수값으로 학습되어있음을 확인"
   ]
  },
  {
   "cell_type": "markdown",
   "id": "63b06cc2-386d-452e-95c2-5ba74d8abeaf",
   "metadata": {},
   "source": [
    "### *(풀이2) 2개의 파라메터 + 좋은 초기값 - 성공*\n",
    "\n",
    "2개의 파라메터를 쓴다는 것은 weight와 bias를 쓴다는 것."
   ]
  },
  {
   "cell_type": "markdown",
   "id": "a8ecc4c6-02a2-4df5-9f3e-bd7f156a9001",
   "metadata": {},
   "source": [
    "`-` 동일하게 a=0,b=1로 맵핑"
   ]
  },
  {
   "cell_type": "code",
   "execution_count": 113,
   "id": "0e3e9496-0082-49df-b36c-2d47370ae9f2",
   "metadata": {},
   "outputs": [],
   "source": [
    "mapping = {'a':0,'b':1}\n",
    "x = torch.tensor(f(txt_x,mapping)).float().reshape(-1,1)\n",
    "y = torch.tensor(f(txt_y,mapping)).float().reshape(-1,1)"
   ]
  },
  {
   "cell_type": "code",
   "execution_count": 114,
   "id": "c10e5840-77c8-42e9-b765-bac739e50fe0",
   "metadata": {},
   "outputs": [
    {
     "data": {
      "text/plain": [
       "(tensor([[0.],\n",
       "         [1.],\n",
       "         [0.],\n",
       "         [1.],\n",
       "         [0.]]),\n",
       " tensor([[1.],\n",
       "         [0.],\n",
       "         [1.],\n",
       "         [0.],\n",
       "         [1.]]))"
      ]
     },
     "execution_count": 114,
     "metadata": {},
     "output_type": "execute_result"
    }
   ],
   "source": [
    "x[:5],y[:5]"
   ]
  },
  {
   "cell_type": "markdown",
   "id": "367b114e-8e00-4910-8ab3-be123638dff8",
   "metadata": {},
   "source": [
    "`-` 네트워크에서 bias를 넣기로 결정함"
   ]
  },
  {
   "cell_type": "code",
   "execution_count": 115,
   "id": "046e4c05-e7d3-4e05-b831-954f388c013a",
   "metadata": {},
   "outputs": [],
   "source": [
    "net = torch.nn.Linear(in_features=1, out_features=1, bias=True)\n",
    "loss_fn = torch.nn.BCEWithLogitsLoss()\n",
    "optimizr = torch.optim.Adam(net.parameters())"
   ]
  },
  {
   "cell_type": "markdown",
   "id": "84be7580-7a1c-494a-a03a-cc382a43be52",
   "metadata": {},
   "source": [
    "`-` net의 초기값을 설정 (이것은 좋은 초기값임)"
   ]
  },
  {
   "cell_type": "markdown",
   "id": "9f779624-a23f-4f6c-9e9b-3f55a1cfb438",
   "metadata": {},
   "source": [
    "$y = sig(-5x + 2.5)$"
   ]
  },
  {
   "cell_type": "markdown",
   "id": "198f3281-25c3-4bc5-8345-394e6d5c9eca",
   "metadata": {},
   "source": [
    "- $x=0 \\to sig(2.5) \\to y\\text{는 1근처}$\n",
    "\n",
    "- $x=1 \\to sig(-2.5) \\to y\\text{는 0근처}$"
   ]
  },
  {
   "cell_type": "markdown",
   "id": "a508b5a6-af99-4b30-b291-1f7235cb942f",
   "metadata": {},
   "source": [
    "*(참고)* $sig(x) = \\frac{1}{1+e^{-x}}$"
   ]
  },
  {
   "cell_type": "code",
   "execution_count": 139,
   "id": "a7ae1850-87a0-4c59-8d5e-cee192a5a0b2",
   "metadata": {},
   "outputs": [
    {
     "data": {
      "text/plain": [
       "(0.9241418199787566, 0.07585818002124355)"
      ]
     },
     "execution_count": 139,
     "metadata": {},
     "output_type": "execute_result"
    }
   ],
   "source": [
    "import numpy as np\n",
    "1/(1+np.exp(-2.5)) , 1/(1+np.exp(2.5))"
   ]
  },
  {
   "cell_type": "code",
   "execution_count": 116,
   "id": "557ec8c6-3392-4229-b735-6c74be558e48",
   "metadata": {},
   "outputs": [],
   "source": [
    "net.weight.data = torch.tensor([[-5.00]])\n",
    "net.bias.data = torch.tensor([+2.500])"
   ]
  },
  {
   "cell_type": "code",
   "execution_count": 117,
   "id": "b53c4d02-143a-4a9a-8b4f-793a2ffdb7b8",
   "metadata": {},
   "outputs": [
    {
     "data": {
      "text/plain": [
       "tensor([[ 2.5000],\n",
       "        [-2.5000],\n",
       "        [ 2.5000],\n",
       "        [-2.5000],\n",
       "        [ 2.5000],\n",
       "        [-2.5000],\n",
       "        [ 2.5000],\n",
       "        [-2.5000],\n",
       "        [ 2.5000],\n",
       "        [-2.5000]], grad_fn=<SliceBackward0>)"
      ]
     },
     "execution_count": 117,
     "metadata": {},
     "output_type": "execute_result"
    }
   ],
   "source": [
    "net(x)[:10]"
   ]
  },
  {
   "cell_type": "markdown",
   "id": "eed91674-8906-4333-8837-654a2341aee7",
   "metadata": {},
   "source": [
    "`-` 학습 전 결과"
   ]
  },
  {
   "cell_type": "code",
   "execution_count": 118,
   "id": "70929270-7bf2-45b7-ad4a-943a72255e0d",
   "metadata": {},
   "outputs": [
    {
     "data": {
      "text/plain": [
       "[<matplotlib.lines.Line2D at 0x7f6653a3d2b0>]"
      ]
     },
     "execution_count": 118,
     "metadata": {},
     "output_type": "execute_result"
    },
    {
     "data": {
      "image/png": "[encoded data removed]",
      "text/plain": [
       "<Figure size 432x288 with 1 Axes>"
      ]
     },
     "metadata": {
      "needs_background": "light"
     },
     "output_type": "display_data"
    }
   ],
   "source": [
    "plt.plot(y[:10], 'o')\n",
    "plt.plot(sig(net(x)).data[:10],'--o')"
   ]
  },
  {
   "cell_type": "markdown",
   "id": "805db3fc-ecf7-4555-b56e-cc1e52bffef2",
   "metadata": {},
   "source": [
    "`-` 학습 후 결과"
   ]
  },
  {
   "cell_type": "code",
   "execution_count": 119,
   "id": "6d2bd768-cd24-41f7-a823-1a237287d67e",
   "metadata": {},
   "outputs": [],
   "source": [
    "for epoc in range(5000):\n",
    "    ## 1\n",
    "    yhat = net(x)\n",
    "    ## 2\n",
    "    loss = loss_fn(yhat, y)\n",
    "    ## 3\n",
    "    loss.backward()\n",
    "    ## 4\n",
    "    optimizr.step()\n",
    "    optimizr.zero_grad()"
   ]
  },
  {
   "cell_type": "code",
   "execution_count": 120,
   "id": "eefac699-16a8-40d3-b4e1-d3dab7d141b2",
   "metadata": {},
   "outputs": [
    {
     "data": {
      "text/plain": [
       "[<matplotlib.lines.Line2D at 0x7f6654423850>]"
      ]
     },
     "execution_count": 120,
     "metadata": {},
     "output_type": "execute_result"
    },
    {
     "data": {
      "image/png": "[encoded data removed]",
      "text/plain": [
       "<Figure size 432x288 with 1 Axes>"
      ]
     },
     "metadata": {
      "needs_background": "light"
     },
     "output_type": "display_data"
    }
   ],
   "source": [
    "plt.plot(y[:10],'o')\n",
    "plt.plot(sig(net(x)).data[:10],'--o')"
   ]
  },
  {
   "cell_type": "markdown",
   "id": "ce31668a-da2a-4a95-8f6a-1d83d4c1b29a",
   "metadata": {},
   "source": [
    "### *(풀이3) 2개의 파라메터 + 나쁜 초기값  - 성공*"
   ]
  },
  {
   "cell_type": "markdown",
   "id": "7c4d323e-5779-42f3-be40-3ea5b51eddce",
   "metadata": {},
   "source": [
    "`-` a=0,b=1"
   ]
  },
  {
   "cell_type": "code",
   "execution_count": 121,
   "id": "43658dc8-093f-4897-b19a-a942e60f8496",
   "metadata": {},
   "outputs": [],
   "source": [
    "mapping = {'a':0,'b':1}\n",
    "x = torch.tensor(f(txt_x,mapping)).float().reshape(-1,1)\n",
    "y = torch.tensor(f(txt_y,mapping)).float().reshape(-1,1)"
   ]
  },
  {
   "cell_type": "code",
   "execution_count": 122,
   "id": "67b993e5-3853-48e9-8490-8cff96b68ce2",
   "metadata": {},
   "outputs": [
    {
     "data": {
      "text/plain": [
       "(tensor([[0.],\n",
       "         [1.],\n",
       "         [0.],\n",
       "         [1.],\n",
       "         [0.]]),\n",
       " tensor([[1.],\n",
       "         [0.],\n",
       "         [1.],\n",
       "         [0.],\n",
       "         [1.]]))"
      ]
     },
     "execution_count": 122,
     "metadata": {},
     "output_type": "execute_result"
    }
   ],
   "source": [
    "x[:5],y[:5]"
   ]
  },
  {
   "cell_type": "markdown",
   "id": "c27fbb2a-6124-48e1-8409-cec49688547c",
   "metadata": {},
   "source": [
    "`-` 이전과 동일하게 바이어스가 포함된 네트워크 설정"
   ]
  },
  {
   "cell_type": "code",
   "execution_count": 123,
   "id": "2cc23ac2-a847-4bb7-84ad-ce5b02dd4d10",
   "metadata": {},
   "outputs": [],
   "source": [
    "net = torch.nn.Linear(in_features=1, out_features=1,bias=True)\n",
    "loss_fn = torch.nn.BCEWithLogitsLoss()\n",
    "optimizr = torch.optim.Adam(net.parameters())"
   ]
  },
  {
   "cell_type": "markdown",
   "id": "c76e49e5-3500-4324-9f2c-ce0c118df575",
   "metadata": {},
   "source": [
    "`-` 초기값 설정 (이 초기값은 나쁜 초기값임)"
   ]
  },
  {
   "cell_type": "code",
   "execution_count": 124,
   "id": "5b8fb389-5b65-49f0-9ddf-c342d2d29ed3",
   "metadata": {},
   "outputs": [],
   "source": [
    "net.weight.data = torch.tensor([[+5.00]])\n",
    "net.bias.data = torch.tensor([-2.500])"
   ]
  },
  {
   "cell_type": "code",
   "execution_count": 125,
   "id": "832571ff-05a0-4f78-88ef-4e9cd505a039",
   "metadata": {},
   "outputs": [
    {
     "data": {
      "text/plain": [
       "tensor([[-2.5000],\n",
       "        [ 2.5000],\n",
       "        [-2.5000],\n",
       "        [ 2.5000],\n",
       "        [-2.5000],\n",
       "        [ 2.5000],\n",
       "        [-2.5000],\n",
       "        [ 2.5000],\n",
       "        [-2.5000],\n",
       "        [ 2.5000]], grad_fn=<SliceBackward0>)"
      ]
     },
     "execution_count": 125,
     "metadata": {},
     "output_type": "execute_result"
    }
   ],
   "source": [
    "net(x)[:10]"
   ]
  },
  {
   "cell_type": "markdown",
   "id": "c8421893-95df-4da9-8b85-70aa8bbb4f59",
   "metadata": {},
   "source": [
    "`-` 학습전상태: 반대모양으로 되어있다."
   ]
  },
  {
   "cell_type": "code",
   "execution_count": 126,
   "id": "6953f433-f23f-4d77-b805-8128fcc2fea7",
   "metadata": {},
   "outputs": [
    {
     "data": {
      "text/plain": [
       "[<matplotlib.lines.Line2D at 0x7f665391a820>]"
      ]
     },
     "execution_count": 126,
     "metadata": {},
     "output_type": "execute_result"
    },
    {
     "data": {
      "image/png": "[encoded data removed]",
      "text/plain": [
       "<Figure size 432x288 with 1 Axes>"
      ]
     },
     "metadata": {
      "needs_background": "light"
     },
     "output_type": "display_data"
    }
   ],
   "source": [
    "plt.plot(y[:10], 'o')\n",
    "plt.plot(sig(net(x)).data[:10],'--o')"
   ]
  },
  {
   "cell_type": "markdown",
   "id": "2a9f9080-5f4c-44a3-b618-eeef8bc4d2e4",
   "metadata": {},
   "source": [
    "`-` 학습"
   ]
  },
  {
   "cell_type": "code",
   "execution_count": 127,
   "id": "a07c7d16-b02b-4837-9136-4bfc3ce6a470",
   "metadata": {},
   "outputs": [],
   "source": [
    "for epoc in range(5000):\n",
    "    ## 1\n",
    "    yhat = net(x)\n",
    "    ## 2 \n",
    "    loss = loss_fn(yhat, y)\n",
    "    ## 3\n",
    "    loss.backward()\n",
    "    ## 4\n",
    "    optimizr.step()\n",
    "    optimizr.zero_grad()"
   ]
  },
  {
   "cell_type": "code",
   "execution_count": 128,
   "id": "71e3c21e-332d-4876-8b4c-75d9ffed37b3",
   "metadata": {},
   "outputs": [
    {
     "data": {
      "text/plain": [
       "[<matplotlib.lines.Line2D at 0x7f66539476a0>]"
      ]
     },
     "execution_count": 128,
     "metadata": {},
     "output_type": "execute_result"
    },
    {
     "data": {
      "image/png": "[encoded data removed]",
      "text/plain": [
       "<Figure size 432x288 with 1 Axes>"
      ]
     },
     "metadata": {
      "needs_background": "light"
     },
     "output_type": "display_data"
    }
   ],
   "source": [
    "plt.plot(y[:10],'o')\n",
    "plt.plot(sig(net(x)).data[:10],'--o')"
   ]
  },
  {
   "cell_type": "markdown",
   "id": "9e168e2c-0ec3-4336-a8bb-9c388e9202fc",
   "metadata": {},
   "source": [
    "- 될 것 같긴한데 느릴것 같다..결국 수렴하긴 할듯. "
   ]
  },
  {
   "cell_type": "markdown",
   "id": "7be47bdf-f1f4-4cf1-81f2-337aa16775fc",
   "metadata": {},
   "source": [
    "### *(풀이4) 3개의 파라메터를 쓴다면?*"
   ]
  },
  {
   "cell_type": "markdown",
   "id": "fc2f7d4c-4baa-4dc9-9a2f-64e75dd7babd",
   "metadata": {},
   "source": [
    "`-` a=0, b=1로 코딩"
   ]
  },
  {
   "cell_type": "code",
   "execution_count": 129,
   "id": "be3416f1-e709-4e5b-b419-334edf40dadc",
   "metadata": {},
   "outputs": [],
   "source": [
    "mapping = {'a':0,'b':1}\n",
    "x = torch.tensor(f(txt_x,mapping)).float().reshape(-1,1)\n",
    "y = torch.tensor(f(txt_y,mapping)).float().reshape(-1,1)"
   ]
  },
  {
   "cell_type": "code",
   "execution_count": 130,
   "id": "d8f5a0b4-79f6-44ee-9e52-89b897529db2",
   "metadata": {},
   "outputs": [
    {
     "data": {
      "text/plain": [
       "(tensor([[0.],\n",
       "         [1.],\n",
       "         [0.],\n",
       "         [1.],\n",
       "         [0.]]),\n",
       " tensor([[1.],\n",
       "         [0.],\n",
       "         [1.],\n",
       "         [0.],\n",
       "         [1.]]))"
      ]
     },
     "execution_count": 130,
     "metadata": {},
     "output_type": "execute_result"
    }
   ],
   "source": [
    "x[:5],y[:5]"
   ]
  },
  {
   "cell_type": "markdown",
   "id": "8e545ede-e5aa-40f9-b2bf-3239ae9744b1",
   "metadata": {},
   "source": [
    "`-` 3개의 파라메터를 사용하기 위해서 아래와 같은 구조를 생각하자."
   ]
  },
  {
   "cell_type": "markdown",
   "id": "75f943a9-5961-4c91-a689-8b286580469f",
   "metadata": {},
   "source": [
    "```python\n",
    "## 파라메터 3개를 줄 수 있는 방법\n",
    "torch.nn.Sequential(\n",
    "    torch.nn.Linear(in_features=1, out_features=1, bias=True),  ## 파라메터 2개\n",
    "    torch.nn.ACTIVATION_FUNCTION(),   ## activation 걸기  ## 파라메터 0개\n",
    "    torch.nn.Linear(in_features=1, out_features=1, bias=False) ## 파라메터 1개\n",
    ")\n",
    "```"
   ]
  },
  {
   "cell_type": "markdown",
   "id": "629614f5-68ee-4118-a6ab-6996073e22cd",
   "metadata": {},
   "source": [
    "위와 같은 네트워크를 설정하면 3개의 파라메터를 사용할 수 있다. 적절한 ACTIVATION_FUNCTION을 골라야하는데 실험적으로 tanh가 적절하다고 알려져있다. ($\\to$ 그래서 우리도 실험적으로 이해해보자.)"
   ]
  },
  {
   "cell_type": "markdown",
   "id": "0ecfc165-fbf6-4ba7-920b-84625b7010d0",
   "metadata": {},
   "source": [
    "순환신경망에서 activation으로 tanh를 많이 사용한다. 이를 증명하기 위해서 실험을 해보자."
   ]
  },
  {
   "cell_type": "code",
   "execution_count": 148,
   "id": "d67ca78f-7c75-40f9-8f86-220b229319bd",
   "metadata": {},
   "outputs": [
    {
     "data": {
      "text/plain": [
       "Sequential(\n",
       "  (0): Linear(in_features=1, out_features=1, bias=True)\n",
       "  (1): ReLU()\n",
       "  (2): Linear(in_features=1, out_features=1, bias=False)\n",
       ")"
      ]
     },
     "execution_count": 148,
     "metadata": {},
     "output_type": "execute_result"
    }
   ],
   "source": [
    "torch.nn.Sequential(\n",
    "    torch.nn.Linear(in_features = 1, out_features = 1, bias = True),  ## 2개\n",
    "    torch.nn.ReLU(), ## 0개 \n",
    "    torch.nn.Linear(in_features = 1, out_features = 1, bias = False) ## 1개\n",
    ")"
   ]
  },
  {
   "cell_type": "markdown",
   "id": "e665ed0f-7d46-4cb6-b93d-b6e70843df9a",
   "metadata": {},
   "source": [
    "---"
   ]
  },
  {
   "cell_type": "markdown",
   "id": "a0ef9217-de01-4983-8053-f81ebfbb2bf3",
   "metadata": {},
   "source": [
    "(예비학습1) `net(x)`와 사실 `net.forward(x)`는 같다."
   ]
  },
  {
   "cell_type": "code",
   "execution_count": 144,
   "id": "3c005fd9-4074-434d-9c7e-03e7c5c31e97",
   "metadata": {},
   "outputs": [
    {
     "data": {
      "text/plain": [
       "tensor([[-0.1584],\n",
       "        [ 0.1797],\n",
       "        [-0.1584],\n",
       "        [ 0.1797],\n",
       "        [-0.1584]], grad_fn=<SliceBackward0>)"
      ]
     },
     "execution_count": 144,
     "metadata": {},
     "output_type": "execute_result"
    }
   ],
   "source": [
    "net(x)[:5] # 풀이3에서 학습한 네트워크임"
   ]
  },
  {
   "cell_type": "code",
   "execution_count": 143,
   "id": "67f91935-806c-4850-828f-542b3ca6ff53",
   "metadata": {},
   "outputs": [
    {
     "data": {
      "text/plain": [
       "tensor([[-0.1584],\n",
       "        [ 0.1797],\n",
       "        [-0.1584],\n",
       "        [ 0.1797],\n",
       "        [-0.1584]], grad_fn=<SliceBackward0>)"
      ]
     },
     "execution_count": 143,
     "metadata": {},
     "output_type": "execute_result"
    }
   ],
   "source": [
    "net.forward(x)[:5] # 풀이3에서 학습한 네트워크임"
   ]
  },
  {
   "cell_type": "markdown",
   "id": "ad78ee6a-c4b6-4d6f-b6a7-e5fb9e1c60ce",
   "metadata": {},
   "source": [
    "그래서 net.forward를 재정의하면 net(x)의 기능을 재정의 할 수 있다."
   ]
  },
  {
   "cell_type": "code",
   "execution_count": 149,
   "id": "8946e5f1-2c04-452d-992a-0dc646e3c45f",
   "metadata": {},
   "outputs": [],
   "source": [
    "net.forward = lambda x: 1"
   ]
  },
  {
   "cell_type": "markdown",
   "id": "c55fd4d2-6db6-4d43-8694-0ce02b7e39ef",
   "metadata": {},
   "source": [
    "- \"lambda x:1\"은 입력이 x, 출력이 1인 함수를 의미한다. (즉, 입력값에 상관없이 항상 1을 출력하는 함수)\n",
    "- \"net.forward = lambda x:1\"이라고 새롭게 선언하였으므로 앞으로는 net.forward(), net(x)도 입력값에 상관없이 항상 1을 출력하게 될 것임."
   ]
  },
  {
   "cell_type": "code",
   "execution_count": 151,
   "id": "e2d4db8f-bedb-4a40-9248-ef6e48461b97",
   "metadata": {},
   "outputs": [
    {
     "data": {
      "text/plain": [
       "1"
      ]
     },
     "execution_count": 151,
     "metadata": {},
     "output_type": "execute_result"
    }
   ],
   "source": [
    "net(x)"
   ]
  },
  {
   "cell_type": "markdown",
   "id": "897aa82f-5e52-4f45-bf41-1bad4c66a88d",
   "metadata": {},
   "source": [
    "(예비학습2) torch.nn.Module을 상속받아서 네트워크를 만들면 (='classXXX(torch.nn.Module):\"와 같은 방식으로 클래스를 선언하면) 약속된 아키텍처를 가진 네트워크를 찍어내는 함수를 만들 수 있다."
   ]
  },
  {
   "cell_type": "markdown",
   "id": "8ea58288-fbcf-4f01-9b79-48a8ecd5dd8d",
   "metadata": {},
   "source": [
    "(예시1)"
   ]
  },
  {
   "cell_type": "code",
   "execution_count": 160,
   "id": "ef4b133d-6460-4cf6-abbe-ff831e072d7d",
   "metadata": {},
   "outputs": [],
   "source": [
    "## 클래스는 인스턴스를 만드는 틀같은 걸로 생각."
   ]
  },
  {
   "cell_type": "code",
   "execution_count": 184,
   "id": "6eacaa86-825a-4676-ab70-c20c4274d9b9",
   "metadata": {},
   "outputs": [],
   "source": [
    "class Mynet1(torch.nn.Module):\n",
    "    def __init__(self):\n",
    "        super().__init__()\n",
    "        self.l1 = torch.nn.Linear(in_features=1,out_features=1,bias=True)\n",
    "        self.a1 = torch.nn.Sigmoid()\n",
    "        self.l2 = torch.nn.Linear(in_features=1,out_features=1,bias=False)\n",
    "    def forward(self,x):\n",
    "        yhat = self.l2(self.a1(self.l1(x)))\n",
    "        return yhat"
   ]
  },
  {
   "cell_type": "markdown",
   "id": "0cbbced3-8937-4116-8d1b-403def6a0a96",
   "metadata": {},
   "source": [
    "이제"
   ]
  },
  {
   "cell_type": "code",
   "execution_count": 185,
   "id": "cbfd57b1-525e-4da0-8dd2-5ab707b7e3ca",
   "metadata": {},
   "outputs": [],
   "source": [
    "net = Mynet1()"
   ]
  },
  {
   "cell_type": "markdown",
   "id": "9b23272b-ab0e-42dd-b496-56ef093c3e02",
   "metadata": {},
   "source": [
    "는 아래와 같은 효과를 가진다."
   ]
  },
  {
   "cell_type": "code",
   "execution_count": 186,
   "id": "8516d222-1595-4e7b-8373-e01de6f77ffa",
   "metadata": {},
   "outputs": [],
   "source": [
    "net = torch.nn.Sequential(\n",
    "    torch.nn.Linear(in_features=1, out_features=1, bias=True),\n",
    "    torch.nn.Sigmoid(),\n",
    "    torch.nn.Linear(in_features=1, out_features=1, bias=False)\n",
    ")"
   ]
  },
  {
   "cell_type": "markdown",
   "id": "234580c2-67ec-47c6-bab9-eefaf6bae90b",
   "metadata": {},
   "source": [
    "(예시2)"
   ]
  },
  {
   "cell_type": "code",
   "execution_count": 187,
   "id": "68fac5ae-6a94-4e1f-a962-6dfc55545b23",
   "metadata": {},
   "outputs": [],
   "source": [
    "class Mynet2(torch.nn.Module):\n",
    "    def __init__(self):\n",
    "        super().__init__()\n",
    "        self.l1 = torch.nn.Linear(in_features=1, out_features=1, bias=True)\n",
    "        self.a1 = torch.nn.ReLU()\n",
    "        self.l2 = torch.nn.Linear(in_features=1, out_features=1, bias=False)\n",
    "    def forward(self, x):\n",
    "        yhat = self.l2(self.a1(self.l1(x)))\n",
    "        return yhat"
   ]
  },
  {
   "cell_type": "markdown",
   "id": "4d4668b6-928f-44d0-8599-e4b04790e1d8",
   "metadata": {},
   "source": [
    "이제"
   ]
  },
  {
   "cell_type": "code",
   "execution_count": 188,
   "id": "3daed951-7392-4fd4-8278-f1a7257d350c",
   "metadata": {},
   "outputs": [],
   "source": [
    "net = Mynet2()"
   ]
  },
  {
   "cell_type": "markdown",
   "id": "4c420b66-0b09-4a89-9fec-001dd81bc728",
   "metadata": {},
   "source": [
    "는 아래와 같은 효과를 가진다."
   ]
  },
  {
   "cell_type": "code",
   "execution_count": 189,
   "id": "616cdeb3-b191-45f3-ad33-5d13c39d96fe",
   "metadata": {},
   "outputs": [],
   "source": [
    "net = torch.nn.Sequential(\n",
    "    torch.nn.Linear(in_features=1, out_features=1, bias=True),\n",
    "    torch.nn.ReLU(),\n",
    "    torch.nn.Linear(in_features=1, out_features=1, bias=False)\n",
    ")"
   ]
  },
  {
   "cell_type": "markdown",
   "id": "bb023ca9-3c51-43a8-b90a-1cdf72292555",
   "metadata": {},
   "source": [
    "(예시3)"
   ]
  },
  {
   "cell_type": "code",
   "execution_count": 190,
   "id": "4bf19834-f66f-4fed-b18c-b2de067d7b48",
   "metadata": {},
   "outputs": [],
   "source": [
    "class Mynet3(torch.nn.Module):\n",
    "    def __init__(self):\n",
    "        super().__init__()\n",
    "        self.l1 = torch.nn.Linear(in_features=1, out_features=1, bias=True)\n",
    "        self.a1 = torch.nn.Tanh()\n",
    "        self.l2 = torch.nn.Linear(in_features=1, out_features=1, bias=False)\n",
    "    def forward(self, x):\n",
    "        yhat = self.l2(self.a1(self.l1(x)))\n",
    "        return yhat"
   ]
  },
  {
   "cell_type": "markdown",
   "id": "bf3fa71a-2ad2-4cae-b1da-ca9abc0766b3",
   "metadata": {},
   "source": [
    "이제"
   ]
  },
  {
   "cell_type": "code",
   "execution_count": 191,
   "id": "c58c97e0-920e-4aa9-a623-472505f7f57b",
   "metadata": {},
   "outputs": [],
   "source": [
    "net = Mynet3()"
   ]
  },
  {
   "cell_type": "markdown",
   "id": "adb6eaa2-1446-4518-adec-80f36e0cc498",
   "metadata": {},
   "source": [
    "는 아래와 같은 효과를 가진다."
   ]
  },
  {
   "cell_type": "code",
   "execution_count": 192,
   "id": "454d0c14-2739-4e2c-9bfd-dc787da8b2ef",
   "metadata": {},
   "outputs": [],
   "source": [
    "net = torch.nn.Sequential(\n",
    "    torch.nn.Linear(in_features=1, out_features=1, bias=True),\n",
    "    torch.nn.Tanh(),\n",
    "    torch.nn.Linear(in_features=1, out_features=1, bias=False)\n",
    ")"
   ]
  },
  {
   "cell_type": "markdown",
   "id": "9f11fae5-d00b-43ac-8a82-35889239bd4d",
   "metadata": {},
   "source": [
    "#### <font color='red'>클래스에 대한 이해가 부족한 학생을 위한 암기방법</font>"
   ]
  },
  {
   "cell_type": "markdown",
   "id": "973b1649-840b-41c5-a3b5-afcb2f6faad6",
   "metadata": {},
   "source": [
    "**step1**: 아래의 코드를 복사하여 틀을 만든다. (무조건 고정임, XXXX자리는 원하는 이름을 넣는다.)"
   ]
  },
  {
   "cell_type": "code",
   "execution_count": 193,
   "id": "19ee3de3-7d10-41ac-a578-d64b003026b4",
   "metadata": {},
   "outputs": [],
   "source": [
    "class XXXX(torch.nn.Module):\n",
    "    def __init__(self):\n",
    "        super().__init__()\n",
    "        ## 우리가 사용할 레이어를 정의\n",
    "        \n",
    "        ## 레이어 정의 끝\n",
    "    def forward(self, x):\n",
    "        ## yhat을 어떻게 구할것인지 정의\n",
    "        \n",
    "        ## 정의 끝\n",
    "        return yhat"
   ]
  },
  {
   "cell_type": "markdown",
   "id": "57c6dfc1-eb56-4a6f-966f-2201ac63c671",
   "metadata": {},
   "source": [
    "- net(x)에 사용하는 x임, yhat은 net.forward(x)의 리턴값임.\n",
    "- 사실, x,yhat은 다른 변수로 써도 무방하나 (예를들어 input/output 이라든지) 설명의 편의상 x와 yhat을 고정한다."
   ]
  },
  {
   "cell_type": "markdown",
   "id": "b41b779c-3cd0-47bb-b1fe-c43cefde593e",
   "metadata": {},
   "source": [
    "**stpe2**: `def __init__(self)`에 사용할 레이어를 정의하고 이름을 붙인다. 이름은 항상 `self.xxx`와 같은 식으로 정의한다."
   ]
  },
  {
   "cell_type": "code",
   "execution_count": 194,
   "id": "90af4361-1ef8-400c-a4cd-7525a31346d0",
   "metadata": {},
   "outputs": [],
   "source": [
    "class XXXX(torch.nn.Module):\n",
    "    def __init__(self):\n",
    "        super().__init__()\n",
    "        ## 우리가 사용할 레이어를 정의 \n",
    "        self.xxx1 = torch.nn.Linear(in_features=1,out_features=1,bias=True)\n",
    "        self.xxx2 = torch.nn.Tanh()\n",
    "        self.xxx3 = torch.nn.Linear(in_features=1,out_features=1,bias=True)\n",
    "        ## 레이어 정의 끝\n",
    "    def forward(self,x):\n",
    "        ## yhat을 어떻게 구할것인지 정의 \n",
    "        \n",
    "        ## 정의 끝\n",
    "        return yhat"
   ]
  },
  {
   "cell_type": "markdown",
   "id": "71f7bf9f-6263-4e18-8b8c-a4c6b498d598",
   "metadata": {},
   "source": [
    "**step3**: `def forward:`에 \"x->yhat\"으로 가는 과정을묘사한 코드를 작성하고 yhat을 리턴하도록 한다."
   ]
  },
  {
   "cell_type": "code",
   "execution_count": 195,
   "id": "6d62bc97-ac13-4be6-a0fe-bd436f687458",
   "metadata": {},
   "outputs": [],
   "source": [
    "class XXXX(torch.nn.Module):\n",
    "    def __init__(self):\n",
    "        super().__init__()\n",
    "        ## 우리가 사용할 레이어를 정의 \n",
    "        self.xxx1 = torch.nn.Linear(in_features=1,out_features=1,bias=True)\n",
    "        self.xxx2 = torch.nn.Tanh()\n",
    "        self.xxx3 = torch.nn.Linear(in_features=1,out_features=1,bias=True)\n",
    "        ## 레이어 정의 끝\n",
    "    def forward(self,x):\n",
    "        ## yhat을 어떻게 구할것인지 정의 \n",
    "        u = self.xxx1(x)\n",
    "        v = self.xxx2(u)\n",
    "        yhat = self.xxx3(v)\n",
    "        ## 정의 끝\n",
    "        return yhat"
   ]
  },
  {
   "cell_type": "markdown",
   "id": "7b0b793b-73a2-4d2c-9265-4978e846801c",
   "metadata": {},
   "source": [
    "예비학습 끝"
   ]
  },
  {
   "cell_type": "markdown",
   "id": "e627fb62-f56f-4cd8-be62-abe229ae7370",
   "metadata": {},
   "source": [
    "----"
   ]
  },
  {
   "cell_type": "markdown",
   "id": "7f9b18a7-8097-42a1-b6fe-9664707e8ef8",
   "metadata": {},
   "source": [
    "`-` 우리가 하려고 했던 것 : 아래의 아키텍처에서"
   ]
  },
  {
   "cell_type": "markdown",
   "id": "38f36ef7-8039-406a-8d2b-a5d9aa98c6e5",
   "metadata": {},
   "source": [
    "```python\n",
    "torch.nn.Sequential(\n",
    "    torch.nn.Linear(in_features=1, out_features=1, bias=True),\n",
    "    torch.nn.ACTIVATION_FUNCTION(),\n",
    "    torch.nn.Linear(in_features=1, out_features=1, bias=False)\n",
    ")\n",
    "```"
   ]
  },
  {
   "cell_type": "markdown",
   "id": "ed5edafb-0395-4831-bf53-c914f54d6901",
   "metadata": {},
   "source": [
    "ACTIVATION의 자리에 tanh가 왜 적절한지 직관을 얻어보자."
   ]
  },
  {
   "cell_type": "markdown",
   "id": "4722f0e6-aee4-4a7f-9ad6-9c03915b3e83",
   "metadata": {},
   "source": [
    "#### `-` 실험결과1(Sig): Sigmoid activation을 포함한 아키텍처로 학습시킨 25개의 적합결과"
   ]
  },
  {
   "cell_type": "code",
   "execution_count": 196,
   "id": "6b5e85a4-d437-4329-be40-77a6fcc96990",
   "metadata": {},
   "outputs": [
    {
     "data": {
      "image/png": "[encoded data removed]",
      "text/plain": [
       "<Figure size 720x720 with 25 Axes>"
      ]
     },
     "metadata": {
      "needs_background": "light"
     },
     "output_type": "display_data"
    }
   ],
   "source": [
    "fig, ax = plt.subplots(5,5,figsize=(10,10))\n",
    "for i in range(5):\n",
    "    for j in range(5):\n",
    "        net = Mynet1()\n",
    "        loss_fn = torch.nn.BCEWithLogitsLoss()\n",
    "        optimizr = torch.optim.Adam(net.parameters())\n",
    "        for epoc in range(1000):\n",
    "            ## 1\n",
    "            yhat = net(x)\n",
    "            ## 2\n",
    "            loss = loss_fn(yhat,y)\n",
    "            ## 3\n",
    "            loss.backward()\n",
    "            ## 4 \n",
    "            optimizr.step()\n",
    "            optimizr.zero_grad()\n",
    "        ax[i][j].plot(y[:5],'o')\n",
    "        ax[i][j].plot(sig(net(x[:5])).data,'--o')\n",
    "fig.suptitle(r\"$a_1(x):=Sigmoid(x)$\",size=20)\n",
    "fig.tight_layout()"
   ]
  },
  {
   "cell_type": "markdown",
   "id": "678990ca-100a-4605-879e-f28a99ed7572",
   "metadata": {},
   "source": [
    "#### `-` 실험결과2(ReLU): ReLU activation을 포함한 아키텍처로 학습시킨 25개의 적합결과"
   ]
  },
  {
   "cell_type": "code",
   "execution_count": 197,
   "id": "29cd45a0-5fb5-4c3b-a090-1c9c37d1728c",
   "metadata": {},
   "outputs": [
    {
     "data": {
      "image/png": "[encoded data removed]",
      "text/plain": [
       "<Figure size 720x720 with 25 Axes>"
      ]
     },
     "metadata": {
      "needs_background": "light"
     },
     "output_type": "display_data"
    }
   ],
   "source": [
    "fig, ax = plt.subplots(5,5,figsize=(10,10))\n",
    "for i in range(5):\n",
    "    for j in range(5):\n",
    "        net = Mynet2()\n",
    "        loss_fn = torch.nn.BCEWithLogitsLoss()\n",
    "        optimizr = torch.optim.Adam(net.parameters())\n",
    "        for epoc in range(1000):\n",
    "            ## 1\n",
    "            yhat = net(x)\n",
    "            ## 2\n",
    "            loss = loss_fn(yhat,y)\n",
    "            ## 3\n",
    "            loss.backward()\n",
    "            ## 4 \n",
    "            optimizr.step()\n",
    "            optimizr.zero_grad()\n",
    "        ax[i][j].plot(y[:5],'o')\n",
    "        ax[i][j].plot(sig(net(x[:5])).data,'--o')\n",
    "fig.suptitle(r\"$a_2(x):=ReLU(x)$\",size=20)\n",
    "fig.tight_layout()"
   ]
  },
  {
   "cell_type": "markdown",
   "id": "3d5820c1-f4f8-4394-adac-6a6fd7416bbd",
   "metadata": {},
   "source": [
    "#### `-` 실험결과3(Tanh): Tanh activation을 포함한 아키텍처로 학습시킨 25개의 적합결과"
   ]
  },
  {
   "cell_type": "code",
   "execution_count": 198,
   "id": "567db167-b24c-48f0-97fd-7f797a1df32b",
   "metadata": {},
   "outputs": [
    {
     "data": {
      "image/png": "[encoded data removed]",
      "text/plain": [
       "<Figure size 720x720 with 25 Axes>"
      ]
     },
     "metadata": {
      "needs_background": "light"
     },
     "output_type": "display_data"
    }
   ],
   "source": [
    "fig, ax = plt.subplots(5,5,figsize=(10,10))\n",
    "for i in range(5):\n",
    "    for j in range(5):\n",
    "        net = Mynet3()\n",
    "        loss_fn = torch.nn.BCEWithLogitsLoss()\n",
    "        optimizr = torch.optim.Adam(net.parameters())\n",
    "        for epoc in range(1000):\n",
    "            ## 1\n",
    "            yhat = net(x)\n",
    "            ## 2\n",
    "            loss = loss_fn(yhat,y)\n",
    "            ## 3\n",
    "            loss.backward()\n",
    "            ## 4 \n",
    "            optimizr.step()\n",
    "            optimizr.zero_grad()\n",
    "        ax[i][j].plot(y[:5],'o')\n",
    "        ax[i][j].plot(sig(net(x[:5])).data,'--o')\n",
    "fig.suptitle(r\"$a_2(x):=Tanh(x)$\",size=20)        \n",
    "fig.tight_layout()"
   ]
  },
  {
   "cell_type": "markdown",
   "id": "78d9c6f0-389d-4598-82b0-0fa83d742b37",
   "metadata": {},
   "source": [
    "#### `-` 실험해석"
   ]
  },
  {
   "cell_type": "markdown",
   "id": "69213cac-52cc-4ecb-bc2e-c0cb6a17292b",
   "metadata": {},
   "source": [
    "- Sig: 주항색선의 변동폭이 작음 + 항상 $0.5$ 근처로 머무는 적합값이 존재\n",
    "- ReLU: 주황색선의 변동폭이 큼 + 항상 $0.5$ 근처로 머무는 적합값이 존재\n",
    "- Tanh: 주황색선의 변동폭이 큼 + $0.5$ 근처로 머무는 적합값이 존재X"
   ]
  },
  {
   "cell_type": "markdown",
   "id": "dbf24c2b-b845-4fba-b188-6973d31379e1",
   "metadata": {},
   "source": [
    "실험해보니까 Tanh가 우수한 것 같다. $\\to$ 앞으로는 Tanh를 쓰자."
   ]
  },
  {
   "cell_type": "markdown",
   "id": "9ef51d81-8b88-4884-8bb3-ca99111c08cc",
   "metadata": {},
   "source": [
    "## 소프트맥스로 확장"
   ]
  },
  {
   "cell_type": "markdown",
   "id": "e13544c9-5f80-4040-8e0c-94d83a529500",
   "metadata": {},
   "source": [
    "### (풀이1) 로지스틱모형에서 3개의 파라메터 버전을 그대로 확장"
   ]
  },
  {
   "cell_type": "code",
   "execution_count": 223,
   "id": "306d4167-df9c-44f7-b9f3-0d6351b8e7f6",
   "metadata": {},
   "outputs": [
    {
     "data": {
      "text/plain": [
       "(tensor([[1., 0.],\n",
       "         [0., 1.],\n",
       "         [1., 0.],\n",
       "         [0., 1.],\n",
       "         [1., 0.]]),\n",
       " tensor([[0., 1.],\n",
       "         [1., 0.],\n",
       "         [0., 1.],\n",
       "         [1., 0.],\n",
       "         [0., 1.]]))"
      ]
     },
     "execution_count": 223,
     "metadata": {},
     "output_type": "execute_result"
    }
   ],
   "source": [
    "mapping = {'a':[1,0], 'b':[0,1]}\n",
    "x = torch.tensor(f(txt_x,mapping)).float().reshape(-1,2)\n",
    "y = torch.tensor(f(txt_y,mapping)).float().reshape(-1,2)\n",
    "x[:5], y[:5]"
   ]
  },
  {
   "cell_type": "markdown",
   "id": "1a3a4e2c-4ecf-4f2b-b341-963c710a0848",
   "metadata": {},
   "source": [
    "- [1, 0] -> a\n",
    "- [0, 1] -> b"
   ]
  },
  {
   "cell_type": "code",
   "execution_count": 204,
   "id": "b926ad6c-7f1c-42c3-b246-c10d4dba454f",
   "metadata": {},
   "outputs": [],
   "source": [
    "net = torch.nn.Sequential(\n",
    "    torch.nn.Linear(in_features=2, out_features=1), # x의 shape이 2 -> in_features=2\n",
    "    torch.nn.Tanh(),\n",
    "    torch.nn.Linear(in_features=1, out_features=2, bias=False) # y의 shape이 2 -> out_features=2\n",
    ")    \n",
    "loss_fn = torch.nn.CrossEntropyLoss()\n",
    "optimizr = torch.optim.Adam(net.parameters())"
   ]
  },
  {
   "cell_type": "code",
   "execution_count": 205,
   "id": "1efde8cb-b895-4c0b-ac95-5beee10c74b3",
   "metadata": {},
   "outputs": [],
   "source": [
    "for epoc in range(5000):\n",
    "    ## 1 \n",
    "    yhat = net(x)\n",
    "    ## 2\n",
    "    loss = loss_fn(yhat, y)\n",
    "    ## 3\n",
    "    loss.backward()\n",
    "    ## 4\n",
    "    optimizr.step()\n",
    "    optimizr.zero_grad()"
   ]
  },
  {
   "cell_type": "code",
   "execution_count": 225,
   "id": "b5647e99-284b-4c09-800c-70dca219ba74",
   "metadata": {},
   "outputs": [
    {
     "data": {
      "text/plain": [
       "tensor([1., 0., 1., 0., 1.])"
      ]
     },
     "execution_count": 225,
     "metadata": {},
     "output_type": "execute_result"
    }
   ],
   "source": [
    "y[:5][:,1]"
   ]
  },
  {
   "cell_type": "code",
   "execution_count": 226,
   "id": "217378e6-eec7-4fba-8eab-08479cace1d7",
   "metadata": {},
   "outputs": [
    {
     "data": {
      "text/plain": [
       "tensor([0.9952, 0.0049, 0.9952, 0.0049, 0.9952], grad_fn=<SelectBackward0>)"
      ]
     },
     "execution_count": 226,
     "metadata": {},
     "output_type": "execute_result"
    }
   ],
   "source": [
    "soft(net(x))[:5][:,1]"
   ]
  },
  {
   "cell_type": "code",
   "execution_count": 210,
   "id": "d86836e3-d0b9-441a-addb-49b3b8c0e403",
   "metadata": {},
   "outputs": [
    {
     "data": {
      "text/plain": [
       "[<matplotlib.lines.Line2D at 0x7f6652dd2d90>]"
      ]
     },
     "execution_count": 210,
     "metadata": {},
     "output_type": "execute_result"
    },
    {
     "data": {
      "image/png": "[encoded data removed]",
      "text/plain": [
       "<Figure size 432x288 with 1 Axes>"
      ]
     },
     "metadata": {
      "needs_background": "light"
     },
     "output_type": "display_data"
    }
   ],
   "source": [
    "plt.plot(y[:5][:,1],'o') ## y\n",
    "plt.plot(soft(net(x[:5]))[:,1].data,'--r') ## 예측한 값."
   ]
  },
  {
   "cell_type": "code",
   "execution_count": 211,
   "id": "861557eb-dd38-4e59-9e80-bd4adac14ad4",
   "metadata": {
    "tags": []
   },
   "outputs": [
    {
     "data": {
      "text/plain": [
       "<matplotlib.image.AxesImage at 0x7f66535be9a0>"
      ]
     },
     "execution_count": 211,
     "metadata": {},
     "output_type": "execute_result"
    },
    {
     "data": {
      "image/png": "[encoded data removed]",
      "text/plain": [
       "<Figure size 432x288 with 2 Axes>"
      ]
     },
     "metadata": {
      "needs_background": "light"
     },
     "output_type": "display_data"
    }
   ],
   "source": [
    "fig,ax = plt.subplots(1,2)\n",
    "ax[0].imshow(y[:5])\n",
    "ax[1].imshow(soft(net(x[:5])).data)"
   ]
  },
  {
   "cell_type": "markdown",
   "id": "7576c794-a4a5-4c68-b89f-8e53b6fb3031",
   "metadata": {},
   "source": [
    "모양이 똑같이 나왔으니까 예측이 잘 되었다고 판단."
   ]
  },
  {
   "cell_type": "markdown",
   "id": "70ca3518-8828-4f71-9ab9-5b22c256d9e7",
   "metadata": {},
   "source": [
    "# Embedding Layer\n",
    "> onehot encoding + Linear transform"
   ]
  },
  {
   "cell_type": "markdown",
   "id": "35400d8a-632c-4a34-a48c-072725d94990",
   "metadata": {},
   "source": [
    "### motive"
   ]
  },
  {
   "cell_type": "markdown",
   "id": "a5c35834-4bea-4df1-9498-48ee13c90a51",
   "metadata": {},
   "source": [
    "`-` 결국 최종적으로는 아래와 같은 맵핑방식이 확장성이 있어보인다."
   ]
  },
  {
   "cell_type": "code",
   "execution_count": 212,
   "id": "695f8603-8eb7-4744-b34d-9d25a4028a1c",
   "metadata": {},
   "outputs": [],
   "source": [
    "mapping = {'a':[1,0,0], 'b':[0,1,0], 'c':[0,0,1]} # 원핫인코딩 방식"
   ]
  },
  {
   "cell_type": "markdown",
   "id": "34130eaa-5e53-4fd7-9ffd-5b77a3fdb04a",
   "metadata": {},
   "source": [
    "`-` 그런데 매번 $\\bf{X}$를 원핫인코딩하고 Linear 변환하는 것이 번거로운데 이를 한번에 구현하는 함수가 있었으면 좋겠다. $\\to$ **torch.nn.Embedding Layer**가 그 역할을 한다."
   ]
  },
  {
   "cell_type": "code",
   "execution_count": 213,
   "id": "fd10b572-1dc8-4066-b334-10b08b25ad80",
   "metadata": {},
   "outputs": [
    {
     "data": {
      "text/plain": [
       "(tensor([0, 1, 2, 0, 1]), tensor([1, 0, 2, 1, 0]))"
      ]
     },
     "execution_count": 213,
     "metadata": {},
     "output_type": "execute_result"
    }
   ],
   "source": [
    "mapping = {'a':0,'b':1,'c':2}\n",
    "x = torch.tensor(f(list('abc')*100, mapping))\n",
    "y = torch.tensor(f(list('bac')*100, mapping))\n",
    "x[:5], y[:5]"
   ]
  },
  {
   "cell_type": "code",
   "execution_count": 214,
   "id": "9dc3fc21-9d72-4dd7-bcc0-3383ec64757f",
   "metadata": {},
   "outputs": [],
   "source": [
    "torch.manual_seed(43052)\n",
    "ebdd = torch.nn.Embedding(num_embeddings=3, embedding_dim=1)"
   ]
  },
  {
   "cell_type": "code",
   "execution_count": 215,
   "id": "3d18294f-6776-4076-b2af-0fae38ca7c10",
   "metadata": {},
   "outputs": [
    {
     "data": {
      "text/plain": [
       "tensor([[-0.8178],\n",
       "        [-0.7052],\n",
       "        [-0.5843],\n",
       "        [-0.8178],\n",
       "        [-0.7052]], grad_fn=<SliceBackward0>)"
      ]
     },
     "execution_count": 215,
     "metadata": {},
     "output_type": "execute_result"
    }
   ],
   "source": [
    "ebdd(x)[:5]"
   ]
  },
  {
   "cell_type": "markdown",
   "id": "449fc230-7ee1-4566-9ad8-deb7e24797d8",
   "metadata": {},
   "source": [
    "`-` 그런데 사실 언뜻보면 아래의 linr함수와 역할의 차이가 없어보인다."
   ]
  },
  {
   "cell_type": "code",
   "execution_count": 216,
   "id": "d6fb86d4-cfed-4cc8-9351-d96475f3d83a",
   "metadata": {},
   "outputs": [],
   "source": [
    "torch.manual_seed(43052)\n",
    "linr = torch.nn.Linear(in_features=1, out_features=1)"
   ]
  },
  {
   "cell_type": "code",
   "execution_count": 217,
   "id": "8c76cf8c-8a25-45ac-9f42-57b46d684760",
   "metadata": {},
   "outputs": [
    {
     "data": {
      "text/plain": [
       "tensor([[-0.8470],\n",
       "        [-1.1937],\n",
       "        [-1.5404],\n",
       "        [-0.8470],\n",
       "        [-1.1937]], grad_fn=<SliceBackward0>)"
      ]
     },
     "execution_count": 217,
     "metadata": {},
     "output_type": "execute_result"
    }
   ],
   "source": [
    "linr(x.float().reshape(-1,1))[:5]"
   ]
  },
  {
   "cell_type": "markdown",
   "id": "22739500-b565-4c78-9159-acd80f81ae55",
   "metadata": {},
   "source": [
    "`-` 차이점: 파라메터 수에 차이가 있다."
   ]
  },
  {
   "cell_type": "code",
   "execution_count": 218,
   "id": "e9b7eaed-d304-4f65-b850-8925401f9613",
   "metadata": {},
   "outputs": [
    {
     "data": {
      "text/plain": [
       "Parameter containing:\n",
       "tensor([[-0.8178],\n",
       "        [-0.7052],\n",
       "        [-0.5843]], requires_grad=True)"
      ]
     },
     "execution_count": 218,
     "metadata": {},
     "output_type": "execute_result"
    }
   ],
   "source": [
    "ebdd.weight"
   ]
  },
  {
   "cell_type": "code",
   "execution_count": 219,
   "id": "c919dfb2-1fc8-4bdc-a1d6-b34f44beb803",
   "metadata": {},
   "outputs": [
    {
     "data": {
      "text/plain": [
       "(Parameter containing:\n",
       " tensor([[-0.3467]], requires_grad=True),\n",
       " Parameter containing:\n",
       " tensor([-0.8470], requires_grad=True))"
      ]
     },
     "execution_count": 219,
     "metadata": {},
     "output_type": "execute_result"
    }
   ],
   "source": [
    "linr.weight, linr.bias"
   ]
  },
  {
   "cell_type": "markdown",
   "id": "373b0eab-0a8b-42db-b8bc-aa7a0ba09b37",
   "metadata": {},
   "source": [
    "결국 ebdd는 아래의 구조에 해당하는 파라메터들이고"
   ]
  },
  {
   "cell_type": "markdown",
   "id": "7fbc376c-4a75-4e9a-b194-62028d98f736",
   "metadata": {},
   "source": [
    "- $\\text{x[:5]}= \\begin{bmatrix} 0 \\\\ 1 \\\\ 2 \\\\ 0 \\\\ 1 \\end{bmatrix} \\Longrightarrow \\begin{bmatrix} 1 & 0 & 0 \\\\ 0 & 1 & 0 \\\\ 0 & 0 & 1 \\\\ 1 & 0 & 0 \\\\ 0 & 1 & 0 \\end{bmatrix} \\quad net(x)= \\begin{bmatrix} 1 & 0 & 0 \\\\ 0 & 1 & 0 \\\\ 0 & 0 & 1 \\\\ 1 & 0 & 0 \\\\ 0 & 1 & 0 \\end{bmatrix}\\begin{bmatrix} -0.8178 \\\\ -0.7052 \\\\ -0.5843 \\end{bmatrix} = \\begin{bmatrix} -0.8178 \\\\ -0.7052 \\\\ -0.5843 \\\\ -0.8178 \\\\ -0.7052 \\end{bmatrix}$"
   ]
  },
  {
   "cell_type": "markdown",
   "id": "c55e960a-ddb3-4d4d-a3cc-2c246767b8c8",
   "metadata": {},
   "source": [
    "linr는 아래의 구조에 해당하는 파라메터이다."
   ]
  },
  {
   "cell_type": "markdown",
   "id": "904b05c7-7ba7-4dc5-a182-064bf31cd552",
   "metadata": {},
   "source": [
    "$\\text{x[:5]}= \\begin{bmatrix} 0 \\\\ 1 \\\\ 2 \\\\ 0 \\\\ 1 \\end{bmatrix} \\quad net(x)= \\begin{bmatrix} 0 \\\\ 1 \\\\ 2 \\\\ 0 \\\\ 1 \\end{bmatrix} \\times (-0.3467) + (-0.8470)=\\begin{bmatrix} -0.8470 \\\\ -1.1937 \\\\ -1.5404 \\\\ -0.8470 \\\\ -1.1937 \\end{bmatrix}$"
   ]
  },
  {
   "cell_type": "markdown",
   "id": "8f1135b7-0812-4208-9a4b-1bfbae128fff",
   "metadata": {},
   "source": [
    "### 연습 (ab문제 소프트맥스로 확장한 것 다시 풀이)"
   ]
  },
  {
   "cell_type": "markdown",
   "id": "47fe4523-9f33-43e6-8c7c-d2f27c3e4de5",
   "metadata": {},
   "source": [
    "`-` 맵핑"
   ]
  },
  {
   "cell_type": "code",
   "execution_count": 228,
   "id": "7fc29c47-618b-4b36-ad69-601ed4fbb3b7",
   "metadata": {},
   "outputs": [
    {
     "data": {
      "text/plain": [
       "(tensor([0, 1, 0, 1, 0]), tensor([1, 0, 1, 0, 1]))"
      ]
     },
     "execution_count": 228,
     "metadata": {},
     "output_type": "execute_result"
    }
   ],
   "source": [
    "mapping = {'a':0, 'b':1}\n",
    "x = torch.tensor(f(txt_x, mapping))\n",
    "y = torch.tensor(f(txt_y, mapping))\n",
    "x[:5], y[:5]"
   ]
  },
  {
   "cell_type": "markdown",
   "id": "6f583460-27ff-4bea-bae1-90e4bc5d11bb",
   "metadata": {},
   "source": [
    "`-` torch.nn.Embedding을 넣은 네트워크"
   ]
  },
  {
   "cell_type": "code",
   "execution_count": 229,
   "id": "c698c154-1309-4626-bd93-9ddd779f481f",
   "metadata": {},
   "outputs": [],
   "source": [
    "net = torch.nn.Sequential(\n",
    "    torch.nn.Embedding(num_embeddings=2, embedding_dim=1),\n",
    "    torch.nn.Tanh(),\n",
    "    torch.nn.Linear(in_features=1, out_features=2)\n",
    ")\n",
    "loss_fn = torch.nn.CrossEntropyLoss()\n",
    "optimizr = torch.optim.Adam(net.parameters())"
   ]
  },
  {
   "cell_type": "code",
   "execution_count": 230,
   "id": "255f466f-6ebe-496f-9e43-dd4600cc16fc",
   "metadata": {},
   "outputs": [],
   "source": [
    "for epoc in range(5000):\n",
    "    ## 1\n",
    "    yhat = net(x)\n",
    "    ## 2\n",
    "    loss = loss_fn(yhat,y)\n",
    "    ## 3\n",
    "    loss.backward()\n",
    "    ## 4\n",
    "    optimizr.step()\n",
    "    optimizr.zero_grad()"
   ]
  },
  {
   "cell_type": "code",
   "execution_count": 232,
   "id": "fce05fec-9c26-48ec-89a1-0d72dd1d8107",
   "metadata": {},
   "outputs": [
    {
     "data": {
      "text/plain": [
       "[<matplotlib.lines.Line2D at 0x7f6652a327f0>]"
      ]
     },
     "execution_count": 232,
     "metadata": {},
     "output_type": "execute_result"
    },
    {
     "data": {
      "image/png": "[encoded data removed]",
      "text/plain": [
       "<Figure size 432x288 with 1 Axes>"
      ]
     },
     "metadata": {
      "needs_background": "light"
     },
     "output_type": "display_data"
    }
   ],
   "source": [
    "plt.plot(y[:5], 'o')\n",
    "plt.plot(soft(net(x[:5]))[:,1].data,'--r')"
   ]
  },
  {
   "cell_type": "code",
   "execution_count": 233,
   "id": "acf446ee-6771-4f8e-b3c1-c58fe668cd45",
   "metadata": {},
   "outputs": [
    {
     "data": {
      "text/plain": [
       "<matplotlib.image.AxesImage at 0x7f665245d070>"
      ]
     },
     "execution_count": 233,
     "metadata": {},
     "output_type": "execute_result"
    },
    {
     "data": {
      "image/png": "[encoded data removed]",
      "text/plain": [
       "<Figure size 432x288 with 1 Axes>"
      ]
     },
     "metadata": {
      "needs_background": "light"
     },
     "output_type": "display_data"
    }
   ],
   "source": [
    "plt.imshow(soft(net(x[:5])).data)"
   ]
  },
  {
   "cell_type": "markdown",
   "id": "392672ff-cd58-43f5-a87f-c211f349a58a",
   "metadata": {},
   "source": [
    "# HW"
   ]
  },
  {
   "cell_type": "markdown",
   "id": "6288f402-ced7-49ab-bf3d-73970d0557ca",
   "metadata": {},
   "source": [
    "아래의 코드를 관찰하라."
   ]
  },
  {
   "cell_type": "code",
   "execution_count": 234,
   "id": "18e65b6f-6466-47b5-aa2a-914f09f3f985",
   "metadata": {},
   "outputs": [],
   "source": [
    "x = [0,1]*5\n",
    "y = [1,0]*5\n",
    "torch.manual_seed(43052) # 편의상 시드를 고정 \n",
    "ebdd = torch.nn.Embedding(num_embeddings=2,embedding_dim=1)"
   ]
  },
  {
   "cell_type": "code",
   "execution_count": 235,
   "id": "71854645-caf7-4a2d-a590-00375af5263f",
   "metadata": {},
   "outputs": [
    {
     "data": {
      "text/plain": [
       "Parameter containing:\n",
       "tensor([[-0.8178],\n",
       "        [-0.7052]], requires_grad=True)"
      ]
     },
     "execution_count": 235,
     "metadata": {},
     "output_type": "execute_result"
    }
   ],
   "source": [
    "ebdd.weight"
   ]
  },
  {
   "cell_type": "markdown",
   "id": "6cc7dc69-5706-4cdd-831a-8946720e109e",
   "metadata": {},
   "source": [
    "ebdd(x)를 출력결과를 예측하여 작성하라."
   ]
  },
  {
   "cell_type": "markdown",
   "id": "54ff49ab-ce4f-4bf5-a108-f5352395911b",
   "metadata": {},
   "source": [
    "(풀이)"
   ]
  },
  {
   "cell_type": "markdown",
   "id": "d13f2a11-fcbd-4454-b212-f515e2a06c4e",
   "metadata": {},
   "source": [
    "굳이 실행해보지 않아도 아래임을 알 수 있다."
   ]
  },
  {
   "cell_type": "markdown",
   "id": "8ad1dca6-ec41-460a-af93-3438fabbd69c",
   "metadata": {},
   "source": [
    "$\\text{x}= \\begin{bmatrix} 0 \\\\ 1 \\\\ 0 \\\\ 1 \\\\ 0 \\\\ 1 \\\\ 0 \\\\ 1 \\\\ 0 \\\\ 1 \\end{bmatrix} \\Longrightarrow \\begin{bmatrix} 1 & 0 \\\\ 0 & 1 \\\\ 1 & 0 \\\\ 0 & 1 \\\\ 1 & 0 \\\\ 0 & 1 \\\\ 1 & 0 \\\\ 0 & 1 \\\\ 1 & 0 \\\\ 0 & 1 \\end{bmatrix} \\quad net(x)= \\begin{bmatrix} 1 & 0 \\\\ 0 & 1 \\\\ 1 & 0 \\\\ 0 & 1 \\\\ 1 & 0 \\\\ 0 & 1 \\\\ 1 & 0 \\\\ 0 & 1 \\\\ 1 & 0 \\\\ 0 & 1 \\end{bmatrix} \\begin{bmatrix} -0.8178 \\\\ -0.7052 \\end{bmatrix} = \\begin{bmatrix} -0.8178 \\\\ -0.7052 \\\\ -0.8178 \\\\ -0.7052 \\\\-0.8178 \\\\ -0.7052 \\\\-0.8178 \\\\ -0.7052 \\\\-0.8178 \\\\ -0.7052 \\end{bmatrix}$"
   ]
  },
  {
   "cell_type": "markdown",
   "id": "ac6b29ac-a1bc-48a4-84d9-8003b87d1f7a",
   "metadata": {},
   "source": [
    "실행해보면서 확인"
   ]
  },
  {
   "cell_type": "code",
   "execution_count": 236,
   "id": "aff6d16b-9f67-4f6c-a82b-b7f341bac397",
   "metadata": {},
   "outputs": [
    {
     "data": {
      "text/plain": [
       "tensor([0, 1, 0, 1, 0, 1, 0, 1, 0, 1])"
      ]
     },
     "execution_count": 236,
     "metadata": {},
     "output_type": "execute_result"
    }
   ],
   "source": [
    "x = torch.tensor(x) # ebdd에 넣기위해 x를 텐서로 변환\n",
    "x"
   ]
  },
  {
   "cell_type": "code",
   "execution_count": 237,
   "id": "8ee2e34e-6c09-43fa-a780-917aa9d660d4",
   "metadata": {},
   "outputs": [
    {
     "data": {
      "text/plain": [
       "tensor([[-0.8178],\n",
       "        [-0.7052],\n",
       "        [-0.8178],\n",
       "        [-0.7052],\n",
       "        [-0.8178],\n",
       "        [-0.7052],\n",
       "        [-0.8178],\n",
       "        [-0.7052],\n",
       "        [-0.8178],\n",
       "        [-0.7052]], grad_fn=<EmbeddingBackward0>)"
      ]
     },
     "execution_count": 237,
     "metadata": {},
     "output_type": "execute_result"
    }
   ],
   "source": [
    "ebdd(x)"
   ]
  }
 ],
 "metadata": {
  "kernelspec": {
   "display_name": "Python 3",
   "language": "python",
   "name": "python3"
  },
  "language_info": {
   "codemirror_mode": {
    "name": "ipython",
    "version": 3
   },
   "file_extension": ".py",
   "mimetype": "text/x-python",
   "name": "python",
   "nbconvert_exporter": "python",
   "pygments_lexer": "ipython3",
   "version": "3.8.16"
  }
 },
 "nbformat": 4,
 "nbformat_minor": 5
}
