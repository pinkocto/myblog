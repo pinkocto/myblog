{
 "cells": [
  {
   "cell_type": "raw",
   "id": "d15bee34-410e-4389-989e-3439f422d4ab",
   "metadata": {},
   "source": [
    "---\n",
    "title: \" 순환신경망 (5)\"\n",
    "author: \"jiyun Lim\"\n",
    "date: \"03/01/2023\"\n",
    "categories:\n",
    "    - DL2022\n",
    "    - RNN\n",
    "---"
   ]
  },
  {
   "cell_type": "markdown",
   "id": "1c3cf561-9c64-4c43-9d72-9a72aef727f5",
   "metadata": {},
   "source": [
    "# 순환신경망 5\n",
    "> LSTM (1) - GPU실험, abcabC예제, abcdabcD예제"
   ]
  },
  {
   "cell_type": "markdown",
   "id": "6a88e600-a789-4e98-b7ec-3381db5a84f9",
   "metadata": {},
   "source": [
    "# import"
   ]
  },
  {
   "cell_type": "code",
   "execution_count": 1,
   "id": "30cb18d3-0cda-4df3-b569-c4e31f8dc5ff",
   "metadata": {},
   "outputs": [
    {
     "name": "stderr",
     "output_type": "stream",
     "text": [
      "/home/hankang07/anaconda3/envs/py38/lib/python3.8/site-packages/tqdm/auto.py:22: TqdmWarning: IProgress not found. Please update jupyter and ipywidgets. See https://ipywidgets.readthedocs.io/en/stable/user_install.html\n",
      "  from .autonotebook import tqdm as notebook_tqdm\n"
     ]
    }
   ],
   "source": [
    "import torch\n",
    "import matplotlib.pyplot as plt\n",
    "import time"
   ]
  },
  {
   "cell_type": "markdown",
   "id": "dd222df3-34f3-46bb-8d1f-a08b66b031fe",
   "metadata": {},
   "source": [
    "# Define some functions"
   ]
  },
  {
   "cell_type": "code",
   "execution_count": 2,
   "id": "68e9b053-a35e-46a1-8ffb-71a87001a065",
   "metadata": {},
   "outputs": [],
   "source": [
    "def f(txt,mapping):\n",
    "    return [mapping[key] for key in txt] \n",
    "sig = torch.nn.Sigmoid()\n",
    "soft = torch.nn.Softmax(dim=1)\n",
    "tanh = torch.nn.Tanh()"
   ]
  },
  {
   "cell_type": "markdown",
   "id": "27f6be7d-6d2d-477a-a2b9-ffa2c238be64",
   "metadata": {},
   "source": [
    "# GPU 실험"
   ]
  },
  {
   "cell_type": "markdown",
   "id": "92c97932-4260-4099-98c7-ece82512a978",
   "metadata": {},
   "source": [
    "## 20000 len + 20 hidden nodes"
   ]
  },
  {
   "cell_type": "markdown",
   "id": "485716e4-83a5-4554-8816-fa8dc7a0e648",
   "metadata": {},
   "source": [
    "***cpu***"
   ]
  },
  {
   "cell_type": "code",
   "execution_count": 3,
   "id": "9d0dce07-74b1-4691-8ea3-6a3be8987311",
   "metadata": {},
   "outputs": [],
   "source": [
    "x = torch.randn([20000,4]) \n",
    "y = torch.randn([20000,4]) "
   ]
  },
  {
   "cell_type": "code",
   "execution_count": 7,
   "id": "a0d85e56-6e02-4d8a-b488-c43050e44f01",
   "metadata": {},
   "outputs": [],
   "source": [
    "rnn = torch.nn.RNN(4,20)\n",
    "linr = torch.nn.Linear(20,4)\n",
    "optimizr = torch.optim.Adam(list(rnn.parameters()) + list(linr.parameters()))\n",
    "loss_fn = torch.nn.MSELoss()"
   ]
  },
  {
   "cell_type": "code",
   "execution_count": 9,
   "id": "2cfbe396-4b81-4bc8-a84c-dab5e653460f",
   "metadata": {},
   "outputs": [
    {
     "data": {
      "text/plain": [
       "145.73457264900208"
      ]
     },
     "execution_count": 9,
     "metadata": {},
     "output_type": "execute_result"
    }
   ],
   "source": [
    "t1 = time.time()\n",
    "for epoc in range(100):\n",
    "    ## 1\n",
    "    _water = torch.zeros(1,20)\n",
    "    hidden, hT = rnn(x, _water)\n",
    "    yhat = linr(hidden)\n",
    "    ## 2\n",
    "    loss = loss_fn(yhat,y)\n",
    "    ## 3\n",
    "    loss.backward() ## 사실 역전파 부분이 시간을 되게 많이 잡아먹음.\n",
    "    ## 4\n",
    "    optimizr.step()\n",
    "    optimizr.zero_grad()\n",
    "t2 = time.time()\n",
    "t2 - t1"
   ]
  },
  {
   "cell_type": "markdown",
   "id": "3f314233-9936-442f-8db3-b006c5a4f790",
   "metadata": {},
   "source": [
    "***gpu***"
   ]
  },
  {
   "cell_type": "code",
   "execution_count": 11,
   "id": "4f446553-838b-4e5c-b3b2-b827fca2ff6a",
   "metadata": {},
   "outputs": [],
   "source": [
    "x = torch.randn([20000,4]).to(\"cuda:0\")\n",
    "y = torch.randn([20000,4]).to(\"cuda:0\")"
   ]
  },
  {
   "cell_type": "code",
   "execution_count": 12,
   "id": "99237a57-9ce3-4cb2-a521-5eeafe15c2a6",
   "metadata": {},
   "outputs": [],
   "source": [
    "rnn = torch.nn.RNN(4,20).to(\"cuda:0\")\n",
    "linr = torch.nn.Linear(20,4).to(\"cuda:0\")\n",
    "optimizr = torch.optim.Adam(list(rnn.parameters())+list(linr.parameters()))\n",
    "loss_fn = torch.nn.MSELoss() "
   ]
  },
  {
   "cell_type": "code",
   "execution_count": 13,
   "id": "721879b4-aa85-47e2-80d5-417d5b1e5ad0",
   "metadata": {},
   "outputs": [
    {
     "data": {
      "text/plain": [
       "4.398334980010986"
      ]
     },
     "execution_count": 13,
     "metadata": {},
     "output_type": "execute_result"
    }
   ],
   "source": [
    "t1 = time.time()\n",
    "for epoc in range(100):\n",
    "    ## 1 \n",
    "    _water = torch.zeros(1,20).to(\"cuda:0\")\n",
    "    hidden, hT = rnn(x,_water) \n",
    "    yhat = linr(hidden) \n",
    "    ## 2 \n",
    "    loss = loss_fn(yhat,y) \n",
    "    ## 3\n",
    "    loss.backward()  ## 시간차이의 이유!\n",
    "    ## 4 \n",
    "    optimizr.step()\n",
    "    optimizr.zero_grad()\n",
    "t2 = time.time()\n",
    "t2 - t1 "
   ]
  },
  {
   "cell_type": "markdown",
   "id": "ae6fa6a5-18bb-4417-b1ef-7ba7d8477d7b",
   "metadata": {},
   "source": [
    "- 왜 빠른지? (거의 30배정도 차이)"
   ]
  },
  {
   "cell_type": "markdown",
   "id": "b602bf38-59b9-4519-a132-ee59276f11b8",
   "metadata": {},
   "source": [
    "## 20000 len + 20 hidden nodes + 역전파주석처리"
   ]
  },
  {
   "cell_type": "code",
   "execution_count": 14,
   "id": "237d63fb-9f61-4ef6-a3f8-ec70eec650c0",
   "metadata": {},
   "outputs": [],
   "source": [
    "x = torch.randn([20000,4]) \n",
    "y = torch.randn([20000,4]) "
   ]
  },
  {
   "cell_type": "code",
   "execution_count": 15,
   "id": "8f2fdf83-f04f-49ca-902b-bfb3ff572f2a",
   "metadata": {},
   "outputs": [],
   "source": [
    "rnn = torch.nn.RNN(4,20) \n",
    "linr = torch.nn.Linear(20,4) \n",
    "optimizr = torch.optim.Adam(list(rnn.parameters())+list(linr.parameters()))\n",
    "loss_fn = torch.nn.MSELoss() "
   ]
  },
  {
   "cell_type": "code",
   "execution_count": 16,
   "id": "e9e3861a-7734-4475-ad14-5b3acf32bb8b",
   "metadata": {},
   "outputs": [
    {
     "data": {
      "text/plain": [
       "28.299692392349243"
      ]
     },
     "execution_count": 16,
     "metadata": {},
     "output_type": "execute_result"
    }
   ],
   "source": [
    "t1 = time.time()\n",
    "for epoc in range(100):\n",
    "    ## 1 \n",
    "    _water = torch.zeros(1,20)\n",
    "    hidden, hT = rnn(x,_water) \n",
    "    yhat = linr(hidden) \n",
    "    ## 2 \n",
    "    loss = loss_fn(yhat,y) \n",
    "    ## 3\n",
    "    #loss.backward() \n",
    "    ## 4 \n",
    "    optimizr.step()\n",
    "    optimizr.zero_grad()\n",
    "t2 = time.time()\n",
    "t2 - t1 "
   ]
  },
  {
   "cell_type": "markdown",
   "id": "01abf553-526f-43ac-8353-3c799a7c80ec",
   "metadata": {},
   "source": [
    "***gpu***"
   ]
  },
  {
   "cell_type": "code",
   "execution_count": 17,
   "id": "dbc0d172-f0a0-4f9f-a632-12e28e4c341a",
   "metadata": {},
   "outputs": [],
   "source": [
    "x = torch.randn([20000,4]).to(\"cuda:0\")\n",
    "y = torch.randn([20000,4]).to(\"cuda:0\")"
   ]
  },
  {
   "cell_type": "code",
   "execution_count": 18,
   "id": "9c6f543f-c9e6-4497-923e-106da2805719",
   "metadata": {},
   "outputs": [],
   "source": [
    "rnn = torch.nn.RNN(4,20).to(\"cuda:0\")\n",
    "linr = torch.nn.Linear(20,4).to(\"cuda:0\")\n",
    "optimizr = torch.optim.Adam(list(rnn.parameters())+list(linr.parameters()))\n",
    "loss_fn = torch.nn.MSELoss() "
   ]
  },
  {
   "cell_type": "code",
   "execution_count": 19,
   "id": "2ca27893-eb29-444b-b0b2-d102d6fea84e",
   "metadata": {},
   "outputs": [
    {
     "data": {
      "text/plain": [
       "1.6998937129974365"
      ]
     },
     "execution_count": 19,
     "metadata": {},
     "output_type": "execute_result"
    }
   ],
   "source": [
    "t1 = time.time()\n",
    "for epoc in range(100):\n",
    "    ## 1 \n",
    "    _water = torch.zeros(1,20).to(\"cuda:0\")\n",
    "    hidden, hT = rnn(x,_water) \n",
    "    yhat = linr(hidden) \n",
    "    ## 2 \n",
    "    loss = loss_fn(yhat,y) \n",
    "    ## 3\n",
    "    #loss.backward() \n",
    "    ## 4 \n",
    "    optimizr.step()\n",
    "    optimizr.zero_grad()\n",
    "t2 = time.time()\n",
    "t2 - t1 "
   ]
  },
  {
   "cell_type": "markdown",
   "id": "4a17d993-d7f6-4ab0-84a7-dfe9429e7a3c",
   "metadata": {},
   "source": [
    "- 미분을 진행하는 과정에서 gpu의 효율이 극대화된다."
   ]
  },
  {
   "cell_type": "markdown",
   "id": "dc51aafc-ac56-45a3-a84d-c2d3442fea0d",
   "metadata": {},
   "source": [
    "## 2000 len + 20 hidden nodes"
   ]
  },
  {
   "cell_type": "markdown",
   "id": "6452f508-2d77-4dd4-8e74-6ec37a2de82e",
   "metadata": {},
   "source": [
    "***cpu***"
   ]
  },
  {
   "cell_type": "code",
   "execution_count": 75,
   "id": "b5ee74b4-9253-443c-9edc-707111a3e50d",
   "metadata": {},
   "outputs": [],
   "source": [
    "x = torch.randn([2000,4]) \n",
    "y = torch.randn([2000,4]) "
   ]
  },
  {
   "cell_type": "code",
   "execution_count": 76,
   "id": "837a0f48-4bb9-4e45-adaa-a64cf0dbcb14",
   "metadata": {},
   "outputs": [],
   "source": [
    "rnn = torch.nn.RNN(4,20) \n",
    "linr = torch.nn.Linear(20,4) \n",
    "optimizr = torch.optim.Adam(list(rnn.parameters())+list(linr.parameters()))\n",
    "loss_fn = torch.nn.MSELoss() "
   ]
  },
  {
   "cell_type": "code",
   "execution_count": 77,
   "id": "eaca53e4-8d0e-4987-9b48-ac214e2ef525",
   "metadata": {},
   "outputs": [
    {
     "data": {
      "text/plain": [
       "10.605574131011963"
      ]
     },
     "execution_count": 77,
     "metadata": {},
     "output_type": "execute_result"
    }
   ],
   "source": [
    "t1 = time.time()\n",
    "for epoc in range(100):\n",
    "    ## 1 \n",
    "    _water = torch.zeros(1,20)\n",
    "    hidden, hT = rnn(x,_water) \n",
    "    yhat = linr(hidden) \n",
    "    ## 2 \n",
    "    loss = loss_fn(yhat,y) \n",
    "    ## 3\n",
    "    loss.backward() \n",
    "    ## 4 \n",
    "    optimizr.step()\n",
    "    optimizr.zero_grad()\n",
    "t2 = time.time()\n",
    "t2 - t1 "
   ]
  },
  {
   "cell_type": "markdown",
   "id": "2c1cacc0-2fa3-46ca-bf01-24aa12a6ec72",
   "metadata": {},
   "source": [
    "***gpu***"
   ]
  },
  {
   "cell_type": "code",
   "execution_count": 78,
   "id": "925d97d4-555f-48cc-ad42-793f36941c8e",
   "metadata": {},
   "outputs": [],
   "source": [
    "x = torch.randn([2000,4]).to(\"cuda:0\")\n",
    "y = torch.randn([2000,4]).to(\"cuda:0\")"
   ]
  },
  {
   "cell_type": "code",
   "execution_count": 79,
   "id": "3364a793-0adc-4c4e-aa96-c157dc79d792",
   "metadata": {},
   "outputs": [],
   "source": [
    "rnn = torch.nn.RNN(4,20).to(\"cuda:0\")\n",
    "linr = torch.nn.Linear(20,4).to(\"cuda:0\")\n",
    "optimizr = torch.optim.Adam(list(rnn.parameters())+list(linr.parameters()))\n",
    "loss_fn = torch.nn.MSELoss() "
   ]
  },
  {
   "cell_type": "code",
   "execution_count": 80,
   "id": "5aca641d-c69e-4c58-8a0b-7e566a3d7373",
   "metadata": {},
   "outputs": [
    {
     "data": {
      "text/plain": [
       "0.4819977283477783"
      ]
     },
     "execution_count": 80,
     "metadata": {},
     "output_type": "execute_result"
    }
   ],
   "source": [
    "t1 = time.time()\n",
    "for epoc in range(100):\n",
    "    ## 1 \n",
    "    _water = torch.zeros(1,20).to(\"cuda:0\")\n",
    "    hidden, hT = rnn(x,_water) \n",
    "    yhat = linr(hidden) \n",
    "    ## 2 \n",
    "    loss = loss_fn(yhat,y) \n",
    "    ## 3\n",
    "    loss.backward() \n",
    "    ## 4 \n",
    "    optimizr.step()\n",
    "    optimizr.zero_grad()\n",
    "t2 = time.time()\n",
    "t2 - t1 "
   ]
  },
  {
   "cell_type": "markdown",
   "id": "669394aa-8314-468f-8c82-d2f970998800",
   "metadata": {
    "tags": []
   },
   "source": [
    "## 2000 len + 20 hidden nodes + 역전파주석처리"
   ]
  },
  {
   "cell_type": "code",
   "execution_count": 82,
   "id": "5f079608-9693-4e3b-ac9f-48c1d5a5dbcf",
   "metadata": {},
   "outputs": [],
   "source": [
    "x = torch.randn([2000,4]) \n",
    "y = torch.randn([2000,4]) "
   ]
  },
  {
   "cell_type": "code",
   "execution_count": 83,
   "id": "98ce6ba2-45f8-4bf8-b947-e7297019c354",
   "metadata": {},
   "outputs": [],
   "source": [
    "rnn = torch.nn.RNN(4,20) \n",
    "linr = torch.nn.Linear(20,4) \n",
    "optimizr = torch.optim.Adam(list(rnn.parameters())+list(linr.parameters()))\n",
    "loss_fn = torch.nn.MSELoss() "
   ]
  },
  {
   "cell_type": "code",
   "execution_count": 84,
   "id": "05944aac-9157-411f-af9b-c4de5bdb02ad",
   "metadata": {},
   "outputs": [
    {
     "data": {
      "text/plain": [
       "3.2522189617156982"
      ]
     },
     "execution_count": 84,
     "metadata": {},
     "output_type": "execute_result"
    }
   ],
   "source": [
    "t1 = time.time()\n",
    "for epoc in range(100):\n",
    "    ## 1 \n",
    "    _water = torch.zeros(1,20)\n",
    "    hidden, hT = rnn(x,_water) \n",
    "    yhat = linr(hidden) \n",
    "    ## 2 \n",
    "    loss = loss_fn(yhat,y) \n",
    "    ## 3\n",
    "    # loss.backward() \n",
    "    ## 4 \n",
    "    optimizr.step()\n",
    "    optimizr.zero_grad()\n",
    "t2 = time.time()\n",
    "t2 - t1 "
   ]
  },
  {
   "cell_type": "markdown",
   "id": "8fa533c8-aba2-446c-86cb-259f466c275d",
   "metadata": {},
   "source": [
    "***gpu***"
   ]
  },
  {
   "cell_type": "code",
   "execution_count": 85,
   "id": "d975c80a-53ee-4ba2-9d5f-3303ef71f331",
   "metadata": {},
   "outputs": [],
   "source": [
    "x = torch.randn([2000,4]).to(\"cuda:0\")\n",
    "y = torch.randn([2000,4]).to(\"cuda:0\")"
   ]
  },
  {
   "cell_type": "code",
   "execution_count": 86,
   "id": "1b310cc0-26b7-424e-bca4-4a6d9636f7a1",
   "metadata": {},
   "outputs": [],
   "source": [
    "rnn = torch.nn.RNN(4,20).to(\"cuda:0\")\n",
    "linr = torch.nn.Linear(20,4).to(\"cuda:0\")\n",
    "optimizr = torch.optim.Adam(list(rnn.parameters())+list(linr.parameters()))\n",
    "loss_fn = torch.nn.MSELoss() "
   ]
  },
  {
   "cell_type": "code",
   "execution_count": 87,
   "id": "5b236ac4-46a1-41a9-b356-40ad935bb5b3",
   "metadata": {},
   "outputs": [
    {
     "data": {
      "text/plain": [
       "0.1948552131652832"
      ]
     },
     "execution_count": 87,
     "metadata": {},
     "output_type": "execute_result"
    }
   ],
   "source": [
    "t1 = time.time()\n",
    "for epoc in range(100):\n",
    "    ## 1 \n",
    "    _water = torch.zeros(1,20).to(\"cuda:0\")\n",
    "    hidden, hT = rnn(x,_water) \n",
    "    yhat = linr(hidden) \n",
    "    ## 2 \n",
    "    loss = loss_fn(yhat,y) \n",
    "    ## 3\n",
    "    # loss.backward() \n",
    "    ## 4 \n",
    "    optimizr.step()\n",
    "    optimizr.zero_grad()\n",
    "t2 = time.time()\n",
    "t2 - t1 "
   ]
  },
  {
   "cell_type": "markdown",
   "id": "43cfc683-9f65-4a36-b1c5-f9258c677298",
   "metadata": {},
   "source": [
    "## 2000 len + 1000 hidden nodes"
   ]
  },
  {
   "cell_type": "markdown",
   "id": "fc0609e6-c563-4c57-911f-83786d24c8d6",
   "metadata": {},
   "source": [
    "***cpu***"
   ]
  },
  {
   "cell_type": "code",
   "execution_count": 88,
   "id": "38dfb452-cb4c-4092-87c0-49d2bf17362a",
   "metadata": {},
   "outputs": [],
   "source": [
    "x = torch.randn([2000,4]) \n",
    "y = torch.randn([2000,4]) "
   ]
  },
  {
   "cell_type": "code",
   "execution_count": 89,
   "id": "62faed7e-39e6-44a7-9537-de28b6361902",
   "metadata": {},
   "outputs": [],
   "source": [
    "rnn = torch.nn.RNN(4,1000) \n",
    "linr = torch.nn.Linear(1000,4) \n",
    "optimizr = torch.optim.Adam(list(rnn.parameters())+list(linr.parameters()))\n",
    "loss_fn = torch.nn.MSELoss() "
   ]
  },
  {
   "cell_type": "code",
   "execution_count": 90,
   "id": "4e86bd00-bb42-48ca-b48f-727e12c66cbb",
   "metadata": {},
   "outputs": [
    {
     "data": {
      "text/plain": [
       "43.083815574645996"
      ]
     },
     "execution_count": 90,
     "metadata": {},
     "output_type": "execute_result"
    }
   ],
   "source": [
    "t1 = time.time()\n",
    "for epoc in range(100):\n",
    "    ## 1 \n",
    "    _water = torch.zeros(1,1000)\n",
    "    hidden, hT = rnn(x,_water) \n",
    "    yhat = linr(hidden) \n",
    "    ## 2 \n",
    "    loss = loss_fn(yhat,y) \n",
    "    ## 3\n",
    "    loss.backward() \n",
    "    ## 4 \n",
    "    optimizr.step()\n",
    "    optimizr.zero_grad()\n",
    "t2 = time.time()\n",
    "t2 - t1 "
   ]
  },
  {
   "cell_type": "markdown",
   "id": "231e386f-eeb6-43b8-9971-44353f1e63db",
   "metadata": {},
   "source": [
    "***gpu***"
   ]
  },
  {
   "cell_type": "code",
   "execution_count": 91,
   "id": "b443cfd4-f67a-44af-b3a9-6fc4a9fa4075",
   "metadata": {},
   "outputs": [],
   "source": [
    "x = torch.randn([2000,4]).to(\"cuda:0\")\n",
    "y = torch.randn([2000,4]).to(\"cuda:0\")"
   ]
  },
  {
   "cell_type": "code",
   "execution_count": 92,
   "id": "65877e55-cace-4f40-9858-b9223ae18fb4",
   "metadata": {},
   "outputs": [],
   "source": [
    "rnn = torch.nn.RNN(4,1000).to(\"cuda:0\")\n",
    "linr = torch.nn.Linear(1000,4).to(\"cuda:0\")\n",
    "optimizr = torch.optim.Adam(list(rnn.parameters())+list(linr.parameters()))\n",
    "loss_fn = torch.nn.MSELoss() "
   ]
  },
  {
   "cell_type": "code",
   "execution_count": 93,
   "id": "6a4e2dbb-e930-483d-9788-24a4e127ed52",
   "metadata": {},
   "outputs": [
    {
     "data": {
      "text/plain": [
       "5.486930847167969"
      ]
     },
     "execution_count": 93,
     "metadata": {},
     "output_type": "execute_result"
    }
   ],
   "source": [
    "t1 = time.time()\n",
    "for epoc in range(100):\n",
    "    ## 1 \n",
    "    _water = torch.zeros(1,1000).to(\"cuda:0\")\n",
    "    hidden, hT = rnn(x,_water) \n",
    "    yhat = linr(hidden) \n",
    "    ## 2 \n",
    "    loss = loss_fn(yhat,y) \n",
    "    ## 3\n",
    "    loss.backward() \n",
    "    ## 4 \n",
    "    optimizr.step()\n",
    "    optimizr.zero_grad()\n",
    "t2 = time.time()\n",
    "t2 - t1 "
   ]
  },
  {
   "cell_type": "markdown",
   "id": "c6db47ce-5e76-447c-86f1-1b958738ab72",
   "metadata": {
    "tags": []
   },
   "source": [
    "## 2000 len + 1000 hidden nodes + 역전파주석처리"
   ]
  },
  {
   "cell_type": "markdown",
   "id": "72a3ef1d-4310-4ce0-b06b-d87ac310a229",
   "metadata": {},
   "source": [
    "***cpu***"
   ]
  },
  {
   "cell_type": "code",
   "execution_count": 94,
   "id": "0a69c4da-2ecb-4c70-b047-f3bbf6d60c43",
   "metadata": {},
   "outputs": [],
   "source": [
    "x = torch.randn([2000,4]) \n",
    "y = torch.randn([2000,4]) "
   ]
  },
  {
   "cell_type": "code",
   "execution_count": 95,
   "id": "1173e7c4-d780-4d1d-8801-9ea8f592a10f",
   "metadata": {},
   "outputs": [],
   "source": [
    "rnn = torch.nn.RNN(4,1000) \n",
    "linr = torch.nn.Linear(1000,4) \n",
    "optimizr = torch.optim.Adam(list(rnn.parameters())+list(linr.parameters()))\n",
    "loss_fn = torch.nn.MSELoss() "
   ]
  },
  {
   "cell_type": "code",
   "execution_count": 96,
   "id": "4dde875c-64c4-4891-a6a8-cafa98dc9859",
   "metadata": {},
   "outputs": [
    {
     "data": {
      "text/plain": [
       "6.92149543762207"
      ]
     },
     "execution_count": 96,
     "metadata": {},
     "output_type": "execute_result"
    }
   ],
   "source": [
    "t1 = time.time()\n",
    "for epoc in range(100):\n",
    "    ## 1 \n",
    "    _water = torch.zeros(1,1000)\n",
    "    hidden, hT = rnn(x,_water) \n",
    "    yhat = linr(hidden) \n",
    "    ## 2 \n",
    "    loss = loss_fn(yhat,y) \n",
    "    ## 3\n",
    "    # loss.backward() \n",
    "    ## 4 \n",
    "    optimizr.step()\n",
    "    optimizr.zero_grad()\n",
    "t2 = time.time()\n",
    "t2 - t1 "
   ]
  },
  {
   "cell_type": "markdown",
   "id": "b63784fe-912b-4eea-a298-4ab08ac816e6",
   "metadata": {},
   "source": [
    "***gpu***"
   ]
  },
  {
   "cell_type": "code",
   "execution_count": 97,
   "id": "0c68eba2-8593-4196-853c-153df1964dda",
   "metadata": {},
   "outputs": [],
   "source": [
    "x = torch.randn([2000,4]).to(\"cuda:0\")\n",
    "y = torch.randn([2000,4]).to(\"cuda:0\")"
   ]
  },
  {
   "cell_type": "code",
   "execution_count": 98,
   "id": "8b306ec0-9776-4d30-b0f5-cff3882517ad",
   "metadata": {},
   "outputs": [],
   "source": [
    "rnn = torch.nn.RNN(4,1000).to(\"cuda:0\")\n",
    "linr = torch.nn.Linear(1000,4).to(\"cuda:0\")\n",
    "optimizr = torch.optim.Adam(list(rnn.parameters())+list(linr.parameters()))\n",
    "loss_fn = torch.nn.MSELoss() "
   ]
  },
  {
   "cell_type": "code",
   "execution_count": 99,
   "id": "d9a04ea0-e03e-4a09-aca4-fa12de220a7a",
   "metadata": {},
   "outputs": [
    {
     "data": {
      "text/plain": [
       "2.9791648387908936"
      ]
     },
     "execution_count": 99,
     "metadata": {},
     "output_type": "execute_result"
    }
   ],
   "source": [
    "t1 = time.time()\n",
    "for epoc in range(100):\n",
    "    ## 1 \n",
    "    _water = torch.zeros(1,1000).to(\"cuda:0\")\n",
    "    hidden, hT = rnn(x,_water) \n",
    "    yhat = linr(hidden) \n",
    "    ## 2 \n",
    "    loss = loss_fn(yhat,y) \n",
    "    ## 3\n",
    "    # loss.backward() \n",
    "    ## 4 \n",
    "    optimizr.step()\n",
    "    optimizr.zero_grad()\n",
    "t2 = time.time()\n",
    "t2 - t1 "
   ]
  },
  {
   "cell_type": "markdown",
   "id": "3b1f124c-228a-44dd-873f-13e2a6e04297",
   "metadata": {},
   "source": [
    "## 실험결과 요약"
   ]
  },
  {
   "cell_type": "markdown",
   "id": "3e344282-71c0-429c-bd6b-3edb887bcbaf",
   "metadata": {},
   "source": [
    "|len|# of hidden ndoes|backward|cpu|gpu|ratio|\n",
    "|:--|:---------------:|:-------|:-:|:-:|:---:|\n",
    "|20000|20|O|145.73|4.39|33.19|\n",
    "|20000|20|X|28.29|1.69|16.73|\n",
    "|2000|20|O|10.60|0.48|22.08|\n",
    "|2000|20|X|3.25|0.19|17.10|\n",
    "|2000|1000|O|43.08|5.48|7.86|\n",
    "|2000|1000|X|6.92|2.97|2.32|"
   ]
  },
  {
   "cell_type": "markdown",
   "id": "552270ad-24b2-4f67-8ced-37e92cc4d4e7",
   "metadata": {},
   "source": [
    "# Exam5: abcabC"
   ]
  },
  {
   "cell_type": "markdown",
   "id": "67ab56fe-6ea1-4074-a951-8c8a9b650fb3",
   "metadata": {},
   "source": [
    "## data"
   ]
  },
  {
   "cell_type": "code",
   "execution_count": 25,
   "id": "59180391-e2c5-48da-b100-be16093f06e1",
   "metadata": {},
   "outputs": [],
   "source": [
    "def f(txt,mapping):\n",
    "    return [mapping[key] for key in txt] "
   ]
  },
  {
   "cell_type": "code",
   "execution_count": 26,
   "id": "f842c334-3322-4983-af83-5ea126dc58c5",
   "metadata": {},
   "outputs": [
    {
     "data": {
      "text/plain": [
       "['a', 'b', 'c', 'a', 'b', 'C', 'a', 'b']"
      ]
     },
     "execution_count": 26,
     "metadata": {},
     "output_type": "execute_result"
    }
   ],
   "source": [
    "txt = list('abcabC')*100\n",
    "txt[:8]"
   ]
  },
  {
   "cell_type": "code",
   "execution_count": 27,
   "id": "41021973-c01e-478c-a788-92fb9be2ac1c",
   "metadata": {},
   "outputs": [
    {
     "data": {
      "text/plain": [
       "(['a', 'b', 'c', 'a', 'b', 'C', 'a', 'b'],\n",
       " ['b', 'c', 'a', 'b', 'C', 'a', 'b', 'c'])"
      ]
     },
     "execution_count": 27,
     "metadata": {},
     "output_type": "execute_result"
    }
   ],
   "source": [
    "txt_x = txt[:-1]\n",
    "txt_y = txt[1:]\n",
    "txt_x[:8], txt_y[:8]"
   ]
  },
  {
   "cell_type": "code",
   "execution_count": 30,
   "id": "772f69b7-02a1-41a1-be5c-9365f88585c4",
   "metadata": {},
   "outputs": [],
   "source": [
    "mapping = {'a':0,'b':1,'c':2,'C':3}\n",
    "x = torch.nn.functional.one_hot(torch.tensor(f(txt_x,mapping))).float()\n",
    "y = torch.nn.functional.one_hot(torch.tensor(f(txt_y,mapping))).float()"
   ]
  },
  {
   "cell_type": "code",
   "execution_count": 32,
   "id": "4e1aacd7-c5d7-4592-9022-7ef82a0fee75",
   "metadata": {},
   "outputs": [],
   "source": [
    "x = x.to(\"cuda:0\")\n",
    "y = y.to(\"cuda:0\")"
   ]
  },
  {
   "cell_type": "markdown",
   "id": "51bda659-795a-4dd8-a231-7e10844f2bb9",
   "metadata": {},
   "source": [
    "`-` a,b,c,a,b,C\n",
    "- 보이는 문자수가 a,b,c,C 이므로 4개\n",
    "\n",
    "`-` a1,b1,c,a2,b2,C\n",
    "- 문맥까지 고려하면 6개 "
   ]
  },
  {
   "cell_type": "markdown",
   "id": "2446b285-aada-4b12-9617-f560bbed31b6",
   "metadata": {},
   "source": [
    "***hidden node의 개수를 2개로 하면 a,b,c,C 4개의 문자를 구분할 수는 있지만 문맥에 따른 차이점을 구분하기 모호할 수 있다.***\n",
    "\n",
    "$\\to$ 따라서 hidden node의 개수를 3으로 설정하자."
   ]
  },
  {
   "cell_type": "markdown",
   "id": "d32d1554-929e-4ef6-be73-78fd0d801008",
   "metadata": {},
   "source": [
    "# RNN"
   ]
  },
  {
   "cell_type": "code",
   "execution_count": 33,
   "id": "3eca2f1b-8a66-483f-854e-26941ad5458b",
   "metadata": {},
   "outputs": [],
   "source": [
    "torch.manual_seed(43052)\n",
    "rnn = torch.nn.RNN(4,3)\n",
    "linr = torch.nn.Linear(3,4)\n",
    "loss_fn = torch.nn.CrossEntropyLoss()\n",
    "optimizr = torch.optim.Adam(list(rnn.parameters()) + list(linr.parameters()))"
   ]
  },
  {
   "cell_type": "code",
   "execution_count": 34,
   "id": "c69cc196-66f6-4d58-9233-14b041c6bb0e",
   "metadata": {},
   "outputs": [
    {
     "data": {
      "text/plain": [
       "Linear(in_features=3, out_features=4, bias=True)"
      ]
     },
     "execution_count": 34,
     "metadata": {},
     "output_type": "execute_result"
    }
   ],
   "source": [
    "rnn.to(\"cuda:0\")\n",
    "linr.to(\"cuda:0\")"
   ]
  },
  {
   "cell_type": "markdown",
   "id": "1e8cabb9-d605-4065-82fd-08ff174d6a2d",
   "metadata": {},
   "source": [
    "`-` 3000 epochs"
   ]
  },
  {
   "cell_type": "code",
   "execution_count": 36,
   "id": "3f764ff2-6439-4964-99c2-a6b25ee1cd08",
   "metadata": {},
   "outputs": [],
   "source": [
    "for epoc in range(3000):\n",
    "    ## 1\n",
    "    _water = torch.zeros(1,3).to(\"cuda:0\")\n",
    "    hidden, hT = rnn(x,_water)\n",
    "    output = linr(hidden)\n",
    "    ## 2\n",
    "    loss = loss_fn(output, y)\n",
    "    ## 3\n",
    "    loss.backward()\n",
    "    ## 4\n",
    "    optimizr.step()\n",
    "    optimizr.zero_grad()"
   ]
  },
  {
   "cell_type": "code",
   "execution_count": 38,
   "id": "28ef6365-5f2e-49d5-a17c-c826b39a2d2f",
   "metadata": {},
   "outputs": [],
   "source": [
    "yhat = soft(output)\n",
    "combinded = torch.concat([hidden,yhat],axis=1).data.to('cpu')"
   ]
  },
  {
   "cell_type": "code",
   "execution_count": 43,
   "id": "104c6fa2-f3de-4c90-8ca8-6a6d4f2acb5c",
   "metadata": {},
   "outputs": [
    {
     "data": {
      "text/plain": [
       "Text(0.5, 1.0, 'Vis: $[h | \\\\hat{y}]$')"
      ]
     },
     "execution_count": 43,
     "metadata": {},
     "output_type": "execute_result"
    },
    {
     "data": {
      "image/png": "[encoded data removed]",
      "text/plain": [
       "<Figure size 720x720 with 2 Axes>"
      ]
     },
     "metadata": {
      "needs_background": "light"
     },
     "output_type": "display_data"
    }
   ],
   "source": [
    "plt.matshow(combinded[-6:],cmap='bwr')\n",
    "plt.xticks(range(7), labels=[r'$h1$',r'$h2$',r'$h3$',r'$y=a?$',r'$y=b?$',r'$y=c?$',r'$y=C?$'],size=14)\n",
    "plt.colorbar()\n",
    "plt.gcf().set_figwidth(10)\n",
    "plt.gcf().set_figheight(10)\n",
    "plt.title(r\"Vis: $[h | \\hat{y}]$\",size=20)"
   ]
  },
  {
   "cell_type": "markdown",
   "id": "39cb478b-6f16-4ac3-8988-0a6d6ee9af33",
   "metadata": {},
   "source": [
    "`-` 6000 epochs"
   ]
  },
  {
   "cell_type": "code",
   "execution_count": 45,
   "id": "b020f311-fee1-4c49-b18f-753b02f339d7",
   "metadata": {},
   "outputs": [],
   "source": [
    "for epoc in range(3000):\n",
    "    ## 1 \n",
    "    _water = torch.zeros(1,3).to(\"cuda:0\")\n",
    "    hidden, hT = rnn(x,_water)\n",
    "    output = linr(hidden) \n",
    "    ## 2 \n",
    "    loss = loss_fn(output,y) \n",
    "    ## 3 \n",
    "    loss.backward()\n",
    "    ## 4 \n",
    "    optimizr.step()\n",
    "    optimizr.zero_grad()"
   ]
  },
  {
   "cell_type": "code",
   "execution_count": 46,
   "id": "9d757ef3-ce2c-4a60-b1d8-9ab163c1622f",
   "metadata": {},
   "outputs": [],
   "source": [
    "yhat = soft(output)\n",
    "combinded  = torch.concat([hidden,yhat],axis=1).data.to(\"cpu\")"
   ]
  },
  {
   "cell_type": "code",
   "execution_count": 47,
   "id": "1cb199e1-c29e-431f-b55b-23be82b7e57c",
   "metadata": {},
   "outputs": [
    {
     "data": {
      "text/plain": [
       "<matplotlib.image.AxesImage at 0x7f320516ba00>"
      ]
     },
     "execution_count": 47,
     "metadata": {},
     "output_type": "execute_result"
    },
    {
     "data": {
      "image/png": "[encoded data removed]",
      "text/plain": [
       "<Figure size 336x288 with 1 Axes>"
      ]
     },
     "metadata": {
      "needs_background": "light"
     },
     "output_type": "display_data"
    }
   ],
   "source": [
    "plt.matshow(combinded[-6:],cmap='bwr')"
   ]
  },
  {
   "cell_type": "markdown",
   "id": "0def4edc-d85d-4c29-acaa-73692b055bb9",
   "metadata": {},
   "source": [
    "`-` 9000 epochs"
   ]
  },
  {
   "cell_type": "code",
   "execution_count": 48,
   "id": "d5469495-c02a-420e-9a61-cf4e84dba610",
   "metadata": {},
   "outputs": [],
   "source": [
    "for epoc in range(3000):\n",
    "    ## 1 \n",
    "    _water = torch.zeros(1,3).to(\"cuda:0\")\n",
    "    hidden, hT = rnn(x,_water)\n",
    "    output = linr(hidden) \n",
    "    ## 2 \n",
    "    loss = loss_fn(output,y) \n",
    "    ## 3 \n",
    "    loss.backward()\n",
    "    ## 4 \n",
    "    optimizr.step()\n",
    "    optimizr.zero_grad()"
   ]
  },
  {
   "cell_type": "code",
   "execution_count": 49,
   "id": "18ae4c81-e395-42ff-9a6d-08de0f03907a",
   "metadata": {},
   "outputs": [],
   "source": [
    "yhat = soft(output)\n",
    "combinded  = torch.concat([hidden,yhat],axis=1).data.to(\"cpu\")"
   ]
  },
  {
   "cell_type": "code",
   "execution_count": 50,
   "id": "28147c55-8121-4c8c-8c01-bd88aa018472",
   "metadata": {},
   "outputs": [
    {
     "data": {
      "text/plain": [
       "<matplotlib.image.AxesImage at 0x7f3205077460>"
      ]
     },
     "execution_count": 50,
     "metadata": {},
     "output_type": "execute_result"
    },
    {
     "data": {
      "image/png": "[encoded data removed]",
      "text/plain": [
       "<Figure size 336x288 with 1 Axes>"
      ]
     },
     "metadata": {
      "needs_background": "light"
     },
     "output_type": "display_data"
    }
   ],
   "source": [
    "plt.matshow(combinded[-6:],cmap='bwr')"
   ]
  },
  {
   "cell_type": "markdown",
   "id": "b3c83833-84b1-49b9-8c07-39bcea232e4b",
   "metadata": {},
   "source": [
    "`-` 12000 epochs"
   ]
  },
  {
   "cell_type": "code",
   "execution_count": 51,
   "id": "0ffcbffe-33cf-4056-8107-ad72cda13a5b",
   "metadata": {},
   "outputs": [],
   "source": [
    "for epoc in range(3000):\n",
    "    ## 1 \n",
    "    _water = torch.zeros(1,3).to(\"cuda:0\")\n",
    "    hidden, hT = rnn(x,_water)\n",
    "    output = linr(hidden) \n",
    "    ## 2 \n",
    "    loss = loss_fn(output,y) \n",
    "    ## 3 \n",
    "    loss.backward()\n",
    "    ## 4 \n",
    "    optimizr.step()\n",
    "    optimizr.zero_grad()"
   ]
  },
  {
   "cell_type": "code",
   "execution_count": 52,
   "id": "deed976c-3371-42a3-a8e0-5e0481a9b6bc",
   "metadata": {},
   "outputs": [],
   "source": [
    "yhat = soft(output)\n",
    "combinded  = torch.concat([hidden,yhat],axis=1).data.to(\"cpu\")"
   ]
  },
  {
   "cell_type": "code",
   "execution_count": 53,
   "id": "30fdc975-ef7f-4052-8233-65a3d86d4045",
   "metadata": {},
   "outputs": [
    {
     "data": {
      "text/plain": [
       "<matplotlib.image.AxesImage at 0x7f320506ae80>"
      ]
     },
     "execution_count": 53,
     "metadata": {},
     "output_type": "execute_result"
    },
    {
     "data": {
      "image/png": "[encoded data removed]",
      "text/plain": [
       "<Figure size 336x288 with 1 Axes>"
      ]
     },
     "metadata": {
      "needs_background": "light"
     },
     "output_type": "display_data"
    }
   ],
   "source": [
    "plt.matshow(combinded[-6:],cmap='bwr')"
   ]
  },
  {
   "cell_type": "markdown",
   "id": "88e92efc-5ba0-4f60-bf9b-a89e957f29ea",
   "metadata": {},
   "source": [
    "- 꽤 많이 맞추고 있긴 하지만 여전히 c, C를 1/2확률로 찍고있다...\n",
    "- c가 나오기전 b, C가 나오기 전 b는 문맥의 뉘앙스가 다르기때문에 달라져야 한다. (but, 지금은 c와 C가 나오기전 b의 히든노드 색깔 모두 파란색이다.파/파/파) $\\to$ c와 C 구분 못함."
   ]
  },
  {
   "cell_type": "markdown",
   "id": "d0b22353-25a0-49e1-9573-1fef0abd0221",
   "metadata": {},
   "source": [
    "`-` 15000 epochs"
   ]
  },
  {
   "cell_type": "code",
   "execution_count": 54,
   "id": "d062e50b-39d4-4753-94c2-20a8c84eeb9e",
   "metadata": {},
   "outputs": [],
   "source": [
    "for epoc in range(3000):\n",
    "    ## 1 \n",
    "    _water = torch.zeros(1,3).to(\"cuda:0\")\n",
    "    hidden, hT = rnn(x,_water)\n",
    "    output = linr(hidden) \n",
    "    ## 2 \n",
    "    loss = loss_fn(output,y) \n",
    "    ## 3 \n",
    "    loss.backward()\n",
    "    ## 4 \n",
    "    optimizr.step()\n",
    "    optimizr.zero_grad()"
   ]
  },
  {
   "cell_type": "code",
   "execution_count": 55,
   "id": "aeb88ba9-8047-447a-aedd-1f8a9841d9b1",
   "metadata": {},
   "outputs": [],
   "source": [
    "yhat = soft(output)\n",
    "combinded  = torch.concat([hidden,yhat],axis=1).data.to(\"cpu\")"
   ]
  },
  {
   "cell_type": "code",
   "execution_count": 56,
   "id": "3bc2f38a-4a4c-4aa0-a665-ccbc51c1f43c",
   "metadata": {},
   "outputs": [
    {
     "data": {
      "text/plain": [
       "<matplotlib.image.AxesImage at 0x7f3204f77040>"
      ]
     },
     "execution_count": 56,
     "metadata": {},
     "output_type": "execute_result"
    },
    {
     "data": {
      "image/png": "[encoded data removed]",
      "text/plain": [
       "<Figure size 336x288 with 1 Axes>"
      ]
     },
     "metadata": {
      "needs_background": "light"
     },
     "output_type": "display_data"
    }
   ],
   "source": [
    "plt.matshow(combinded[-6:],cmap='bwr')"
   ]
  },
  {
   "cell_type": "markdown",
   "id": "000fe742-7842-4d75-ac85-48319ffbc91c",
   "metadata": {},
   "source": [
    "15000번 정도 진행하니까 abcabC가 잘 학습되었다."
   ]
  },
  {
   "cell_type": "markdown",
   "id": "24d3395e-91f0-421d-acdc-bbc2115e58a3",
   "metadata": {},
   "source": [
    "- 학습이 잘 된 것을 보니까 피처가 달라진 것을 확인.\n",
    "- 에폭을 좀 많이 돌려야 학습이 잘 되네.. 좋은 모형이 없을까??"
   ]
  },
  {
   "cell_type": "markdown",
   "id": "de890f4d-3dbf-4d77-ac8e-2310554a000a",
   "metadata": {},
   "source": [
    "# LSTM"
   ]
  },
  {
   "cell_type": "markdown",
   "id": "a289c39c-ea72-495b-80bf-f27baf875d6b",
   "metadata": {},
   "source": [
    "`-` LSTM"
   ]
  },
  {
   "cell_type": "code",
   "execution_count": 57,
   "id": "db2403dc-09f0-49f5-976b-ef7b8aa0cb9f",
   "metadata": {},
   "outputs": [],
   "source": [
    "torch.manual_seed(43052) \n",
    "lstm = torch.nn.LSTM(4,3) \n",
    "linr = torch.nn.Linear(3,4) \n",
    "loss_fn = torch.nn.CrossEntropyLoss()\n",
    "optimizr = torch.optim.Adam(list(lstm.parameters())+ list(linr.parameters()))"
   ]
  },
  {
   "cell_type": "code",
   "execution_count": 58,
   "id": "4cbccd4f-fda1-43fa-a14f-51094974f701",
   "metadata": {},
   "outputs": [
    {
     "data": {
      "text/plain": [
       "Linear(in_features=3, out_features=4, bias=True)"
      ]
     },
     "execution_count": 58,
     "metadata": {},
     "output_type": "execute_result"
    }
   ],
   "source": [
    "lstm.to(\"cuda:0\")\n",
    "linr.to(\"cuda:0\")"
   ]
  },
  {
   "cell_type": "markdown",
   "id": "80324abb-80d5-4b69-8039-5716e2d58cb8",
   "metadata": {},
   "source": [
    "`-` 3000 epochs"
   ]
  },
  {
   "cell_type": "markdown",
   "id": "1ce7d0f9-b1e2-45ba-83db-1889b10b5dca",
   "metadata": {},
   "source": [
    "LSTM은 물을 2개넣어줘야 하고 cT라는게 생긴다."
   ]
  },
  {
   "cell_type": "code",
   "execution_count": 59,
   "id": "5788a80a-024b-4306-a65e-4bc8c5139d33",
   "metadata": {},
   "outputs": [],
   "source": [
    "for epoc in range(3000):\n",
    "    ## 1 \n",
    "    _water = torch.zeros(1,3).to(\"cuda:0\")\n",
    "    hidden, (hT,cT) = lstm(x,(_water,_water))\n",
    "    output = linr(hidden) \n",
    "    ## 2 \n",
    "    loss = loss_fn(output,y) \n",
    "    ## 3 \n",
    "    loss.backward()\n",
    "    ## 4 \n",
    "    optimizr.step()\n",
    "    optimizr.zero_grad()"
   ]
  },
  {
   "cell_type": "code",
   "execution_count": 61,
   "id": "e119593c-974d-47e5-833d-75f7b864f81e",
   "metadata": {},
   "outputs": [],
   "source": [
    "yhat = soft(output)\n",
    "combinded = torch.concat([hidden,yhat],axis=1).data.to(\"cpu\")"
   ]
  },
  {
   "cell_type": "code",
   "execution_count": 62,
   "id": "ea64a87a-32e0-4069-95c9-7dd10d94d3dc",
   "metadata": {},
   "outputs": [
    {
     "data": {
      "text/plain": [
       "<matplotlib.image.AxesImage at 0x7f3204f9b550>"
      ]
     },
     "execution_count": 62,
     "metadata": {},
     "output_type": "execute_result"
    },
    {
     "data": {
      "image/png": "[encoded data removed]",
      "text/plain": [
       "<Figure size 336x288 with 1 Axes>"
      ]
     },
     "metadata": {
      "needs_background": "light"
     },
     "output_type": "display_data"
    }
   ],
   "source": [
    "plt.matshow(combinded[-6:],cmap='bwr',vmin=-1,vmax=1)"
   ]
  },
  {
   "cell_type": "markdown",
   "id": "cef4628c-8c38-4700-a1f6-fab11e318d96",
   "metadata": {},
   "source": [
    "RNN을 3000에폭 돌렸을 때는 hidden layer가 파랑(-1) 아니면 빨강(+1) 처럼 되게 뚜렸했는데, LSTM을 3000에폭 돌린 결과 하얀 부분이 많이 존재한다.(상대적으로 덜 뚜렷)"
   ]
  },
  {
   "cell_type": "markdown",
   "id": "dde2db62-b69a-4007-aa88-3580980e1325",
   "metadata": {},
   "source": [
    "***(LSTM 3000에폭 돌린 느낌) : 학습을 아직 잘 못하는 것 같다. (c와 C를 찍고 있다) 분명 개선된 모델이라고 했는데???***"
   ]
  },
  {
   "cell_type": "markdown",
   "id": "cecc8dea-90c5-4b22-b1a2-aaf5873750cc",
   "metadata": {},
   "source": [
    "`-` 6000 epochs"
   ]
  },
  {
   "cell_type": "code",
   "execution_count": 63,
   "id": "759ce791-018f-4dc6-8597-8a961fa55c55",
   "metadata": {},
   "outputs": [],
   "source": [
    "for epoc in range(3000):\n",
    "    ## 1\n",
    "    _water = torch.zeros(1,3).to(\"cuda:0\")\n",
    "    hidden, (hT,cT) = lstm(x, (_water,_water))\n",
    "    output = linr(hidden)\n",
    "    ## 2\n",
    "    loss = loss_fn(output,y)\n",
    "    ## 3\n",
    "    loss.backward()\n",
    "    ## 4\n",
    "    optimizr.step()\n",
    "    optimizr.zero_grad()"
   ]
  },
  {
   "cell_type": "code",
   "execution_count": 64,
   "id": "a526dd6d-e562-454e-a3df-e67bd094ff41",
   "metadata": {},
   "outputs": [],
   "source": [
    "yhat = soft(output)\n",
    "combinded = torch.concat([hidden,yhat],axis=1).data.to(\"cpu\")"
   ]
  },
  {
   "cell_type": "code",
   "execution_count": 66,
   "id": "1062c1ae-17d3-4c03-8ceb-585dc335f716",
   "metadata": {},
   "outputs": [
    {
     "data": {
      "text/plain": [
       "<matplotlib.image.AxesImage at 0x7f3204e78040>"
      ]
     },
     "execution_count": 66,
     "metadata": {},
     "output_type": "execute_result"
    },
    {
     "data": {
      "image/png": "[encoded data removed]",
      "text/plain": [
       "<Figure size 336x288 with 1 Axes>"
      ]
     },
     "metadata": {
      "needs_background": "light"
     },
     "output_type": "display_data"
    }
   ],
   "source": [
    "plt.matshow(combinded[-6:],cmap='bwr',vmin=-1,vmax=1)"
   ]
  },
  {
   "cell_type": "markdown",
   "id": "21ebeeeb-09dc-46eb-9a07-762362ac96f8",
   "metadata": {},
   "source": [
    "***6000에폭만에 abcabC를 잘 학습이 되었다!***"
   ]
  },
  {
   "cell_type": "markdown",
   "id": "eed7ccf0-5b32-4b99-adff-d7043fd42824",
   "metadata": {},
   "source": [
    "***abcabC 예제에서 LSTM과 RNN을 비교해보니 LSTM이 확실히 우수한 것 같다.***"
   ]
  },
  {
   "cell_type": "markdown",
   "id": "124c8a8b-10dd-4666-82b1-c59facc0418f",
   "metadata": {},
   "source": [
    "LSTM은 6000번만에 피처를 잘 찾았고, RNN은 15000번만에 피처를 잘 찾았으니까 LSTM이 좋다라고 하기에는 아직 실험횟수가 부족한 듯하다. 좀 더 성능비교를 위해 다양한 세팅에서 비교해보자."
   ]
  },
  {
   "cell_type": "markdown",
   "id": "e25729a9-2a46-4faf-af74-3ec83d65989f",
   "metadata": {},
   "source": [
    "# RNN vs. LSTM 성능비교실험"
   ]
  },
  {
   "cell_type": "markdown",
   "id": "df294265-4277-4971-afbe-9e95520c99f0",
   "metadata": {},
   "source": [
    "learning rate = 0.1로 크게 잡고, epoch은 3000번으로 통일."
   ]
  },
  {
   "cell_type": "markdown",
   "id": "6dfd5081-3e72-45bc-8931-be395e254b41",
   "metadata": {},
   "source": [
    "`-` RNN"
   ]
  },
  {
   "cell_type": "code",
   "execution_count": 67,
   "id": "4ad56891-8018-40bc-8638-4dead4bc5e94",
   "metadata": {},
   "outputs": [
    {
     "data": {
      "image/png": "[encoded data removed]",
      "text/plain": [
       "<Figure size 720x720 with 25 Axes>"
      ]
     },
     "metadata": {
      "needs_background": "light"
     },
     "output_type": "display_data"
    }
   ],
   "source": [
    "fig, ax = plt.subplots(5,5,figsize=(10,10))\n",
    "for i in range(5):\n",
    "    for j in range(5):\n",
    "        rnn = torch.nn.RNN(4,3).to(\"cuda:0\")\n",
    "        linr = torch.nn.Linear(3,4).to(\"cuda:0\")\n",
    "        loss_fn = torch.nn.CrossEntropyLoss()\n",
    "        optimizr = torch.optim.Adam(list(rnn.parameters())+list(linr.parameters()),lr=0.1)\n",
    "        _water = torch.zeros(1,3).to(\"cuda:0\")\n",
    "        for epoc in range(3000):\n",
    "            ## 1\n",
    "            hidden, hT = rnn(x,_water)\n",
    "            output = linr(hidden)\n",
    "            ## 2\n",
    "            loss = loss_fn(output,y)\n",
    "            ## 3\n",
    "            loss.backward()\n",
    "            ## 4 \n",
    "            optimizr.step()\n",
    "            optimizr.zero_grad()\n",
    "        yhat=soft(output)    \n",
    "        combind = torch.concat([hidden,yhat],axis=1)\n",
    "        ax[i][j].matshow(combind.to(\"cpu\").data[-6:],cmap='bwr',vmin=-1,vmax=1)\n",
    "fig.suptitle(r\"$RNN$\",size=20)\n",
    "fig.tight_layout()"
   ]
  },
  {
   "cell_type": "markdown",
   "id": "ea71b6e0-37c1-43d9-b6df-abc964de2d03",
   "metadata": {},
   "source": [
    "`-` LSTM"
   ]
  },
  {
   "cell_type": "code",
   "execution_count": 68,
   "id": "b70cd656-5970-44ba-a42a-209a1fcbe2eb",
   "metadata": {},
   "outputs": [
    {
     "data": {
      "image/png": "[encoded data removed]",
      "text/plain": [
       "<Figure size 720x720 with 25 Axes>"
      ]
     },
     "metadata": {
      "needs_background": "light"
     },
     "output_type": "display_data"
    }
   ],
   "source": [
    "fig, ax = plt.subplots(5,5,figsize=(10,10))\n",
    "for i in range(5):\n",
    "    for j in range(5):\n",
    "        lstm = torch.nn.LSTM(4,3).to(\"cuda:0\")\n",
    "        linr = torch.nn.Linear(3,4).to(\"cuda:0\")\n",
    "        loss_fn = torch.nn.CrossEntropyLoss()\n",
    "        optimizr = torch.optim.Adam(list(lstm.parameters())+list(linr.parameters()),lr=0.1)\n",
    "        _water = torch.zeros(1,3).to(\"cuda:0\")\n",
    "        for epoc in range(3000):\n",
    "            ## 1\n",
    "            hidden, (hT,cT) = lstm(x,(_water,_water))\n",
    "            output = linr(hidden)\n",
    "            ## 2\n",
    "            loss = loss_fn(output,y)\n",
    "            ## 3\n",
    "            loss.backward()\n",
    "            ## 4 \n",
    "            optimizr.step()\n",
    "            optimizr.zero_grad()\n",
    "        yhat=soft(output)    \n",
    "        combind = torch.concat([hidden,yhat],axis=1)\n",
    "        ax[i][j].matshow(combind.to(\"cpu\").data[-6:],cmap='bwr',vmin=-1,vmax=1)\n",
    "fig.suptitle(r\"$LSTM$\",size=20)\n",
    "fig.tight_layout()"
   ]
  },
  {
   "cell_type": "markdown",
   "id": "d9ef0bdf-d990-4385-a8de-282e5a910bf8",
   "metadata": {},
   "source": [
    "딱봐도 해당 세팅에서 LSTM보다 RNN에서 잘 작동하는 것을 알 수 있다."
   ]
  },
  {
   "cell_type": "markdown",
   "id": "8c2d0855-a1db-44df-ac20-1991be219ec4",
   "metadata": {},
   "source": [
    "# Exam6: abcdabcD\n",
    "> 좀 더 복잡한 예제"
   ]
  },
  {
   "cell_type": "markdown",
   "id": "3c9b9cad-c725-4c66-ba83-e2084f28d2e9",
   "metadata": {},
   "source": [
    "## data"
   ]
  },
  {
   "cell_type": "code",
   "execution_count": 69,
   "id": "bde59704-3f5a-46c7-9d0e-88018167f80a",
   "metadata": {},
   "outputs": [
    {
     "data": {
      "text/plain": [
       "['a', 'b', 'c', 'd', 'a', 'b', 'c', 'D']"
      ]
     },
     "execution_count": 69,
     "metadata": {},
     "output_type": "execute_result"
    }
   ],
   "source": [
    "txt = list('abcdabcD')*100\n",
    "txt[:8]"
   ]
  },
  {
   "cell_type": "code",
   "execution_count": 70,
   "id": "84591b8f-f3e9-4e99-8d28-b0eba2014a49",
   "metadata": {},
   "outputs": [],
   "source": [
    "txt_x = txt[:-1]\n",
    "txt_y = txt[1:]"
   ]
  },
  {
   "cell_type": "code",
   "execution_count": 71,
   "id": "b3cf381c-4b8b-4cb8-a28b-1d36b795b84c",
   "metadata": {},
   "outputs": [],
   "source": [
    "mapping = {'a':0,'b':1,'c':2,'d':3,'D':4}\n",
    "x = torch.nn.functional.one_hot(torch.tensor(f(txt_x,mapping))).float()\n",
    "y = torch.nn.functional.one_hot(torch.tensor(f(txt_y,mapping))).float()"
   ]
  },
  {
   "cell_type": "code",
   "execution_count": 72,
   "id": "d2b5d6b6-1b6d-4c38-90ea-5df2189d0623",
   "metadata": {},
   "outputs": [],
   "source": [
    "x=x.to(\"cuda:0\")\n",
    "y=y.to(\"cuda:0\")"
   ]
  },
  {
   "cell_type": "markdown",
   "id": "20880ccb-ae03-41e8-855e-161cc02adef7",
   "metadata": {},
   "source": [
    "## RNN vs. LSTM 성능비교실헝"
   ]
  },
  {
   "cell_type": "markdown",
   "id": "4c63ce5b-8623-40aa-bd4f-806c41d748d5",
   "metadata": {},
   "source": [
    "`-` RNN"
   ]
  },
  {
   "cell_type": "code",
   "execution_count": 73,
   "id": "e48e6951-35f8-406b-892f-972460075da7",
   "metadata": {},
   "outputs": [
    {
     "data": {
      "image/png": "[encoded data removed]",
      "text/plain": [
       "<Figure size 720x720 with 25 Axes>"
      ]
     },
     "metadata": {
      "needs_background": "light"
     },
     "output_type": "display_data"
    }
   ],
   "source": [
    "fig, ax = plt.subplots(5,5,figsize=(10,10))\n",
    "for i in range(5):\n",
    "    for j in range(5):\n",
    "        rnn = torch.nn.RNN(5,4).to(\"cuda:0\")\n",
    "        linr = torch.nn.Linear(4,5).to(\"cuda:0\")\n",
    "        loss_fn = torch.nn.CrossEntropyLoss()\n",
    "        optimizr = torch.optim.Adam(list(rnn.parameters())+list(linr.parameters()),lr=0.1)\n",
    "        _water = torch.zeros(1,4).to(\"cuda:0\")\n",
    "        for epoc in range(3000):\n",
    "            ## 1\n",
    "            hidden, hT = rnn(x,_water)\n",
    "            output = linr(hidden)\n",
    "            ## 2\n",
    "            loss = loss_fn(output,y)\n",
    "            ## 3\n",
    "            loss.backward()\n",
    "            ## 4 \n",
    "            optimizr.step()\n",
    "            optimizr.zero_grad()\n",
    "        yhat=soft(output)    \n",
    "        combind = torch.concat([hidden,yhat],axis=1)\n",
    "        ax[i][j].matshow(combind.to(\"cpu\").data[-8:],cmap='bwr',vmin=-1,vmax=1)\n",
    "fig.suptitle(r\"$RNN$\",size=20)\n",
    "fig.tight_layout()"
   ]
  },
  {
   "cell_type": "markdown",
   "id": "f43e4a54-0cef-4075-b443-51911b637887",
   "metadata": {},
   "source": [
    "성공횟수가 이전 예제보다 확실히 적어졌다."
   ]
  },
  {
   "cell_type": "markdown",
   "id": "8699374a-7cad-4c04-8ace-cc69057c2307",
   "metadata": {},
   "source": [
    "`-` LSTM"
   ]
  },
  {
   "cell_type": "code",
   "execution_count": 74,
   "id": "8671eb84-7e54-4d01-9dbe-47f295640ece",
   "metadata": {},
   "outputs": [
    {
     "data": {
      "image/png": "[encoded data removed]",
      "text/plain": [
       "<Figure size 720x720 with 25 Axes>"
      ]
     },
     "metadata": {
      "needs_background": "light"
     },
     "output_type": "display_data"
    }
   ],
   "source": [
    "fig, ax = plt.subplots(5,5,figsize=(10,10))\n",
    "for i in range(5):\n",
    "    for j in range(5):\n",
    "        lstm = torch.nn.LSTM(5,4).to(\"cuda:0\")\n",
    "        linr = torch.nn.Linear(4,5).to(\"cuda:0\")\n",
    "        loss_fn = torch.nn.CrossEntropyLoss()\n",
    "        optimizr = torch.optim.Adam(list(lstm.parameters())+list(linr.parameters()),lr=0.1)\n",
    "        _water = torch.zeros(1,4).to(\"cuda:0\")\n",
    "        for epoc in range(3000):\n",
    "            ## 1\n",
    "            hidden, (hT,cT) = lstm(x,(_water,_water))\n",
    "            output = linr(hidden)\n",
    "            ## 2\n",
    "            loss = loss_fn(output,y)\n",
    "            ## 3\n",
    "            loss.backward()\n",
    "            ## 4 \n",
    "            optimizr.step()\n",
    "            optimizr.zero_grad()\n",
    "        yhat=soft(output)    \n",
    "        combind = torch.concat([hidden,yhat],axis=1)\n",
    "        ax[i][j].matshow(combind.to(\"cpu\").data[-8:],cmap='bwr',vmin=-1,vmax=1)\n",
    "fig.suptitle(r\"$LSTM$\",size=20)\n",
    "fig.tight_layout()"
   ]
  },
  {
   "cell_type": "markdown",
   "id": "a58561a8-afff-41f1-9b29-e520eba578e4",
   "metadata": {},
   "source": [
    "- 대부분 성공\n",
    "- LSTM이 해당 세팅에서도 학습이 더 잘된다는 것을 알 수 있었다."
   ]
  },
  {
   "cell_type": "markdown",
   "id": "3dbf149b-8cfd-458d-8178-b81502ff3832",
   "metadata": {},
   "source": [
    "`-` 관찰1: LSTM이 확실히 장기기억에 강하다."
   ]
  },
  {
   "cell_type": "markdown",
   "id": "6fc0a02e-723a-4c5d-8e4a-26860644fb76",
   "metadata": {},
   "source": [
    "`-` 관찰2: LSTM은 hidden에 0이 잘 나온다."
   ]
  },
  {
   "cell_type": "markdown",
   "id": "79f39dd1-8f77-4f78-b7c9-09079f33869b",
   "metadata": {},
   "source": [
    "- 사실 확실히 구분되는 특징을 판별할때는 -1,1로 히든레이어 값들이 설정되면 명확하다.\n",
    "- 히든레이어에 -1~1 사이의 값이 나온다면 애매한 판단이 내려지게 된다.\n",
    "- 그런데 이 애매한 판단이 어떻게 보면 문맥의 뉘앙스를 이해하는데 더 잘 맞다.\n",
    "- 그런데 RNN은 -1,1로 셋팅된 상황에서 -1~1로의 변화가 더디다는 것이 문제임."
   ]
  }
 ],
 "metadata": {
  "kernelspec": {
   "display_name": "Python 3",
   "language": "python",
   "name": "python3"
  },
  "language_info": {
   "codemirror_mode": {
    "name": "ipython",
    "version": 3
   },
   "file_extension": ".py",
   "mimetype": "text/x-python",
   "name": "python",
   "nbconvert_exporter": "python",
   "pygments_lexer": "ipython3",
   "version": "3.8.16"
  }
 },
 "nbformat": 4,
 "nbformat_minor": 5
}
