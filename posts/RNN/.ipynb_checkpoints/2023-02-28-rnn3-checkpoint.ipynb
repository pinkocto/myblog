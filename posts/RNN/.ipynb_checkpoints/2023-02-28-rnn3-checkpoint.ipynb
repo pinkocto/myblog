{
 "cells": [
  {
   "cell_type": "raw",
   "id": "a3b28826-2d13-48ff-aaa2-e4feb9411e22",
   "metadata": {},
   "source": [
    "---\n",
    "title: \" 순환신경망 (3)\"\n",
    "author: \"jiyun Lim\"\n",
    "date: \"02/28/2023\"\n",
    "categories:\n",
    "    - DL2022\n",
    "    - RNN\n",
    "---"
   ]
  },
  {
   "cell_type": "markdown",
   "id": "f22cfd18-a91b-4375-b71b-b94bdbc0590c",
   "metadata": {},
   "source": [
    "# 순환신경망 3"
   ]
  },
  {
   "cell_type": "markdown",
   "id": "2459218a-79ee-4622-abfd-75341b9d61c0",
   "metadata": {},
   "source": [
    "> RNN1 - AbAcAd예제(2)"
   ]
  },
  {
   "cell_type": "markdown",
   "id": "13a70371-4dcb-4eb8-af26-b4b33077ceda",
   "metadata": {},
   "source": [
    "# import"
   ]
  },
  {
   "cell_type": "code",
   "execution_count": 2,
   "id": "77085ec6-21a1-4541-a4a4-d29ece69a588",
   "metadata": {},
   "outputs": [],
   "source": [
    "import torch\n",
    "import numpy as np\n",
    "import pandas as pd\n",
    "import matplotlib.pyplot as plt\n",
    "import time"
   ]
  },
  {
   "cell_type": "markdown",
   "id": "0ac107e7-2c77-4e6b-9320-c7cde8910d3c",
   "metadata": {},
   "source": [
    "# Define some functions"
   ]
  },
  {
   "cell_type": "code",
   "execution_count": 41,
   "id": "41d38320-06c3-436d-9215-6c51dd5e7edd",
   "metadata": {},
   "outputs": [],
   "source": [
    "def f(txt,mapping):\n",
    "    return [mapping[key] for key in txt]\n",
    "soft = torch.nn.Softmax(dim=1)"
   ]
  },
  {
   "cell_type": "markdown",
   "id": "3c74e97e-8d8a-461a-bb9e-6799f23ff780",
   "metadata": {},
   "source": [
    "# 예비학습: `net.parameters()`의 의미"
   ]
  },
  {
   "cell_type": "code",
   "execution_count": 6,
   "id": "d0d78969-9284-49fe-a71e-e419a4a0aa10",
   "metadata": {},
   "outputs": [],
   "source": [
    "# torch.optim.SGD?"
   ]
  },
  {
   "cell_type": "markdown",
   "id": "cf805cc3-3ba7-40c1-9e82-43d9c04680ea",
   "metadata": {},
   "source": [
    "`-` iterator, generator의 개념필요\n",
    "> [파이썬 iterable object](https://pinkocto.github.io/Quarto-Blog/posts/Python/2023-02-23-class8.html)\n",
    "```\n",
    "파이썬의 모든 것은 오브젝트이다. \n",
    "함수도 오브젝트이고\n",
    "리스트도 오브젝트이다..\n",
    "```"
   ]
  },
  {
   "cell_type": "markdown",
   "id": "43d1314c-77c4-47c3-930d-fcfee327af70",
   "metadata": {},
   "source": [
    "`-` 탐구시작: 네트워크 생성"
   ]
  },
  {
   "cell_type": "code",
   "execution_count": 12,
   "id": "7179be9e-7e9f-4c54-91bd-d2bdc546f060",
   "metadata": {},
   "outputs": [
    {
     "data": {
      "text/plain": [
       "Parameter containing:\n",
       "tensor([[-0.7051]], requires_grad=True)"
      ]
     },
     "execution_count": 12,
     "metadata": {},
     "output_type": "execute_result"
    }
   ],
   "source": [
    "net = torch.nn.Linear(in_features = 1, out_features=1)\n",
    "net.weight"
   ]
  },
  {
   "cell_type": "code",
   "execution_count": 13,
   "id": "e2589333-155a-4abe-a519-8be400abe974",
   "metadata": {},
   "outputs": [
    {
     "data": {
      "text/plain": [
       "Parameter containing:\n",
       "tensor([-0.6763], requires_grad=True)"
      ]
     },
     "execution_count": 13,
     "metadata": {},
     "output_type": "execute_result"
    }
   ],
   "source": [
    "net.bias"
   ]
  },
  {
   "cell_type": "markdown",
   "id": "d1e8827f-c8b2-480c-a77e-de89dca42f55",
   "metadata": {},
   "source": [
    "`-` torch.optim.SGD? 를 확인하면 params에 대한 설명에 아래와 같이 되어있음."
   ]
  },
  {
   "cell_type": "markdown",
   "id": "d122b77c-2ea3-4796-90c3-3882ec41ace1",
   "metadata": {},
   "source": [
    "```\n",
    "params (iterable): iterable of parameters to optimize or dicts defining\n",
    "        parameter groups\n",
    "```"
   ]
  },
  {
   "cell_type": "markdown",
   "id": "42f01770-95c8-4544-b988-0e5b08713e82",
   "metadata": {},
   "source": [
    "`-` 설명을 읽어보면 params에 iterable object를 넣으라고 되어있음 (ieterable object는 숨겨진 명령어로 `__iter__`를 가지고 있는 오브젝트를 의미)"
   ]
  },
  {
   "cell_type": "code",
   "execution_count": 15,
   "id": "ade0870a-489e-4239-9d50-4ef37bf76a69",
   "metadata": {},
   "outputs": [
    {
     "data": {
      "text/plain": [
       "{'__iter__'}"
      ]
     },
     "execution_count": 15,
     "metadata": {},
     "output_type": "execute_result"
    }
   ],
   "source": [
    "set(dir(net.parameters())) & {'__iter__'}"
   ]
  },
  {
   "cell_type": "markdown",
   "id": "bc0bdf8a-5586-45e2-9f89-627372d113c7",
   "metadata": {},
   "source": [
    "`-` 무슨의미?"
   ]
  },
  {
   "cell_type": "code",
   "execution_count": 16,
   "id": "1ce1a871-5679-4842-aef5-cfe7ec020fa8",
   "metadata": {},
   "outputs": [
    {
     "name": "stdout",
     "output_type": "stream",
     "text": [
      "Parameter containing:\n",
      "tensor([[-0.7051]], requires_grad=True)\n",
      "Parameter containing:\n",
      "tensor([-0.6763], requires_grad=True)\n"
     ]
    }
   ],
   "source": [
    "for param in net.parameters():\n",
    "    print(param)"
   ]
  },
  {
   "cell_type": "markdown",
   "id": "9de07f62-1e2c-4b04-af9a-40230dafe518",
   "metadata": {},
   "source": [
    "`-` 그냥 이런느낌인데?"
   ]
  },
  {
   "cell_type": "code",
   "execution_count": 17,
   "id": "8c7c354a-7294-481d-9c33-ea78d2773ef1",
   "metadata": {},
   "outputs": [
    {
     "name": "stdout",
     "output_type": "stream",
     "text": [
      "Parameter containing:\n",
      "tensor([[-0.7051]], requires_grad=True)\n",
      "Parameter containing:\n",
      "tensor([-0.6763], requires_grad=True)\n"
     ]
    }
   ],
   "source": [
    "for param in [net.weight, net.bias]:\n",
    "    print(param)"
   ]
  },
  {
   "cell_type": "markdown",
   "id": "6f273b70-7bd4-465d-aaf6-09b58483523d",
   "metadata": {},
   "source": [
    "`-` 결론: `net.parameters()`는 net오브젝트에서 학습할 파라메터를 모두 모아 리스트 같은 iterable object로 만드는 함수라 이해할 수 있다."
   ]
  },
  {
   "cell_type": "markdown",
   "id": "2582d97e-056c-44bc-976f-7358f7e0b797",
   "metadata": {},
   "source": [
    "`-` 응용예제1"
   ]
  },
  {
   "cell_type": "code",
   "execution_count": 18,
   "id": "6daeab49-46c9-49cd-9e59-f9748625c9c3",
   "metadata": {},
   "outputs": [],
   "source": [
    "df = pd.read_csv(\"https://raw.githubusercontent.com/guebin/DL2022/master/posts/II.%20DNN/2022-09-22-regression.csv\") \n",
    "x=torch.tensor(df.x).float().reshape(100,1)\n",
    "y=torch.tensor(df.y).float().reshape(100,1)"
   ]
  },
  {
   "cell_type": "code",
   "execution_count": 22,
   "id": "58a3b527-2b51-4e05-8cd2-f788895dac78",
   "metadata": {},
   "outputs": [],
   "source": [
    "b = torch.tensor(-5.0, requires_grad=True)\n",
    "w = torch.tensor(10.0, requires_grad=True)\n",
    "optimizr = torch.optim.SGD([b,w],lr=1/10) "
   ]
  },
  {
   "cell_type": "code",
   "execution_count": 23,
   "id": "86c8f559-c1bf-4765-a1e9-1f9cccfffc29",
   "metadata": {},
   "outputs": [
    {
     "data": {
      "text/plain": [
       "[<matplotlib.lines.Line2D at 0x7f240d29eb20>]"
      ]
     },
     "execution_count": 23,
     "metadata": {},
     "output_type": "execute_result"
    },
    {
     "data": {
      "image/png": "[encoded data removed]",
      "text/plain": [
       "<Figure size 432x288 with 1 Axes>"
      ]
     },
     "metadata": {
      "needs_background": "light"
     },
     "output_type": "display_data"
    }
   ],
   "source": [
    "plt.plot(x,y,'o')\n",
    "plt.plot(x,(w*x+b).data,'--')"
   ]
  },
  {
   "cell_type": "code",
   "execution_count": 24,
   "id": "070498be-f917-4d86-8963-8fb5097aaa01",
   "metadata": {},
   "outputs": [],
   "source": [
    "for epoc in range(30):\n",
    "    ## step1\n",
    "    yhat = b + w*x\n",
    "    ## step2\n",
    "    loss = torch.mean((y-yhat)**2)\n",
    "    ## step3\n",
    "    loss.backward()\n",
    "    ## step4\n",
    "    optimizr.step()\n",
    "    optimizr.zero_grad()"
   ]
  },
  {
   "cell_type": "code",
   "execution_count": 25,
   "id": "5c2f8418-8c07-48c5-a84b-c7be2d5bc5a5",
   "metadata": {},
   "outputs": [
    {
     "data": {
      "text/plain": [
       "[<matplotlib.lines.Line2D at 0x7f2405dccb20>]"
      ]
     },
     "execution_count": 25,
     "metadata": {},
     "output_type": "execute_result"
    },
    {
     "data": {
      "image/png": "[encoded data removed]",
      "text/plain": [
       "<Figure size 432x288 with 1 Axes>"
      ]
     },
     "metadata": {
      "needs_background": "light"
     },
     "output_type": "display_data"
    }
   ],
   "source": [
    "plt.plot(x,y,'o')\n",
    "plt.plot(x,(w*x+b).data,'--')"
   ]
  },
  {
   "cell_type": "markdown",
   "id": "785420af-4661-44ab-b977-c7b89188f752",
   "metadata": {},
   "source": [
    "`-` 응용예제2"
   ]
  },
  {
   "cell_type": "code",
   "execution_count": 30,
   "id": "5e03947b-d4fb-461a-b54a-cb89802a0134",
   "metadata": {},
   "outputs": [],
   "source": [
    "df = pd.read_csv(\"https://raw.githubusercontent.com/guebin/DL2022/master/posts/II.%20DNN/2022-09-22-regression.csv\") \n",
    "x = torch.tensor(df.x).float().reshape(100,1)\n",
    "y = torch.tensor(df.y).float().reshape(100,1)\n",
    "X = torch.concat([torch.ones_like(x),x],axis=1)"
   ]
  },
  {
   "cell_type": "code",
   "execution_count": 31,
   "id": "5db1d802-38dc-40d5-b5ee-bca8a29fc66e",
   "metadata": {},
   "outputs": [],
   "source": [
    "What = torch.tensor([[-5.0],[10.0]],requires_grad=True)\n",
    "optimizr = torch.optim.SGD([What], lr=1/10) # What은 iterable 하지 않지만 [What]은 iterable 함"
   ]
  },
  {
   "cell_type": "code",
   "execution_count": 78,
   "id": "ea70c7a1-b0ef-4984-bcb4-53ee870f5e4e",
   "metadata": {},
   "outputs": [],
   "source": [
    "# optimizr = torch.optim.SGD(What, lr=1/10) # What은 iterable 하지 않음 --> 에러남!"
   ]
  },
  {
   "cell_type": "markdown",
   "id": "1e41cd1e-7186-4a7d-8395-86bc7562b5b6",
   "metadata": {},
   "source": [
    "- iterable을 만드는 가장 쉬운 방법은 리스트를 만드는것! (즉, **iterable object**로 만들자)\n",
    "- **What** $\\to$ **[What]**"
   ]
  },
  {
   "cell_type": "code",
   "execution_count": 32,
   "id": "af4b8a0e-1668-4384-8cc9-fb08860be434",
   "metadata": {},
   "outputs": [
    {
     "data": {
      "text/plain": [
       "tensor([[-5.],\n",
       "        [10.]], requires_grad=True)"
      ]
     },
     "execution_count": 32,
     "metadata": {},
     "output_type": "execute_result"
    }
   ],
   "source": [
    "What"
   ]
  },
  {
   "cell_type": "code",
   "execution_count": 33,
   "id": "2aa210c9-61c2-40be-ba44-f760f77d48ed",
   "metadata": {},
   "outputs": [
    {
     "data": {
      "text/plain": [
       "[<matplotlib.lines.Line2D at 0x7f2405d201f0>]"
      ]
     },
     "execution_count": 33,
     "metadata": {},
     "output_type": "execute_result"
    },
    {
     "data": {
      "image/png": "[encoded data removed]",
      "text/plain": [
       "<Figure size 432x288 with 1 Axes>"
      ]
     },
     "metadata": {
      "needs_background": "light"
     },
     "output_type": "display_data"
    }
   ],
   "source": [
    "plt.plot(x,y,'o')\n",
    "plt.plot(x,(X@What).data,'--')"
   ]
  },
  {
   "cell_type": "code",
   "execution_count": 35,
   "id": "b8a96da5-4750-4ded-a60a-5401dc471863",
   "metadata": {},
   "outputs": [],
   "source": [
    "for epoc in range(30):\n",
    "    ## step1\n",
    "    yhat = X@What\n",
    "    ## step2\n",
    "    loss = torch.mean((y-yhat)**2)\n",
    "    ## step3\n",
    "    loss.backward()\n",
    "    ## step4\n",
    "    optimizr.step()\n",
    "    optimizr.zero_grad()"
   ]
  },
  {
   "cell_type": "code",
   "execution_count": 36,
   "id": "17923748-1f38-4e74-bb28-5af04383cb93",
   "metadata": {},
   "outputs": [
    {
     "data": {
      "text/plain": [
       "[<matplotlib.lines.Line2D at 0x7f2405cf1340>]"
      ]
     },
     "execution_count": 36,
     "metadata": {},
     "output_type": "execute_result"
    },
    {
     "data": {
      "image/png": "[encoded data removed]",
      "text/plain": [
       "<Figure size 432x288 with 1 Axes>"
      ]
     },
     "metadata": {
      "needs_background": "light"
     },
     "output_type": "display_data"
    }
   ],
   "source": [
    "plt.plot(x,y,'o')\n",
    "plt.plot(x,(X@What).data,'--')"
   ]
  },
  {
   "cell_type": "markdown",
   "id": "eb4b1914-e46d-4803-8d8d-a6cbf347b706",
   "metadata": {},
   "source": [
    "# Exam4: AbAcAd(2)"
   ]
  },
  {
   "cell_type": "code",
   "execution_count": 42,
   "id": "e213d91d-914f-40af-b2bc-b0665024aa26",
   "metadata": {},
   "outputs": [],
   "source": [
    "def f(txt,mapping):\n",
    "    return [mapping[key] for key in txt]\n",
    "soft = torch.nn.Softmax(dim=1)"
   ]
  },
  {
   "cell_type": "markdown",
   "id": "af2974c9-77a3-40a7-befa-41b73f30b506",
   "metadata": {},
   "source": [
    "## data"
   ]
  },
  {
   "cell_type": "markdown",
   "id": "a3649a7f-23bb-4b32-af17-8dcf57818e43",
   "metadata": {},
   "source": [
    "`-` 기존의 정리방식"
   ]
  },
  {
   "cell_type": "code",
   "execution_count": 55,
   "id": "cecd3723-df55-4aca-a3a0-f35b96623242",
   "metadata": {},
   "outputs": [
    {
     "data": {
      "text/plain": [
       "['A', 'b', 'A', 'c', 'A', 'd', 'A', 'b', 'A', 'c']"
      ]
     },
     "execution_count": 55,
     "metadata": {},
     "output_type": "execute_result"
    }
   ],
   "source": [
    "txt = list('AbAcAd')*100\n",
    "txt[:10]"
   ]
  },
  {
   "cell_type": "code",
   "execution_count": 56,
   "id": "23e6670c-7364-48c6-97d0-35bfcd45fbd2",
   "metadata": {},
   "outputs": [],
   "source": [
    "txt_x = txt[:-1]\n",
    "txt_y = txt[1:]"
   ]
  },
  {
   "cell_type": "code",
   "execution_count": 57,
   "id": "1b5ba0f5-c396-4620-9829-3c91c946baec",
   "metadata": {},
   "outputs": [
    {
     "data": {
      "text/plain": [
       "(['A', 'b', 'A', 'c', 'A'], ['b', 'A', 'c', 'A', 'd'])"
      ]
     },
     "execution_count": 57,
     "metadata": {},
     "output_type": "execute_result"
    }
   ],
   "source": [
    "txt_x[:5], txt_y[:5]"
   ]
  },
  {
   "cell_type": "code",
   "execution_count": 58,
   "id": "b4c53977-1297-4a43-bc47-a124b3c430ed",
   "metadata": {},
   "outputs": [],
   "source": [
    "x = torch.tensor(f(txt_x,{'A':0,'b':1,'c':2,'d':3}))\n",
    "y = torch.tensor(f(txt_y,{'A':0,'b':1,'c':2,'d':3}))"
   ]
  },
  {
   "cell_type": "code",
   "execution_count": 59,
   "id": "c56a6061-c4b2-4ad3-a517-939f085974eb",
   "metadata": {},
   "outputs": [
    {
     "data": {
      "text/plain": [
       "(tensor([0, 1, 0, 2, 0, 3, 0, 1]), tensor([1, 0, 2, 0, 3, 0, 1, 0]))"
      ]
     },
     "execution_count": 59,
     "metadata": {},
     "output_type": "execute_result"
    }
   ],
   "source": [
    "x[:8], y[:8]"
   ]
  },
  {
   "cell_type": "markdown",
   "id": "c93a19d8-e832-442b-a69e-d923bcea795b",
   "metadata": {},
   "source": [
    "`-` 이번에는 원핫인코딩 형태까지 미리 정의하자. (임베딩 레이어 안쓸예정)"
   ]
  },
  {
   "cell_type": "code",
   "execution_count": 60,
   "id": "627762ca-f948-4256-82db-e786b8ed3f43",
   "metadata": {},
   "outputs": [],
   "source": [
    "x= torch.nn.functional.one_hot(x).float()\n",
    "y= torch.nn.functional.one_hot(y).float()"
   ]
  },
  {
   "cell_type": "code",
   "execution_count": 61,
   "id": "68a3cb35-e115-457c-acd1-86cc41165ccb",
   "metadata": {},
   "outputs": [
    {
     "data": {
      "text/plain": [
       "(tensor([[1., 0., 0., 0.],\n",
       "         [0., 1., 0., 0.],\n",
       "         [1., 0., 0., 0.],\n",
       "         ...,\n",
       "         [1., 0., 0., 0.],\n",
       "         [0., 0., 1., 0.],\n",
       "         [1., 0., 0., 0.]]),\n",
       " tensor([[0., 1., 0., 0.],\n",
       "         [1., 0., 0., 0.],\n",
       "         [0., 0., 1., 0.],\n",
       "         ...,\n",
       "         [0., 0., 1., 0.],\n",
       "         [1., 0., 0., 0.],\n",
       "         [0., 0., 0., 1.]]))"
      ]
     },
     "execution_count": 61,
     "metadata": {},
     "output_type": "execute_result"
    }
   ],
   "source": [
    "x, y"
   ]
  },
  {
   "cell_type": "markdown",
   "id": "926a562b-185f-4d67-b704-800a465bdce6",
   "metadata": {},
   "source": [
    "## 실패했던 풀이: 구현1"
   ]
  },
  {
   "cell_type": "markdown",
   "id": "2457a1f9-0854-453c-8c1d-b364a8ef80a8",
   "metadata": {},
   "source": [
    "`-` 저번시간의 실패한 풀이"
   ]
  },
  {
   "cell_type": "code",
   "execution_count": 63,
   "id": "2237a3fd-9ad4-4f61-859e-f6f8b197997d",
   "metadata": {},
   "outputs": [],
   "source": [
    "torch.manual_seed(43052)\n",
    "net = torch.nn.Sequential(\n",
    "    torch.nn.Embedding(num_embeddings=4, embedding_dim=2), ##\n",
    "    torch.nn.Tanh(), ##\n",
    "    torch.nn.Linear(in_featusre=2, out_features=4)\n",
    ")\n",
    "loss_fn = torch.nn.CrossEntropyLoss()\n",
    "optimizr = torch.optim.Adam(net.parameters())"
   ]
  },
  {
   "cell_type": "markdown",
   "id": "ef953bd2-8f89-42d5-8d51-d03c17a4bc83",
   "metadata": {},
   "source": [
    "### 네트워크 쪼개기"
   ]
  },
  {
   "cell_type": "markdown",
   "id": "19aa8a2f-f2f2-446b-a721-ffb04a0aecc5",
   "metadata": {},
   "source": [
    "`-` Tanh까지만 클래스로 바꾸어서 구현\n",
    "\n",
    "```python\n",
    "## step1. 요 두줄 따로 떼네서 요부분만 수행하는 네트워크를 따로만들고 (Hnet)\n",
    "torch.nn.Embedding(num_embeddings=4, embedding_dim=2),\n",
    "torch.nn.Tanh(),\n",
    "```\n",
    "\n",
    "```python\n",
    "## step2. 밑에있는 linear를 수행하는 네트워크를 따로 만들 것이다.\n",
    "torch.nn.Linear(in_featusre=2, out_features=4)\n",
    "```\n",
    "\n",
    "```python\n",
    "## step3. 이렇게 2개의 네트워크를 만들고, 2개의 네트워크에 해당되는 파라미터들을 전달해서 학습을 시킬 것\n",
    "\n",
    "## + 2개의 네트워크로 쪼개서 파라미터를 각각 리스트 형태로 전달할 것이기 때문에 위에서 한 예비학습이 필요했다.\n",
    "```"
   ]
  },
  {
   "cell_type": "code",
   "execution_count": 86,
   "id": "b75e93e9-03fe-4cee-a8d6-7d4eed723423",
   "metadata": {},
   "outputs": [],
   "source": [
    "class Hnet(torch.nn.Module):\n",
    "    def __init__(self):\n",
    "        super().__init__()\n",
    "        ## 우리가 사용할 레이어를 정의\n",
    "        self.i2h = torch.nn.Linear(in_features=4, out_features=2) # input(x) -> h\n",
    "        self.tanh = torch.nn.Tanh()\n",
    "        ## 레이어 정의 끝\n",
    "    def forward(self,x):\n",
    "        ## yhat을 어떻게 구현할것인지 정의\n",
    "        hidden = self.tanh(self.i2h(x))\n",
    "        ## 정의 끝\n",
    "        return hidden"
   ]
  },
  {
   "cell_type": "code",
   "execution_count": 87,
   "id": "1af1ae77-c15d-43df-9aa5-cf72b9583a63",
   "metadata": {},
   "outputs": [],
   "source": [
    "hnet = Hnet()"
   ]
  },
  {
   "cell_type": "code",
   "execution_count": 88,
   "id": "53571cdd-92ee-4dec-9a46-bf6e5d388473",
   "metadata": {},
   "outputs": [
    {
     "data": {
      "text/plain": [
       "Hnet(\n",
       "  (i2h): Linear(in_features=4, out_features=2, bias=True)\n",
       "  (tanh): Tanh()\n",
       ")"
      ]
     },
     "execution_count": 88,
     "metadata": {},
     "output_type": "execute_result"
    }
   ],
   "source": [
    "hnet"
   ]
  },
  {
   "cell_type": "markdown",
   "id": "698f746f-565c-4b32-8b57-8786d8d3aa03",
   "metadata": {},
   "source": [
    "`-` for문 돌릴준비"
   ]
  },
  {
   "cell_type": "code",
   "execution_count": 89,
   "id": "741c74e8-6e80-40d4-aa6e-12a1dde36b3e",
   "metadata": {},
   "outputs": [],
   "source": [
    "# 옵티마이저에 자칭 신기술 적용!!!"
   ]
  },
  {
   "cell_type": "code",
   "execution_count": 68,
   "id": "9d61f74e-bff9-4446-ac49-87bf1c7c4d1c",
   "metadata": {},
   "outputs": [],
   "source": [
    "torch.manual_seed(43052) \n",
    "hnet = Hnet()\n",
    "linr = torch.nn.Linear(in_features=2,out_features=4)\n",
    "loss_fn = torch.nn.CrossEntropyLoss() \n",
    "optimizr = torch.optim.Adam(list(hnet.parameters())+list(linr.parameters())) ## 학습하고 싶은 파라미터 모으기"
   ]
  },
  {
   "cell_type": "markdown",
   "id": "9090f1e6-b8c4-40a4-b9d5-c36b8a4183c3",
   "metadata": {},
   "source": [
    "`-` for문 20회반복"
   ]
  },
  {
   "cell_type": "code",
   "execution_count": 69,
   "id": "91e72336-d7a5-416b-81e3-ceeb63febecf",
   "metadata": {},
   "outputs": [],
   "source": [
    "for epoc in range(20): \n",
    "    ## 1 \n",
    "    ## 2 \n",
    "    hidden = hnet(x) \n",
    "    output = linr(hidden)\n",
    "    loss = loss_fn(output,y)\n",
    "    ## 3 \n",
    "    loss.backward()\n",
    "    ## 4 \n",
    "    optimizr.step()\n",
    "    optimizr.zero_grad()"
   ]
  },
  {
   "cell_type": "markdown",
   "id": "f688fda8-75d1-42ad-ade9-4613f53c0e30",
   "metadata": {},
   "source": [
    "`-` linr(hnet(x)) 적합결과 <- 숫자체크"
   ]
  },
  {
   "cell_type": "code",
   "execution_count": 70,
   "id": "dc54a2cf-8c94-40bc-b7f8-c32de7c889df",
   "metadata": {},
   "outputs": [
    {
     "data": {
      "text/plain": [
       "tensor([[-0.3589,  0.7921, -0.1970, -0.0302],\n",
       "        [-0.2912,  0.8140, -0.2032,  0.0178],\n",
       "        [-0.3589,  0.7921, -0.1970, -0.0302],\n",
       "        ...,\n",
       "        [-0.3589,  0.7921, -0.1970, -0.0302],\n",
       "        [-0.1065,  0.6307, -0.0874,  0.1821],\n",
       "        [-0.3589,  0.7921, -0.1970, -0.0302]], grad_fn=<AddmmBackward0>)"
      ]
     },
     "execution_count": 70,
     "metadata": {},
     "output_type": "execute_result"
    }
   ],
   "source": [
    "linr(hnet(x)) "
   ]
  },
  {
   "cell_type": "markdown",
   "id": "42c83956-6cfa-43a6-b560-180228461760",
   "metadata": {},
   "source": [
    "## 실패했던 풀이: 구현2"
   ]
  },
  {
   "cell_type": "markdown",
   "id": "1982fe35-78d1-4a75-a6c8-af8d46350131",
   "metadata": {},
   "source": [
    "`-` Tanh까지 구현한 클래스"
   ]
  },
  {
   "cell_type": "code",
   "execution_count": 71,
   "id": "3f0e40d1-e4c7-438d-a4e5-e1e0518f0ae3",
   "metadata": {},
   "outputs": [],
   "source": [
    "# class Hnet(torch.nn.Module):\n",
    "#     def __init__(self):\n",
    "#         super().__init__()\n",
    "#         self.i2h = torch.nn.Linear(in_features=4,out_features=2)\n",
    "#         self.tanh = torch.nn.Tanh()\n",
    "#     def forward(self,x):\n",
    "#         hidden = self.tanh(self.i2h(x))\n",
    "#         return hidden"
   ]
  },
  {
   "cell_type": "markdown",
   "id": "986b706d-f0f6-45b4-a52c-c941cad2e36b",
   "metadata": {},
   "source": [
    "`-` for문돌릴준비"
   ]
  },
  {
   "cell_type": "code",
   "execution_count": 73,
   "id": "4cee927a-304b-4b2c-be36-d1d38c433d3b",
   "metadata": {},
   "outputs": [],
   "source": [
    "torch.manual_seed(43052)\n",
    "hnet = Hnet()\n",
    "linr = torch.nn.Linear(in_features=2, out_features=4)\n",
    "loss_fn = torch.nn.CrossEntropyLoss()\n",
    "optimizr = torch.optim.Adam(list(hnet.parameters()) + list(linr.parameters()))"
   ]
  },
  {
   "cell_type": "markdown",
   "id": "37d40dac-59c3-4aff-87a5-4f955c12aa08",
   "metadata": {},
   "source": [
    "`-` for문: 20회반복"
   ]
  },
  {
   "cell_type": "code",
   "execution_count": 90,
   "id": "60549e8a-fdd5-4af6-8d0c-d3458ef6d014",
   "metadata": {},
   "outputs": [
    {
     "data": {
      "text/plain": [
       "599"
      ]
     },
     "execution_count": 90,
     "metadata": {},
     "output_type": "execute_result"
    }
   ],
   "source": [
    "len(x)"
   ]
  },
  {
   "cell_type": "code",
   "execution_count": 93,
   "id": "02dac89a-2813-4650-be04-00bd97f76838",
   "metadata": {},
   "outputs": [
    {
     "data": {
      "text/plain": [
       "(tensor([-0.4504,  0.6483], grad_fn=<TanhBackward0>),\n",
       " tensor([[-0.4504,  0.6483]], grad_fn=<TanhBackward0>))"
      ]
     },
     "execution_count": 93,
     "metadata": {},
     "output_type": "execute_result"
    }
   ],
   "source": [
    "hnet(x[0]), hnet(x[[0]])"
   ]
  },
  {
   "cell_type": "code",
   "execution_count": 74,
   "id": "a138bf3c-edd9-441f-983f-9c7de120f55d",
   "metadata": {},
   "outputs": [],
   "source": [
    "T = len(x) \n",
    "for epoc in range(20): \n",
    "    ## 1~2\n",
    "    loss = 0 \n",
    "    for t in range(T):\n",
    "        xt,yt = x[[t]], y[[t]]\n",
    "        ht = hnet(xt)   # hidden \n",
    "        ot = linr(ht)  # 하나의 observation에 대한 output\n",
    "        loss = loss + loss_fn(ot,yt)  # loss를 누적.\n",
    "    ## 3 \n",
    "    loss.backward()\n",
    "    ## 4 \n",
    "    optimizr.step()\n",
    "    optimizr.zero_grad()"
   ]
  },
  {
   "cell_type": "markdown",
   "id": "fdad56a8-7eb6-42f2-b8fc-fe9ee32686d0",
   "metadata": {},
   "source": [
    "`-` linr(hnet(x)) 적합결과 <- 숫자체크"
   ]
  },
  {
   "cell_type": "code",
   "execution_count": 75,
   "id": "a7f1f35a-cc6a-467a-aa3a-fbe5a62d2a09",
   "metadata": {},
   "outputs": [
    {
     "data": {
      "text/plain": [
       "tensor([[-0.3589,  0.7921, -0.1970, -0.0302],\n",
       "        [-0.2912,  0.8140, -0.2032,  0.0178],\n",
       "        [-0.3589,  0.7921, -0.1970, -0.0302],\n",
       "        ...,\n",
       "        [-0.3589,  0.7921, -0.1970, -0.0302],\n",
       "        [-0.1065,  0.6307, -0.0874,  0.1821],\n",
       "        [-0.3589,  0.7921, -0.1970, -0.0302]], grad_fn=<AddmmBackward0>)"
      ]
     },
     "execution_count": 75,
     "metadata": {},
     "output_type": "execute_result"
    }
   ],
   "source": [
    "linr(hnet(x))"
   ]
  },
  {
   "cell_type": "code",
   "execution_count": 95,
   "id": "fd6e182c-61dc-4655-80c9-87c1d674e347",
   "metadata": {},
   "outputs": [
    {
     "data": {
      "text/plain": [
       "tensor([[1., 0., 0., 0.],\n",
       "        [0., 1., 0., 0.],\n",
       "        [1., 0., 0., 0.],\n",
       "        ...,\n",
       "        [1., 0., 0., 0.],\n",
       "        [0., 0., 1., 0.],\n",
       "        [1., 0., 0., 0.]])"
      ]
     },
     "execution_count": 95,
     "metadata": {},
     "output_type": "execute_result"
    }
   ],
   "source": [
    "x # n x 4"
   ]
  },
  {
   "cell_type": "markdown",
   "id": "64241659-1b0e-4b2e-a1d3-c027d8dbe74d",
   "metadata": {},
   "source": [
    "## 순환신경망의 아이디어"
   ]
  },
  {
   "cell_type": "markdown",
   "id": "39f967ff-98e7-4358-968b-f30b0fd00df3",
   "metadata": {},
   "source": [
    "### 모티브"
   ]
  },
  {
   "cell_type": "markdown",
   "id": "5832f1e9-0810-4308-a1d6-1861b1bf7337",
   "metadata": {},
   "source": [
    "***(예비생각1) h에 대한 이해***"
   ]
  },
  {
   "cell_type": "markdown",
   "id": "5dcf3fda-34c8-4735-ba3a-f39dc7d8c455",
   "metadata": {},
   "source": [
    "는 사실 문자열 ’abcd’들을 숫자로 바꾼 또 다른 형식의 숫자표현이라 해석할 수 있음. 즉 원핫인코딩과 다른 또 다른 형태의 숫자표현이라 해석할 수 있다. (사실 원핫인코딩보다 약간 더 (1) 액기스만 남은 느낌 + (2) 숙성된 느낌을 준다)"
   ]
  },
  {
   "cell_type": "markdown",
   "id": "d3630e76-912d-44df-9b94-dbf610da9714",
   "metadata": {},
   "source": [
    "- (why1) h는 “학습을 용이하게 하기 위해서 x를 적당히 선형적으로 전처리한 상태”라고 이해가능 \n",
    "\n",
    "- (why2) 실제로 예시를 살펴보면 그러했다"
   ]
  },
  {
   "cell_type": "markdown",
   "id": "e9533441-aa18-40e4-a15f-023724bfddaf",
   "metadata": {},
   "source": [
    "***(예비생각2) 수백년전통을 이어가는 방법***"
   ]
  },
  {
   "cell_type": "markdown",
   "id": "29c2aa75-ee0c-4520-8e79-f002e7e92ef2",
   "metadata": {},
   "source": [
    "```\n",
    "“1리터에 500만원에 낙찰된 적 있습니다.”\n",
    "“2kg에 1억원 정도 추산됩니다.”\n",
    "“20여 종 종자장을 블렌딩해 100ml에 5000만원씩 분양 예정입니다.”\n",
    "\n",
    "모두 씨간장(종자장) 가격에 관한 실제 일화다.\n",
    "\n",
    "(중략...)\n",
    "\n",
    "위스키나 와인처럼 블렌딩을 하기도 한다. \n",
    "새로 담근 간장에 씨간장을 넣거나, 씨간장독에 햇간장을 넣어 맛을 유지하기도 한다. \n",
    "이를 겹장(또는 덧장)이라 한다. \n",
    "몇몇 종갓집에선 씨간장 잇기를 몇백 년째 해오고 있다. \n",
    "매년 새로 간장을 담가야 이어갈 수 있으니 불씨 꺼트리지 않는 것처럼 굉장히 어려운 일이다.\n",
    "이렇게 하는 이유는 집집마다 내려오는 고유 장맛을 잃지 않기 위함이다. \n",
    "씨간장이란 그만큼 소중한 주방의 자산이며 정체성이다.\n",
    "```"
   ]
  },
  {
   "cell_type": "markdown",
   "id": "a564afd4-8ca3-4d38-a750-766d2a6eba29",
   "metadata": {},
   "source": [
    "덧장: 새로운 간장을 만들 때, 옛날간장을 섞어서 만듦."
   ]
  },
  {
   "cell_type": "markdown",
   "id": "82d5766f-3468-42ff-abb7-45ef2602a916",
   "metadata": {},
   "source": [
    "`*` 기존방식: $\\text{콩물} \\overset{\\text{숙성}}{\\longrightarrow} \\text{간장}$"
   ]
  },
  {
   "cell_type": "markdown",
   "id": "e5523154-bc46-4528-8436-50b43f16e076",
   "metadata": {},
   "source": [
    "`*` 수백년 전통의 간장맛을 유지하는 방식"
   ]
  },
  {
   "cell_type": "markdown",
   "id": "c0bdbacd-de95-494c-b6e8-811345c76d4f",
   "metadata": {},
   "source": [
    "- $\\text{콩물}_1 \\overset{\\text{숙성}}{\\longrightarrow} \\text{간장}_1$\n",
    "- $\\text{콩물}_2, \\text{간장}_1 \\overset{\\text{숙성}}{\\longrightarrow} \\text{간장}_2$\n",
    "- $\\text{콩물}_3, \\text{간장}_2 \\overset{\\text{숙성}}{\\longrightarrow} \\text{간장}_3$"
   ]
  },
  {
   "cell_type": "markdown",
   "id": "66cad078-16ac-4bef-9574-4c71edf81794",
   "metadata": {},
   "source": [
    "`*` 수백년 전통의 간장맛을 유지하면서 조리를 한다면?"
   ]
  },
  {
   "cell_type": "markdown",
   "id": "34087aed-4fd4-4e32-b9ec-982a7b477932",
   "metadata": {},
   "source": [
    "- $\\text{콩물}_1 \\overset{\\text{숙성}}{\\longrightarrow} \\text{간장}_1 \\overset{\\text{조리}}{\\longrightarrow} \\text{간장계란밥}_1$\n",
    "\n",
    "- $\\text{콩물}_2, \\text{간장}_1 \\overset{\\text{숙성}}{\\longrightarrow} \\text{간장}_2 \\overset{\\text{조리}}{\\longrightarrow} \\text{간장계란밥}_2$\n",
    "\n",
    "- $\\text{콩물}_3, \\text{간장}_2 \\overset{\\text{숙성}}{\\longrightarrow} \\text{간장}_3 \\overset{\\text{조리}}{\\longrightarrow} \\text{간장계란밥}_3$"
   ]
  },
  {
   "cell_type": "markdown",
   "id": "a030966d-fc3a-461c-b95e-aab1421a37cd",
   "metadata": {},
   "source": [
    "점점 맛있는 간장계란밥이 탄생함."
   ]
  },
  {
   "cell_type": "markdown",
   "id": "b27ea755-3c08-4e84-9d34-a2366918b10c",
   "metadata": {},
   "source": [
    "`*` 알고리즘 편의상 아래와 같이 생각해도 무방."
   ]
  },
  {
   "cell_type": "markdown",
   "id": "2f3b0658-76f6-4fa7-bf79-986786482544",
   "metadata": {},
   "source": [
    "- $\\text{콩물}_1, \\text{간장}_0 \\overset{\\text{숙성}}{\\longrightarrow} \\text{간장}_1 \\overset{\\text{조리}}{\\longrightarrow} \\text{간장계란밥}_1 ,\\quad \\text{간장}_0=\\text{맹물}$\n",
    "\n",
    "- $\\text{콩물}_2, \\text{간장}_1 \\overset{\\text{숙성}}{\\longrightarrow} \\text{간장}_2 \\overset{\\text{조리}}{\\longrightarrow} \\text{간장계란밥}_2$\n",
    "\n",
    "\n",
    "- $\\text{콩물}_3, \\text{간장}_2 \\overset{\\text{숙성}}{\\longrightarrow} \\text{간장}_3 \\overset{\\text{조리}}{\\longrightarrow} \\text{간장계란밥}_3$"
   ]
  },
  {
   "cell_type": "markdown",
   "id": "bef37eab-0202-40f2-a6c2-0370a0f73f9e",
   "metadata": {},
   "source": [
    "***아이디어***"
   ]
  },
  {
   "cell_type": "markdown",
   "id": "3f2eceab-c75c-4852-8b42-ed9c07029bbf",
   "metadata": {},
   "source": [
    "`*` 수백년 전통의 간장맛을 유지하면서 조리하는 과정을 수식으로?"
   ]
  },
  {
   "cell_type": "markdown",
   "id": "76e3efbb-6423-42f5-bdef-ed32735cdae4",
   "metadata": {},
   "source": [
    "- $\\boldsymbol{x}_1, \\boldsymbol{h}_0 \\overset{\\text{숙성}}{\\longrightarrow} \\boldsymbol{h}_1 \\overset{\\text{조리}}{\\longrightarrow} \\hat{\\boldsymbol y}_1$\n",
    "\n",
    "- $\\boldsymbol{x}_2, \\boldsymbol{h}_1 \\overset{\\text{숙성}}{\\longrightarrow} \\boldsymbol{h}_2 \\overset{\\text{조리}}{\\longrightarrow} \\hat{\\boldsymbol y}_2$\n",
    "\n",
    "- $\\boldsymbol{x}_3, \\boldsymbol{h}_2 \\overset{\\text{숙성}}{\\longrightarrow} \\boldsymbol{h}_3 \\overset{\\text{조리}}{\\longrightarrow} \\hat{\\boldsymbol y}_3$"
   ]
  },
  {
   "cell_type": "markdown",
   "id": "71fca3e4-fddc-48d5-962f-aa4a5e975509",
   "metadata": {},
   "source": [
    "이제 우리가 배울것은 (1)\"$\\text{콩물}_{t}$\"와 \"$\\text{간장}_{t-1}$\"로 \"$\\text{간장}_{t}$\"를 `숙성`하는 방법 (2) \"$\\text{간장}_{t}$\"으로 \"$\\text{간장계란밥}_{t}$\"을 `조리`하는 방법이다.\n",
    "\n",
    "\n",
    "즉 `숙성`담당 네트워크와 `조리`담당 네트워크를 각각 만들어 학습하면 된다."
   ]
  },
  {
   "cell_type": "markdown",
   "id": "f233f1be-95fa-4132-8dc6-ada0941be845",
   "metadata": {},
   "source": [
    "### 알고리즘"
   ]
  },
  {
   "cell_type": "markdown",
   "id": "50df2b3e-5921-4763-be16-e6f3f59bfbda",
   "metadata": {},
   "source": [
    "***세부적인 알고리즘($t=0,1,2,\\dots$에 대하여 한줄 한줄 쓴 알고리즘)***"
   ]
  },
  {
   "cell_type": "markdown",
   "id": "58eddb65-352d-4cd6-abaa-d0ebbba64749",
   "metadata": {},
   "source": [
    "`(1)` $t=0$\n",
    "\n",
    "${\\boldsymbol h}_0=[[0,0]] \\leftarrow \\text{간장}_0$은 맹물로 초기화"
   ]
  },
  {
   "cell_type": "markdown",
   "id": "d7a681aa-0b4d-4903-b022-de5730238594",
   "metadata": {},
   "source": [
    "`(2)` $t=1$"
   ]
  },
  {
   "cell_type": "markdown",
   "id": "5dc7b2e4-2ab9-4d01-b515-1000e1d44030",
   "metadata": {},
   "source": [
    "${\\boldsymbol h}_1= \\tanh({\\boldsymbol x}_1{\\bf W}_{ih}+{\\boldsymbol h}_0{\\bf W}_{hh}+{\\boldsymbol b}_{ih}+{\\boldsymbol b}_{hh})$"
   ]
  },
  {
   "cell_type": "markdown",
   "id": "f89d4c46-034e-4195-8d90-8479b9f32308",
   "metadata": {},
   "source": [
    "- ${\\boldsymbol x}_1: (1,4)$\n",
    "\n",
    "- ${\\bf W}_{ih}: (4,2)$\n",
    "\n",
    "- ${\\boldsymbol h}_0: (1,2)$\n",
    "\n",
    "- ${\\bf W}_hh: (2,2)$\n",
    "\n",
    "- ${\\boldsymbol b}_{ih}: (1,2)$\n",
    "\n",
    "- ${\\boldsymbol b}_{hh}: (1,2)$"
   ]
  },
  {
   "cell_type": "markdown",
   "id": "027c61ed-e79e-45a5-9e2e-9cc6bae024fd",
   "metadata": {},
   "source": [
    "${\\boldsymbol o}_1= {\\bf W}_{ho}{\\boldsymbol h}_1+{\\boldsymbol b}_{ho}$\n",
    "\n",
    "$\\hat{\\boldsymbol y}_1 = \\text{soft}({\\boldsymbol o}_1)$"
   ]
  },
  {
   "cell_type": "markdown",
   "id": "cde38198-3bc0-4a0a-9483-66904e7b489e",
   "metadata": {},
   "source": [
    "---"
   ]
  },
  {
   "cell_type": "markdown",
   "id": "ab47509f-2b50-4ae1-8f06-3e92359d866a",
   "metadata": {},
   "source": [
    "**좀 더 일반화된 알고리즘**"
   ]
  },
  {
   "cell_type": "markdown",
   "id": "6d29d478-b763-43ff-bbcc-b47537fb2295",
   "metadata": {},
   "source": [
    "***(ver1)***"
   ]
  },
  {
   "cell_type": "markdown",
   "id": "3de5226e-6ced-4a44-ae2d-6867b930745f",
   "metadata": {},
   "source": [
    "init $\\boldsymbol{h}_0$"
   ]
  },
  {
   "cell_type": "markdown",
   "id": "928693c6-b598-425a-a319-fb54c7e02c00",
   "metadata": {},
   "source": [
    "for $t$ in $1$:$T$"
   ]
  },
  {
   "cell_type": "markdown",
   "id": "d376269d-6d2e-4f7d-bdd6-67d037428a00",
   "metadata": {},
   "source": [
    "- ${\\boldsymbol h}_t= \\tanh({\\boldsymbol x}_t{\\bf W}_{ih}+{\\boldsymbol h}_{t-1}{\\bf W}_{hh}+{\\boldsymbol b}_{ih}+{\\boldsymbol b}_{hh})$ \n",
    "\n",
    "\n",
    "- ${\\boldsymbol o}_t= {\\bf W}_{ho}{\\boldsymbol h}_1+{\\boldsymbol b}_{ho}$\n",
    "\n",
    "- $\\hat{\\boldsymbol y}_t = \\text{soft}({\\boldsymbol o}_t)$"
   ]
  },
  {
   "cell_type": "markdown",
   "id": "c06906b4-8edb-4853-b946-41aaaaad3741",
   "metadata": {},
   "source": [
    "***(ver2)***"
   ]
  },
  {
   "cell_type": "markdown",
   "id": "d6898fd9-9e8c-446e-abcd-2432c57aaf11",
   "metadata": {},
   "source": [
    "```python\n",
    "init hidden\n",
    "\n",
    "for t in 1:T \n",
    "    hidden = tanh(linr(x)+linr(hidden))\n",
    "    output = linr(hidden)\n",
    "    yt_hat = soft(output)\n",
    "```"
   ]
  },
  {
   "cell_type": "markdown",
   "id": "8594ea08-9fe5-40a8-84d1-71df95f62a61",
   "metadata": {},
   "source": [
    "- 코드상으로는 $h_t$와 $h_{t-1}$의 구분이 교묘하게 사라진다. (그래서 오히려 좋아.)"
   ]
  },
  {
   "cell_type": "markdown",
   "id": "4c81f92a-d7a7-4b9a-9f3d-39091f7cb254",
   "metadata": {},
   "source": [
    "---"
   ]
  },
  {
   "cell_type": "markdown",
   "id": "ddcccda0-767e-4e63-8491-340e395f5f86",
   "metadata": {},
   "source": [
    "***전체 알고리즘은 대충 아래와 같은 형식으로 구현될 수 있음.***"
   ]
  },
  {
   "cell_type": "markdown",
   "id": "2a468432-cb00-4bca-a8a5-7e68021b3377",
   "metadata": {},
   "source": [
    "```python\n",
    "class rNNCell(torch.nn.Module):\n",
    "    def __init__(self):\n",
    "        super().__init__()\n",
    "        linr1 = torch.nn.Linear(?,?) \n",
    "        linr2 = torch.nn.Linear(?,?) \n",
    "        tanh = torch.nn.Tanh()\n",
    "    def forward(self,x,hidden):\n",
    "        hidden = tanh(lrnr1(x)+lrnr2(hidden))\n",
    "        return hidden\n",
    "\n",
    "init ht\n",
    "rnncell = rNNCell()\n",
    "\n",
    "for t in 1:T \n",
    "    xt, yt = x[[t]], y[[t]] \n",
    "    ht = rnncell(xt, ht)\n",
    "    ot = linr(ht) \n",
    "    loss = loss + loss_fn(ot, yt)\n",
    "```"
   ]
  },
  {
   "cell_type": "markdown",
   "id": "4ffde552-4efd-43ed-8c60-bc121cc35985",
   "metadata": {},
   "source": [
    "## 순환신경망 구현1 (with rNNCell class, hidden node2) - 성공"
   ]
  },
  {
   "cell_type": "markdown",
   "id": "ecc3043b-96a0-4455-afa2-55a660f015d9",
   "metadata": {},
   "source": [
    "`(1)` 숙성담당 네트워크"
   ]
  },
  {
   "cell_type": "code",
   "execution_count": 122,
   "id": "48565860-3b29-4a07-a002-015339d76afc",
   "metadata": {},
   "outputs": [],
   "source": [
    "class rNNCell(torch.nn.Module):\n",
    "    def __init__(self):\n",
    "        super().__init__()\n",
    "        self.i2h = torch.nn.Linear(4,2) \n",
    "        self.h2h = torch.nn.Linear(2,2) \n",
    "        self.tanh = torch.nn.Tanh()\n",
    "    def forward(self,x,hidden):\n",
    "        hidden = self.tanh(self.i2h(x)+self.h2h(hidden))\n",
    "        return hidden"
   ]
  },
  {
   "cell_type": "code",
   "execution_count": 123,
   "id": "530aad4f-fac6-4d91-83bb-09d71ee8aa7d",
   "metadata": {},
   "outputs": [],
   "source": [
    "torch.manual_seed(43052)\n",
    "rnncell =  rNNCell() # 숙성담당 네트워크 (콩물 -> 간장), h를 만드는 네트워크."
   ]
  },
  {
   "cell_type": "markdown",
   "id": "ac35293d-a7e6-4b1d-ba13-f349c7a55783",
   "metadata": {},
   "source": [
    "`(2)` 조리담당 네트워크"
   ]
  },
  {
   "cell_type": "code",
   "execution_count": 124,
   "id": "a5ae607e-b6b0-468d-8b53-963484a78703",
   "metadata": {},
   "outputs": [],
   "source": [
    "torch.manual_seed(43052)\n",
    "cook = torch.nn.Linear(2,4) "
   ]
  },
  {
   "cell_type": "markdown",
   "id": "35b52c87-e824-4e3c-83cd-744972e2c869",
   "metadata": {},
   "source": [
    "`(3)` 손실함수, 옵티마이저 설계"
   ]
  },
  {
   "cell_type": "code",
   "execution_count": 125,
   "id": "eba2d57a-82d7-4029-877b-e47f97db159e",
   "metadata": {},
   "outputs": [],
   "source": [
    "loss_fn = torch.nn.CrossEntropyLoss() \n",
    "optimizr = torch.optim.Adam(list(rnncell.parameters())+list(cook.parameters()))"
   ]
  },
  {
   "cell_type": "markdown",
   "id": "6288fa01-e06f-40d8-bca4-cfe620758e5b",
   "metadata": {},
   "source": [
    "`(4)` 학습 (6분정도 걸림)"
   ]
  },
  {
   "cell_type": "code",
   "execution_count": 126,
   "id": "5df5c461-9876-45c9-8490-71c50ffee2fc",
   "metadata": {},
   "outputs": [],
   "source": [
    "T = len(x) \n",
    "for epoc in range(5000): \n",
    "    ## 1~2\n",
    "    loss = 0 \n",
    "    ht = torch.zeros(1,2) # 1x2 맹물벡터\n",
    "    for t in range(T):\n",
    "        xt,yt = x[[t]], y[[t]]\n",
    "        ht = rnncell(xt,ht) # 숙성된 애가 들어가서 ht가 만들어짐.\n",
    "        ot = cook(ht) # ht가 cook을 거쳐서 ot가 됨.\n",
    "        loss = loss + loss_fn(ot,yt) \n",
    "    ## 3 \n",
    "    loss.backward()\n",
    "    ## 4 \n",
    "    optimizr.step()\n",
    "    optimizr.zero_grad()"
   ]
  },
  {
   "cell_type": "markdown",
   "id": "68e059cd-989e-477f-910e-fc418d4e0d7a",
   "metadata": {},
   "source": [
    "`(5)` 시각화"
   ]
  },
  {
   "cell_type": "code",
   "execution_count": 127,
   "id": "b5653f68-549a-456b-8151-8766451ed3d8",
   "metadata": {},
   "outputs": [],
   "source": [
    "T = len(x) \n",
    "hidden = torch.zeros(T,2) # 599년치 h를 담을 변수 \n",
    "_water = torch.zeros(1,2) # 맹물 \n",
    "hidden[[0]] = rnncell(x[[0]],_water) # x에 맹물을 넣어 첫번째 간장을 만든다.\n",
    "for t in range(1,T):\n",
    "    hidden[[t]] = rnncell(x[[t]],hidden[[t-1]]) "
   ]
  },
  {
   "cell_type": "code",
   "execution_count": 128,
   "id": "073558f4-0c50-46c1-b122-bed93ab41f7c",
   "metadata": {},
   "outputs": [
    {
     "data": {
      "text/plain": [
       "tensor([[1.6522e-02, 6.2036e-01, 1.0433e-01, 2.5879e-01],\n",
       "        [9.9965e-01, 6.5788e-05, 1.8450e-05, 2.6785e-04],\n",
       "        [7.6673e-05, 1.9704e-01, 8.0201e-01, 8.7218e-04],\n",
       "        ...,\n",
       "        [7.4634e-05, 1.9501e-01, 8.0407e-01, 8.4751e-04],\n",
       "        [9.4785e-01, 7.4712e-03, 6.1182e-04, 4.4064e-02],\n",
       "        [3.6306e-02, 1.2466e-01, 2.8862e-03, 8.3615e-01]],\n",
       "       grad_fn=<SoftmaxBackward0>)"
      ]
     },
     "execution_count": 128,
     "metadata": {},
     "output_type": "execute_result"
    }
   ],
   "source": [
    "yhat = soft(cook(hidden)) # 간장을 가지고 조리한 것을 softmax 취한다.\n",
    "yhat"
   ]
  },
  {
   "cell_type": "code",
   "execution_count": 129,
   "id": "80d9fab0-54de-4c0d-864a-3f276a65a902",
   "metadata": {},
   "outputs": [
    {
     "data": {
      "text/plain": [
       "<matplotlib.image.AxesImage at 0x7f240219a760>"
      ]
     },
     "execution_count": 129,
     "metadata": {},
     "output_type": "execute_result"
    },
    {
     "data": {
      "image/png": "[encoded data removed]",
      "text/plain": [
       "<Figure size 288x1080 with 1 Axes>"
      ]
     },
     "metadata": {
      "needs_background": "light"
     },
     "output_type": "display_data"
    }
   ],
   "source": [
    "plt.matshow(yhat.data[:15]) # 앞에 15개"
   ]
  },
  {
   "cell_type": "code",
   "execution_count": 135,
   "id": "783fc404-2349-4e0e-8829-189e09dba2d2",
   "metadata": {},
   "outputs": [
    {
     "data": {
      "text/plain": [
       "(tensor([[0., 1., 0., 0.],\n",
       "         [1., 0., 0., 0.],\n",
       "         [0., 0., 1., 0.],\n",
       "         [1., 0., 0., 0.],\n",
       "         [0., 0., 0., 1.],\n",
       "         [1., 0., 0., 0.],\n",
       "         [0., 1., 0., 0.],\n",
       "         [1., 0., 0., 0.]]),\n",
       " tensor([[0., 0., 1., 0.],\n",
       "         [1., 0., 0., 0.],\n",
       "         [0., 0., 0., 1.],\n",
       "         [1., 0., 0., 0.],\n",
       "         [0., 1., 0., 0.],\n",
       "         [1., 0., 0., 0.],\n",
       "         [0., 0., 1., 0.],\n",
       "         [1., 0., 0., 0.],\n",
       "         [0., 0., 0., 1.],\n",
       "         [1., 0., 0., 0.],\n",
       "         [0., 1., 0., 0.],\n",
       "         [1., 0., 0., 0.],\n",
       "         [0., 0., 1., 0.],\n",
       "         [1., 0., 0., 0.],\n",
       "         [0., 0., 0., 1.]]))"
      ]
     },
     "execution_count": 135,
     "metadata": {},
     "output_type": "execute_result"
    }
   ],
   "source": [
    "# x[:8]\n",
    "y[:8], y[-15:]"
   ]
  },
  {
   "cell_type": "code",
   "execution_count": 133,
   "id": "9cafee14-985d-468d-ad5b-0f8f632b6a4a",
   "metadata": {},
   "outputs": [
    {
     "data": {
      "text/plain": [
       "<matplotlib.image.AxesImage at 0x7f2401f57490>"
      ]
     },
     "execution_count": 133,
     "metadata": {},
     "output_type": "execute_result"
    },
    {
     "data": {
      "image/png": "[encoded data removed]",
      "text/plain": [
       "<Figure size 288x1080 with 1 Axes>"
      ]
     },
     "metadata": {
      "needs_background": "light"
     },
     "output_type": "display_data"
    }
   ],
   "source": [
    "plt.matshow(yhat.data[-15:])  # 끝에 15개"
   ]
  },
  {
   "cell_type": "markdown",
   "id": "03a82811-34d6-412e-bdee-cc7bf8cd511c",
   "metadata": {},
   "source": [
    "- 아주 특이한 특징: yhat[:15], yhat[-15:]의 적합결과가 다르다.\n",
    "- 왜? 간장계란밥은 간장이 중요한데, 간장은 시간이 갈수록 맛있어지니까..!\n",
    "    - 뒤에있는 적합결과가 앞에있는 적합결과보다 더 잘맞는다.$\\to$ 뒤에있는 애가 앞에있는 정보를 더 많이 활용하기 때문이다."
   ]
  },
  {
   "cell_type": "markdown",
   "id": "947a0a58-5a80-46ea-b4ad-23af878cdf74",
   "metadata": {},
   "source": [
    "첫번째 순환신경망 성공적으로 학습!!!"
   ]
  },
  {
   "cell_type": "markdown",
   "id": "d7d11b08-cb97-42fa-b290-2eb92282bdfa",
   "metadata": {},
   "source": [
    "## 순환신경망 구현2 (with RNNCell, hidden node 2) - 성공"
   ]
  },
  {
   "cell_type": "markdown",
   "id": "0aa0e447-6000-4b6f-b469-8cb99aa8ebf8",
   "metadata": {},
   "source": [
    "- ref: https://pytorch.org/docs/stable/generated/torch.nn.RNNCell.ht"
   ]
  },
  {
   "cell_type": "markdown",
   "id": "250ad2e9-ae6f-4cd0-8fd3-0b8e55e57bb4",
   "metadata": {},
   "source": [
    "`(1)` 숙성네트워크"
   ]
  },
  {
   "cell_type": "markdown",
   "id": "ffbb46c9-3224-4c2f-b8ef-05260f731b21",
   "metadata": {},
   "source": [
    "선언"
   ]
  },
  {
   "cell_type": "code",
   "execution_count": 136,
   "id": "dbc8cb1f-19c9-433a-b2fc-d23422da3cdf",
   "metadata": {},
   "outputs": [],
   "source": [
    "rnncell = torch.nn.RNNCell(4,2) # x: (n,4) h:(n,2) // 콩물의 dim , 간장(hidden layer)의 dim"
   ]
  },
  {
   "cell_type": "markdown",
   "id": "1e578248-4ca6-4163-a3d2-c83fad355667",
   "metadata": {},
   "source": [
    "가중치초기화 (순환신경망 구현1과 동일하도록)"
   ]
  },
  {
   "cell_type": "code",
   "execution_count": 137,
   "id": "4cafdfc4-023b-4590-af70-fa848cc6712b",
   "metadata": {},
   "outputs": [],
   "source": [
    "# 비교를 위한것.\n",
    "torch.manual_seed(43052)\n",
    "_rnncell = rNNCell()"
   ]
  },
  {
   "cell_type": "code",
   "execution_count": 139,
   "id": "7e079aa7-91ec-4a87-b408-d9bc5f31e9c8",
   "metadata": {},
   "outputs": [],
   "source": [
    "rnncell.weight_ih.data = _rnncell.i2h.weight.data \n",
    "rnncell.weight_hh.data = _rnncell.h2h.weight.data \n",
    "rnncell.bias_hh.data = _rnncell.h2h.bias.data \n",
    "rnncell.bias_ih.data = _rnncell.i2h.bias.data "
   ]
  },
  {
   "cell_type": "markdown",
   "id": "77894f8a-b3a7-46c5-a197-854ea833ba02",
   "metadata": {},
   "source": [
    "`(2)` 조리담당 네트워크"
   ]
  },
  {
   "cell_type": "code",
   "execution_count": 140,
   "id": "460960e9-f821-45b5-95a4-e5e773f73c93",
   "metadata": {},
   "outputs": [],
   "source": [
    "torch.manual_seed(43052)\n",
    "cook = torch.nn.Linear(2,4) "
   ]
  },
  {
   "cell_type": "markdown",
   "id": "3082467e-bcbe-4272-8cfd-895554e46b4d",
   "metadata": {},
   "source": [
    "`(3)` 손실함수, 옵티마이저 설계"
   ]
  },
  {
   "cell_type": "code",
   "execution_count": 141,
   "id": "bf2bb4c0-b21b-45f3-a434-6167d8cbd1d4",
   "metadata": {},
   "outputs": [],
   "source": [
    "loss_fn = torch.nn.CrossEntropyLoss() \n",
    "optimizr = torch.optim.Adam(list(rnncell.parameters())+list(cook.parameters()))"
   ]
  },
  {
   "cell_type": "markdown",
   "id": "30c94933-48e6-40a7-884f-4848634f6ede",
   "metadata": {},
   "source": [
    "`(4)` 학습 (6분정도 걸림)"
   ]
  },
  {
   "cell_type": "code",
   "execution_count": 143,
   "id": "69ccc6de-e16d-4128-98ca-3c9c8de90e07",
   "metadata": {},
   "outputs": [],
   "source": [
    "T = len(x) \n",
    "for epoc in range(5000): \n",
    "    ## 1~2\n",
    "    loss = 0 \n",
    "    ht = torch.zeros(1,2) \n",
    "    for t in range(T):\n",
    "        xt,yt = x[[t]], y[[t]]\n",
    "        ht = rnncell(xt,ht) \n",
    "        ot = cook(ht) \n",
    "        loss = loss + loss_fn(ot,yt) \n",
    "    ## 3 \n",
    "    loss.backward()\n",
    "    ## 4 \n",
    "    optimizr.step()\n",
    "    optimizr.zero_grad()"
   ]
  },
  {
   "cell_type": "markdown",
   "id": "ba01c2c5-6cc7-46f7-9e34-d675225bd083",
   "metadata": {},
   "source": [
    "`(5)` 시각화 "
   ]
  },
  {
   "cell_type": "code",
   "execution_count": 144,
   "id": "bd8c894e-dacd-4cbd-93d0-62a9d94d7dcc",
   "metadata": {},
   "outputs": [],
   "source": [
    "T = len(x) \n",
    "hidden = torch.zeros(T,2) # 599년치 h를 담을 변수 \n",
    "_water = torch.zeros(1,2) # 맹물 \n",
    "hidden[[0]] = rnncell(x[[0]],_water) \n",
    "for t in range(1,T):\n",
    "    hidden[[t]] = rnncell(x[[t]],hidden[[t-1]]) "
   ]
  },
  {
   "cell_type": "code",
   "execution_count": 145,
   "id": "1668e908-1342-4ba0-9c6f-23847241e7c8",
   "metadata": {},
   "outputs": [
    {
     "data": {
      "text/plain": [
       "tensor([[1.6522e-02, 6.2036e-01, 1.0433e-01, 2.5879e-01],\n",
       "        [9.9965e-01, 6.5788e-05, 1.8450e-05, 2.6785e-04],\n",
       "        [7.6673e-05, 1.9704e-01, 8.0201e-01, 8.7218e-04],\n",
       "        ...,\n",
       "        [7.4634e-05, 1.9501e-01, 8.0407e-01, 8.4751e-04],\n",
       "        [9.4785e-01, 7.4712e-03, 6.1182e-04, 4.4064e-02],\n",
       "        [3.6306e-02, 1.2466e-01, 2.8862e-03, 8.3615e-01]],\n",
       "       grad_fn=<SoftmaxBackward0>)"
      ]
     },
     "execution_count": 145,
     "metadata": {},
     "output_type": "execute_result"
    }
   ],
   "source": [
    "yhat = soft(cook(hidden))\n",
    "yhat"
   ]
  },
  {
   "cell_type": "code",
   "execution_count": 146,
   "id": "b8491815-a417-43ef-8933-61a1a2d9f34b",
   "metadata": {},
   "outputs": [
    {
     "data": {
      "text/plain": [
       "<matplotlib.image.AxesImage at 0x7f2401dd61f0>"
      ]
     },
     "execution_count": 146,
     "metadata": {},
     "output_type": "execute_result"
    },
    {
     "data": {
      "image/png": "[encoded data removed]",
      "text/plain": [
       "<Figure size 288x1080 with 1 Axes>"
      ]
     },
     "metadata": {
      "needs_background": "light"
     },
     "output_type": "display_data"
    }
   ],
   "source": [
    "plt.matshow(yhat.data[-15:])"
   ]
  },
  {
   "cell_type": "markdown",
   "id": "572cda8b-8886-4346-8283-f77510ed9b7e",
   "metadata": {},
   "source": [
    "# 숙제"
   ]
  },
  {
   "cell_type": "markdown",
   "id": "4fe76bae-87c7-404c-ac0d-16a9ca29a028",
   "metadata": {},
   "source": [
    "아래와 같은 자료가 있다고 가정하자."
   ]
  },
  {
   "cell_type": "code",
   "execution_count": 212,
   "id": "36b71090-589e-4b0f-8756-d97eaedca099",
   "metadata": {},
   "outputs": [],
   "source": [
    "x = torch.rand([1000,1])*2-1\n",
    "y = 3.14 + 6.28*x + torch.randn([1000,1]) "
   ]
  },
  {
   "cell_type": "code",
   "execution_count": 213,
   "id": "01fd149d-4313-405b-96a9-c929f794e228",
   "metadata": {},
   "outputs": [
    {
     "data": {
      "text/plain": [
       "[<matplotlib.lines.Line2D at 0x7f23e6f2a070>]"
      ]
     },
     "execution_count": 213,
     "metadata": {},
     "output_type": "execute_result"
    },
    {
     "data": {
      "image/png": "[encoded data removed]",
      "text/plain": [
       "<Figure size 432x288 with 1 Axes>"
      ]
     },
     "metadata": {
      "needs_background": "light"
     },
     "output_type": "display_data"
    }
   ],
   "source": [
    "plt.plot(x,y,'o',alpha=0.1)"
   ]
  },
  {
   "cell_type": "markdown",
   "id": "3bfb51c7-2eef-478f-8820-9084dec47f28",
   "metadata": {},
   "source": [
    "아래의 모형을 가정하고 $\\alpha_0, \\alpha_1, \\beta_0, \\beta_1$을 파이토치를 이용하여 추정하고자 한다."
   ]
  },
  {
   "cell_type": "markdown",
   "id": "5468756f-929e-4e24-bce6-01b40fdc9222",
   "metadata": {},
   "source": [
    "- $y_i = \\alpha_0 + \\beta_0 + \\beta_1x_i + \\alpha_1x_i + \\epsilon_i,\\quad \\epsilon_i \\sim N(0,\\sigma^2)$"
   ]
  },
  {
   "cell_type": "markdown",
   "id": "5e35d008-f6f0-43a0-a0b8-5c900507c716",
   "metadata": {},
   "source": [
    "아래는 이를 수행하기 위한 코드이다. ???를 적절히 채워서 코드를 완성하라."
   ]
  },
  {
   "cell_type": "code",
   "execution_count": 214,
   "id": "ef63e196-9cf5-4888-b1d0-5ddd7f233949",
   "metadata": {},
   "outputs": [],
   "source": [
    "alpha0 = torch.tensor([0.5], requires_grad=True)\n",
    "alpha1 = torch.tensor([[0.5]], requires_grad=True)\n",
    "beta0 = torch.tensor([0.7], requires_grad=True)\n",
    "beta1 = torch.tensor([[0.7]], requires_grad=True)"
   ]
  },
  {
   "cell_type": "code",
   "execution_count": 215,
   "id": "4bef8cb0-083e-4345-a682-41482386f3c3",
   "metadata": {},
   "outputs": [
    {
     "data": {
      "text/plain": [
       "[<matplotlib.lines.Line2D at 0x7f2400dab640>]"
      ]
     },
     "execution_count": 215,
     "metadata": {},
     "output_type": "execute_result"
    },
    {
     "data": {
      "image/png": "[encoded data removed]",
      "text/plain": [
       "<Figure size 432x288 with 1 Axes>"
      ]
     },
     "metadata": {
      "needs_background": "light"
     },
     "output_type": "display_data"
    }
   ],
   "source": [
    "## 학습 전\n",
    "plt.plot(x,y,'o')\n",
    "plt.plot(x,((alpha0+alpha1)*x+(beta0+beta1)).data,'--')"
   ]
  },
  {
   "cell_type": "code",
   "execution_count": 216,
   "id": "350b8db2-2812-43ca-bee2-80222598378a",
   "metadata": {},
   "outputs": [],
   "source": [
    "# 수식길게 쓰기 싫으니까 이렇게 바꿔줘야지..\n",
    "b = torch.tensor([alpha0 + beta0], requires_grad=True)\n",
    "w = torch.tensor([alpha1 + beta1], requires_grad=True)"
   ]
  },
  {
   "cell_type": "code",
   "execution_count": 217,
   "id": "4a144016-2820-4f58-9b4c-7b61063a18a1",
   "metadata": {},
   "outputs": [],
   "source": [
    "loss_fn = torch.nn.MSELoss()\n",
    "optimizr = torch.optim.SGD([b, w], lr=1/10)"
   ]
  },
  {
   "cell_type": "code",
   "execution_count": 218,
   "id": "6a19fd8f-17f3-4d49-8dad-18b653882f6f",
   "metadata": {},
   "outputs": [],
   "source": [
    "for epoc in range(1000):\n",
    "    ## 1\n",
    "    yhat = b + w*x  # alpha0 + beta0 + alpha1*x + beta1*x \n",
    "    ## 2 \n",
    "    loss = loss_fn(yhat,y) \n",
    "    ## 3 \n",
    "    loss.backward()\n",
    "    ## 4 \n",
    "    optimizr.step()\n",
    "    optimizr.zero_grad()"
   ]
  },
  {
   "cell_type": "code",
   "execution_count": 219,
   "id": "3e40770e-854a-4902-bac8-bb88dbce3bbe",
   "metadata": {},
   "outputs": [
    {
     "name": "stdout",
     "output_type": "stream",
     "text": [
      "tensor([3.1339], requires_grad=True)\n"
     ]
    }
   ],
   "source": [
    "# print(alpha0+beta0)\n",
    "print(b)"
   ]
  },
  {
   "cell_type": "markdown",
   "id": "21e64162-1da7-488a-a0cd-7c73ac2e13de",
   "metadata": {},
   "source": [
    "- 3.14 근처"
   ]
  },
  {
   "cell_type": "code",
   "execution_count": 220,
   "id": "86a1fe12-74c4-4d16-a659-b483a60ffa90",
   "metadata": {},
   "outputs": [
    {
     "name": "stdout",
     "output_type": "stream",
     "text": [
      "tensor([6.2429], requires_grad=True)\n"
     ]
    }
   ],
   "source": [
    "# print(alpha1+beta1)\n",
    "print(w)"
   ]
  },
  {
   "cell_type": "markdown",
   "id": "6c982118-cba1-421b-98cc-7aa37088d5a7",
   "metadata": {},
   "source": [
    "- 6.28근처"
   ]
  },
  {
   "cell_type": "code",
   "execution_count": 224,
   "id": "565db08a-1279-465d-9356-4514a8049c5b",
   "metadata": {},
   "outputs": [
    {
     "data": {
      "text/plain": [
       "[<matplotlib.lines.Line2D at 0x7f23e6e8a6d0>]"
      ]
     },
     "execution_count": 224,
     "metadata": {},
     "output_type": "execute_result"
    },
    {
     "data": {
      "image/png": "[encoded data removed]",
      "text/plain": [
       "<Figure size 432x288 with 1 Axes>"
      ]
     },
     "metadata": {
      "needs_background": "light"
     },
     "output_type": "display_data"
    }
   ],
   "source": [
    "## 학습 후\n",
    "plt.plot(x,y,'o')\n",
    "plt.plot(x, (b+w*x).data,'--')\n",
    "# plt.plot(x,((alpha0+alpha1)*x+(beta0+beta1)).data,'--')"
   ]
  },
  {
   "cell_type": "markdown",
   "id": "b4547224-c8a9-472c-9d88-686cc93d8008",
   "metadata": {},
   "source": [
    "- 학습이 잘 된 것 같다."
   ]
  }
 ],
 "metadata": {
  "kernelspec": {
   "display_name": "Python 3",
   "language": "python",
   "name": "python3"
  },
  "language_info": {
   "codemirror_mode": {
    "name": "ipython",
    "version": 3
   },
   "file_extension": ".py",
   "mimetype": "text/x-python",
   "name": "python",
   "nbconvert_exporter": "python",
   "pygments_lexer": "ipython3",
   "version": "3.8.16"
  }
 },
 "nbformat": 4,
 "nbformat_minor": 5
}
