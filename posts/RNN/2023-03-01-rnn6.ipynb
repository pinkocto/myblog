{
 "cells": [
  {
   "cell_type": "raw",
   "id": "76e2954f-c917-4763-8a7e-e3744cd7ed01",
   "metadata": {},
   "source": [
    "---\n",
    "title: \" 순환신경망 (6)\"\n",
    "author: \"jiyun Lim\"\n",
    "date: \"03/01/2023\"\n",
    "categories:\n",
    "    - DL2022\n",
    "    - RNN\n",
    "image: \"lstm_str.png\"\n",
    "---"
   ]
  },
  {
   "cell_type": "markdown",
   "id": "ee45e195-4d66-47bf-9d27-a4c357ae6dce",
   "metadata": {},
   "source": [
    "# 순환신경망 6\n",
    "> LSTM (2) - LSTM의 계산과정, LSTM은 왜 강한가?"
   ]
  },
  {
   "cell_type": "markdown",
   "id": "281e42ff-a206-446e-b94f-5308baf215c3",
   "metadata": {},
   "source": [
    "# import"
   ]
  },
  {
   "cell_type": "code",
   "execution_count": 37,
   "id": "dc576406-7090-414f-beb4-af30484cdaef",
   "metadata": {},
   "outputs": [],
   "source": [
    "import torch\n",
    "import matplotlib.pyplot as plt"
   ]
  },
  {
   "cell_type": "markdown",
   "id": "6fc61a8a-4bdf-4c1d-987e-2620cd008c4a",
   "metadata": {},
   "source": [
    "# Define some functions"
   ]
  },
  {
   "cell_type": "code",
   "execution_count": 38,
   "id": "70197191-373c-4e8a-91ab-2ec63cb2a739",
   "metadata": {},
   "outputs": [],
   "source": [
    "def f(txt, mapping):\n",
    "    return [mapping[key] for key in txt]\n",
    "    \n",
    "sig = torch.nn.Sigmoid()\n",
    "soft = torch.nn.Softmax(dim=1)\n",
    "tanh = torch.nn.Tanh()"
   ]
  },
  {
   "cell_type": "markdown",
   "id": "ffe0f2b2-8370-497b-8ec1-d5c4c1438cf8",
   "metadata": {},
   "source": [
    "# LSTM의 계산과정"
   ]
  },
  {
   "cell_type": "markdown",
   "id": "026173b9-cd58-4e58-9e63-f4b5747a279e",
   "metadata": {},
   "source": [
    "## data: abaB"
   ]
  },
  {
   "cell_type": "code",
   "execution_count": 39,
   "id": "c62b778d-9ff4-425b-88d0-cf2a7ee99882",
   "metadata": {},
   "outputs": [
    {
     "data": {
      "text/plain": [
       "['a', 'b', 'a', 'B', 'a']"
      ]
     },
     "execution_count": 39,
     "metadata": {},
     "output_type": "execute_result"
    }
   ],
   "source": [
    "txt = list('abaB')*100\n",
    "txt[:5]"
   ]
  },
  {
   "cell_type": "code",
   "execution_count": 40,
   "id": "9ae0fcaa-07e5-439c-823b-e842d5fc769e",
   "metadata": {},
   "outputs": [],
   "source": [
    "txt_x = txt[:-1]\n",
    "txt_y = txt[1:]"
   ]
  },
  {
   "cell_type": "code",
   "execution_count": 41,
   "id": "c0ae3e23-a912-40ff-9980-2679b2b9c827",
   "metadata": {},
   "outputs": [],
   "source": [
    "mapping = {'a':0, 'b':1, 'B':2}\n",
    "x = torch.nn.functional.one_hot(torch.tensor(f(txt_x,mapping))).float()\n",
    "y = torch.nn.functional.one_hot(torch.tensor(f(txt_y,mapping))).float()"
   ]
  },
  {
   "cell_type": "markdown",
   "id": "947456b8-369e-4c58-bcef-e1e5464c6d2d",
   "metadata": {},
   "source": [
    "## 1 epoch ver1 (with torch.nn.LSTMCell)"
   ]
  },
  {
   "cell_type": "code",
   "execution_count": 42,
   "id": "9f2e74cd-fe39-4e34-a33d-7ed06c7eb750",
   "metadata": {},
   "outputs": [],
   "source": [
    "torch.manual_seed(43052)\n",
    "lstm_cell = torch.nn.LSTMCell(3,2) # hidden node: 2\n",
    "linr = torch.nn.Linear(2,3)\n",
    "loss_fn = torch.nn.CrossEntropyLoss()\n",
    "optimizr = torch.optim.Adam(list(lstm_cell.parameters()) + list(linr.parameters()), lr=0.1)"
   ]
  },
  {
   "cell_type": "code",
   "execution_count": 43,
   "id": "1bba679b-c28a-441c-a7c0-6bb4089295e8",
   "metadata": {},
   "outputs": [],
   "source": [
    "T = len(x) \n",
    "for epoc in range(1):\n",
    "    ht = torch.zeros(1,2)\n",
    "    ct = torch.zeros(1,2)\n",
    "    loss = 0 \n",
    "    ## 1~2\n",
    "    for t in range(T):\n",
    "        xt,yt = x[[t]], y[[t]]\n",
    "        ht,ct = lstm_cell(xt,(ht,ct))\n",
    "        ot = linr(ht) \n",
    "        loss = loss + loss_fn(ot,yt)\n",
    "    loss = loss / T\n",
    "    ## 3 \n",
    "    loss.backward()\n",
    "    ## 4 \n",
    "    optimizr.step()\n",
    "    optimizr.zero_grad()"
   ]
  },
  {
   "cell_type": "code",
   "execution_count": 44,
   "id": "6429463f-5c1d-4ff5-b3f4-04190138abd6",
   "metadata": {},
   "outputs": [
    {
     "data": {
      "text/plain": [
       "(tensor([[-0.0406,  0.2505]], grad_fn=<MulBackward0>),\n",
       " tensor([[-0.0975,  0.7134]], grad_fn=<AddBackward0>))"
      ]
     },
     "execution_count": 44,
     "metadata": {},
     "output_type": "execute_result"
    }
   ],
   "source": [
    "ht, ct"
   ]
  },
  {
   "cell_type": "markdown",
   "id": "a17eddca-ee9a-4451-a517-5b958bdf4192",
   "metadata": {},
   "source": [
    "## 1 epoc ver2 (완전 손으로 구현)"
   ]
  },
  {
   "cell_type": "markdown",
   "id": "5f5fb4d9-c769-4e95-8cec-38a4fda6f7d2",
   "metadata": {},
   "source": [
    "### $t=0 \\to t=1$"
   ]
  },
  {
   "cell_type": "markdown",
   "id": "115ba246-1da6-4c93-a5cf-5c99676b57f5",
   "metadata": {},
   "source": [
    "`-` lstm_cell을 이용한 계산 (결과비교용)"
   ]
  },
  {
   "cell_type": "code",
   "execution_count": 45,
   "id": "38a5b2ee-fce5-43b3-8c5b-d09841fa065a",
   "metadata": {},
   "outputs": [],
   "source": [
    "torch.manual_seed(43052)\n",
    "lstm_cell = torch.nn.LSTMCell(3,2)\n",
    "linr = torch.nn.Linear(2,3)\n",
    "loss_fn = torch.nn.CrossEntropyLoss()\n",
    "optimizr = torch.optim.Adam(list(lstm_cell.parameters()) + list(linr.parameters()), lr=0.1)"
   ]
  },
  {
   "cell_type": "code",
   "execution_count": 46,
   "id": "b004278d-e1ee-450e-a062-5605c9afec0c",
   "metadata": {},
   "outputs": [],
   "source": [
    "T = len(x) \n",
    "for epoc in range(1):\n",
    "    ht = torch.zeros(1,2)\n",
    "    ct = torch.zeros(1,2)\n",
    "    loss = 0 \n",
    "    ## 1~2\n",
    "    for t in range(1):\n",
    "        xt,yt = x[[t]], y[[t]]\n",
    "        ht,ct = lstm_cell(xt,(ht,ct))\n",
    "    #     ot = linr(ht) \n",
    "    #     loss = loss + loss_fn(ot,yt)\n",
    "    # loss = loss / T\n",
    "    # ## 3 \n",
    "    # loss.backward()\n",
    "    # ## 4 \n",
    "    # optimizr.step()\n",
    "    # optimizr.zero_grad()"
   ]
  },
  {
   "cell_type": "code",
   "execution_count": 47,
   "id": "66fd0192-3275-4c4f-b575-145493475744",
   "metadata": {},
   "outputs": [
    {
     "data": {
      "text/plain": [
       "(tensor([[-0.0541,  0.0892]], grad_fn=<MulBackward0>),\n",
       " tensor([[-0.1347,  0.2339]], grad_fn=<AddBackward0>))"
      ]
     },
     "execution_count": 47,
     "metadata": {},
     "output_type": "execute_result"
    }
   ],
   "source": [
    "ht, ct"
   ]
  },
  {
   "cell_type": "markdown",
   "id": "5812b04b-b1fa-4eef-8951-f189593c92e8",
   "metadata": {},
   "source": [
    "- 이런결과를 어떻게 만드는걸가?\n",
    "\n",
    "- https://pytorch.org/docs/stable/generated/torch.nn.LSTM.html\n"
   ]
  },
  {
   "cell_type": "markdown",
   "id": "d064828c-93bd-4dca-8f6a-149e050e2681",
   "metadata": {},
   "source": [
    "$$\\begin{align*}i_t & = \\sigma(W_{ii}x_t + b_{ii} + W_{hi}h_{t-1}+b_{hi}) \\\\\n",
    "f_t & = \\sigma(W_{if}x_t + b_{if} +W_{hf}h_{t-1}+b_{hf}) \\\\\n",
    "g_t & = \\text{tanh} (W_{ig}x_t + b_{ig} + W_{hg}h_{t-1}+b_{hg} \\\\\n",
    "o_t & = \\sigma(W_{io}x_t + b_{io}+W_{ho}h_{t-1} +b_{ho}) \\\\\n",
    "c_t & = f_t\\odot c_{t-1} + i_t \\odot g_t \\\\\n",
    "h_t &= o_t \\odot \\text{tanh}(c_t)\n",
    "\\end{align*}$$"
   ]
  },
  {
   "cell_type": "markdown",
   "id": "1e59e5ba-977c-4f29-80db-68b6a5c06c4b",
   "metadata": {},
   "source": [
    "- $h_t$: hidden state at $t$\n",
    "- $c_t$: cell state at time $t$\n",
    "- $x_t$: the input at time $t$\n",
    "- $h_{t-1}$: the hidden state of the layer at time $t-1$\n",
    "- $i_t, f_t, g_t, o_t$: input,forget,cell,and output gates, respectively\n",
    "- $\\sigma$: the sigmoid function\n",
    "- $\\odot$: the Hadamard product"
   ]
  },
  {
   "cell_type": "markdown",
   "id": "c4836f55-560e-490c-ad18-4ac7cbf70ffd",
   "metadata": {},
   "source": [
    "- (참고) $\\odot$ : elment-wise 하게 곱하는 연산자\n",
    "    - $(1,2) \\odot (3,0) = (3,0)$"
   ]
  },
  {
   "cell_type": "markdown",
   "id": "e75c369a-80a7-4a65-8728-4725e8c999ab",
   "metadata": {},
   "source": [
    "`-` 직접계산"
   ]
  },
  {
   "cell_type": "code",
   "execution_count": 48,
   "id": "8d8c3d21-b757-4da2-81ee-ebbfbbb143dc",
   "metadata": {},
   "outputs": [],
   "source": [
    "ht = torch.zeros(1,2)\n",
    "ct = torch.zeros(1,2)"
   ]
  },
  {
   "cell_type": "markdown",
   "id": "8e0ebdad-ef92-4f88-b3de-13c2157014f2",
   "metadata": {},
   "source": [
    "$$(x_t, h_{t-1}) \\overset{lin}{\\to} [a,b,c,d] \\to [\\sigma(a), \\sigma(b),\\text{tanh}(c),\\sigma(d)] = [i_t,f_t,g_t,o_t]$$"
   ]
  },
  {
   "cell_type": "code",
   "execution_count": 49,
   "id": "cb14f342-7e29-41d5-980f-142347f3bb93",
   "metadata": {},
   "outputs": [
    {
     "data": {
      "text/plain": [
       "tensor([[ 0.0728,  0.1561,  0.0693,  0.5941, -0.2661,  0.4648, -0.3884, -0.4536]],\n",
       "       grad_fn=<AddBackward0>)"
      ]
     },
     "execution_count": 49,
     "metadata": {},
     "output_type": "execute_result"
    }
   ],
   "source": [
    "_ifgo = xt @ lstm_cell.weight_ih.T + ht @ lstm_cell.weight_hh.T + lstm_cell.bias_ih + lstm_cell.bias_hh\n",
    "_ifgo"
   ]
  },
  {
   "cell_type": "code",
   "execution_count": 50,
   "id": "34926daa-70e5-413c-b65b-3d8a284784a2",
   "metadata": {},
   "outputs": [],
   "source": [
    "input_gate = sig(_ifgo[:,0:2])\n",
    "forget_gate = sig(_ifgo[:,2:4])\n",
    "gt = tanh(_ifgo[:,4:6])\n",
    "output_gate = sig(_ifgo[:,6:8])"
   ]
  },
  {
   "cell_type": "code",
   "execution_count": 51,
   "id": "fbbfc9a9-9be6-4cc8-8bbe-20ea3602960f",
   "metadata": {},
   "outputs": [],
   "source": [
    "ct = forget_gate * ct + input_gate * gt\n",
    "ht = output_gate * tanh(ct)"
   ]
  },
  {
   "cell_type": "code",
   "execution_count": 52,
   "id": "c4c575ff-bf53-46f0-8577-bed38df94c0c",
   "metadata": {},
   "outputs": [
    {
     "data": {
      "text/plain": [
       "(tensor([[-0.0541,  0.0892]], grad_fn=<MulBackward0>),\n",
       " tensor([[-0.1347,  0.2339]], grad_fn=<AddBackward0>))"
      ]
     },
     "execution_count": 52,
     "metadata": {},
     "output_type": "execute_result"
    }
   ],
   "source": [
    "ht,ct"
   ]
  },
  {
   "cell_type": "markdown",
   "id": "6d8f0f4a-4bf9-41c1-8901-3b534e4fd478",
   "metadata": {},
   "source": [
    "### $t=0 \\to t=T$"
   ]
  },
  {
   "cell_type": "code",
   "execution_count": 53,
   "id": "73fcf5a6-0876-49ae-9b12-df7919c5037d",
   "metadata": {},
   "outputs": [],
   "source": [
    "torch.manual_seed(43052) \n",
    "lstm_cell = torch.nn.LSTMCell(3,2) \n",
    "linr = torch.nn.Linear(2,3)\n",
    "loss_fn = torch.nn.CrossEntropyLoss() \n",
    "optimizr = torch.optim.Adam(list(lstm_cell.parameters())+list(linr.parameters()),lr=0.1)"
   ]
  },
  {
   "cell_type": "code",
   "execution_count": 54,
   "id": "575c46c9-7e7b-4e4b-9a4f-80495c1c3f10",
   "metadata": {},
   "outputs": [],
   "source": [
    "T = len(x) \n",
    "for epoc in range(1):\n",
    "    ht = torch.zeros(1,2)\n",
    "    ct = torch.zeros(1,2)\n",
    "    loss = 0 \n",
    "    ## 1~2\n",
    "    for t in range(T):\n",
    "        xt,yt = x[[t]], y[[t]]\n",
    "        \n",
    "        ## lstm_cell step1: calculate _ifgo \n",
    "        _ifgo = xt @ lstm_cell.weight_ih.T + ht @ lstm_cell.weight_hh.T + lstm_cell.bias_ih + lstm_cell.bias_hh\n",
    "        ## lstm_cell step2: decompose _ifgo \n",
    "        input_gate = sig(_ifgo[:,0:2])\n",
    "        forget_gate = sig(_ifgo[:,2:4])\n",
    "        gt = tanh(_ifgo[:,4:6])\n",
    "        output_gate = sig(_ifgo[:,6:8])\n",
    "        ## lstm_cell step3: calculate ht,ct \n",
    "        ct = forget_gate * ct + input_gate * gt\n",
    "        ht = output_gate * tanh(ct)\n",
    "        \n",
    "    #     ot = linr(ht) \n",
    "    #     loss = loss + loss_fn(ot,yt)\n",
    "    # loss = loss / T\n",
    "    # ## 3 \n",
    "    # loss.backward()\n",
    "    # ## 4 \n",
    "    # optimizr.step()\n",
    "    # optimizr.zero_grad()"
   ]
  },
  {
   "cell_type": "code",
   "execution_count": 55,
   "id": "1902a202-49b2-450b-8b8a-77f2e2aa390f",
   "metadata": {},
   "outputs": [
    {
     "data": {
      "text/plain": [
       "(tensor([[-0.0406,  0.2505]], grad_fn=<MulBackward0>),\n",
       " tensor([[-0.0975,  0.7134]], grad_fn=<AddBackward0>))"
      ]
     },
     "execution_count": 55,
     "metadata": {},
     "output_type": "execute_result"
    }
   ],
   "source": [
    "ht,ct"
   ]
  },
  {
   "cell_type": "markdown",
   "id": "d38f0869-b8a7-4972-9c4b-ffc34b29dd79",
   "metadata": {},
   "source": [
    "```\n",
    "(tensor([[-0.0406,  0.2505]], grad_fn=<MulBackward0>),\n",
    " tensor([[-0.0975,  0.7134]], grad_fn=<AddBackward0>))\n",
    " ```"
   ]
  },
  {
   "cell_type": "markdown",
   "id": "bbc1bb29-cfbd-4f55-a5c7-578ea8e31c34",
   "metadata": {},
   "source": [
    "# 1 epoch ver3 (with torch.nn.LSTM)"
   ]
  },
  {
   "cell_type": "code",
   "execution_count": 56,
   "id": "8f2e67ab-f58a-454d-95ad-43e334cc855c",
   "metadata": {},
   "outputs": [],
   "source": [
    "torch.manual_seed(43052)\n",
    "lstm_cell = torch.nn.LSTMCell(3,2)\n",
    "linr = torch.nn.Linear(2,3)"
   ]
  },
  {
   "cell_type": "code",
   "execution_count": 57,
   "id": "ecda8e9c-9e0b-4f64-adbb-e848550c6969",
   "metadata": {},
   "outputs": [],
   "source": [
    "lstm = torch.nn.LSTM(3,2)"
   ]
  },
  {
   "cell_type": "code",
   "execution_count": 58,
   "id": "d41d72e7-cef6-4713-ba40-8cb179c12d49",
   "metadata": {},
   "outputs": [],
   "source": [
    "lstm.weight_hh_l0.data = lstm_cell.weight_hh.data \n",
    "lstm.bias_hh_l0.data = lstm_cell.bias_hh.data \n",
    "lstm.weight_ih_l0.data = lstm_cell.weight_ih.data \n",
    "lstm.bias_ih_l0.data = lstm_cell.bias_ih.data"
   ]
  },
  {
   "cell_type": "code",
   "execution_count": 59,
   "id": "becd904a-c7b4-41a3-a54c-19227eb66fd2",
   "metadata": {},
   "outputs": [],
   "source": [
    "loss_fn = torch.nn.CrossEntropyLoss()\n",
    "optimizr = torch.optim.Adam(list(lstm.parameters()) + list(linr.parameters()), lr=0.1) "
   ]
  },
  {
   "cell_type": "code",
   "execution_count": 60,
   "id": "37013e34-4805-436b-81fd-ff1febdae733",
   "metadata": {},
   "outputs": [],
   "source": [
    "_water = torch.zeros(1,2) \n",
    "for epoc in range(1): \n",
    "    ## step1 \n",
    "    hidden, (ht,ct) = lstm(x,(_water,_water))\n",
    "    output = linr(hidden)\n",
    "    # ## step2\n",
    "    # loss = loss_fn(output,y) \n",
    "    # ## step3\n",
    "    # loss.backward()\n",
    "    # ## step4 \n",
    "    # optimizr.step()\n",
    "    # optimizr.zero_grad() "
   ]
  },
  {
   "cell_type": "code",
   "execution_count": 62,
   "id": "caa5f046-693e-486a-8306-b71acdcf1c1b",
   "metadata": {},
   "outputs": [
    {
     "data": {
      "text/plain": [
       "(tensor([[-0.0406,  0.2505]], grad_fn=<SqueezeBackward1>),\n",
       " tensor([[-0.0975,  0.7134]], grad_fn=<SqueezeBackward1>))"
      ]
     },
     "execution_count": 62,
     "metadata": {},
     "output_type": "execute_result"
    }
   ],
   "source": [
    "ht, ct"
   ]
  },
  {
   "cell_type": "markdown",
   "id": "ac63d965-3833-4a49-9293-d8bc6756b63b",
   "metadata": {},
   "source": [
    "# LSTM은 왜 강한가?"
   ]
  },
  {
   "cell_type": "markdown",
   "id": "92eb6b94-e68b-4d46-af4a-cdec7ba11b1f",
   "metadata": {},
   "source": [
    "## data: abaB"
   ]
  },
  {
   "cell_type": "code",
   "execution_count": 63,
   "id": "79ab72a2-37dd-4e38-8234-decb6953f6f9",
   "metadata": {},
   "outputs": [
    {
     "data": {
      "text/plain": [
       "['a', 'b', 'a', 'B', 'a']"
      ]
     },
     "execution_count": 63,
     "metadata": {},
     "output_type": "execute_result"
    }
   ],
   "source": [
    "txt = list('abaB')*100\n",
    "txt[:5]"
   ]
  },
  {
   "cell_type": "code",
   "execution_count": 64,
   "id": "13c9c04f-dcb1-4d5e-8433-0bec84f0c459",
   "metadata": {},
   "outputs": [],
   "source": [
    "n_words = 3"
   ]
  },
  {
   "cell_type": "code",
   "execution_count": 65,
   "id": "51bfb49d-2595-48e4-8727-b4cd33cd9339",
   "metadata": {},
   "outputs": [],
   "source": [
    "mapping = {'a':0,'b':1,'B':2}"
   ]
  },
  {
   "cell_type": "code",
   "execution_count": 66,
   "id": "39396ba1-5582-4dd4-b892-0459e4393087",
   "metadata": {},
   "outputs": [],
   "source": [
    "txt_x = txt[:-1]\n",
    "txt_y = txt[1:]"
   ]
  },
  {
   "cell_type": "code",
   "execution_count": 67,
   "id": "502fe2fb-c6c5-4af5-a9af-e7f05041d516",
   "metadata": {},
   "outputs": [
    {
     "data": {
      "text/plain": [
       "(['a', 'b', 'a', 'B', 'a', 'b', 'a', 'B', 'a', 'b'],\n",
       " ['b', 'a', 'B', 'a', 'b', 'a', 'B', 'a', 'b', 'a'])"
      ]
     },
     "execution_count": 67,
     "metadata": {},
     "output_type": "execute_result"
    }
   ],
   "source": [
    "txt_x[:10], txt_y[:10]"
   ]
  },
  {
   "cell_type": "code",
   "execution_count": 68,
   "id": "80107581-074f-4f94-98c7-2c51fc05bb8f",
   "metadata": {},
   "outputs": [],
   "source": [
    "x = torch.nn.functional.one_hot(torch.tensor(f(txt_x,mapping))).float()\n",
    "y = torch.nn.functional.one_hot(torch.tensor(f(txt_y,mapping))).float()"
   ]
  },
  {
   "cell_type": "code",
   "execution_count": 69,
   "id": "c4db0fb0-8065-42c8-85cf-b2e89a428589",
   "metadata": {},
   "outputs": [
    {
     "data": {
      "text/plain": [
       "(tensor([[1., 0., 0.],\n",
       "         [0., 1., 0.],\n",
       "         [1., 0., 0.],\n",
       "         ...,\n",
       "         [1., 0., 0.],\n",
       "         [0., 1., 0.],\n",
       "         [1., 0., 0.]]),\n",
       " tensor([[0., 1., 0.],\n",
       "         [1., 0., 0.],\n",
       "         [0., 0., 1.],\n",
       "         ...,\n",
       "         [0., 1., 0.],\n",
       "         [1., 0., 0.],\n",
       "         [0., 0., 1.]]))"
      ]
     },
     "execution_count": 69,
     "metadata": {},
     "output_type": "execute_result"
    }
   ],
   "source": [
    "x,y"
   ]
  },
  {
   "cell_type": "markdown",
   "id": "43ec22af-4e28-4545-94b5-ab39c1de3e19",
   "metadata": {},
   "source": [
    "## 1000 epoch"
   ]
  },
  {
   "cell_type": "code",
   "execution_count": 70,
   "id": "f47aaa13-76e6-4168-b72e-29f08ca315ab",
   "metadata": {},
   "outputs": [],
   "source": [
    "torch.manual_seed(43052) \n",
    "lstm = torch.nn.LSTM(3,2) \n",
    "linr = torch.nn.Linear(2,3) "
   ]
  },
  {
   "cell_type": "code",
   "execution_count": 71,
   "id": "5c840497-a31e-4bd5-92fd-9c060639b4e8",
   "metadata": {},
   "outputs": [],
   "source": [
    "loss_fn = torch.nn.CrossEntropyLoss() \n",
    "optimizr = torch.optim.Adam(list(lstm.parameters())+ list(linr.parameters()),lr=0.1)"
   ]
  },
  {
   "cell_type": "code",
   "execution_count": 72,
   "id": "cd317242-768a-4f1b-9c6c-20be67b426da",
   "metadata": {},
   "outputs": [],
   "source": [
    "_water = torch.zeros(1,2) \n",
    "for epoc in range(1000): \n",
    "    ## step1 \n",
    "    hidden, (ht,ct) = lstm(x,(_water,_water))\n",
    "    output = linr(hidden)\n",
    "    ## step2\n",
    "    loss = loss_fn(output,y) \n",
    "    ## step3\n",
    "    loss.backward()\n",
    "    ## step4 \n",
    "    optimizr.step()\n",
    "    optimizr.zero_grad() "
   ]
  },
  {
   "cell_type": "markdown",
   "id": "b5f43ca9-6b50-427b-80a2-a24dbf46dc31",
   "metadata": {},
   "source": [
    "## 시각화"
   ]
  },
  {
   "cell_type": "code",
   "execution_count": 73,
   "id": "5bf6e694-ee0d-4811-975f-55046ad71ae7",
   "metadata": {},
   "outputs": [],
   "source": [
    "T = len(x)\n",
    "input_gate = torch.zeros(T,2)\n",
    "forget_gate = torch.zeros(T,2)\n",
    "output_gate = torch.zeros(T,2)\n",
    "g = torch.zeros(T,2)\n",
    "cell = torch.zeros(T,2)\n",
    "h = torch.zeros(T,2) "
   ]
  },
  {
   "cell_type": "code",
   "execution_count": 75,
   "id": "6d4d3c7d-ccd7-45ad-ad71-7e62ed583392",
   "metadata": {},
   "outputs": [],
   "source": [
    "for t in range(T): \n",
    "    ## 1: calculate _ifgo \n",
    "    _ifgo = x[[t]] @ lstm.weight_ih_l0.T + h[[t]] @ lstm.weight_hh_l0.T + lstm.bias_ih_l0 + lstm.bias_hh_l0 \n",
    "    ## 2: decompose _ifgo \n",
    "    input_gate[[t]] = sig(_ifgo[:,0:2])\n",
    "    forget_gate[[t]] = sig(_ifgo[:,2:4])\n",
    "    g[[t]] = tanh(_ifgo[:,4:6])\n",
    "    output_gate[[t]] = sig(_ifgo[:,6:8])\n",
    "    ## 3: calculate ht,ct \n",
    "    cell[[t]] = forget_gate[[t]] * cell[[t]] + input_gate[[t]] * g[[t]]\n",
    "    h[[t]] = output_gate[[t]] * tanh(cell[[t]])"
   ]
  },
  {
   "cell_type": "code",
   "execution_count": 76,
   "id": "235260e1-fd41-4e88-8a5d-d21a551f8098",
   "metadata": {},
   "outputs": [],
   "source": [
    "combinded1 = torch.concat([input_gate,forget_gate,output_gate],axis=1)\n",
    "combinded2 = torch.concat([g,cell,h,soft(output)],axis=1)"
   ]
  },
  {
   "cell_type": "code",
   "execution_count": 77,
   "id": "82b5bff7-32af-4498-bb65-81cfdc494ea3",
   "metadata": {},
   "outputs": [
    {
     "data": {
      "image/png": "[encoded data removed]",
      "text/plain": [
       "<Figure size 288x384 with 1 Axes>"
      ]
     },
     "metadata": {
      "needs_background": "light"
     },
     "output_type": "display_data"
    },
    {
     "data": {
      "image/png": "[encoded data removed]",
      "text/plain": [
       "<Figure size 324x288 with 1 Axes>"
      ]
     },
     "metadata": {
      "needs_background": "light"
     },
     "output_type": "display_data"
    }
   ],
   "source": [
    "plt.matshow(combinded1[-8:].data,cmap='bwr',vmin=-1,vmax=1);\n",
    "plt.xticks(range(combinded1.shape[-1]),labels=['i']*2 + ['f']*2 + ['o']*2);\n",
    "plt.matshow(combinded2[-8:].data,cmap='bwr',vmin=-1,vmax=1)\n",
    "plt.xticks(range(combinded2.shape[-1]),labels=['g']*2 + ['c']*2 + ['h']*2 + ['yhat']*3);"
   ]
  },
  {
   "cell_type": "markdown",
   "id": "cbee9831-7779-4cd5-aa73-b7d5db3a420c",
   "metadata": {},
   "source": [
    "- 상단그림은 게이트의 값들만 시각화, 하단그림은 게이트 이외의 값들을 시각화"
   ]
  },
  {
   "cell_type": "markdown",
   "id": "9de91055-d453-403f-803b-c208237ddfcf",
   "metadata": {},
   "source": [
    "## 시각화의 해석 I"
   ]
  },
  {
   "cell_type": "code",
   "execution_count": 80,
   "id": "d497874b-c00d-4688-8340-438cecc04b6d",
   "metadata": {},
   "outputs": [
    {
     "data": {
      "text/plain": [
       "<matplotlib.colorbar.Colorbar at 0x7fb0131c8a60>"
      ]
     },
     "execution_count": 80,
     "metadata": {},
     "output_type": "execute_result"
    },
    {
     "data": {
      "image/png": "[encoded data removed]",
      "text/plain": [
       "<Figure size 288x384 with 2 Axes>"
      ]
     },
     "metadata": {
      "needs_background": "light"
     },
     "output_type": "display_data"
    }
   ],
   "source": [
    "plt.matshow(combinded1[-8:].data,cmap='bwr',vmin=-1,vmax=1);\n",
    "plt.xticks(range(combinded1.shape[-1]),labels=['i']*2 + ['f']*2 + ['o']*2);\n",
    "plt.colorbar()"
   ]
  },
  {
   "cell_type": "markdown",
   "id": "03e46868-09d4-4274-824a-be6caf102acb",
   "metadata": {},
   "source": [
    "`-` input gate, forget gate, output_gate는 모두 $0\\sim 1$ 사이의 값을 가진다.\n",
    "\n",
    "- (참고) 파:$-1$, 흰:$0$, 빨:$1$"
   ]
  },
  {
   "cell_type": "markdown",
   "id": "88ee7d03-4731-42fa-9fb2-751746dd8665",
   "metadata": {},
   "source": [
    "`-` 이 값들은 각각 모두 $g_t, c_{t-1}, \\text{tanh}(c_t)$ 에 곱해진다. 따라서 input_gate, forget_fate, ouput_gate는 gate의 역할로 비유가능하다. **(1이면 통과, 0이면 차단)**"
   ]
  },
  {
   "cell_type": "markdown",
   "id": "e019bcff-19a3-4f42-872c-aac849e6f2db",
   "metadata": {},
   "source": [
    "- input_gate: $g_t$ 의 값을 얼만큼 통과시킬지 $0\\sim 1$ 사이의 숫자로 결정\n",
    "- forget_gate: $c_{t-1}$의 값을 얼만큼 통과시킬지 $0\\sim 1$ 사이의 숫자로 결정\n",
    "- output_gate: $\\text{htan}(c_t)$ 의 값들을 얼만큼 통과시킬지 $0\\sim 1$ 사이의 숫자로 결정"
   ]
  },
  {
   "cell_type": "markdown",
   "id": "2813f850-c54f-42e6-8395-7192ab31ce24",
   "metadata": {},
   "source": [
    "*input/forget/output gate가 진짜 문지기 같은 역할을 함 (어떤 값을 통과시킬지 말지 0과 1사이의 숫자로 정해주는 역할을 한다.) 그렇기 때문에 gate라는 이름이 붙게 되었다.*"
   ]
  },
  {
   "cell_type": "markdown",
   "id": "3e83a6ad-b126-4c6b-810b-7af003bb6424",
   "metadata": {},
   "source": [
    "## 시각화의 해석 II"
   ]
  },
  {
   "cell_type": "code",
   "execution_count": 79,
   "id": "5c4b664b-2f0a-4572-a825-f15840af80f8",
   "metadata": {},
   "outputs": [
    {
     "data": {
      "image/png": "[encoded data removed]",
      "text/plain": [
       "<Figure size 324x288 with 1 Axes>"
      ]
     },
     "metadata": {
      "needs_background": "light"
     },
     "output_type": "display_data"
    }
   ],
   "source": [
    "plt.matshow(combinded2[-8:].data,cmap='bwr',vmin=-1,vmax=1)\n",
    "plt.xticks(range(combinded2.shape[-1]),labels=['g']*2 + ['c']*2 + ['h']*2 + ['yhat']*3);"
   ]
  },
  {
   "cell_type": "markdown",
   "id": "4988592d-06c2-4a39-a9c4-72bd17289d86",
   "metadata": {},
   "source": [
    "`-` 결국 $g_t \\to c_t \\to h_t \\to \\hat{y}$의 느낌이다. ($h_t$를 계산하기 위해서는 $c_t$가 필요했고, $c_t$를 계산하기 위해서는 $c_{t-1}$ 과 $g_t$가 필요했음)"
   ]
  },
  {
   "cell_type": "markdown",
   "id": "3cd5fd13-44a9-4184-8111-699c0a234ccc",
   "metadata": {},
   "source": [
    "- $h_t = \\text{tanh}(c_t) \\odot o_t$\n",
    "- $c_t = c_{t-1} \\odot f_t + g_t \\odot i_t$"
   ]
  },
  {
   "attachments": {
    "c5724de6-25aa-449c-8416-272b8cecf7f5.png": {
     "image/png": "[encoded data removed]"
    }
   },
   "cell_type": "markdown",
   "id": "05d2043c-b800-43da-b6f9-920b8247fc4a",
   "metadata": {},
   "source": [
    "![image.png](attachment:c5724de6-25aa-449c-8416-272b8cecf7f5.png)"
   ]
  },
  {
   "cell_type": "markdown",
   "id": "8a0bb35c-46ca-40fd-adbe-f35439c2de2f",
   "metadata": {},
   "source": [
    "`-` $g_t, c_t, h_t$ 모두 $x_t$의 정보를 숙성시켜 가지고 있는 느낌이 든다.\n",
    "\n",
    "`-` $g_t$의 특징: 보통 -1, 1 중 하나의 값을 가지도록 학습되어 있다. (마치 RNN의 hidden node처럼!)\n",
    "\n",
    "- $g_t = \\text{tanh}(x_t\\bf{W}_{ig}+h_{t-1}\\bf{W}_{hg}+b_{ig}+b_{hg})$\n",
    "\n",
    "`-` $c_t$의 특징: $g_t$와 매우 비슷하지만 약간 다른 값을 가진다. 그래서 $g_t$와 달리 $-1,1$ 이외의 값도 종종 등장."
   ]
  },
  {
   "cell_type": "markdown",
   "id": "1384af5d-80af-4881-9f87-3f850ce4434e",
   "metadata": {},
   "source": [
    "- ***$g_t, c_t, h_t$ 모두 콩물($x_t$)를 숙성시킨 간장이지만 $g_t$ 보다는 $c_t$가 더, $h_t$보다는 $c_t$가 더 숙성된 느낌이다.***\n",
    "- ***$g_t$는 진한 빨/파 였다면 $c_t$는 $g_t$와 유사하지만 좀 더 연한 빨/파, $h_t$는 $c_t$와 유사하지만 더 연한 빨/파***"
   ]
  },
  {
   "cell_type": "code",
   "execution_count": 82,
   "id": "b114b929-252f-45db-8d7d-8bc109e8a3a2",
   "metadata": {},
   "outputs": [
    {
     "name": "stdout",
     "output_type": "stream",
     "text": [
      "first row: gt=tensor([ 0.9999, -0.9999]), ct=tensor([ 0.9647, -0.9984])\n",
      "second row: gt=tensor([ 0.9970, -0.9554]), ct=tensor([ 0.3592, -0.9373])\n"
     ]
    }
   ],
   "source": [
    "print(\"first row: gt={}, ct={}\".format(g[-8].data, cell[-8].data))\n",
    "print(\"second row: gt={}, ct={}\".format(g[-7].data, cell[-7].data))\n",
    "#g[-7], cell[-7]"
   ]
  },
  {
   "cell_type": "markdown",
   "id": "1c45990d-ebdf-46a8-9582-ea86255b8aec",
   "metadata": {},
   "source": [
    "`-` $h_t$의 특징: (1) $c_t$의 느낌이 있음 하지만 약간의 변형이 있음. (2) -1~1 사이의 값을 훨씬 다양하게 가진다. (tanh때문)"
   ]
  },
  {
   "cell_type": "code",
   "execution_count": 83,
   "id": "c24a3541-fcdd-4893-a0ad-cd7f0b9b3579",
   "metadata": {},
   "outputs": [
    {
     "name": "stdout",
     "output_type": "stream",
     "text": [
      "first row: gt=tensor([ 0.9999, -0.9999]), ct=tensor([ 0.9647, -0.9984]), ht=tensor([ 0.7370, -0.3323])\n",
      "second row: gt=tensor([ 0.9970, -0.9554]), ct=tensor([ 0.3592, -0.9373]), ht=tensor([ 0.0604, -0.6951])\n"
     ]
    }
   ],
   "source": [
    "print(\"first row: gt={}, ct={}, ht={}\".format(g[-8].data, cell[-8].data,h[-8].data))\n",
    "print(\"second row: gt={}, ct={}, ht={}\".format(g[-7].data, cell[-7].data,h[-7].data))\n",
    "#g[-7], cell[-7]"
   ]
  },
  {
   "cell_type": "markdown",
   "id": "eb913d0b-bc46-4f13-83ae-36f3e3d855e0",
   "metadata": {},
   "source": [
    "`-` 예전의문 해결"
   ]
  },
  {
   "cell_type": "markdown",
   "id": "5860d2fa-1c48-4678-b25c-8970f25473ee",
   "metadata": {},
   "source": [
    "- 실험적으로 살펴보니 LSTM이 RNN보다 장기기억에 유리했음.\n",
    "\n",
    "- 그 이유: RNN은 $h_t$의 값이 $-1$ 혹은 $1$로 결정되는 경우가 많았음. 그러나 경우에 따라서는 $h_t$이 -1~1의 값을 가지는 것이 문맥적 뉘앙스를 포착하기에는 유리한다 LSTM이 이러한 방식으로 학습되는 경우가 많았음.\n",
    "- 왜 LSTM의 $h_t$은 -1,1 이외의 값을 쉽게 가질 수 있는가? (1) gate들의 역할 (2) 마지막에 취해지는 tanh때문"
   ]
  },
  {
   "cell_type": "markdown",
   "id": "812b3b39-5ce2-4312-98d1-28aedb558a9c",
   "metadata": {},
   "source": [
    "## LSTM의 알고리즘 리뷰 I (수식위주)"
   ]
  },
  {
   "cell_type": "markdown",
   "id": "b3d06b0d-90e1-4cf3-9150-5c2142379018",
   "metadata": {},
   "source": [
    "**(step1)** calculate $\\tt{ifgo}$"
   ]
  },
  {
   "cell_type": "markdown",
   "id": "e03bd2dc-bad7-4b70-afb5-db86b4228bbd",
   "metadata": {},
   "source": [
    "${\\tt ifgo} = {\\boldsymbol x}_t \\big[{\\bf W}_{ii} | {\\bf W}_{if}| {\\bf W}_{ig} |{\\bf W}_{io}\\big] + {\\boldsymbol h}_{t-1} \\big[ {\\bf W}_{hi}|{\\bf W}_{hf} |{\\bf W}_{hg} | {\\bf W}_{ho} \\big] + bias \\\\\n",
    " =\\big[{\\boldsymbol x}_t{\\bf W}_{ii} + {\\boldsymbol h}_{t-1}{\\bf W}_{hi} ~\\big|~ {\\boldsymbol x}_t{\\bf W}_{if}+ {\\boldsymbol h}_{t-1}{\\bf W}_{hf}~ \\big|~ {\\boldsymbol x}_t{\\bf W}_{ig} + {\\boldsymbol h}_{t-1}{\\bf W}_{hg} ~\\big|~ {\\boldsymbol x}_t{\\bf W}_{io} + {\\boldsymbol h}_{t-1}{\\bf W}_{ho} \\big] + bias$"
   ]
  },
  {
   "cell_type": "markdown",
   "id": "a30ed965-8cc6-4b66-8d93-395aaea2fa97",
   "metadata": {},
   "source": [
    "참고: 위의 수식은 아래코드에 해당하는 부분"
   ]
  },
  {
   "cell_type": "code",
   "execution_count": 84,
   "id": "a6d4eef6-9d9d-4c9b-be9b-79e6142345b0",
   "metadata": {},
   "outputs": [],
   "source": [
    "ifgo = xt @ lstm_cell.weight_ih.T +\\\n",
    "       ht @ lstm_cell.weight_hh.T +\\\n",
    "       lstm_cell.bias_ih + lstm_cell.bias_hh"
   ]
  },
  {
   "cell_type": "markdown",
   "id": "70a0a1c2-06e3-45a6-8cc2-431ecf2966f5",
   "metadata": {},
   "source": [
    "**(stpe2)** decompose $\\tt{ifgo}$ and get $i_t,f_t,g_t,o_t$"
   ]
  },
  {
   "cell_type": "markdown",
   "id": "edf1a62c-614a-44a6-9727-fac7cb4a5680",
   "metadata": {},
   "source": [
    "${\\boldsymbol i}_t = \\sigma({\\boldsymbol x}_t {\\bf W}_{ii} + {\\boldsymbol h}_{t-1} {\\bf W}_{hi} +bias ) \\\\\n",
    "{\\boldsymbol f}_t = \\sigma({\\boldsymbol x}_t {\\bf W}_{if} + {\\boldsymbol h}_{t-1} {\\bf W}_{hf} +bias ) \\\\\n",
    "{\\boldsymbol g}_t = \\tanh({\\boldsymbol x}_t {\\bf W}_{ig} + {\\boldsymbol h}_{t-1} {\\bf W}_{hg} +bias ) \\\\\n",
    "{\\boldsymbol o}_t = \\sigma({\\boldsymbol x}_t {\\bf W}_{io} + {\\boldsymbol h}_{t-1} {\\bf W}_{ho} +bias )$"
   ]
  },
  {
   "cell_type": "markdown",
   "id": "52f3bd17-5855-4ecf-a6fb-b60de9f27888",
   "metadata": {},
   "source": [
    "**(step3)** calculate $c_t$ and $h_t$"
   ]
  },
  {
   "cell_type": "markdown",
   "id": "4efc137e-19c7-4f87-ae63-fa8ba4184432",
   "metadata": {},
   "source": [
    "${\\boldsymbol c}_t = {\\boldsymbol i}_t \\odot {\\boldsymbol g}_t+ {\\boldsymbol f}_t \\odot {\\boldsymbol c}_{t-1} \\\\\n",
    "{\\boldsymbol h}_t = \\tanh({\\boldsymbol o}_t \\odot {\\boldsymbol c}_t)$"
   ]
  },
  {
   "cell_type": "markdown",
   "id": "e6c62ccf-6c7b-4a9f-9d51-a52c48899208",
   "metadata": {},
   "source": [
    "## LSTM의 알고리즘 리뷰 II (느낌위주)"
   ]
  },
  {
   "cell_type": "markdown",
   "id": "c94dd411-dc4b-4cbf-bd9e-2040b9e1aa3a",
   "metadata": {},
   "source": [
    "> 이해 및 암기를 돕기위해서 비유적으로 설명한 챕터!"
   ]
  },
  {
   "cell_type": "markdown",
   "id": "5479d3b5-0e3c-4034-aae5-66aa307a722f",
   "metadata": {},
   "source": [
    "`-` 느낌1: RNN이 콩물에서 간장을 한번에 숙성시키는 방법이라면 LSTM은 콩물에서 간장을 3차로 나누어 숙성하는 느낌이다."
   ]
  },
  {
   "cell_type": "markdown",
   "id": "fb3794d5-fa46-408f-ab8b-3e6805d63782",
   "metadata": {},
   "source": [
    "- 콩물: $\\boldsymbol x_t$\n",
    "- 1차숙성: $\\boldsymbol g_t$\n",
    "- 2차숙성: $\\boldsymbol c_t$\n",
    "- 3차숙성: $\\boldsymbol h_t$"
   ]
  },
  {
   "cell_type": "markdown",
   "id": "7522107f-79b1-4ba8-84f5-511cd9448111",
   "metadata": {},
   "source": [
    "`-` 느낌2: $g_t$ 에 대하여"
   ]
  },
  {
   "cell_type": "markdown",
   "id": "4bf4a4bf-9076-42ff-b126-434d7be3906a",
   "metadata": {},
   "source": [
    "- 계산방법: $x_t$와 $h_{t-1}$를 $\\bf{W}_{ig},\\bf{W}_{hg}$를 이용해 선형결합하고 $\\tt{tanh}$를 취한결과\n",
    "- RNN에서 간장을 만들던 그 수식에서 $h_t$를 $g_t$ 로 바꾼것.\n",
    "- 크게 2가지의 의미를 가진다. (1) 과거와 현재의 결합 (2) 활성화함수 $\\text{tanh}$ 를 적용"
   ]
  },
  {
   "cell_type": "markdown",
   "id": "75970d7a-1dc3-4007-9444-6987145bd8e4",
   "metadata": {},
   "source": [
    "`-` 느낌3: $\\boldsymbol c_t$ 에 대하여 (1)"
   ]
  },
  {
   "cell_type": "markdown",
   "id": "ef663b67-a015-43df-9ef3-61e32360d1f2",
   "metadata": {},
   "source": [
    "- 계산방법: $g_t$와 $c_{t-1}$을 요소별로 선택하고 더하는 과정\n",
    "- $g_t$는 (1) 과거와 현재의 결합 (2) 활성화함수 tanh를 적용으로 나누어지는데 이중에서 (1) 과거와 현재의 정보를 결합하는 과정만 해당한다. 차이점은 요소별 선택 후 덧셈\n",
    "- 이러한 결합을 쓰는 이유? 게이트를 이용하여 과거와 현재의 정보를 제어 (일반적인 설명)"
   ]
  },
  {
   "cell_type": "markdown",
   "id": "636cd1ad-91ca-49c7-829f-f7e5d01f8d6f",
   "metadata": {},
   "source": [
    "`-` 느낌4: $\\boldsymbol c_t$에 대하여 (2) // $\\boldsymbol c_t$는 왜 과거와 현재의 정보를 제어한다고 볼 수 있는가?"
   ]
  },
  {
   "cell_type": "markdown",
   "id": "1bc2c472-bad0-4165-bc95-1eaff09e2030",
   "metadata": {},
   "source": [
    "$t=1$ 시점 계산과정관찰"
   ]
  },
  {
   "cell_type": "code",
   "execution_count": 85,
   "id": "ef74f24a-0337-46e0-898d-9ee54172ab82",
   "metadata": {},
   "outputs": [
    {
     "data": {
      "text/plain": [
       "(tensor([0.9065, 0.9999], grad_fn=<SelectBackward0>),\n",
       " tensor([0.9931, 0.9999], grad_fn=<SelectBackward0>),\n",
       " tensor([0.9931, 0.0014], grad_fn=<SelectBackward0>),\n",
       " tensor([ 0.3592, -0.9373], grad_fn=<SelectBackward0>))"
      ]
     },
     "execution_count": 85,
     "metadata": {},
     "output_type": "execute_result"
    }
   ],
   "source": [
    "input_gate[1],g[1], forget_gate[1], cell[0]"
   ]
  },
  {
   "cell_type": "markdown",
   "id": "225ac7da-7f63-4092-8f56-6b6dc5b8bcf6",
   "metadata": {},
   "source": [
    "$[0.9,1.0]\\odot \\boldsymbol g_t + [1.0,0.0] \\odot \\boldsymbol c_{t-1}$"
   ]
  },
  {
   "cell_type": "markdown",
   "id": "b82fe0f5-56b6-4b3d-a75e-9281324da36c",
   "metadata": {},
   "source": [
    "- forget_gate는 $c_{t-1}$의 첫번째 원소는 기억하고, 두번째 원소는 잊으라고 말하고 있음 // forget_gate는 과거($c_{t-1})$의 정보를 얼마나 잊을지 (=얼마나 기억할지)를 결정한다고 해석할 수 있다.\n",
    "- input_gate는 $\\boldsymbol g_t$의 첫번째 원소와 두 번째 원소를 모두 기억하되 두번째 원소를 좀 더 중요하게 기억하라고 말하고 있음 // input_gate는 현재($\\boldsymbol g_t$)"
   ]
  },
  {
   "cell_type": "markdown",
   "id": "96fed6ab-2a4c-4058-8d3e-b271adfff6f0",
   "metadata": {},
   "source": [
    "- 이 둘을 조합하면 $\\boldsymbol c_t$가 현재와 과거의 정보중 어떠한 정보를 중시하면서 기억할지 결정한다고 볼 수 있다."
   ]
  },
  {
   "cell_type": "markdown",
   "id": "1fd39a80-4860-4741-964d-59dbbb6279b9",
   "metadata": {},
   "source": [
    "`-` 느낌5: $\\boldsymbol c_t$에 대하여 (3)"
   ]
  },
  {
   "cell_type": "markdown",
   "id": "07ef234d-e261-437f-948e-bc5869330359",
   "metadata": {},
   "source": [
    "- 사실상  LSTM 알고리즘의 꽃이라 할 수 있음.\n",
    "- LSTM은 long short term memory의 약자임. 기존의 RNN은 장기기억을 활용함에 약점이 있는데 LSTM은 단기기억/장기기억 모두 잘 활용함.\n",
    "- LSTM이 장기기억을 잘 활용하는 비법은 바로 $c_t$에 있다."
   ]
  },
  {
   "cell_type": "markdown",
   "id": "11472188-397f-4498-b558-9c8d85c158a8",
   "metadata": {},
   "source": [
    "`-` 느낌6: $\\boldsymbol h_t$에 대하여 - 계산방법: $\\text{tanh}(c_t)$를 요소별로 선택"
   ]
  },
  {
   "cell_type": "markdown",
   "id": "51d62d16-294c-45b9-9c26-42671a063d1f",
   "metadata": {},
   "source": [
    "`-` RNN, LSTM의 변수들 비교 테이블"
   ]
  },
  {
   "cell_type": "markdown",
   "id": "c77ea0be-221f-4e9d-bfe8-84a4f21374d8",
   "metadata": {},
   "source": [
    "||과거정보|현재정보|과거와 현재의 결합방식|활성화|느낌|비고|\n",
    "|:-:|:-:|:-:|:-:|:-:|:-:|:-:|\n",
    "|RNN-${\\boldsymbol h}_t$|${\\boldsymbol h}_{t-1}$|${\\boldsymbol x}_t$|$\\times$ $\\to$ $+$|$\\tanh$|간장|\n",
    "|LSTM-${\\boldsymbol g}_t$|${\\boldsymbol h}_{t-1}$|${\\boldsymbol x}_t$|$\\times$ $\\to$ $+$|$\\tanh$|1차간장|\n",
    "|LSTM-${\\boldsymbol c}_t$|${\\boldsymbol c}_{t-1}$|${\\boldsymbol g}_t$|$\\odot$ $\\to$ $+$ |None|2차간장|gate를 열림정도를 판단할때 ${\\boldsymbol x}_t$와 ${\\boldsymbol h}_{t-1}$을 이용|\n",
    "|LSTM-${\\boldsymbol h}_t$|None|${\\boldsymbol c}_t$|None|$\\tanh$, $\\odot$|3차간장|gate를 열림정도를 판단할때 ${\\boldsymbol x}_t$와 ${\\boldsymbol h}_{t-1}$을 이용|"
   ]
  },
  {
   "cell_type": "markdown",
   "id": "89d2324e-d952-4e6e-9523-7ec96ae54cb0",
   "metadata": {},
   "source": [
    "- RNN은 기억할 과거정보가 $h_{t-1}$ 하나이지만 LSTM은 $\\boldsymbol c_{t-1}, \\boldsymbol h_{t-1}$ 2개이다."
   ]
  },
  {
   "cell_type": "markdown",
   "id": "526ef515-c533-45a8-807d-f277d7af300d",
   "metadata": {},
   "source": [
    "`-` 알고리즘리뷰:\n",
    "\n",
    "- 콩물, 과거 3차간장 $\\overset{\\text{x},+,\\text{tanh}} \\longrightarrow$ 현재1차간장\n",
    "- 현재1차간장, 과거2차간장 $\\overset{\\odot,+,\\text{tanh}} \\longrightarrow$ 현재 2차간장\n",
    "- 현재2차간장 $\\overset{\\text{tanh},\\odot}\\longrightarrow$ 현재 3차간장"
   ]
  },
  {
   "cell_type": "markdown",
   "id": "6830c7f4-113b-44a7-86a1-567bcdc4f3fd",
   "metadata": {},
   "source": [
    "## LSTM이 강한 이유"
   ]
  },
  {
   "cell_type": "markdown",
   "id": "9590895a-69da-42f2-aefb-b98f37e29969",
   "metadata": {},
   "source": [
    "`-` LSTM이 장기기억에 유리함. 그 이유는 input, forget, output gate들이 과거기억을 위한 역할을 하기 때문."
   ]
  },
  {
   "cell_type": "markdown",
   "id": "07e631a8-1059-49ed-bb38-7fc9c8cab021",
   "metadata": {},
   "source": [
    "- 비판: 아키텍처에 대한 이론적 근거는 없음. 장기기억을 위하여 꼭 LSTM같은 구조일 필요는 없음. (왜 3차간장을 만들때 tanh를 써야하는지? 게이트는 꼭 3개이어야 하는지?)"
   ]
  },
  {
   "cell_type": "markdown",
   "id": "5fb0d100-9220-45c0-b035-050c722bee5b",
   "metadata": {},
   "source": [
    "- 실험적으로 살펴보니 LSTM이 RNN보다 장기기억에 유리했음.\n",
    "- 그 이유: RNN은 $\\boldsymbol h_t$의 값이 -1 혹은 1로 결정되는 경우가 많았음. 그러나 경우에 따라서는 $\\boldsymbol h_t$이 -1 ~ 1의 값을 가지는 것이 문맥적 뉘앙스를 포착하기에는 유리한데 LSTM이 이러한 방식으로 학습되는 경우가 많았음.\n",
    "- 왜 LSTM은 $\\boldsymbol h_t$은 -1,1 이외의 값을 쉽게 가질 수 있는가? (1) gate들의 역할 (2) 마지막에 취해지는 tanh 때문"
   ]
  },
  {
   "cell_type": "markdown",
   "id": "d341fe86-a4f3-412e-a46e-235acd38db5f",
   "metadata": {},
   "source": [
    "## 참고자료들"
   ]
  },
  {
   "cell_type": "markdown",
   "id": "67de936a-58cd-47a9-9c1b-f2d79dfb6b82",
   "metadata": {},
   "source": [
    "- https://colah.github.io/posts/2015-08-Understanding-LSTMs/\n",
    "- https://pytorch.org/docs/stable/generated/torch.nn.LSTM.html\n",
    "- https://arxiv.org/abs/1402.1128"
   ]
  }
 ],
 "metadata": {
  "kernelspec": {
   "display_name": "Python 3",
   "language": "python",
   "name": "python3"
  },
  "language_info": {
   "codemirror_mode": {
    "name": "ipython",
    "version": 3
   },
   "file_extension": ".py",
   "mimetype": "text/x-python",
   "name": "python",
   "nbconvert_exporter": "python",
   "pygments_lexer": "ipython3",
   "version": "3.8.16"
  }
 },
 "nbformat": 4,
 "nbformat_minor": 5
}
